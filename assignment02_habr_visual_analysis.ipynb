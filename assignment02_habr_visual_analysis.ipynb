{
  "nbformat": 4,
  "nbformat_minor": 0,
  "metadata": {
    "colab": {
      "name": "assignment02_habr_visual_analysis.ipynb",
      "provenance": [],
      "collapsed_sections": [],
      "authorship_tag": "ABX9TyOSTOFVB9IpDEO/ghnMakew",
      "include_colab_link": true
    },
    "kernelspec": {
      "name": "python3",
      "display_name": "Python 3"
    },
    "language_info": {
      "name": "python"
    }
  },
  "cells": [
    {
      "cell_type": "markdown",
      "metadata": {
        "id": "view-in-github",
        "colab_type": "text"
      },
      "source": [
        "<a href=\"https://colab.research.google.com/github/IVIo3e/Fundamental-concepts-of-AI/blob/main/assignment02_habr_visual_analysis.ipynb\" target=\"_parent\"><img src=\"https://colab.research.google.com/assets/colab-badge.svg\" alt=\"Open In Colab\"/></a>"
      ]
    },
    {
      "cell_type": "code",
      "metadata": {
        "id": "hVRzu5ZiuH1T"
      },
      "source": [
        "import pandas as pd\n",
        "\n",
        "%matplotlib inline\n",
        "import matplotlib.pyplot as plt\n",
        "import seaborn as sns"
      ],
      "execution_count": 1,
      "outputs": []
    },
    {
      "cell_type": "markdown",
      "metadata": {
        "id": "zYk596dC0QOI"
      },
      "source": [
        "#Загрузка и знакомство с данными\n",
        "Для работы вам понадобятся предобработанные данные нашего учебного конкурса на kaggle «Прогноз популярности статьи на Хабре». Скачайте данные соревнования (данные были удалены с Kaggle ради организации последующего идентичного соревнования, так что тут ссылка на Google Drive)."
      ]
    },
    {
      "cell_type": "code",
      "metadata": {
        "colab": {
          "base_uri": "https://localhost:8080/"
        },
        "id": "ZwqVHOCByzez",
        "outputId": "9c1be479-f781-4fe1-8cd8-eb3fd4eb1350"
      },
      "source": [
        "from google.colab import drive\n",
        "\n",
        "drive.mount(\"/content/drive\")"
      ],
      "execution_count": 2,
      "outputs": [
        {
          "output_type": "stream",
          "name": "stdout",
          "text": [
            "Mounted at /content/drive\n"
          ]
        }
      ]
    },
    {
      "cell_type": "code",
      "metadata": {
        "id": "oyi_YZrVuv8R"
      },
      "source": [
        "df = pd.read_csv(\"/content/drive/MyDrive/data/howpop_train.csv\")"
      ],
      "execution_count": 3,
      "outputs": []
    },
    {
      "cell_type": "code",
      "metadata": {
        "colab": {
          "base_uri": "https://localhost:8080/"
        },
        "id": "Uktgua8IwVVt",
        "outputId": "8635c800-e3b2-4308-ec71-d5e307d0278f"
      },
      "source": [
        "df.shape"
      ],
      "execution_count": 4,
      "outputs": [
        {
          "output_type": "execute_result",
          "data": {
            "text/plain": [
              "(134137, 17)"
            ]
          },
          "metadata": {},
          "execution_count": 4
        }
      ]
    },
    {
      "cell_type": "code",
      "metadata": {
        "colab": {
          "base_uri": "https://localhost:8080/",
          "height": 582
        },
        "id": "pSWppW7DwaGJ",
        "outputId": "120a20ed-ca5a-4d5c-fc48-f4191c84d035"
      },
      "source": [
        "df.head(3).T"
      ],
      "execution_count": 5,
      "outputs": [
        {
          "output_type": "execute_result",
          "data": {
            "text/html": [
              "<div>\n",
              "<style scoped>\n",
              "    .dataframe tbody tr th:only-of-type {\n",
              "        vertical-align: middle;\n",
              "    }\n",
              "\n",
              "    .dataframe tbody tr th {\n",
              "        vertical-align: top;\n",
              "    }\n",
              "\n",
              "    .dataframe thead th {\n",
              "        text-align: right;\n",
              "    }\n",
              "</style>\n",
              "<table border=\"1\" class=\"dataframe\">\n",
              "  <thead>\n",
              "    <tr style=\"text-align: right;\">\n",
              "      <th></th>\n",
              "      <th>0</th>\n",
              "      <th>1</th>\n",
              "      <th>2</th>\n",
              "    </tr>\n",
              "  </thead>\n",
              "  <tbody>\n",
              "    <tr>\n",
              "      <th>url</th>\n",
              "      <td>https://habrahabr.ru/post/18284/</td>\n",
              "      <td>https://habrahabr.ru/post/18285/</td>\n",
              "      <td>https://habrahabr.ru/post/18286/</td>\n",
              "    </tr>\n",
              "    <tr>\n",
              "      <th>domain</th>\n",
              "      <td>habrahabr.ru</td>\n",
              "      <td>habrahabr.ru</td>\n",
              "      <td>habrahabr.ru</td>\n",
              "    </tr>\n",
              "    <tr>\n",
              "      <th>post_id</th>\n",
              "      <td>18284</td>\n",
              "      <td>18285</td>\n",
              "      <td>18286</td>\n",
              "    </tr>\n",
              "    <tr>\n",
              "      <th>published</th>\n",
              "      <td>2008-01-01 18:19:00</td>\n",
              "      <td>2008-01-01 18:30:00</td>\n",
              "      <td>2008-01-01 18:34:00</td>\n",
              "    </tr>\n",
              "    <tr>\n",
              "      <th>author</th>\n",
              "      <td>@Tapac</td>\n",
              "      <td>@DezmASter</td>\n",
              "      <td>@DezmASter</td>\n",
              "    </tr>\n",
              "    <tr>\n",
              "      <th>flow</th>\n",
              "      <td>develop</td>\n",
              "      <td>design</td>\n",
              "      <td>design</td>\n",
              "    </tr>\n",
              "    <tr>\n",
              "      <th>polling</th>\n",
              "      <td>False</td>\n",
              "      <td>False</td>\n",
              "      <td>False</td>\n",
              "    </tr>\n",
              "    <tr>\n",
              "      <th>content_len</th>\n",
              "      <td>4305</td>\n",
              "      <td>7344</td>\n",
              "      <td>8431</td>\n",
              "    </tr>\n",
              "    <tr>\n",
              "      <th>title</th>\n",
              "      <td>Новогодний подарок блоггерам — WordPress 2.3.2</td>\n",
              "      <td>Сумасшедшие яйца, или сервис для отслеживания ...</td>\n",
              "      <td>Сумасшедшие яйца, или сервис для отслеживания ...</td>\n",
              "    </tr>\n",
              "    <tr>\n",
              "      <th>comments</th>\n",
              "      <td>0</td>\n",
              "      <td>1</td>\n",
              "      <td>47</td>\n",
              "    </tr>\n",
              "    <tr>\n",
              "      <th>favs</th>\n",
              "      <td>0</td>\n",
              "      <td>1</td>\n",
              "      <td>72</td>\n",
              "    </tr>\n",
              "    <tr>\n",
              "      <th>views</th>\n",
              "      <td>236</td>\n",
              "      <td>353</td>\n",
              "      <td>1200</td>\n",
              "    </tr>\n",
              "    <tr>\n",
              "      <th>votes_plus</th>\n",
              "      <td>0</td>\n",
              "      <td>1</td>\n",
              "      <td>45</td>\n",
              "    </tr>\n",
              "    <tr>\n",
              "      <th>votes_minus</th>\n",
              "      <td>0</td>\n",
              "      <td>0</td>\n",
              "      <td>5</td>\n",
              "    </tr>\n",
              "    <tr>\n",
              "      <th>views_lognorm</th>\n",
              "      <td>-0.792687</td>\n",
              "      <td>-0.485214</td>\n",
              "      <td>0.44609</td>\n",
              "    </tr>\n",
              "    <tr>\n",
              "      <th>favs_lognorm</th>\n",
              "      <td>-1.34407</td>\n",
              "      <td>-0.831946</td>\n",
              "      <td>1.79402</td>\n",
              "    </tr>\n",
              "    <tr>\n",
              "      <th>comments_lognorm</th>\n",
              "      <td>-2.43687</td>\n",
              "      <td>-1.87319</td>\n",
              "      <td>0.574656</td>\n",
              "    </tr>\n",
              "  </tbody>\n",
              "</table>\n",
              "</div>"
            ],
            "text/plain": [
              "                                                               0  ...                                                  2\n",
              "url                             https://habrahabr.ru/post/18284/  ...                   https://habrahabr.ru/post/18286/\n",
              "domain                                              habrahabr.ru  ...                                       habrahabr.ru\n",
              "post_id                                                    18284  ...                                              18286\n",
              "published                                    2008-01-01 18:19:00  ...                                2008-01-01 18:34:00\n",
              "author                                                    @Tapac  ...                                         @DezmASter\n",
              "flow                                                     develop  ...                                             design\n",
              "polling                                                    False  ...                                              False\n",
              "content_len                                                 4305  ...                                               8431\n",
              "title             Новогодний подарок блоггерам — WordPress 2.3.2  ...  Сумасшедшие яйца, или сервис для отслеживания ...\n",
              "comments                                                       0  ...                                                 47\n",
              "favs                                                           0  ...                                                 72\n",
              "views                                                        236  ...                                               1200\n",
              "votes_plus                                                     0  ...                                                 45\n",
              "votes_minus                                                    0  ...                                                  5\n",
              "views_lognorm                                          -0.792687  ...                                            0.44609\n",
              "favs_lognorm                                            -1.34407  ...                                            1.79402\n",
              "comments_lognorm                                        -2.43687  ...                                           0.574656\n",
              "\n",
              "[17 rows x 3 columns]"
            ]
          },
          "metadata": {},
          "execution_count": 5
        }
      ]
    },
    {
      "cell_type": "markdown",
      "metadata": {
        "id": "8AT93qA40LDZ"
      },
      "source": [
        "\n",
        "Избавимся сразу от переменных, названия которых заканчиваются на _lognorm (нужны для соревнования на Kaggle). Выберем их с помощью filter() и удалим drop-ом:"
      ]
    },
    {
      "cell_type": "code",
      "metadata": {
        "id": "Ust49h5dzNvg"
      },
      "source": [
        "df.drop(\n",
        "    filter(lambda c: c.endswith(\"_lognorm\"), df.columns),\n",
        "    axis=1,  # axis = 1: столбцы\n",
        "    inplace=True,\n",
        ")  # избавляет от необходимости сохранять датасет"
      ],
      "execution_count": 6,
      "outputs": []
    },
    {
      "cell_type": "code",
      "metadata": {
        "colab": {
          "base_uri": "https://localhost:8080/",
          "height": 269
        },
        "id": "GtTHZFE8zRYq",
        "outputId": "3a01a31c-26d3-42ee-9147-9b926d164390"
      },
      "source": [
        "df.describe().T"
      ],
      "execution_count": 7,
      "outputs": [
        {
          "output_type": "execute_result",
          "data": {
            "text/html": [
              "<div>\n",
              "<style scoped>\n",
              "    .dataframe tbody tr th:only-of-type {\n",
              "        vertical-align: middle;\n",
              "    }\n",
              "\n",
              "    .dataframe tbody tr th {\n",
              "        vertical-align: top;\n",
              "    }\n",
              "\n",
              "    .dataframe thead th {\n",
              "        text-align: right;\n",
              "    }\n",
              "</style>\n",
              "<table border=\"1\" class=\"dataframe\">\n",
              "  <thead>\n",
              "    <tr style=\"text-align: right;\">\n",
              "      <th></th>\n",
              "      <th>count</th>\n",
              "      <th>mean</th>\n",
              "      <th>std</th>\n",
              "      <th>min</th>\n",
              "      <th>25%</th>\n",
              "      <th>50%</th>\n",
              "      <th>75%</th>\n",
              "      <th>max</th>\n",
              "    </tr>\n",
              "  </thead>\n",
              "  <tbody>\n",
              "    <tr>\n",
              "      <th>post_id</th>\n",
              "      <td>134137.0</td>\n",
              "      <td>181307.054265</td>\n",
              "      <td>81766.350702</td>\n",
              "      <td>18284.0</td>\n",
              "      <td>115565.0</td>\n",
              "      <td>182666.0</td>\n",
              "      <td>257401.0</td>\n",
              "      <td>314088.0</td>\n",
              "    </tr>\n",
              "    <tr>\n",
              "      <th>content_len</th>\n",
              "      <td>134137.0</td>\n",
              "      <td>7516.929699</td>\n",
              "      <td>8724.771640</td>\n",
              "      <td>1.0</td>\n",
              "      <td>2179.0</td>\n",
              "      <td>4949.0</td>\n",
              "      <td>9858.0</td>\n",
              "      <td>352471.0</td>\n",
              "    </tr>\n",
              "    <tr>\n",
              "      <th>comments</th>\n",
              "      <td>134137.0</td>\n",
              "      <td>39.625994</td>\n",
              "      <td>62.398958</td>\n",
              "      <td>0.0</td>\n",
              "      <td>7.0</td>\n",
              "      <td>19.0</td>\n",
              "      <td>48.0</td>\n",
              "      <td>2266.0</td>\n",
              "    </tr>\n",
              "    <tr>\n",
              "      <th>favs</th>\n",
              "      <td>134137.0</td>\n",
              "      <td>71.999866</td>\n",
              "      <td>145.854135</td>\n",
              "      <td>0.0</td>\n",
              "      <td>8.0</td>\n",
              "      <td>27.0</td>\n",
              "      <td>78.0</td>\n",
              "      <td>8718.0</td>\n",
              "    </tr>\n",
              "    <tr>\n",
              "      <th>views</th>\n",
              "      <td>134137.0</td>\n",
              "      <td>16631.013084</td>\n",
              "      <td>31479.819691</td>\n",
              "      <td>3.0</td>\n",
              "      <td>2100.0</td>\n",
              "      <td>7600.0</td>\n",
              "      <td>18700.0</td>\n",
              "      <td>1730000.0</td>\n",
              "    </tr>\n",
              "    <tr>\n",
              "      <th>votes_plus</th>\n",
              "      <td>133566.0</td>\n",
              "      <td>35.536888</td>\n",
              "      <td>42.461073</td>\n",
              "      <td>0.0</td>\n",
              "      <td>11.0</td>\n",
              "      <td>22.0</td>\n",
              "      <td>45.0</td>\n",
              "      <td>1466.0</td>\n",
              "    </tr>\n",
              "    <tr>\n",
              "      <th>votes_minus</th>\n",
              "      <td>133566.0</td>\n",
              "      <td>8.050035</td>\n",
              "      <td>11.398282</td>\n",
              "      <td>0.0</td>\n",
              "      <td>2.0</td>\n",
              "      <td>5.0</td>\n",
              "      <td>10.0</td>\n",
              "      <td>445.0</td>\n",
              "    </tr>\n",
              "  </tbody>\n",
              "</table>\n",
              "</div>"
            ],
            "text/plain": [
              "                count           mean  ...       75%        max\n",
              "post_id      134137.0  181307.054265  ...  257401.0   314088.0\n",
              "content_len  134137.0    7516.929699  ...    9858.0   352471.0\n",
              "comments     134137.0      39.625994  ...      48.0     2266.0\n",
              "favs         134137.0      71.999866  ...      78.0     8718.0\n",
              "views        134137.0   16631.013084  ...   18700.0  1730000.0\n",
              "votes_plus   133566.0      35.536888  ...      45.0     1466.0\n",
              "votes_minus  133566.0       8.050035  ...      10.0      445.0\n",
              "\n",
              "[7 rows x 8 columns]"
            ]
          },
          "metadata": {},
          "execution_count": 7
        }
      ]
    },
    {
      "cell_type": "code",
      "metadata": {
        "colab": {
          "base_uri": "https://localhost:8080/",
          "height": 269
        },
        "id": "wpzrXx24zTfy",
        "outputId": "5ec83bac-cb07-4d0e-db34-c36e0125bbc0"
      },
      "source": [
        "df.describe(include=[\"object\", \"bool\"]).T  # бинарные и категориальные переменные"
      ],
      "execution_count": 8,
      "outputs": [
        {
          "output_type": "execute_result",
          "data": {
            "text/html": [
              "<div>\n",
              "<style scoped>\n",
              "    .dataframe tbody tr th:only-of-type {\n",
              "        vertical-align: middle;\n",
              "    }\n",
              "\n",
              "    .dataframe tbody tr th {\n",
              "        vertical-align: top;\n",
              "    }\n",
              "\n",
              "    .dataframe thead th {\n",
              "        text-align: right;\n",
              "    }\n",
              "</style>\n",
              "<table border=\"1\" class=\"dataframe\">\n",
              "  <thead>\n",
              "    <tr style=\"text-align: right;\">\n",
              "      <th></th>\n",
              "      <th>count</th>\n",
              "      <th>unique</th>\n",
              "      <th>top</th>\n",
              "      <th>freq</th>\n",
              "    </tr>\n",
              "  </thead>\n",
              "  <tbody>\n",
              "    <tr>\n",
              "      <th>url</th>\n",
              "      <td>134137</td>\n",
              "      <td>134137</td>\n",
              "      <td>https://habrahabr.ru/post/162115/</td>\n",
              "      <td>1</td>\n",
              "    </tr>\n",
              "    <tr>\n",
              "      <th>domain</th>\n",
              "      <td>134137</td>\n",
              "      <td>2</td>\n",
              "      <td>habrahabr.ru</td>\n",
              "      <td>97048</td>\n",
              "    </tr>\n",
              "    <tr>\n",
              "      <th>published</th>\n",
              "      <td>134137</td>\n",
              "      <td>130291</td>\n",
              "      <td>2011-06-14 15:52:00</td>\n",
              "      <td>39</td>\n",
              "    </tr>\n",
              "    <tr>\n",
              "      <th>author</th>\n",
              "      <td>97657</td>\n",
              "      <td>22077</td>\n",
              "      <td>@alizar</td>\n",
              "      <td>5292</td>\n",
              "    </tr>\n",
              "    <tr>\n",
              "      <th>flow</th>\n",
              "      <td>97048</td>\n",
              "      <td>6</td>\n",
              "      <td>develop</td>\n",
              "      <td>53318</td>\n",
              "    </tr>\n",
              "    <tr>\n",
              "      <th>polling</th>\n",
              "      <td>134137</td>\n",
              "      <td>2</td>\n",
              "      <td>False</td>\n",
              "      <td>129412</td>\n",
              "    </tr>\n",
              "    <tr>\n",
              "      <th>title</th>\n",
              "      <td>134137</td>\n",
              "      <td>133628</td>\n",
              "      <td>Интересные события, произошедшие в выходные</td>\n",
              "      <td>56</td>\n",
              "    </tr>\n",
              "  </tbody>\n",
              "</table>\n",
              "</div>"
            ],
            "text/plain": [
              "            count  unique                                          top    freq\n",
              "url        134137  134137            https://habrahabr.ru/post/162115/       1\n",
              "domain     134137       2                                 habrahabr.ru   97048\n",
              "published  134137  130291                          2011-06-14 15:52:00      39\n",
              "author      97657   22077                                      @alizar    5292\n",
              "flow        97048       6                                      develop   53318\n",
              "polling    134137       2                                        False  129412\n",
              "title      134137  133628  Интересные события, произошедшие в выходные      56"
            ]
          },
          "metadata": {},
          "execution_count": 8
        }
      ]
    },
    {
      "cell_type": "code",
      "metadata": {
        "id": "eFd4LUPYzXqn"
      },
      "source": [
        "# настройка внешнего вида графиков в seaborn\n",
        "sns.set_style(\"dark\")\n",
        "sns.set_palette(\"RdBu\")\n",
        "sns.set_context(\n",
        "    \"notebook\", font_scale=1.5, rc={\"figure.figsize\": (15, 5), \"axes.titlesize\": 18}\n",
        ")"
      ],
      "execution_count": 9,
      "outputs": []
    },
    {
      "cell_type": "markdown",
      "metadata": {
        "id": "uz82hkYz0Idc"
      },
      "source": [
        "\n",
        "Столбец published (время публикации) содержит строки. Чтобы мы могли работать с этими данными как с датой/временем публикации, приведём их к типу datetime:"
      ]
    },
    {
      "cell_type": "code",
      "metadata": {
        "colab": {
          "base_uri": "https://localhost:8080/"
        },
        "id": "YOjQPJvDzYXk",
        "outputId": "192ec5e2-361f-460b-b54e-36fa448f8b22"
      },
      "source": [
        "print(df.published.dtype)\n",
        "df[\"published\"] = pd.to_datetime(df.published, yearfirst=True)\n",
        "print(df.published.dtype)"
      ],
      "execution_count": 10,
      "outputs": [
        {
          "output_type": "stream",
          "name": "stdout",
          "text": [
            "object\n",
            "datetime64[ns]\n"
          ]
        }
      ]
    },
    {
      "cell_type": "markdown",
      "metadata": {
        "id": "sFjPMFE20GgV"
      },
      "source": [
        "\n",
        "Создадим несколько столбцов на основе данных о времени публикации:"
      ]
    },
    {
      "cell_type": "code",
      "metadata": {
        "id": "uON-Xbc2zaGO"
      },
      "source": [
        "df[\"year\"] = [d.year for d in df.published]\n",
        "df[\"month\"] = [d.month for d in df.published]\n",
        "\n",
        "df[\"dayofweek\"] = [d.isoweekday() for d in df.published]\n",
        "df[\"hour\"] = [d.hour for d in df.published]"
      ],
      "execution_count": 11,
      "outputs": []
    },
    {
      "cell_type": "markdown",
      "metadata": {
        "id": "3lsaUh8TzfIj"
      },
      "source": [
        "\n",
        "#1. В каком месяце (и какого года) было больше всего публикаций?\n",
        "* март 2016\n",
        "* март 2015\n",
        "* апрель 2015\n",
        "* апрель 2016"
      ]
    },
    {
      "cell_type": "code",
      "metadata": {
        "id": "Di2687gLzfsk"
      },
      "source": [
        "a = [df[(df['month'] == 3) & (df['year'] == 2016)].shape[0],\n",
        "     df[(df['month'] == 3) & (df['year'] == 2015)].shape[0],\n",
        "     df[(df['month'] == 4) & (df['year'] == 2015)].shape[0],\n",
        "     df[(df['month'] == 4) & (df['year'] == 2016)].shape[0]]"
      ],
      "execution_count": 13,
      "outputs": []
    },
    {
      "cell_type": "code",
      "metadata": {
        "colab": {
          "base_uri": "https://localhost:8080/"
        },
        "id": "9zlh88SrSKjd",
        "outputId": "b4f04938-bbff-4613-d6fa-2aebe7c7ef7f"
      },
      "source": [
        "a.index(max(a))+1"
      ],
      "execution_count": 23,
      "outputs": [
        {
          "output_type": "execute_result",
          "data": {
            "text/plain": [
              "2"
            ]
          },
          "metadata": {},
          "execution_count": 23
        }
      ]
    },
    {
      "cell_type": "markdown",
      "metadata": {
        "id": "Xb42sQCQS2UF"
      },
      "source": [
        "Ответ -> март 2015"
      ]
    },
    {
      "cell_type": "markdown",
      "metadata": {
        "id": "MOSz57Jfzn5o"
      },
      "source": [
        "#2. Проанализируйте публикации в месяце из предыдущего вопроса\n",
        "Выберите один или несколько вариантов:\n",
        "\n",
        "* Один или несколько дней сильно выделяются из общей картины\n",
        "* На хабре всегда больше статей, чем на гиктаймсе\n",
        "* По субботам на гиктаймс и на хабрахабр публикуют примерно одинаковое число статей\n",
        "\n",
        "\n",
        "Подсказки: постройте график зависимости числа публикаций от дня; используйте параметр hue; не заморачивайтесь сильно с ответами и не ищите скрытого смысла :)"
      ]
    },
    {
      "cell_type": "code",
      "metadata": {
        "id": "Sx2i0D5pz0L4",
        "colab": {
          "base_uri": "https://localhost:8080/",
          "height": 300
        },
        "outputId": "84d8bb0a-aaca-4dda-f53b-4c60225efc2c"
      },
      "source": [
        "df[(df['month'] == 3) & (df['year'] == 2015)].groupby('dayofweek').mean()"
      ],
      "execution_count": 28,
      "outputs": [
        {
          "output_type": "execute_result",
          "data": {
            "text/html": [
              "<div>\n",
              "<style scoped>\n",
              "    .dataframe tbody tr th:only-of-type {\n",
              "        vertical-align: middle;\n",
              "    }\n",
              "\n",
              "    .dataframe tbody tr th {\n",
              "        vertical-align: top;\n",
              "    }\n",
              "\n",
              "    .dataframe thead th {\n",
              "        text-align: right;\n",
              "    }\n",
              "</style>\n",
              "<table border=\"1\" class=\"dataframe\">\n",
              "  <thead>\n",
              "    <tr style=\"text-align: right;\">\n",
              "      <th></th>\n",
              "      <th>post_id</th>\n",
              "      <th>polling</th>\n",
              "      <th>content_len</th>\n",
              "      <th>comments</th>\n",
              "      <th>favs</th>\n",
              "      <th>views</th>\n",
              "      <th>votes_plus</th>\n",
              "      <th>votes_minus</th>\n",
              "      <th>year</th>\n",
              "      <th>month</th>\n",
              "      <th>hour</th>\n",
              "    </tr>\n",
              "    <tr>\n",
              "      <th>dayofweek</th>\n",
              "      <th></th>\n",
              "      <th></th>\n",
              "      <th></th>\n",
              "      <th></th>\n",
              "      <th></th>\n",
              "      <th></th>\n",
              "      <th></th>\n",
              "      <th></th>\n",
              "      <th></th>\n",
              "      <th></th>\n",
              "      <th></th>\n",
              "    </tr>\n",
              "  </thead>\n",
              "  <tbody>\n",
              "    <tr>\n",
              "      <th>1</th>\n",
              "      <td>257969.285354</td>\n",
              "      <td>0.025253</td>\n",
              "      <td>8284.022727</td>\n",
              "      <td>18.078283</td>\n",
              "      <td>76.404040</td>\n",
              "      <td>16532.252525</td>\n",
              "      <td>20.186869</td>\n",
              "      <td>3.487374</td>\n",
              "      <td>2015.0</td>\n",
              "      <td>3.0</td>\n",
              "      <td>14.083333</td>\n",
              "    </tr>\n",
              "    <tr>\n",
              "      <th>2</th>\n",
              "      <td>257843.919517</td>\n",
              "      <td>0.060362</td>\n",
              "      <td>7773.134809</td>\n",
              "      <td>19.171026</td>\n",
              "      <td>74.410463</td>\n",
              "      <td>17596.535211</td>\n",
              "      <td>20.195171</td>\n",
              "      <td>3.531187</td>\n",
              "      <td>2015.0</td>\n",
              "      <td>3.0</td>\n",
              "      <td>13.424547</td>\n",
              "    </tr>\n",
              "    <tr>\n",
              "      <th>3</th>\n",
              "      <td>257453.132597</td>\n",
              "      <td>0.044199</td>\n",
              "      <td>7947.071823</td>\n",
              "      <td>19.939227</td>\n",
              "      <td>79.212707</td>\n",
              "      <td>17705.165746</td>\n",
              "      <td>21.743094</td>\n",
              "      <td>2.906077</td>\n",
              "      <td>2015.0</td>\n",
              "      <td>3.0</td>\n",
              "      <td>13.439227</td>\n",
              "    </tr>\n",
              "    <tr>\n",
              "      <th>4</th>\n",
              "      <td>257189.491379</td>\n",
              "      <td>0.045977</td>\n",
              "      <td>8131.589080</td>\n",
              "      <td>19.804598</td>\n",
              "      <td>90.718391</td>\n",
              "      <td>17739.114943</td>\n",
              "      <td>21.011494</td>\n",
              "      <td>3.344828</td>\n",
              "      <td>2015.0</td>\n",
              "      <td>3.0</td>\n",
              "      <td>13.298851</td>\n",
              "    </tr>\n",
              "    <tr>\n",
              "      <th>5</th>\n",
              "      <td>257781.523810</td>\n",
              "      <td>0.092063</td>\n",
              "      <td>8380.158730</td>\n",
              "      <td>20.425397</td>\n",
              "      <td>67.342857</td>\n",
              "      <td>16952.841270</td>\n",
              "      <td>18.504762</td>\n",
              "      <td>3.869841</td>\n",
              "      <td>2015.0</td>\n",
              "      <td>3.0</td>\n",
              "      <td>13.041270</td>\n",
              "    </tr>\n",
              "    <tr>\n",
              "      <th>6</th>\n",
              "      <td>255570.860870</td>\n",
              "      <td>0.034783</td>\n",
              "      <td>7008.591304</td>\n",
              "      <td>20.408696</td>\n",
              "      <td>82.686957</td>\n",
              "      <td>18831.304348</td>\n",
              "      <td>22.208696</td>\n",
              "      <td>4.547826</td>\n",
              "      <td>2015.0</td>\n",
              "      <td>3.0</td>\n",
              "      <td>14.617391</td>\n",
              "    </tr>\n",
              "    <tr>\n",
              "      <th>7</th>\n",
              "      <td>255507.820513</td>\n",
              "      <td>0.076923</td>\n",
              "      <td>11245.846154</td>\n",
              "      <td>24.897436</td>\n",
              "      <td>126.615385</td>\n",
              "      <td>21913.224359</td>\n",
              "      <td>26.794872</td>\n",
              "      <td>4.211538</td>\n",
              "      <td>2015.0</td>\n",
              "      <td>3.0</td>\n",
              "      <td>15.320513</td>\n",
              "    </tr>\n",
              "  </tbody>\n",
              "</table>\n",
              "</div>"
            ],
            "text/plain": [
              "                 post_id   polling   content_len  ...    year  month       hour\n",
              "dayofweek                                         ...                          \n",
              "1          257969.285354  0.025253   8284.022727  ...  2015.0    3.0  14.083333\n",
              "2          257843.919517  0.060362   7773.134809  ...  2015.0    3.0  13.424547\n",
              "3          257453.132597  0.044199   7947.071823  ...  2015.0    3.0  13.439227\n",
              "4          257189.491379  0.045977   8131.589080  ...  2015.0    3.0  13.298851\n",
              "5          257781.523810  0.092063   8380.158730  ...  2015.0    3.0  13.041270\n",
              "6          255570.860870  0.034783   7008.591304  ...  2015.0    3.0  14.617391\n",
              "7          255507.820513  0.076923  11245.846154  ...  2015.0    3.0  15.320513\n",
              "\n",
              "[7 rows x 11 columns]"
            ]
          },
          "metadata": {},
          "execution_count": 28
        }
      ]
    },
    {
      "cell_type": "markdown",
      "metadata": {
        "id": "nHM1usnfzurC"
      },
      "source": [
        "#3. Когда лучше всего публиковать статью?\n",
        "* Больше всего просмотров набирают статьи, опубликованные в 12 часов дня\n",
        "* У опубликованных в 10 утра постов больше всего комментариев\n",
        "* Больше всего просмотров набирают статьи, опубликованные в 6 часов утра\n",
        "* Максимальное число комментариев на гиктаймсе набрала статья, опубликованная в 9 часов вечера\n",
        "* На хабре дневные статьи комментируют чаще, чем вечерние"
      ]
    },
    {
      "cell_type": "code",
      "metadata": {
        "id": "j72IUHfJz43S",
        "colab": {
          "base_uri": "https://localhost:8080/",
          "height": 833
        },
        "outputId": "f7995efa-23d7-423c-fc96-b389fb842f02"
      },
      "source": [
        "df.groupby('hour').mean()"
      ],
      "execution_count": 30,
      "outputs": [
        {
          "output_type": "execute_result",
          "data": {
            "text/html": [
              "<div>\n",
              "<style scoped>\n",
              "    .dataframe tbody tr th:only-of-type {\n",
              "        vertical-align: middle;\n",
              "    }\n",
              "\n",
              "    .dataframe tbody tr th {\n",
              "        vertical-align: top;\n",
              "    }\n",
              "\n",
              "    .dataframe thead th {\n",
              "        text-align: right;\n",
              "    }\n",
              "</style>\n",
              "<table border=\"1\" class=\"dataframe\">\n",
              "  <thead>\n",
              "    <tr style=\"text-align: right;\">\n",
              "      <th></th>\n",
              "      <th>post_id</th>\n",
              "      <th>polling</th>\n",
              "      <th>content_len</th>\n",
              "      <th>comments</th>\n",
              "      <th>favs</th>\n",
              "      <th>views</th>\n",
              "      <th>votes_plus</th>\n",
              "      <th>votes_minus</th>\n",
              "      <th>year</th>\n",
              "      <th>month</th>\n",
              "      <th>dayofweek</th>\n",
              "    </tr>\n",
              "    <tr>\n",
              "      <th>hour</th>\n",
              "      <th></th>\n",
              "      <th></th>\n",
              "      <th></th>\n",
              "      <th></th>\n",
              "      <th></th>\n",
              "      <th></th>\n",
              "      <th></th>\n",
              "      <th></th>\n",
              "      <th></th>\n",
              "      <th></th>\n",
              "      <th></th>\n",
              "    </tr>\n",
              "  </thead>\n",
              "  <tbody>\n",
              "    <tr>\n",
              "      <th>0</th>\n",
              "      <td>168120.628831</td>\n",
              "      <td>0.036529</td>\n",
              "      <td>6824.571218</td>\n",
              "      <td>48.389066</td>\n",
              "      <td>77.037754</td>\n",
              "      <td>17546.982349</td>\n",
              "      <td>43.526601</td>\n",
              "      <td>9.677094</td>\n",
              "      <td>2012.199314</td>\n",
              "      <td>6.410395</td>\n",
              "      <td>3.837460</td>\n",
              "    </tr>\n",
              "    <tr>\n",
              "      <th>1</th>\n",
              "      <td>162485.714830</td>\n",
              "      <td>0.035567</td>\n",
              "      <td>6857.822801</td>\n",
              "      <td>49.417910</td>\n",
              "      <td>76.236583</td>\n",
              "      <td>17717.709114</td>\n",
              "      <td>43.329078</td>\n",
              "      <td>9.277051</td>\n",
              "      <td>2012.036520</td>\n",
              "      <td>6.397904</td>\n",
              "      <td>3.808828</td>\n",
              "    </tr>\n",
              "    <tr>\n",
              "      <th>2</th>\n",
              "      <td>163583.386444</td>\n",
              "      <td>0.042254</td>\n",
              "      <td>7036.796215</td>\n",
              "      <td>48.827025</td>\n",
              "      <td>82.805018</td>\n",
              "      <td>17328.690581</td>\n",
              "      <td>42.387040</td>\n",
              "      <td>9.294718</td>\n",
              "      <td>2012.078785</td>\n",
              "      <td>6.309859</td>\n",
              "      <td>3.805458</td>\n",
              "    </tr>\n",
              "    <tr>\n",
              "      <th>3</th>\n",
              "      <td>160226.364570</td>\n",
              "      <td>0.053273</td>\n",
              "      <td>7191.890886</td>\n",
              "      <td>53.123877</td>\n",
              "      <td>86.175225</td>\n",
              "      <td>18370.017972</td>\n",
              "      <td>45.887959</td>\n",
              "      <td>10.367675</td>\n",
              "      <td>2011.909499</td>\n",
              "      <td>6.530809</td>\n",
              "      <td>3.867137</td>\n",
              "    </tr>\n",
              "    <tr>\n",
              "      <th>4</th>\n",
              "      <td>157350.988182</td>\n",
              "      <td>0.045455</td>\n",
              "      <td>8080.478182</td>\n",
              "      <td>53.657273</td>\n",
              "      <td>95.343636</td>\n",
              "      <td>20678.389091</td>\n",
              "      <td>50.915146</td>\n",
              "      <td>9.882299</td>\n",
              "      <td>2011.903636</td>\n",
              "      <td>6.367273</td>\n",
              "      <td>3.732727</td>\n",
              "    </tr>\n",
              "    <tr>\n",
              "      <th>5</th>\n",
              "      <td>159812.991774</td>\n",
              "      <td>0.034078</td>\n",
              "      <td>8277.351351</td>\n",
              "      <td>47.816686</td>\n",
              "      <td>80.712103</td>\n",
              "      <td>17218.894242</td>\n",
              "      <td>42.232861</td>\n",
              "      <td>8.686761</td>\n",
              "      <td>2011.981199</td>\n",
              "      <td>6.613396</td>\n",
              "      <td>3.796710</td>\n",
              "    </tr>\n",
              "    <tr>\n",
              "      <th>6</th>\n",
              "      <td>176417.841603</td>\n",
              "      <td>0.044847</td>\n",
              "      <td>9173.211832</td>\n",
              "      <td>51.799618</td>\n",
              "      <td>90.884542</td>\n",
              "      <td>21354.310115</td>\n",
              "      <td>45.626195</td>\n",
              "      <td>8.858509</td>\n",
              "      <td>2012.504771</td>\n",
              "      <td>6.400763</td>\n",
              "      <td>3.383588</td>\n",
              "    </tr>\n",
              "    <tr>\n",
              "      <th>7</th>\n",
              "      <td>180619.888039</td>\n",
              "      <td>0.051460</td>\n",
              "      <td>8614.956885</td>\n",
              "      <td>43.263561</td>\n",
              "      <td>91.730181</td>\n",
              "      <td>19093.953408</td>\n",
              "      <td>40.033520</td>\n",
              "      <td>8.395251</td>\n",
              "      <td>2012.566064</td>\n",
              "      <td>6.598748</td>\n",
              "      <td>3.355355</td>\n",
              "    </tr>\n",
              "    <tr>\n",
              "      <th>8</th>\n",
              "      <td>190074.404762</td>\n",
              "      <td>0.048810</td>\n",
              "      <td>8509.013889</td>\n",
              "      <td>36.772222</td>\n",
              "      <td>73.224603</td>\n",
              "      <td>16014.419048</td>\n",
              "      <td>34.293556</td>\n",
              "      <td>7.521480</td>\n",
              "      <td>2012.866270</td>\n",
              "      <td>6.593651</td>\n",
              "      <td>3.248810</td>\n",
              "    </tr>\n",
              "    <tr>\n",
              "      <th>9</th>\n",
              "      <td>194318.933157</td>\n",
              "      <td>0.042185</td>\n",
              "      <td>8987.338496</td>\n",
              "      <td>37.303444</td>\n",
              "      <td>73.982066</td>\n",
              "      <td>16906.059099</td>\n",
              "      <td>33.672735</td>\n",
              "      <td>6.929638</td>\n",
              "      <td>2012.996332</td>\n",
              "      <td>6.558590</td>\n",
              "      <td>3.123089</td>\n",
              "    </tr>\n",
              "    <tr>\n",
              "      <th>10</th>\n",
              "      <td>197232.860543</td>\n",
              "      <td>0.040750</td>\n",
              "      <td>8636.212031</td>\n",
              "      <td>33.620052</td>\n",
              "      <td>71.447219</td>\n",
              "      <td>16580.889909</td>\n",
              "      <td>30.981556</td>\n",
              "      <td>6.952072</td>\n",
              "      <td>2013.049159</td>\n",
              "      <td>6.566624</td>\n",
              "      <td>3.161578</td>\n",
              "    </tr>\n",
              "    <tr>\n",
              "      <th>11</th>\n",
              "      <td>194682.159065</td>\n",
              "      <td>0.033262</td>\n",
              "      <td>8346.787063</td>\n",
              "      <td>34.768697</td>\n",
              "      <td>72.394348</td>\n",
              "      <td>16331.186818</td>\n",
              "      <td>31.619648</td>\n",
              "      <td>6.969883</td>\n",
              "      <td>2012.987858</td>\n",
              "      <td>6.597490</td>\n",
              "      <td>3.184165</td>\n",
              "    </tr>\n",
              "    <tr>\n",
              "      <th>12</th>\n",
              "      <td>190246.544149</td>\n",
              "      <td>0.033123</td>\n",
              "      <td>7580.780218</td>\n",
              "      <td>35.199744</td>\n",
              "      <td>69.423735</td>\n",
              "      <td>16209.416141</td>\n",
              "      <td>31.125505</td>\n",
              "      <td>6.998806</td>\n",
              "      <td>2012.862659</td>\n",
              "      <td>6.577637</td>\n",
              "      <td>3.241834</td>\n",
              "    </tr>\n",
              "    <tr>\n",
              "      <th>13</th>\n",
              "      <td>185812.737646</td>\n",
              "      <td>0.032392</td>\n",
              "      <td>7423.223153</td>\n",
              "      <td>35.811908</td>\n",
              "      <td>66.650778</td>\n",
              "      <td>15822.606055</td>\n",
              "      <td>32.447731</td>\n",
              "      <td>7.318791</td>\n",
              "      <td>2012.718966</td>\n",
              "      <td>6.590963</td>\n",
              "      <td>3.322168</td>\n",
              "    </tr>\n",
              "    <tr>\n",
              "      <th>14</th>\n",
              "      <td>181744.726916</td>\n",
              "      <td>0.033741</td>\n",
              "      <td>7210.584018</td>\n",
              "      <td>36.131046</td>\n",
              "      <td>67.238578</td>\n",
              "      <td>15773.203785</td>\n",
              "      <td>32.381848</td>\n",
              "      <td>7.521635</td>\n",
              "      <td>2012.607819</td>\n",
              "      <td>6.583063</td>\n",
              "      <td>3.352418</td>\n",
              "    </tr>\n",
              "    <tr>\n",
              "      <th>15</th>\n",
              "      <td>179478.972168</td>\n",
              "      <td>0.029194</td>\n",
              "      <td>7165.069288</td>\n",
              "      <td>36.113566</td>\n",
              "      <td>65.766543</td>\n",
              "      <td>14739.224017</td>\n",
              "      <td>32.919257</td>\n",
              "      <td>7.787097</td>\n",
              "      <td>2012.532698</td>\n",
              "      <td>6.539023</td>\n",
              "      <td>3.396458</td>\n",
              "    </tr>\n",
              "    <tr>\n",
              "      <th>16</th>\n",
              "      <td>180704.757579</td>\n",
              "      <td>0.029574</td>\n",
              "      <td>7362.942230</td>\n",
              "      <td>38.557664</td>\n",
              "      <td>70.844499</td>\n",
              "      <td>16583.150731</td>\n",
              "      <td>34.633241</td>\n",
              "      <td>7.971608</td>\n",
              "      <td>2012.563600</td>\n",
              "      <td>6.585542</td>\n",
              "      <td>3.372589</td>\n",
              "    </tr>\n",
              "    <tr>\n",
              "      <th>17</th>\n",
              "      <td>178283.145730</td>\n",
              "      <td>0.031087</td>\n",
              "      <td>7295.351439</td>\n",
              "      <td>39.046573</td>\n",
              "      <td>69.094303</td>\n",
              "      <td>15814.881313</td>\n",
              "      <td>34.424024</td>\n",
              "      <td>8.311803</td>\n",
              "      <td>2012.500058</td>\n",
              "      <td>6.524789</td>\n",
              "      <td>3.433838</td>\n",
              "    </tr>\n",
              "    <tr>\n",
              "      <th>18</th>\n",
              "      <td>179738.460107</td>\n",
              "      <td>0.031325</td>\n",
              "      <td>7252.055556</td>\n",
              "      <td>40.121553</td>\n",
              "      <td>70.196118</td>\n",
              "      <td>16731.210843</td>\n",
              "      <td>35.673612</td>\n",
              "      <td>8.640005</td>\n",
              "      <td>2012.514993</td>\n",
              "      <td>6.505355</td>\n",
              "      <td>3.426640</td>\n",
              "    </tr>\n",
              "    <tr>\n",
              "      <th>19</th>\n",
              "      <td>176352.288316</td>\n",
              "      <td>0.034972</td>\n",
              "      <td>7230.538276</td>\n",
              "      <td>41.832716</td>\n",
              "      <td>72.645931</td>\n",
              "      <td>16926.284287</td>\n",
              "      <td>38.647468</td>\n",
              "      <td>8.763469</td>\n",
              "      <td>2012.428687</td>\n",
              "      <td>6.509106</td>\n",
              "      <td>3.555842</td>\n",
              "    </tr>\n",
              "    <tr>\n",
              "      <th>20</th>\n",
              "      <td>173959.046215</td>\n",
              "      <td>0.038037</td>\n",
              "      <td>6861.913275</td>\n",
              "      <td>45.822556</td>\n",
              "      <td>77.038608</td>\n",
              "      <td>18134.614873</td>\n",
              "      <td>40.284458</td>\n",
              "      <td>9.000191</td>\n",
              "      <td>2012.382084</td>\n",
              "      <td>6.422404</td>\n",
              "      <td>3.616014</td>\n",
              "    </tr>\n",
              "    <tr>\n",
              "      <th>21</th>\n",
              "      <td>173026.107128</td>\n",
              "      <td>0.034374</td>\n",
              "      <td>7030.912273</td>\n",
              "      <td>46.669970</td>\n",
              "      <td>73.510333</td>\n",
              "      <td>17605.819064</td>\n",
              "      <td>40.422947</td>\n",
              "      <td>9.443057</td>\n",
              "      <td>2012.336778</td>\n",
              "      <td>6.398566</td>\n",
              "      <td>3.683678</td>\n",
              "    </tr>\n",
              "    <tr>\n",
              "      <th>22</th>\n",
              "      <td>171904.423167</td>\n",
              "      <td>0.042721</td>\n",
              "      <td>7227.972370</td>\n",
              "      <td>46.373220</td>\n",
              "      <td>77.186823</td>\n",
              "      <td>18365.387460</td>\n",
              "      <td>41.495519</td>\n",
              "      <td>9.627401</td>\n",
              "      <td>2012.312434</td>\n",
              "      <td>6.279490</td>\n",
              "      <td>3.738151</td>\n",
              "    </tr>\n",
              "    <tr>\n",
              "      <th>23</th>\n",
              "      <td>172932.208413</td>\n",
              "      <td>0.039291</td>\n",
              "      <td>6831.373692</td>\n",
              "      <td>45.212471</td>\n",
              "      <td>74.862695</td>\n",
              "      <td>17631.345932</td>\n",
              "      <td>40.000430</td>\n",
              "      <td>8.771379</td>\n",
              "      <td>2012.341448</td>\n",
              "      <td>6.308563</td>\n",
              "      <td>3.729660</td>\n",
              "    </tr>\n",
              "  </tbody>\n",
              "</table>\n",
              "</div>"
            ],
            "text/plain": [
              "            post_id   polling  content_len  ...         year     month  dayofweek\n",
              "hour                                        ...                                  \n",
              "0     168120.628831  0.036529  6824.571218  ...  2012.199314  6.410395   3.837460\n",
              "1     162485.714830  0.035567  6857.822801  ...  2012.036520  6.397904   3.808828\n",
              "2     163583.386444  0.042254  7036.796215  ...  2012.078785  6.309859   3.805458\n",
              "3     160226.364570  0.053273  7191.890886  ...  2011.909499  6.530809   3.867137\n",
              "4     157350.988182  0.045455  8080.478182  ...  2011.903636  6.367273   3.732727\n",
              "5     159812.991774  0.034078  8277.351351  ...  2011.981199  6.613396   3.796710\n",
              "6     176417.841603  0.044847  9173.211832  ...  2012.504771  6.400763   3.383588\n",
              "7     180619.888039  0.051460  8614.956885  ...  2012.566064  6.598748   3.355355\n",
              "8     190074.404762  0.048810  8509.013889  ...  2012.866270  6.593651   3.248810\n",
              "9     194318.933157  0.042185  8987.338496  ...  2012.996332  6.558590   3.123089\n",
              "10    197232.860543  0.040750  8636.212031  ...  2013.049159  6.566624   3.161578\n",
              "11    194682.159065  0.033262  8346.787063  ...  2012.987858  6.597490   3.184165\n",
              "12    190246.544149  0.033123  7580.780218  ...  2012.862659  6.577637   3.241834\n",
              "13    185812.737646  0.032392  7423.223153  ...  2012.718966  6.590963   3.322168\n",
              "14    181744.726916  0.033741  7210.584018  ...  2012.607819  6.583063   3.352418\n",
              "15    179478.972168  0.029194  7165.069288  ...  2012.532698  6.539023   3.396458\n",
              "16    180704.757579  0.029574  7362.942230  ...  2012.563600  6.585542   3.372589\n",
              "17    178283.145730  0.031087  7295.351439  ...  2012.500058  6.524789   3.433838\n",
              "18    179738.460107  0.031325  7252.055556  ...  2012.514993  6.505355   3.426640\n",
              "19    176352.288316  0.034972  7230.538276  ...  2012.428687  6.509106   3.555842\n",
              "20    173959.046215  0.038037  6861.913275  ...  2012.382084  6.422404   3.616014\n",
              "21    173026.107128  0.034374  7030.912273  ...  2012.336778  6.398566   3.683678\n",
              "22    171904.423167  0.042721  7227.972370  ...  2012.312434  6.279490   3.738151\n",
              "23    172932.208413  0.039291  6831.373692  ...  2012.341448  6.308563   3.729660\n",
              "\n",
              "[24 rows x 11 columns]"
            ]
          },
          "metadata": {},
          "execution_count": 30
        }
      ]
    },
    {
      "cell_type": "code",
      "metadata": {
        "colab": {
          "base_uri": "https://localhost:8080/",
          "height": 98
        },
        "id": "Xp6KS1C9VZ8S",
        "outputId": "0d97c894-b8c8-4c33-d4a9-cf2696ef2eea"
      },
      "source": [
        "df[df['comments'] == max(df['comments'])]"
      ],
      "execution_count": 32,
      "outputs": [
        {
          "output_type": "execute_result",
          "data": {
            "text/html": [
              "<div>\n",
              "<style scoped>\n",
              "    .dataframe tbody tr th:only-of-type {\n",
              "        vertical-align: middle;\n",
              "    }\n",
              "\n",
              "    .dataframe tbody tr th {\n",
              "        vertical-align: top;\n",
              "    }\n",
              "\n",
              "    .dataframe thead th {\n",
              "        text-align: right;\n",
              "    }\n",
              "</style>\n",
              "<table border=\"1\" class=\"dataframe\">\n",
              "  <thead>\n",
              "    <tr style=\"text-align: right;\">\n",
              "      <th></th>\n",
              "      <th>url</th>\n",
              "      <th>domain</th>\n",
              "      <th>post_id</th>\n",
              "      <th>published</th>\n",
              "      <th>author</th>\n",
              "      <th>flow</th>\n",
              "      <th>polling</th>\n",
              "      <th>content_len</th>\n",
              "      <th>title</th>\n",
              "      <th>comments</th>\n",
              "      <th>favs</th>\n",
              "      <th>views</th>\n",
              "      <th>votes_plus</th>\n",
              "      <th>votes_minus</th>\n",
              "      <th>year</th>\n",
              "      <th>month</th>\n",
              "      <th>dayofweek</th>\n",
              "      <th>hour</th>\n",
              "    </tr>\n",
              "  </thead>\n",
              "  <tbody>\n",
              "    <tr>\n",
              "      <th>38763</th>\n",
              "      <td>https://geektimes.ru/post/123157/</td>\n",
              "      <td>geektimes.ru</td>\n",
              "      <td>123157</td>\n",
              "      <td>2011-07-01 02:35:00</td>\n",
              "      <td>@Dottore</td>\n",
              "      <td>NaN</td>\n",
              "      <td>False</td>\n",
              "      <td>2158</td>\n",
              "      <td>Как раздавать инвайты на Google+</td>\n",
              "      <td>2266</td>\n",
              "      <td>24</td>\n",
              "      <td>15300</td>\n",
              "      <td>226.0</td>\n",
              "      <td>55.0</td>\n",
              "      <td>2011</td>\n",
              "      <td>7</td>\n",
              "      <td>5</td>\n",
              "      <td>2</td>\n",
              "    </tr>\n",
              "  </tbody>\n",
              "</table>\n",
              "</div>"
            ],
            "text/plain": [
              "                                     url        domain  ...  dayofweek hour\n",
              "38763  https://geektimes.ru/post/123157/  geektimes.ru  ...          5    2\n",
              "\n",
              "[1 rows x 18 columns]"
            ]
          },
          "metadata": {},
          "execution_count": 32
        }
      ]
    },
    {
      "cell_type": "code",
      "metadata": {
        "colab": {
          "base_uri": "https://localhost:8080/"
        },
        "id": "mm3kOoo5VxsC",
        "outputId": "3fa70042-b05c-46bb-a86d-521baa269ccb"
      },
      "source": [
        "sum(df[(df['hour'] >= 6) | (df['hour'] < 18)]['comments']) / 12"
      ],
      "execution_count": 38,
      "outputs": [
        {
          "output_type": "execute_result",
          "data": {
            "text/plain": [
              "442942.6666666667"
            ]
          },
          "metadata": {},
          "execution_count": 38
        }
      ]
    },
    {
      "cell_type": "code",
      "metadata": {
        "colab": {
          "base_uri": "https://localhost:8080/"
        },
        "id": "dJJQIHDgWvUV",
        "outputId": "43889377-1a79-45f1-84aa-a934be6711a7"
      },
      "source": [
        "sum(df[(df['hour'] < 6) | (df['hour'] >= 18)]['comments']) / 12"
      ],
      "execution_count": 39,
      "outputs": [
        {
          "output_type": "execute_result",
          "data": {
            "text/plain": [
              "174821.08333333334"
            ]
          },
          "metadata": {},
          "execution_count": 39
        }
      ]
    },
    {
      "cell_type": "markdown",
      "metadata": {
        "id": "czHKIlK6z5If"
      },
      "source": [
        "#4. Кого из топ-20 авторов чаще всего минусуют?\n",
        "* @Mordatyj\n",
        "* @Mithgol\n",
        "* @alizar\n",
        "* @ilya42"
      ]
    },
    {
      "cell_type": "code",
      "metadata": {
        "id": "9ZzkPhfZZwSr"
      },
      "source": [
        "author = [\"@Mordatyj\", \"@Mithgol\", \n",
        "          \"@alizar\" ,\"@ilya42\"]"
      ],
      "execution_count": 44,
      "outputs": []
    },
    {
      "cell_type": "code",
      "metadata": {
        "id": "lzZL0KzMz9Yb",
        "colab": {
          "base_uri": "https://localhost:8080/",
          "height": 206
        },
        "outputId": "8b060522-449a-4b62-bf4c-9020c23c4f7c"
      },
      "source": [
        "df[df[\"author\"].isin(author)].groupby(\"author\").mean()"
      ],
      "execution_count": 51,
      "outputs": [
        {
          "output_type": "execute_result",
          "data": {
            "text/html": [
              "<div>\n",
              "<style scoped>\n",
              "    .dataframe tbody tr th:only-of-type {\n",
              "        vertical-align: middle;\n",
              "    }\n",
              "\n",
              "    .dataframe tbody tr th {\n",
              "        vertical-align: top;\n",
              "    }\n",
              "\n",
              "    .dataframe thead th {\n",
              "        text-align: right;\n",
              "    }\n",
              "</style>\n",
              "<table border=\"1\" class=\"dataframe\">\n",
              "  <thead>\n",
              "    <tr style=\"text-align: right;\">\n",
              "      <th></th>\n",
              "      <th>post_id</th>\n",
              "      <th>polling</th>\n",
              "      <th>content_len</th>\n",
              "      <th>comments</th>\n",
              "      <th>favs</th>\n",
              "      <th>views</th>\n",
              "      <th>votes_plus</th>\n",
              "      <th>votes_minus</th>\n",
              "      <th>year</th>\n",
              "      <th>month</th>\n",
              "      <th>dayofweek</th>\n",
              "      <th>hour</th>\n",
              "    </tr>\n",
              "    <tr>\n",
              "      <th>author</th>\n",
              "      <th></th>\n",
              "      <th></th>\n",
              "      <th></th>\n",
              "      <th></th>\n",
              "      <th></th>\n",
              "      <th></th>\n",
              "      <th></th>\n",
              "      <th></th>\n",
              "      <th></th>\n",
              "      <th></th>\n",
              "      <th></th>\n",
              "      <th></th>\n",
              "    </tr>\n",
              "  </thead>\n",
              "  <tbody>\n",
              "    <tr>\n",
              "      <th>@Mithgol</th>\n",
              "      <td>129791.894643</td>\n",
              "      <td>0.037500</td>\n",
              "      <td>3105.428571</td>\n",
              "      <td>57.548214</td>\n",
              "      <td>41.121429</td>\n",
              "      <td>7809.033929</td>\n",
              "      <td>52.522523</td>\n",
              "      <td>20.481081</td>\n",
              "      <td>2010.994643</td>\n",
              "      <td>6.053571</td>\n",
              "      <td>3.573214</td>\n",
              "      <td>12.810714</td>\n",
              "    </tr>\n",
              "    <tr>\n",
              "      <th>@Mordatyj</th>\n",
              "      <td>65844.782051</td>\n",
              "      <td>0.000000</td>\n",
              "      <td>1199.426740</td>\n",
              "      <td>34.446886</td>\n",
              "      <td>4.677656</td>\n",
              "      <td>984.100733</td>\n",
              "      <td>26.068140</td>\n",
              "      <td>7.471455</td>\n",
              "      <td>2009.058608</td>\n",
              "      <td>6.457875</td>\n",
              "      <td>2.805861</td>\n",
              "      <td>13.934066</td>\n",
              "    </tr>\n",
              "    <tr>\n",
              "      <th>@alizar</th>\n",
              "      <td>171891.636810</td>\n",
              "      <td>0.012661</td>\n",
              "      <td>2906.113190</td>\n",
              "      <td>64.726190</td>\n",
              "      <td>40.983938</td>\n",
              "      <td>16812.196712</td>\n",
              "      <td>44.726444</td>\n",
              "      <td>7.928191</td>\n",
              "      <td>2012.348450</td>\n",
              "      <td>6.436886</td>\n",
              "      <td>3.486395</td>\n",
              "      <td>13.962963</td>\n",
              "    </tr>\n",
              "    <tr>\n",
              "      <th>@ilya42</th>\n",
              "      <td>182192.787109</td>\n",
              "      <td>0.003906</td>\n",
              "      <td>3214.958984</td>\n",
              "      <td>57.496094</td>\n",
              "      <td>97.871094</td>\n",
              "      <td>26201.613281</td>\n",
              "      <td>60.322266</td>\n",
              "      <td>6.216797</td>\n",
              "      <td>2012.771484</td>\n",
              "      <td>6.466797</td>\n",
              "      <td>3.656250</td>\n",
              "      <td>16.460938</td>\n",
              "    </tr>\n",
              "  </tbody>\n",
              "</table>\n",
              "</div>"
            ],
            "text/plain": [
              "                 post_id   polling  content_len  ...     month  dayofweek       hour\n",
              "author                                           ...                                \n",
              "@Mithgol   129791.894643  0.037500  3105.428571  ...  6.053571   3.573214  12.810714\n",
              "@Mordatyj   65844.782051  0.000000  1199.426740  ...  6.457875   2.805861  13.934066\n",
              "@alizar    171891.636810  0.012661  2906.113190  ...  6.436886   3.486395  13.962963\n",
              "@ilya42    182192.787109  0.003906  3214.958984  ...  6.466797   3.656250  16.460938\n",
              "\n",
              "[4 rows x 12 columns]"
            ]
          },
          "metadata": {},
          "execution_count": 51
        }
      ]
    },
    {
      "cell_type": "markdown",
      "metadata": {
        "id": "Wz5ge-WZz9s3"
      },
      "source": [
        "#5. Сравните субботы и понедельники\n",
        "Правда ли, что по субботам авторы пишут в основном днём, а по понедельникам — в основном вечером?"
      ]
    },
    {
      "cell_type": "markdown",
      "metadata": {
        "id": "6d3DySB5mXVG"
      },
      "source": [
        "понедельник"
      ]
    },
    {
      "cell_type": "code",
      "metadata": {
        "id": "VP6C_5Sjz_Zh",
        "colab": {
          "base_uri": "https://localhost:8080/"
        },
        "outputId": "6c3df2c8-48d3-4996-f4e9-bfb2804198f0"
      },
      "source": [
        "df[(df[\"dayofweek\"] == 1) & ((df['hour'] < 6) | (df['hour'] >= 18))].shape #вечер"
      ],
      "execution_count": 67,
      "outputs": [
        {
          "output_type": "execute_result",
          "data": {
            "text/plain": [
              "(7505, 18)"
            ]
          },
          "metadata": {},
          "execution_count": 67
        }
      ]
    },
    {
      "cell_type": "code",
      "metadata": {
        "colab": {
          "base_uri": "https://localhost:8080/"
        },
        "id": "ideGtFKmmWGN",
        "outputId": "f7774ea5-e280-496a-83d9-e3b6f0427dc7"
      },
      "source": [
        "df[(df[\"dayofweek\"] == 1) & ((df['hour'] >= 6) | (df['hour'] < 18))].shape "
      ],
      "execution_count": 68,
      "outputs": [
        {
          "output_type": "execute_result",
          "data": {
            "text/plain": [
              "(23636, 18)"
            ]
          },
          "metadata": {},
          "execution_count": 68
        }
      ]
    },
    {
      "cell_type": "markdown",
      "metadata": {
        "id": "P-gRW1emmX0Z"
      },
      "source": [
        "суббота"
      ]
    },
    {
      "cell_type": "code",
      "metadata": {
        "colab": {
          "base_uri": "https://localhost:8080/"
        },
        "id": "rB0Re_ZqmWmL",
        "outputId": "127f7fce-6b88-46a9-aa9d-37b890136d5e"
      },
      "source": [
        "df[(df[\"dayofweek\"] == 6) & ((df['hour'] < 6) | (df['hour'] >= 18))].shape #вечер"
      ],
      "execution_count": 69,
      "outputs": [
        {
          "output_type": "execute_result",
          "data": {
            "text/plain": [
              "(4318, 18)"
            ]
          },
          "metadata": {},
          "execution_count": 69
        }
      ]
    },
    {
      "cell_type": "code",
      "metadata": {
        "colab": {
          "base_uri": "https://localhost:8080/"
        },
        "id": "MfeznxpslvYR",
        "outputId": "e31312fe-bdca-46b3-8a96-7be562054bb8"
      },
      "source": [
        "df[(df[\"dayofweek\"] == 6) & ((df['hour'] >= 6) | (df['hour'] < 18))].shape"
      ],
      "execution_count": 70,
      "outputs": [
        {
          "output_type": "execute_result",
          "data": {
            "text/plain": [
              "(8380, 18)"
            ]
          },
          "metadata": {},
          "execution_count": 70
        }
      ]
    }
  ]
}