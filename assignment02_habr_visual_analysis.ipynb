{
  "nbformat": 4,
  "nbformat_minor": 0,
  "metadata": {
    "colab": {
      "name": "assignment02_habr_visual_analysis.ipynb",
      "provenance": [],
      "collapsed_sections": []
    },
    "kernelspec": {
      "name": "python3",
      "display_name": "Python 3"
    },
    "language_info": {
      "name": "python"
    }
  },
  "cells": [
    {
      "cell_type": "code",
      "metadata": {
        "id": "hVRzu5ZiuH1T"
      },
      "source": [
        "import pandas as pd\n",
        "\n",
        "%matplotlib inline\n",
        "import matplotlib.pyplot as plt\n",
        "import seaborn as sns"
      ],
      "execution_count": 1,
      "outputs": []
    },
    {
      "cell_type": "markdown",
      "metadata": {
        "id": "zYk596dC0QOI"
      },
      "source": [
        "#Загрузка и знакомство с данными\n",
        "Для работы вам понадобятся предобработанные данные нашего учебного конкурса на kaggle «Прогноз популярности статьи на Хабре». Скачайте данные соревнования (данные были удалены с Kaggle ради организации последующего идентичного соревнования, так что тут ссылка на Google Drive)."
      ]
    },
    {
      "cell_type": "code",
      "metadata": {
        "colab": {
          "base_uri": "https://localhost:8080/"
        },
        "id": "ZwqVHOCByzez",
        "outputId": "82e5f936-ba0c-46fe-acd7-56bff568bbcf"
      },
      "source": [
        "from google.colab import drive\n",
        "\n",
        "drive.mount(\"/content/drive\")"
      ],
      "execution_count": 9,
      "outputs": [
        {
          "output_type": "stream",
          "name": "stdout",
          "text": [
            "Mounted at /content/drive\n"
          ]
        }
      ]
    },
    {
      "cell_type": "code",
      "metadata": {
        "id": "oyi_YZrVuv8R"
      },
      "source": [
        "df = pd.read_csv(\"/content/drive/MyDrive/data/howpop_train.csv\")"
      ],
      "execution_count": 10,
      "outputs": []
    },
    {
      "cell_type": "code",
      "metadata": {
        "colab": {
          "base_uri": "https://localhost:8080/"
        },
        "id": "Uktgua8IwVVt",
        "outputId": "9d7c2c9c-a6b2-4646-ec31-bcb9c984a976"
      },
      "source": [
        "df.shape"
      ],
      "execution_count": 11,
      "outputs": [
        {
          "output_type": "execute_result",
          "data": {
            "text/plain": [
              "(134137, 17)"
            ]
          },
          "metadata": {},
          "execution_count": 11
        }
      ]
    },
    {
      "cell_type": "code",
      "metadata": {
        "colab": {
          "base_uri": "https://localhost:8080/",
          "height": 582
        },
        "id": "pSWppW7DwaGJ",
        "outputId": "d4c70079-2ea8-420f-8683-858f2c0f253b"
      },
      "source": [
        "df.head(3).T"
      ],
      "execution_count": 12,
      "outputs": [
        {
          "output_type": "execute_result",
          "data": {
            "text/html": [
              "<div>\n",
              "<style scoped>\n",
              "    .dataframe tbody tr th:only-of-type {\n",
              "        vertical-align: middle;\n",
              "    }\n",
              "\n",
              "    .dataframe tbody tr th {\n",
              "        vertical-align: top;\n",
              "    }\n",
              "\n",
              "    .dataframe thead th {\n",
              "        text-align: right;\n",
              "    }\n",
              "</style>\n",
              "<table border=\"1\" class=\"dataframe\">\n",
              "  <thead>\n",
              "    <tr style=\"text-align: right;\">\n",
              "      <th></th>\n",
              "      <th>0</th>\n",
              "      <th>1</th>\n",
              "      <th>2</th>\n",
              "    </tr>\n",
              "  </thead>\n",
              "  <tbody>\n",
              "    <tr>\n",
              "      <th>url</th>\n",
              "      <td>https://habrahabr.ru/post/18284/</td>\n",
              "      <td>https://habrahabr.ru/post/18285/</td>\n",
              "      <td>https://habrahabr.ru/post/18286/</td>\n",
              "    </tr>\n",
              "    <tr>\n",
              "      <th>domain</th>\n",
              "      <td>habrahabr.ru</td>\n",
              "      <td>habrahabr.ru</td>\n",
              "      <td>habrahabr.ru</td>\n",
              "    </tr>\n",
              "    <tr>\n",
              "      <th>post_id</th>\n",
              "      <td>18284</td>\n",
              "      <td>18285</td>\n",
              "      <td>18286</td>\n",
              "    </tr>\n",
              "    <tr>\n",
              "      <th>published</th>\n",
              "      <td>2008-01-01 18:19:00</td>\n",
              "      <td>2008-01-01 18:30:00</td>\n",
              "      <td>2008-01-01 18:34:00</td>\n",
              "    </tr>\n",
              "    <tr>\n",
              "      <th>author</th>\n",
              "      <td>@Tapac</td>\n",
              "      <td>@DezmASter</td>\n",
              "      <td>@DezmASter</td>\n",
              "    </tr>\n",
              "    <tr>\n",
              "      <th>flow</th>\n",
              "      <td>develop</td>\n",
              "      <td>design</td>\n",
              "      <td>design</td>\n",
              "    </tr>\n",
              "    <tr>\n",
              "      <th>polling</th>\n",
              "      <td>False</td>\n",
              "      <td>False</td>\n",
              "      <td>False</td>\n",
              "    </tr>\n",
              "    <tr>\n",
              "      <th>content_len</th>\n",
              "      <td>4305</td>\n",
              "      <td>7344</td>\n",
              "      <td>8431</td>\n",
              "    </tr>\n",
              "    <tr>\n",
              "      <th>title</th>\n",
              "      <td>Новогодний подарок блоггерам — WordPress 2.3.2</td>\n",
              "      <td>Сумасшедшие яйца, или сервис для отслеживания ...</td>\n",
              "      <td>Сумасшедшие яйца, или сервис для отслеживания ...</td>\n",
              "    </tr>\n",
              "    <tr>\n",
              "      <th>comments</th>\n",
              "      <td>0</td>\n",
              "      <td>1</td>\n",
              "      <td>47</td>\n",
              "    </tr>\n",
              "    <tr>\n",
              "      <th>favs</th>\n",
              "      <td>0</td>\n",
              "      <td>1</td>\n",
              "      <td>72</td>\n",
              "    </tr>\n",
              "    <tr>\n",
              "      <th>views</th>\n",
              "      <td>236</td>\n",
              "      <td>353</td>\n",
              "      <td>1200</td>\n",
              "    </tr>\n",
              "    <tr>\n",
              "      <th>votes_plus</th>\n",
              "      <td>0</td>\n",
              "      <td>1</td>\n",
              "      <td>45</td>\n",
              "    </tr>\n",
              "    <tr>\n",
              "      <th>votes_minus</th>\n",
              "      <td>0</td>\n",
              "      <td>0</td>\n",
              "      <td>5</td>\n",
              "    </tr>\n",
              "    <tr>\n",
              "      <th>views_lognorm</th>\n",
              "      <td>-0.792687</td>\n",
              "      <td>-0.485214</td>\n",
              "      <td>0.44609</td>\n",
              "    </tr>\n",
              "    <tr>\n",
              "      <th>favs_lognorm</th>\n",
              "      <td>-1.34407</td>\n",
              "      <td>-0.831946</td>\n",
              "      <td>1.79402</td>\n",
              "    </tr>\n",
              "    <tr>\n",
              "      <th>comments_lognorm</th>\n",
              "      <td>-2.43687</td>\n",
              "      <td>-1.87319</td>\n",
              "      <td>0.574656</td>\n",
              "    </tr>\n",
              "  </tbody>\n",
              "</table>\n",
              "</div>"
            ],
            "text/plain": [
              "                                                               0  ...                                                  2\n",
              "url                             https://habrahabr.ru/post/18284/  ...                   https://habrahabr.ru/post/18286/\n",
              "domain                                              habrahabr.ru  ...                                       habrahabr.ru\n",
              "post_id                                                    18284  ...                                              18286\n",
              "published                                    2008-01-01 18:19:00  ...                                2008-01-01 18:34:00\n",
              "author                                                    @Tapac  ...                                         @DezmASter\n",
              "flow                                                     develop  ...                                             design\n",
              "polling                                                    False  ...                                              False\n",
              "content_len                                                 4305  ...                                               8431\n",
              "title             Новогодний подарок блоггерам — WordPress 2.3.2  ...  Сумасшедшие яйца, или сервис для отслеживания ...\n",
              "comments                                                       0  ...                                                 47\n",
              "favs                                                           0  ...                                                 72\n",
              "views                                                        236  ...                                               1200\n",
              "votes_plus                                                     0  ...                                                 45\n",
              "votes_minus                                                    0  ...                                                  5\n",
              "views_lognorm                                          -0.792687  ...                                            0.44609\n",
              "favs_lognorm                                            -1.34407  ...                                            1.79402\n",
              "comments_lognorm                                        -2.43687  ...                                           0.574656\n",
              "\n",
              "[17 rows x 3 columns]"
            ]
          },
          "metadata": {},
          "execution_count": 12
        }
      ]
    },
    {
      "cell_type": "markdown",
      "metadata": {
        "id": "8AT93qA40LDZ"
      },
      "source": [
        "\n",
        "Избавимся сразу от переменных, названия которых заканчиваются на _lognorm (нужны для соревнования на Kaggle). Выберем их с помощью filter() и удалим drop-ом:"
      ]
    },
    {
      "cell_type": "code",
      "metadata": {
        "id": "Ust49h5dzNvg"
      },
      "source": [
        "df.drop(\n",
        "    filter(lambda c: c.endswith(\"_lognorm\"), df.columns),\n",
        "    axis=1,  # axis = 1: столбцы\n",
        "    inplace=True,\n",
        ")  # избавляет от необходимости сохранять датасет"
      ],
      "execution_count": 13,
      "outputs": []
    },
    {
      "cell_type": "code",
      "metadata": {
        "colab": {
          "base_uri": "https://localhost:8080/",
          "height": 269
        },
        "id": "GtTHZFE8zRYq",
        "outputId": "4af15c59-536e-44ce-858a-8aeaa6dd54b4"
      },
      "source": [
        "df.describe().T"
      ],
      "execution_count": 14,
      "outputs": [
        {
          "output_type": "execute_result",
          "data": {
            "text/html": [
              "<div>\n",
              "<style scoped>\n",
              "    .dataframe tbody tr th:only-of-type {\n",
              "        vertical-align: middle;\n",
              "    }\n",
              "\n",
              "    .dataframe tbody tr th {\n",
              "        vertical-align: top;\n",
              "    }\n",
              "\n",
              "    .dataframe thead th {\n",
              "        text-align: right;\n",
              "    }\n",
              "</style>\n",
              "<table border=\"1\" class=\"dataframe\">\n",
              "  <thead>\n",
              "    <tr style=\"text-align: right;\">\n",
              "      <th></th>\n",
              "      <th>count</th>\n",
              "      <th>mean</th>\n",
              "      <th>std</th>\n",
              "      <th>min</th>\n",
              "      <th>25%</th>\n",
              "      <th>50%</th>\n",
              "      <th>75%</th>\n",
              "      <th>max</th>\n",
              "    </tr>\n",
              "  </thead>\n",
              "  <tbody>\n",
              "    <tr>\n",
              "      <th>post_id</th>\n",
              "      <td>134137.0</td>\n",
              "      <td>181307.054265</td>\n",
              "      <td>81766.350702</td>\n",
              "      <td>18284.0</td>\n",
              "      <td>115565.0</td>\n",
              "      <td>182666.0</td>\n",
              "      <td>257401.0</td>\n",
              "      <td>314088.0</td>\n",
              "    </tr>\n",
              "    <tr>\n",
              "      <th>content_len</th>\n",
              "      <td>134137.0</td>\n",
              "      <td>7516.929699</td>\n",
              "      <td>8724.771640</td>\n",
              "      <td>1.0</td>\n",
              "      <td>2179.0</td>\n",
              "      <td>4949.0</td>\n",
              "      <td>9858.0</td>\n",
              "      <td>352471.0</td>\n",
              "    </tr>\n",
              "    <tr>\n",
              "      <th>comments</th>\n",
              "      <td>134137.0</td>\n",
              "      <td>39.625994</td>\n",
              "      <td>62.398958</td>\n",
              "      <td>0.0</td>\n",
              "      <td>7.0</td>\n",
              "      <td>19.0</td>\n",
              "      <td>48.0</td>\n",
              "      <td>2266.0</td>\n",
              "    </tr>\n",
              "    <tr>\n",
              "      <th>favs</th>\n",
              "      <td>134137.0</td>\n",
              "      <td>71.999866</td>\n",
              "      <td>145.854135</td>\n",
              "      <td>0.0</td>\n",
              "      <td>8.0</td>\n",
              "      <td>27.0</td>\n",
              "      <td>78.0</td>\n",
              "      <td>8718.0</td>\n",
              "    </tr>\n",
              "    <tr>\n",
              "      <th>views</th>\n",
              "      <td>134137.0</td>\n",
              "      <td>16631.013084</td>\n",
              "      <td>31479.819691</td>\n",
              "      <td>3.0</td>\n",
              "      <td>2100.0</td>\n",
              "      <td>7600.0</td>\n",
              "      <td>18700.0</td>\n",
              "      <td>1730000.0</td>\n",
              "    </tr>\n",
              "    <tr>\n",
              "      <th>votes_plus</th>\n",
              "      <td>133566.0</td>\n",
              "      <td>35.536888</td>\n",
              "      <td>42.461073</td>\n",
              "      <td>0.0</td>\n",
              "      <td>11.0</td>\n",
              "      <td>22.0</td>\n",
              "      <td>45.0</td>\n",
              "      <td>1466.0</td>\n",
              "    </tr>\n",
              "    <tr>\n",
              "      <th>votes_minus</th>\n",
              "      <td>133566.0</td>\n",
              "      <td>8.050035</td>\n",
              "      <td>11.398282</td>\n",
              "      <td>0.0</td>\n",
              "      <td>2.0</td>\n",
              "      <td>5.0</td>\n",
              "      <td>10.0</td>\n",
              "      <td>445.0</td>\n",
              "    </tr>\n",
              "  </tbody>\n",
              "</table>\n",
              "</div>"
            ],
            "text/plain": [
              "                count           mean  ...       75%        max\n",
              "post_id      134137.0  181307.054265  ...  257401.0   314088.0\n",
              "content_len  134137.0    7516.929699  ...    9858.0   352471.0\n",
              "comments     134137.0      39.625994  ...      48.0     2266.0\n",
              "favs         134137.0      71.999866  ...      78.0     8718.0\n",
              "views        134137.0   16631.013084  ...   18700.0  1730000.0\n",
              "votes_plus   133566.0      35.536888  ...      45.0     1466.0\n",
              "votes_minus  133566.0       8.050035  ...      10.0      445.0\n",
              "\n",
              "[7 rows x 8 columns]"
            ]
          },
          "metadata": {},
          "execution_count": 14
        }
      ]
    },
    {
      "cell_type": "code",
      "metadata": {
        "colab": {
          "base_uri": "https://localhost:8080/",
          "height": 269
        },
        "id": "wpzrXx24zTfy",
        "outputId": "5ec6c5f7-ba9c-4d86-ad9b-49587af218f4"
      },
      "source": [
        "df.describe(include=[\"object\", \"bool\"]).T  # бинарные и категориальные переменные"
      ],
      "execution_count": 15,
      "outputs": [
        {
          "output_type": "execute_result",
          "data": {
            "text/html": [
              "<div>\n",
              "<style scoped>\n",
              "    .dataframe tbody tr th:only-of-type {\n",
              "        vertical-align: middle;\n",
              "    }\n",
              "\n",
              "    .dataframe tbody tr th {\n",
              "        vertical-align: top;\n",
              "    }\n",
              "\n",
              "    .dataframe thead th {\n",
              "        text-align: right;\n",
              "    }\n",
              "</style>\n",
              "<table border=\"1\" class=\"dataframe\">\n",
              "  <thead>\n",
              "    <tr style=\"text-align: right;\">\n",
              "      <th></th>\n",
              "      <th>count</th>\n",
              "      <th>unique</th>\n",
              "      <th>top</th>\n",
              "      <th>freq</th>\n",
              "    </tr>\n",
              "  </thead>\n",
              "  <tbody>\n",
              "    <tr>\n",
              "      <th>url</th>\n",
              "      <td>134137</td>\n",
              "      <td>134137</td>\n",
              "      <td>https://habrahabr.ru/company/dsec/blog/157037/</td>\n",
              "      <td>1</td>\n",
              "    </tr>\n",
              "    <tr>\n",
              "      <th>domain</th>\n",
              "      <td>134137</td>\n",
              "      <td>2</td>\n",
              "      <td>habrahabr.ru</td>\n",
              "      <td>97048</td>\n",
              "    </tr>\n",
              "    <tr>\n",
              "      <th>published</th>\n",
              "      <td>134137</td>\n",
              "      <td>130291</td>\n",
              "      <td>2011-06-14 15:52:00</td>\n",
              "      <td>39</td>\n",
              "    </tr>\n",
              "    <tr>\n",
              "      <th>author</th>\n",
              "      <td>97657</td>\n",
              "      <td>22077</td>\n",
              "      <td>@alizar</td>\n",
              "      <td>5292</td>\n",
              "    </tr>\n",
              "    <tr>\n",
              "      <th>flow</th>\n",
              "      <td>97048</td>\n",
              "      <td>6</td>\n",
              "      <td>develop</td>\n",
              "      <td>53318</td>\n",
              "    </tr>\n",
              "    <tr>\n",
              "      <th>polling</th>\n",
              "      <td>134137</td>\n",
              "      <td>2</td>\n",
              "      <td>False</td>\n",
              "      <td>129412</td>\n",
              "    </tr>\n",
              "    <tr>\n",
              "      <th>title</th>\n",
              "      <td>134137</td>\n",
              "      <td>133628</td>\n",
              "      <td>Интересные события, произошедшие в выходные</td>\n",
              "      <td>56</td>\n",
              "    </tr>\n",
              "  </tbody>\n",
              "</table>\n",
              "</div>"
            ],
            "text/plain": [
              "            count  ...    freq\n",
              "url        134137  ...       1\n",
              "domain     134137  ...   97048\n",
              "published  134137  ...      39\n",
              "author      97657  ...    5292\n",
              "flow        97048  ...   53318\n",
              "polling    134137  ...  129412\n",
              "title      134137  ...      56\n",
              "\n",
              "[7 rows x 4 columns]"
            ]
          },
          "metadata": {},
          "execution_count": 15
        }
      ]
    },
    {
      "cell_type": "code",
      "metadata": {
        "id": "eFd4LUPYzXqn"
      },
      "source": [
        "# настройка внешнего вида графиков в seaborn\n",
        "sns.set_style(\"dark\")\n",
        "sns.set_palette(\"RdBu\")\n",
        "sns.set_context(\n",
        "    \"notebook\", font_scale=1.5, rc={\"figure.figsize\": (15, 5), \"axes.titlesize\": 18}\n",
        ")"
      ],
      "execution_count": 16,
      "outputs": []
    },
    {
      "cell_type": "markdown",
      "metadata": {
        "id": "uz82hkYz0Idc"
      },
      "source": [
        "\n",
        "Столбец published (время публикации) содержит строки. Чтобы мы могли работать с этими данными как с датой/временем публикации, приведём их к типу datetime:"
      ]
    },
    {
      "cell_type": "code",
      "metadata": {
        "colab": {
          "base_uri": "https://localhost:8080/"
        },
        "id": "YOjQPJvDzYXk",
        "outputId": "7e6ca614-f5d6-4aca-c619-e6e79defc948"
      },
      "source": [
        "print(df.published.dtype)\n",
        "df[\"published\"] = pd.to_datetime(df.published, yearfirst=True)\n",
        "print(df.published.dtype)"
      ],
      "execution_count": 17,
      "outputs": [
        {
          "output_type": "stream",
          "name": "stdout",
          "text": [
            "object\n",
            "datetime64[ns]\n"
          ]
        }
      ]
    },
    {
      "cell_type": "markdown",
      "metadata": {
        "id": "sFjPMFE20GgV"
      },
      "source": [
        "\n",
        "Создадим несколько столбцов на основе данных о времени публикации:"
      ]
    },
    {
      "cell_type": "code",
      "metadata": {
        "id": "uON-Xbc2zaGO"
      },
      "source": [
        "df[\"year\"] = [d.year for d in df.published]\n",
        "df[\"month\"] = [d.month for d in df.published]\n",
        "\n",
        "df[\"dayofweek\"] = [d.isoweekday() for d in df.published]\n",
        "df[\"hour\"] = [d.hour for d in df.published]"
      ],
      "execution_count": 18,
      "outputs": []
    },
    {
      "cell_type": "markdown",
      "metadata": {
        "id": "3lsaUh8TzfIj"
      },
      "source": [
        "\n",
        "#1. В каком месяце (и какого года) было больше всего публикаций?\n",
        "* март 2016\n",
        "* март 2015\n",
        "* апрель 2015\n",
        "* апрель 2016"
      ]
    },
    {
      "cell_type": "code",
      "metadata": {
        "id": "Di2687gLzfsk"
      },
      "source": [
        ""
      ],
      "execution_count": null,
      "outputs": []
    },
    {
      "cell_type": "markdown",
      "metadata": {
        "id": "MOSz57Jfzn5o"
      },
      "source": [
        "#2. Проанализируйте публикации в месяце из предыдущего вопроса\n",
        "Выберите один или несколько вариантов:\n",
        "\n",
        "* Один или несколько дней сильно выделяются из общей картины\n",
        "* На хабре всегда больше статей, чем на гиктаймсе\n",
        "* По субботам на гиктаймс и на хабрахабр публикуют примерно одинаковое число статей\n",
        "\n",
        "\n",
        "Подсказки: постройте график зависимости числа публикаций от дня; используйте параметр hue; не заморачивайтесь сильно с ответами и не ищите скрытого смысла :)"
      ]
    },
    {
      "cell_type": "code",
      "metadata": {
        "id": "Sx2i0D5pz0L4"
      },
      "source": [
        ""
      ],
      "execution_count": null,
      "outputs": []
    },
    {
      "cell_type": "markdown",
      "metadata": {
        "id": "nHM1usnfzurC"
      },
      "source": [
        "#3. Когда лучше всего публиковать статью?\n",
        "* Больше всего просмотров набирают статьи, опубликованные в 12 часов дня\n",
        "* У опубликованных в 10 утра постов больше всего комментариев\n",
        "* Больше всего просмотров набирают статьи, опубликованные в 6 часов утра\n",
        "* Максимальное число комментариев на гиктаймсе набрала статья, опубликованная в 9 часов вечера\n",
        "* На хабре дневные статьи комментируют чаще, чем вечерние"
      ]
    },
    {
      "cell_type": "code",
      "metadata": {
        "id": "j72IUHfJz43S"
      },
      "source": [
        ""
      ],
      "execution_count": null,
      "outputs": []
    },
    {
      "cell_type": "markdown",
      "metadata": {
        "id": "czHKIlK6z5If"
      },
      "source": [
        "#4. Кого из топ-20 авторов чаще всего минусуют?\n",
        "* @Mordatyj\n",
        "* @Mithgol\n",
        "* @alizar\n",
        "* @ilya42"
      ]
    },
    {
      "cell_type": "code",
      "metadata": {
        "id": "lzZL0KzMz9Yb"
      },
      "source": [
        ""
      ],
      "execution_count": null,
      "outputs": []
    },
    {
      "cell_type": "markdown",
      "metadata": {
        "id": "Wz5ge-WZz9s3"
      },
      "source": [
        "#5. Сравните субботы и понедельники\n",
        "Правда ли, что по субботам авторы пишут в основном днём, а по понедельникам — в основном вечером?"
      ]
    },
    {
      "cell_type": "code",
      "metadata": {
        "id": "VP6C_5Sjz_Zh"
      },
      "source": [
        ""
      ],
      "execution_count": null,
      "outputs": []
    }
  ]
}