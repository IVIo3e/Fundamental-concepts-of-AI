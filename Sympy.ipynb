{
  "nbformat": 4,
  "nbformat_minor": 0,
  "metadata": {
    "colab": {
      "name": "Sympy.ipynb",
      "provenance": [],
      "authorship_tag": "ABX9TyPPupMEP6IXZDodKm1UOpQc",
      "include_colab_link": true
    },
    "kernelspec": {
      "name": "python3",
      "display_name": "Python 3"
    },
    "language_info": {
      "name": "python"
    }
  },
  "cells": [
    {
      "cell_type": "markdown",
      "metadata": {
        "id": "view-in-github",
        "colab_type": "text"
      },
      "source": [
        "<a href=\"https://colab.research.google.com/github/IVIo3e/Fundamental-concepts-of-AI/blob/main/Sympy.ipynb\" target=\"_parent\"><img src=\"https://colab.research.google.com/assets/colab-badge.svg\" alt=\"Open In Colab\"/></a>"
      ]
    },
    {
      "cell_type": "code",
      "metadata": {
        "id": "ZzX8LRqWmwFh"
      },
      "source": [
        "import sympy as sym"
      ],
      "execution_count": 5,
      "outputs": []
    },
    {
      "cell_type": "code",
      "metadata": {
        "colab": {
          "base_uri": "https://localhost:8080/",
          "height": 37
        },
        "id": "RbG8zS3Cm_Ii",
        "outputId": "ce254d1d-8d06-41b3-88d0-24f9e51514ce"
      },
      "source": [
        "sym.N(sym.sqrt(2), 100)"
      ],
      "execution_count": 7,
      "outputs": [
        {
          "output_type": "execute_result",
          "data": {
            "text/latex": "$\\displaystyle 1.414213562373095048801688724209698078569671875376948073176679737990732478462107038850387534327641573$",
            "text/plain": [
              "1.414213562373095048801688724209698078569671875376948073176679737990732478462107038850387534327641573"
            ]
          },
          "metadata": {},
          "execution_count": 7
        }
      ]
    },
    {
      "cell_type": "code",
      "metadata": {
        "colab": {
          "base_uri": "https://localhost:8080/",
          "height": 50
        },
        "id": "-hxBMVJanR9c",
        "outputId": "69cac7fd-cc24-4567-f5a5-143c8a2642b5"
      },
      "source": [
        "sym.Rational(1 , 3) + + sym.Rational(1 , 2) "
      ],
      "execution_count": 12,
      "outputs": [
        {
          "output_type": "execute_result",
          "data": {
            "text/latex": "$\\displaystyle \\frac{5}{6}$",
            "text/plain": [
              "5/6"
            ]
          },
          "metadata": {},
          "execution_count": 12
        }
      ]
    },
    {
      "cell_type": "code",
      "metadata": {
        "id": "PnLAyQBboTfA"
      },
      "source": [
        "x = sym.Symbol('x')\n",
        "y = sym.Symbol('y')"
      ],
      "execution_count": 15,
      "outputs": []
    },
    {
      "cell_type": "code",
      "metadata": {
        "colab": {
          "base_uri": "https://localhost:8080/",
          "height": 38
        },
        "id": "3RVpdFYbn16m",
        "outputId": "5c02f9f8-18d3-401f-a5fe-6a6b285e96b8"
      },
      "source": [
        "sym.expand( (x + y ) ** 6 )"
      ],
      "execution_count": 16,
      "outputs": [
        {
          "output_type": "execute_result",
          "data": {
            "text/latex": "$\\displaystyle x^{6} + 6 x^{5} y + 15 x^{4} y^{2} + 20 x^{3} y^{3} + 15 x^{2} y^{4} + 6 x y^{5} + y^{6}$",
            "text/plain": [
              "x**6 + 6*x**5*y + 15*x**4*y**2 + 20*x**3*y**3 + 15*x**2*y**4 + 6*x*y**5 + y**6"
            ]
          },
          "metadata": {},
          "execution_count": 16
        }
      ]
    },
    {
      "cell_type": "code",
      "metadata": {
        "colab": {
          "base_uri": "https://localhost:8080/",
          "height": 38
        },
        "id": "YzPB7yeKoS4Z",
        "outputId": "0b49bf62-1845-448e-8f0f-484f04775f42"
      },
      "source": [
        "sym.simplify(sym.sin(x) / sym.cos(x))"
      ],
      "execution_count": 18,
      "outputs": [
        {
          "output_type": "execute_result",
          "data": {
            "text/latex": "$\\displaystyle \\tan{\\left(x \\right)}$",
            "text/plain": [
              "tan(x)"
            ]
          },
          "metadata": {},
          "execution_count": 18
        }
      ]
    },
    {
      "cell_type": "code",
      "metadata": {
        "colab": {
          "base_uri": "https://localhost:8080/",
          "height": 37
        },
        "id": "zdNNSr-Vosno",
        "outputId": "66a7534a-5ffa-4c11-97bb-fd5c349079bf"
      },
      "source": [
        "sym.limit((sym.sin(x) / x), x, 0)"
      ],
      "execution_count": 19,
      "outputs": [
        {
          "output_type": "execute_result",
          "data": {
            "text/latex": "$\\displaystyle 1$",
            "text/plain": [
              "1"
            ]
          },
          "metadata": {},
          "execution_count": 19
        }
      ]
    },
    {
      "cell_type": "code",
      "metadata": {
        "colab": {
          "base_uri": "https://localhost:8080/",
          "height": 53
        },
        "id": "ZwtkS1tIpD_r",
        "outputId": "42e1c96e-99fb-47c5-e8f5-2708cfd82250"
      },
      "source": [
        "sym.series(sym.sin(x), x)"
      ],
      "execution_count": 21,
      "outputs": [
        {
          "output_type": "execute_result",
          "data": {
            "text/latex": "$\\displaystyle x - \\frac{x^{3}}{6} + \\frac{x^{5}}{120} + O\\left(x^{6}\\right)$",
            "text/plain": [
              "x - x**3/6 + x**5/120 + O(x**6)"
            ]
          },
          "metadata": {},
          "execution_count": 21
        }
      ]
    },
    {
      "cell_type": "code",
      "metadata": {
        "colab": {
          "base_uri": "https://localhost:8080/"
        },
        "id": "7aKhmKlspgPM",
        "outputId": "2ac77e0a-a607-4c63-a969-9fa582b5ea8e"
      },
      "source": [
        "sym.solve((x + y - 2, 2 * x + y), (x, y))"
      ],
      "execution_count": 28,
      "outputs": [
        {
          "output_type": "execute_result",
          "data": {
            "text/plain": [
              "{x: -2, y: 4}"
            ]
          },
          "metadata": {},
          "execution_count": 28
        }
      ]
    },
    {
      "cell_type": "code",
      "metadata": {
        "colab": {
          "base_uri": "https://localhost:8080/"
        },
        "id": "WY3FmoyGqBlV",
        "outputId": "3020a6f5-7a47-466a-baad-0100628ebb76"
      },
      "source": [
        "sym.satisfiable((~x | y) & (~y | x))"
      ],
      "execution_count": 32,
      "outputs": [
        {
          "output_type": "execute_result",
          "data": {
            "text/plain": [
              "{x: False, y: False}"
            ]
          },
          "metadata": {},
          "execution_count": 32
        }
      ]
    },
    {
      "cell_type": "code",
      "metadata": {
        "id": "-4EYLnQ-q8Z2"
      },
      "source": [
        "f, g = sym.symbols('f g', cls=sym.Function)"
      ],
      "execution_count": 47,
      "outputs": []
    },
    {
      "cell_type": "code",
      "metadata": {
        "colab": {
          "base_uri": "https://localhost:8080/",
          "height": 52
        },
        "id": "0kKDf2FJskSh",
        "outputId": "31787d7a-55bc-4819-f37b-b8e416cfa1ce"
      },
      "source": [
        "x * f(x).diff(x, 1) + f(x) - f(x) ** 2"
      ],
      "execution_count": 54,
      "outputs": [
        {
          "output_type": "execute_result",
          "data": {
            "text/latex": "$\\displaystyle x \\frac{d}{d x} f{\\left(x \\right)} - f^{2}{\\left(x \\right)} + f{\\left(x \\right)}$",
            "text/plain": [
              "x*Derivative(f(x), x) - f(x)**2 + f(x)"
            ]
          },
          "metadata": {},
          "execution_count": 54
        }
      ]
    },
    {
      "cell_type": "code",
      "metadata": {
        "colab": {
          "base_uri": "https://localhost:8080/",
          "height": 54
        },
        "id": "qDFUReYirU2b",
        "outputId": "202873b0-2774-4dad-bd98-7c0fceae4ef4"
      },
      "source": [
        "sym.dsolve(x * f(x).diff(x, 1) + f(x) - f(x) ** 2, f(x))"
      ],
      "execution_count": 56,
      "outputs": [
        {
          "output_type": "execute_result",
          "data": {
            "text/latex": "$\\displaystyle f{\\left(x \\right)} = - \\frac{C_{1}}{- C_{1} + x}$",
            "text/plain": [
              "Eq(f(x), -C1/(-C1 + x))"
            ]
          },
          "metadata": {},
          "execution_count": 56
        }
      ]
    },
    {
      "cell_type": "code",
      "metadata": {
        "colab": {
          "base_uri": "https://localhost:8080/",
          "height": 53
        },
        "id": "etLR-MDhrgMv",
        "outputId": "fffbf80d-b470-4e9f-c14e-84ade402bdd0"
      },
      "source": [
        "sym.dsolve(x * f(x).diff(x, 1) + f(x) - f(x) ** 2, f(x), hint='Bernoulli')"
      ],
      "execution_count": 57,
      "outputs": [
        {
          "output_type": "execute_result",
          "data": {
            "text/latex": "$\\displaystyle f{\\left(x \\right)} = \\frac{1}{C_{1} x + 1}$",
            "text/plain": [
              "Eq(f(x), 1/(C1*x + 1))"
            ]
          },
          "metadata": {},
          "execution_count": 57
        }
      ]
    }
  ]
}