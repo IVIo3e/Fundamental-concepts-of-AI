{
  "nbformat": 4,
  "nbformat_minor": 0,
  "metadata": {
    "kernelspec": {
      "display_name": "Python 3",
      "language": "python",
      "name": "python3"
    },
    "language_info": {
      "codemirror_mode": {
        "name": "ipython",
        "version": 3
      },
      "file_extension": ".py",
      "mimetype": "text/x-python",
      "name": "python",
      "nbconvert_exporter": "python",
      "pygments_lexer": "ipython3",
      "version": "3.7.6"
    },
    "colab": {
      "name": "assignment03_decision_trees.ipynb",
      "provenance": [],
      "include_colab_link": true
    }
  },
  "cells": [
    {
      "cell_type": "markdown",
      "metadata": {
        "id": "view-in-github",
        "colab_type": "text"
      },
      "source": [
        "<a href=\"https://colab.research.google.com/github/IVIo3e/Fundamental-concepts-of-AI/blob/main/assignment03_decision_trees.ipynb\" target=\"_parent\"><img src=\"https://colab.research.google.com/assets/colab-badge.svg\" alt=\"Open In Colab\"/></a>"
      ]
    },
    {
      "cell_type": "markdown",
      "metadata": {
        "id": "AMVYJT12JeAj"
      },
      "source": [
        "\n",
        "<img src=\"../../img/ods_stickers.jpg\">\n",
        "\n",
        "## <center> [mlcourse.ai](https://mlcourse.ai) – открытый курс OpenDataScience по машинному обучению \n",
        "    \n",
        "Авторы материала: Юрий Кашницкий, программист-исследователь Mail.Ru Group, и Мария Сумарокова, старший эксперт по аналитике VimpelCom. Материал распространяется на условиях лицензии [Creative Commons CC BY-NC-SA 4.0](https://creativecommons.org/licenses/by-nc-sa/4.0/). Можно использовать в любых целях (редактировать, поправлять и брать за основу), кроме коммерческих, но с обязательным упоминанием автора материала"
      ]
    },
    {
      "cell_type": "markdown",
      "metadata": {
        "id": "BCwnQKVyJeAo"
      },
      "source": [
        "# <center>Домашнее задание № 3 (демо). <br>Деревья решений в игрушечной задаче и на данных Adult репозитория UCI\n",
        "\n",
        "**В задании Вам предлагается разобраться с тем, как работает дерево решений, на игрушечном примере, затем обучить и настроить деревья и (при желании) случайный лес в задаче классификации на данных Adult репозитория UCI. Ответьте на все вопросы в этой тетрадке и заполните ответы в [гугл-форме](https://docs.google.com/forms/d/1bC3jNPH7XZUty_DaIvt0fPrsiS8YFkcpeBKHPSG0hw0/edit).**"
      ]
    },
    {
      "cell_type": "markdown",
      "metadata": {
        "id": "a9pLL7uNJeAp"
      },
      "source": [
        "Подключаем необходимые библиотеки"
      ]
    },
    {
      "cell_type": "code",
      "metadata": {
        "id": "oGX-4UD4JeAp"
      },
      "source": [
        "%matplotlib inline\n",
        "from matplotlib import pyplot as plt\n",
        "\n",
        "plt.rcParams['figure.figsize'] = (10, 8)\n",
        "import collections\n",
        "\n",
        "import numpy as np\n",
        "import pandas as pd\n",
        "import seaborn as sns\n",
        "from sklearn import preprocessing\n",
        "from sklearn.ensemble import RandomForestClassifier\n",
        "from sklearn.metrics import accuracy_score\n",
        "from sklearn.model_selection import GridSearchCV\n",
        "from sklearn.preprocessing import LabelEncoder\n",
        "from sklearn.tree import DecisionTreeClassifier, export_graphviz, plot_tree"
      ],
      "execution_count": 16,
      "outputs": []
    },
    {
      "cell_type": "markdown",
      "metadata": {
        "id": "FMjlg4MtJeAq"
      },
      "source": [
        "## Часть 1. Игрушечный набор данных \"девушка в баре\""
      ]
    },
    {
      "cell_type": "markdown",
      "metadata": {
        "collapsed": true,
        "id": "vWRLD0v-JeAr"
      },
      "source": [
        "**Цель –  \"на пальцах\", с помощью игрушечной задачи классификации разобраться в том, как работают деревья решений. Само по себе дерево решений – довольно слабый алгоритм, но основанные на нем алгоритмы случайного леса и градиентного бустинга - пожалуй, лучшее, что есть на сегодняшний день (в задачах, где можно обойтись без нейронных сетей). Поэтому разобраться в том, как работает дерево решений, полезно.**"
      ]
    },
    {
      "cell_type": "markdown",
      "metadata": {
        "id": "RNFM_cU9JeAr"
      },
      "source": [
        "**Рассмотрим игрушечную задачу бинарной классификации: поедет ли с Вами девушка из бара? Это будет зависеть от Вашей внешности и красноречия, крепости предлагаемых напитков и, как это ни меркантильно, от количества потраченных в баре денег.**\n",
        "<img src='../../img/toy_data.png'>"
      ]
    },
    {
      "cell_type": "markdown",
      "metadata": {
        "id": "stS7h_raJeAs"
      },
      "source": [
        "### Создание набора данных"
      ]
    },
    {
      "cell_type": "code",
      "metadata": {
        "id": "FHwjd82OJeAs"
      },
      "source": [
        "# Создание датафрейма с dummy variables\n",
        "def create_df(dic, feature_list):\n",
        "    out = pd.DataFrame(dic)\n",
        "    out = pd.concat([out, pd.get_dummies(out[feature_list])], axis = 1)\n",
        "    out.drop(feature_list, axis = 1, inplace = True)\n",
        "    return out\n",
        "\n",
        "# Некоторые значения признаков есть в тесте, но нет в трейне и наоборот\n",
        "def intersect_features(train, test):\n",
        "    common_feat = list( set(train.keys()) & set(test.keys()))\n",
        "    return train[common_feat], test[common_feat]"
      ],
      "execution_count": 2,
      "outputs": []
    },
    {
      "cell_type": "code",
      "metadata": {
        "id": "pKpeVGwrJeAt"
      },
      "source": [
        "features = ['Внешность', 'Алкоголь_в_напитке',\n",
        "            'Уровень_красноречия', 'Потраченные_деньги']"
      ],
      "execution_count": 3,
      "outputs": []
    },
    {
      "cell_type": "markdown",
      "metadata": {
        "id": "VbrRE2mLJeAu"
      },
      "source": [
        "**Обучающая выборка**"
      ]
    },
    {
      "cell_type": "code",
      "metadata": {
        "colab": {
          "base_uri": "https://localhost:8080/",
          "height": 289
        },
        "id": "YTvgJHWCJeAu",
        "outputId": "0a33a1b4-d687-475a-cb9d-22eae8e45ab5"
      },
      "source": [
        "df_train = {}\n",
        "df_train['Внешность'] = ['приятная', 'приятная', 'приятная', 'отталкивающая',\n",
        "                         'отталкивающая', 'отталкивающая', 'приятная'] \n",
        "df_train['Алкоголь_в_напитке'] = ['да', 'да', 'нет', 'нет', 'да', 'да', 'да']\n",
        "df_train['Уровень_красноречия'] = ['высокий', 'низкий', 'средний', 'средний', 'низкий',\n",
        "                                   'высокий', 'средний']\n",
        "df_train['Потраченные_деньги'] = ['много', 'мало', 'много', 'мало', 'много',\n",
        "                                  'много', 'много']\n",
        "df_train['Поедет'] = LabelEncoder().fit_transform(['+', '-', '+', '-', '-', '+', '+'])\n",
        "\n",
        "df_train = create_df(df_train, features)\n",
        "df_train"
      ],
      "execution_count": 4,
      "outputs": [
        {
          "output_type": "execute_result",
          "data": {
            "text/html": [
              "<div>\n",
              "<style scoped>\n",
              "    .dataframe tbody tr th:only-of-type {\n",
              "        vertical-align: middle;\n",
              "    }\n",
              "\n",
              "    .dataframe tbody tr th {\n",
              "        vertical-align: top;\n",
              "    }\n",
              "\n",
              "    .dataframe thead th {\n",
              "        text-align: right;\n",
              "    }\n",
              "</style>\n",
              "<table border=\"1\" class=\"dataframe\">\n",
              "  <thead>\n",
              "    <tr style=\"text-align: right;\">\n",
              "      <th></th>\n",
              "      <th>Поедет</th>\n",
              "      <th>Внешность_отталкивающая</th>\n",
              "      <th>Внешность_приятная</th>\n",
              "      <th>Алкоголь_в_напитке_да</th>\n",
              "      <th>Алкоголь_в_напитке_нет</th>\n",
              "      <th>Уровень_красноречия_высокий</th>\n",
              "      <th>Уровень_красноречия_низкий</th>\n",
              "      <th>Уровень_красноречия_средний</th>\n",
              "      <th>Потраченные_деньги_мало</th>\n",
              "      <th>Потраченные_деньги_много</th>\n",
              "    </tr>\n",
              "  </thead>\n",
              "  <tbody>\n",
              "    <tr>\n",
              "      <th>0</th>\n",
              "      <td>0</td>\n",
              "      <td>0</td>\n",
              "      <td>1</td>\n",
              "      <td>1</td>\n",
              "      <td>0</td>\n",
              "      <td>1</td>\n",
              "      <td>0</td>\n",
              "      <td>0</td>\n",
              "      <td>0</td>\n",
              "      <td>1</td>\n",
              "    </tr>\n",
              "    <tr>\n",
              "      <th>1</th>\n",
              "      <td>1</td>\n",
              "      <td>0</td>\n",
              "      <td>1</td>\n",
              "      <td>1</td>\n",
              "      <td>0</td>\n",
              "      <td>0</td>\n",
              "      <td>1</td>\n",
              "      <td>0</td>\n",
              "      <td>1</td>\n",
              "      <td>0</td>\n",
              "    </tr>\n",
              "    <tr>\n",
              "      <th>2</th>\n",
              "      <td>0</td>\n",
              "      <td>0</td>\n",
              "      <td>1</td>\n",
              "      <td>0</td>\n",
              "      <td>1</td>\n",
              "      <td>0</td>\n",
              "      <td>0</td>\n",
              "      <td>1</td>\n",
              "      <td>0</td>\n",
              "      <td>1</td>\n",
              "    </tr>\n",
              "    <tr>\n",
              "      <th>3</th>\n",
              "      <td>1</td>\n",
              "      <td>1</td>\n",
              "      <td>0</td>\n",
              "      <td>0</td>\n",
              "      <td>1</td>\n",
              "      <td>0</td>\n",
              "      <td>0</td>\n",
              "      <td>1</td>\n",
              "      <td>1</td>\n",
              "      <td>0</td>\n",
              "    </tr>\n",
              "    <tr>\n",
              "      <th>4</th>\n",
              "      <td>1</td>\n",
              "      <td>1</td>\n",
              "      <td>0</td>\n",
              "      <td>1</td>\n",
              "      <td>0</td>\n",
              "      <td>0</td>\n",
              "      <td>1</td>\n",
              "      <td>0</td>\n",
              "      <td>0</td>\n",
              "      <td>1</td>\n",
              "    </tr>\n",
              "    <tr>\n",
              "      <th>5</th>\n",
              "      <td>0</td>\n",
              "      <td>1</td>\n",
              "      <td>0</td>\n",
              "      <td>1</td>\n",
              "      <td>0</td>\n",
              "      <td>1</td>\n",
              "      <td>0</td>\n",
              "      <td>0</td>\n",
              "      <td>0</td>\n",
              "      <td>1</td>\n",
              "    </tr>\n",
              "    <tr>\n",
              "      <th>6</th>\n",
              "      <td>0</td>\n",
              "      <td>0</td>\n",
              "      <td>1</td>\n",
              "      <td>1</td>\n",
              "      <td>0</td>\n",
              "      <td>0</td>\n",
              "      <td>0</td>\n",
              "      <td>1</td>\n",
              "      <td>0</td>\n",
              "      <td>1</td>\n",
              "    </tr>\n",
              "  </tbody>\n",
              "</table>\n",
              "</div>"
            ],
            "text/plain": [
              "   Поедет  ...  Потраченные_деньги_много\n",
              "0       0  ...                         1\n",
              "1       1  ...                         0\n",
              "2       0  ...                         1\n",
              "3       1  ...                         0\n",
              "4       1  ...                         1\n",
              "5       0  ...                         1\n",
              "6       0  ...                         1\n",
              "\n",
              "[7 rows x 10 columns]"
            ]
          },
          "metadata": {},
          "execution_count": 4
        }
      ]
    },
    {
      "cell_type": "markdown",
      "metadata": {
        "id": "qK5gEq2nJeAw"
      },
      "source": [
        "**Тестовая выборка**"
      ]
    },
    {
      "cell_type": "code",
      "metadata": {
        "colab": {
          "base_uri": "https://localhost:8080/",
          "height": 144
        },
        "id": "KQZIVhszJeAw",
        "outputId": "1898e80d-c8ed-41c3-e5d5-fba176bed443"
      },
      "source": [
        "df_test = {}\n",
        "df_test['Внешность'] = ['приятная', 'приятная', 'отталкивающая'] \n",
        "df_test['Алкоголь_в_напитке'] = ['нет', 'да', 'да']\n",
        "df_test['Уровень_красноречия'] = ['средний', 'высокий', 'средний']\n",
        "df_test['Потраченные_деньги'] = ['много', 'мало', 'много']\n",
        "df_test = create_df(df_test, features)\n",
        "df_test"
      ],
      "execution_count": 5,
      "outputs": [
        {
          "output_type": "execute_result",
          "data": {
            "text/html": [
              "<div>\n",
              "<style scoped>\n",
              "    .dataframe tbody tr th:only-of-type {\n",
              "        vertical-align: middle;\n",
              "    }\n",
              "\n",
              "    .dataframe tbody tr th {\n",
              "        vertical-align: top;\n",
              "    }\n",
              "\n",
              "    .dataframe thead th {\n",
              "        text-align: right;\n",
              "    }\n",
              "</style>\n",
              "<table border=\"1\" class=\"dataframe\">\n",
              "  <thead>\n",
              "    <tr style=\"text-align: right;\">\n",
              "      <th></th>\n",
              "      <th>Внешность_отталкивающая</th>\n",
              "      <th>Внешность_приятная</th>\n",
              "      <th>Алкоголь_в_напитке_да</th>\n",
              "      <th>Алкоголь_в_напитке_нет</th>\n",
              "      <th>Уровень_красноречия_высокий</th>\n",
              "      <th>Уровень_красноречия_средний</th>\n",
              "      <th>Потраченные_деньги_мало</th>\n",
              "      <th>Потраченные_деньги_много</th>\n",
              "    </tr>\n",
              "  </thead>\n",
              "  <tbody>\n",
              "    <tr>\n",
              "      <th>0</th>\n",
              "      <td>0</td>\n",
              "      <td>1</td>\n",
              "      <td>0</td>\n",
              "      <td>1</td>\n",
              "      <td>0</td>\n",
              "      <td>1</td>\n",
              "      <td>0</td>\n",
              "      <td>1</td>\n",
              "    </tr>\n",
              "    <tr>\n",
              "      <th>1</th>\n",
              "      <td>0</td>\n",
              "      <td>1</td>\n",
              "      <td>1</td>\n",
              "      <td>0</td>\n",
              "      <td>1</td>\n",
              "      <td>0</td>\n",
              "      <td>1</td>\n",
              "      <td>0</td>\n",
              "    </tr>\n",
              "    <tr>\n",
              "      <th>2</th>\n",
              "      <td>1</td>\n",
              "      <td>0</td>\n",
              "      <td>1</td>\n",
              "      <td>0</td>\n",
              "      <td>0</td>\n",
              "      <td>1</td>\n",
              "      <td>0</td>\n",
              "      <td>1</td>\n",
              "    </tr>\n",
              "  </tbody>\n",
              "</table>\n",
              "</div>"
            ],
            "text/plain": [
              "   Внешность_отталкивающая  ...  Потраченные_деньги_много\n",
              "0                        0  ...                         1\n",
              "1                        0  ...                         0\n",
              "2                        1  ...                         1\n",
              "\n",
              "[3 rows x 8 columns]"
            ]
          },
          "metadata": {},
          "execution_count": 5
        }
      ]
    },
    {
      "cell_type": "code",
      "metadata": {
        "colab": {
          "base_uri": "https://localhost:8080/",
          "height": 269
        },
        "id": "F5YqDyIMJeAw",
        "outputId": "b7f1d398-09c8-42b6-8941-215c46fa36d6"
      },
      "source": [
        "# Некоторые значения признаков есть в тесте, но нет в трейне и наоборот\n",
        "y = df_train['Поедет']\n",
        "df_train, df_test = intersect_features(train=df_train, test=df_test)\n",
        "df_train"
      ],
      "execution_count": 6,
      "outputs": [
        {
          "output_type": "execute_result",
          "data": {
            "text/html": [
              "<div>\n",
              "<style scoped>\n",
              "    .dataframe tbody tr th:only-of-type {\n",
              "        vertical-align: middle;\n",
              "    }\n",
              "\n",
              "    .dataframe tbody tr th {\n",
              "        vertical-align: top;\n",
              "    }\n",
              "\n",
              "    .dataframe thead th {\n",
              "        text-align: right;\n",
              "    }\n",
              "</style>\n",
              "<table border=\"1\" class=\"dataframe\">\n",
              "  <thead>\n",
              "    <tr style=\"text-align: right;\">\n",
              "      <th></th>\n",
              "      <th>Алкоголь_в_напитке_нет</th>\n",
              "      <th>Потраченные_деньги_много</th>\n",
              "      <th>Потраченные_деньги_мало</th>\n",
              "      <th>Уровень_красноречия_средний</th>\n",
              "      <th>Внешность_приятная</th>\n",
              "      <th>Алкоголь_в_напитке_да</th>\n",
              "      <th>Внешность_отталкивающая</th>\n",
              "      <th>Уровень_красноречия_высокий</th>\n",
              "    </tr>\n",
              "  </thead>\n",
              "  <tbody>\n",
              "    <tr>\n",
              "      <th>0</th>\n",
              "      <td>0</td>\n",
              "      <td>1</td>\n",
              "      <td>0</td>\n",
              "      <td>0</td>\n",
              "      <td>1</td>\n",
              "      <td>1</td>\n",
              "      <td>0</td>\n",
              "      <td>1</td>\n",
              "    </tr>\n",
              "    <tr>\n",
              "      <th>1</th>\n",
              "      <td>0</td>\n",
              "      <td>0</td>\n",
              "      <td>1</td>\n",
              "      <td>0</td>\n",
              "      <td>1</td>\n",
              "      <td>1</td>\n",
              "      <td>0</td>\n",
              "      <td>0</td>\n",
              "    </tr>\n",
              "    <tr>\n",
              "      <th>2</th>\n",
              "      <td>1</td>\n",
              "      <td>1</td>\n",
              "      <td>0</td>\n",
              "      <td>1</td>\n",
              "      <td>1</td>\n",
              "      <td>0</td>\n",
              "      <td>0</td>\n",
              "      <td>0</td>\n",
              "    </tr>\n",
              "    <tr>\n",
              "      <th>3</th>\n",
              "      <td>1</td>\n",
              "      <td>0</td>\n",
              "      <td>1</td>\n",
              "      <td>1</td>\n",
              "      <td>0</td>\n",
              "      <td>0</td>\n",
              "      <td>1</td>\n",
              "      <td>0</td>\n",
              "    </tr>\n",
              "    <tr>\n",
              "      <th>4</th>\n",
              "      <td>0</td>\n",
              "      <td>1</td>\n",
              "      <td>0</td>\n",
              "      <td>0</td>\n",
              "      <td>0</td>\n",
              "      <td>1</td>\n",
              "      <td>1</td>\n",
              "      <td>0</td>\n",
              "    </tr>\n",
              "    <tr>\n",
              "      <th>5</th>\n",
              "      <td>0</td>\n",
              "      <td>1</td>\n",
              "      <td>0</td>\n",
              "      <td>0</td>\n",
              "      <td>0</td>\n",
              "      <td>1</td>\n",
              "      <td>1</td>\n",
              "      <td>1</td>\n",
              "    </tr>\n",
              "    <tr>\n",
              "      <th>6</th>\n",
              "      <td>0</td>\n",
              "      <td>1</td>\n",
              "      <td>0</td>\n",
              "      <td>1</td>\n",
              "      <td>1</td>\n",
              "      <td>1</td>\n",
              "      <td>0</td>\n",
              "      <td>0</td>\n",
              "    </tr>\n",
              "  </tbody>\n",
              "</table>\n",
              "</div>"
            ],
            "text/plain": [
              "   Алкоголь_в_напитке_нет  ...  Уровень_красноречия_высокий\n",
              "0                       0  ...                            1\n",
              "1                       0  ...                            0\n",
              "2                       1  ...                            0\n",
              "3                       1  ...                            0\n",
              "4                       0  ...                            0\n",
              "5                       0  ...                            1\n",
              "6                       0  ...                            0\n",
              "\n",
              "[7 rows x 8 columns]"
            ]
          },
          "metadata": {},
          "execution_count": 6
        }
      ]
    },
    {
      "cell_type": "code",
      "metadata": {
        "colab": {
          "base_uri": "https://localhost:8080/",
          "height": 144
        },
        "id": "hxALXIk7JeAx",
        "outputId": "2a8d134f-4ca1-40d8-caf7-4617e458511b"
      },
      "source": [
        "df_test"
      ],
      "execution_count": 7,
      "outputs": [
        {
          "output_type": "execute_result",
          "data": {
            "text/html": [
              "<div>\n",
              "<style scoped>\n",
              "    .dataframe tbody tr th:only-of-type {\n",
              "        vertical-align: middle;\n",
              "    }\n",
              "\n",
              "    .dataframe tbody tr th {\n",
              "        vertical-align: top;\n",
              "    }\n",
              "\n",
              "    .dataframe thead th {\n",
              "        text-align: right;\n",
              "    }\n",
              "</style>\n",
              "<table border=\"1\" class=\"dataframe\">\n",
              "  <thead>\n",
              "    <tr style=\"text-align: right;\">\n",
              "      <th></th>\n",
              "      <th>Алкоголь_в_напитке_нет</th>\n",
              "      <th>Потраченные_деньги_много</th>\n",
              "      <th>Потраченные_деньги_мало</th>\n",
              "      <th>Уровень_красноречия_средний</th>\n",
              "      <th>Внешность_приятная</th>\n",
              "      <th>Алкоголь_в_напитке_да</th>\n",
              "      <th>Внешность_отталкивающая</th>\n",
              "      <th>Уровень_красноречия_высокий</th>\n",
              "    </tr>\n",
              "  </thead>\n",
              "  <tbody>\n",
              "    <tr>\n",
              "      <th>0</th>\n",
              "      <td>1</td>\n",
              "      <td>1</td>\n",
              "      <td>0</td>\n",
              "      <td>1</td>\n",
              "      <td>1</td>\n",
              "      <td>0</td>\n",
              "      <td>0</td>\n",
              "      <td>0</td>\n",
              "    </tr>\n",
              "    <tr>\n",
              "      <th>1</th>\n",
              "      <td>0</td>\n",
              "      <td>0</td>\n",
              "      <td>1</td>\n",
              "      <td>0</td>\n",
              "      <td>1</td>\n",
              "      <td>1</td>\n",
              "      <td>0</td>\n",
              "      <td>1</td>\n",
              "    </tr>\n",
              "    <tr>\n",
              "      <th>2</th>\n",
              "      <td>0</td>\n",
              "      <td>1</td>\n",
              "      <td>0</td>\n",
              "      <td>1</td>\n",
              "      <td>0</td>\n",
              "      <td>1</td>\n",
              "      <td>1</td>\n",
              "      <td>0</td>\n",
              "    </tr>\n",
              "  </tbody>\n",
              "</table>\n",
              "</div>"
            ],
            "text/plain": [
              "   Алкоголь_в_напитке_нет  ...  Уровень_красноречия_высокий\n",
              "0                       1  ...                            0\n",
              "1                       0  ...                            1\n",
              "2                       0  ...                            0\n",
              "\n",
              "[3 rows x 8 columns]"
            ]
          },
          "metadata": {},
          "execution_count": 7
        }
      ]
    },
    {
      "cell_type": "markdown",
      "metadata": {
        "id": "IuFhyAkbJeAx"
      },
      "source": [
        "**Постройте от руки (или в графическом редакторе) дерево решений для этого набора данных. Дополнительно (для желающих) – можете сделать отрисовку дерева и написать код для построения всего дерева.**"
      ]
    },
    {
      "cell_type": "markdown",
      "metadata": {
        "id": "mgEENDXiJeAx"
      },
      "source": [
        "<font color='red'>Вопрос 1.</font> Какова энтропия начальной системы ($S_0$)? Под состояниями системы понимаем значения признака \"Поедет\" – 0 или 1 (то есть всего 2 состояния).\n"
      ]
    },
    {
      "cell_type": "markdown",
      "metadata": {
        "id": "Ozsivu3Xej4m"
      },
      "source": [
        "$S = - \\sum_{i=1}^N p_i log_2 p_i$ \n",
        "\n",
        "это формула энтропии, где $p_i$ это вероятности нахождения системы в $i$-ом состоянии. \n",
        "\n",
        "$p1 = \\frac{3}{7}$ (для состояния 1)\n",
        "\n",
        "$p2 = \\frac{4}{7}$ (для состояния 0)\n",
        "\n",
        "$S = - (\\frac{3}{7} log_2 \\frac{3}{7} + \\frac{4}{7} log_2 \\frac{4}{7}) = 0.9852281360342515$ "
      ]
    },
    {
      "cell_type": "code",
      "metadata": {
        "colab": {
          "base_uri": "https://localhost:8080/"
        },
        "id": "H-0G5ZqchWlB",
        "outputId": "e31a932d-74bc-4572-ae56-a41dcd26d4ee"
      },
      "source": [
        "import math\n",
        "-((3/7) * math.log2(3/7) + (4/7) * math.log2(4/7))"
      ],
      "execution_count": 24,
      "outputs": [
        {
          "output_type": "execute_result",
          "data": {
            "text/plain": [
              "0.9852281360342515"
            ]
          },
          "metadata": {},
          "execution_count": 24
        }
      ]
    },
    {
      "cell_type": "markdown",
      "metadata": {
        "id": "m_vw6y0TJeAx"
      },
      "source": [
        "<font color='red'>Вопрос 2. </font> Рассмотрим разбиение обучающей выборки по признаку \"Внешность\\_приятная\". Какова энтропия  $S_1$ левой группы, тех, у кого внешность приятная, и правой группы – $S_2$? Каков прирост информации  при данном разбиении (IG)? "
      ]
    },
    {
      "cell_type": "markdown",
      "metadata": {
        "id": "4zwRi5ENhrvq"
      },
      "source": [
        "Для группы \"внешность приятная\" - 4 состояния, 3 не поедет и 1 поедет\n",
        "\n",
        "Энтропия $S_1 = - (\\frac{3}{4} log_2 \\frac{3}{4} + \\frac{1}{4} log_2 \\frac{1}{4}) = 0.8112781244591328$\n",
        "\n",
        "Энтропия $S_2 = - (\\frac{2}{3} log_2 \\frac{2}{3} + \\frac{1}{3} log_2 \\frac{1}{3}) = 0.9182958340544896$\n",
        "\n",
        "$IG = S_0 - \\frac{4}{7} S_1 - \\frac{3}{7} S_2 = 0.12808527889139443$"
      ]
    },
    {
      "cell_type": "code",
      "metadata": {
        "colab": {
          "base_uri": "https://localhost:8080/"
        },
        "id": "rX-rsdwwvNLY",
        "outputId": "50efe1fa-f168-4209-cd69-029e3645c32d"
      },
      "source": [
        "-((3/4) * math.log2(3/4) + (1/4) * math.log2(1/4))"
      ],
      "execution_count": 25,
      "outputs": [
        {
          "output_type": "execute_result",
          "data": {
            "text/plain": [
              "0.8112781244591328"
            ]
          },
          "metadata": {},
          "execution_count": 25
        }
      ]
    },
    {
      "cell_type": "code",
      "metadata": {
        "colab": {
          "base_uri": "https://localhost:8080/"
        },
        "id": "CFfDjy4gvjj1",
        "outputId": "0a3e5c27-ffe7-4f93-a7a6-2dba4959fcf9"
      },
      "source": [
        "-((2/3) * math.log2(2/3) + (1/3) * math.log2(1/3))"
      ],
      "execution_count": 26,
      "outputs": [
        {
          "output_type": "execute_result",
          "data": {
            "text/plain": [
              "0.9182958340544896"
            ]
          },
          "metadata": {},
          "execution_count": 26
        }
      ]
    },
    {
      "cell_type": "code",
      "metadata": {
        "colab": {
          "base_uri": "https://localhost:8080/"
        },
        "id": "N4cxqvfHwFk9",
        "outputId": "241b5d0f-3e44-4072-faea-87e201e1d130"
      },
      "source": [
        "-((3/7) * math.log2(3/7) + (4/7) * math.log2(4/7)) - (4/7) * (-((3/4) * math.log2(3/4) + (1/4) * math.log2(1/4))) - (3/7) * (-((2/3) * math.log2(2/3) + (1/3) * math.log2(1/3)))"
      ],
      "execution_count": 28,
      "outputs": [
        {
          "output_type": "execute_result",
          "data": {
            "text/plain": [
              "0.12808527889139443"
            ]
          },
          "metadata": {},
          "execution_count": 28
        }
      ]
    },
    {
      "cell_type": "code",
      "metadata": {
        "collapsed": true,
        "id": "YuCXcZQPJeAy"
      },
      "source": [
        "np.seed = 7\n",
        "train_data = np.random.normal(size=(100, 2))\n",
        "train_labels = np.zeros(100)\n",
        "\n",
        "# добавляем второй класс\n",
        "train_data = np.r_[train_data, np.random.normal(size=(100, 2), loc=2)]\n",
        "train_labels = np.r_[train_labels, np.ones(100)]"
      ],
      "execution_count": 9,
      "outputs": []
    },
    {
      "cell_type": "code",
      "metadata": {
        "id": "nrwxioMLt84J",
        "colab": {
          "base_uri": "https://localhost:8080/",
          "height": 269
        },
        "outputId": "ed78c229-ccfe-496b-f632-337211877e11"
      },
      "source": [
        "df_train"
      ],
      "execution_count": 11,
      "outputs": [
        {
          "output_type": "execute_result",
          "data": {
            "text/html": [
              "<div>\n",
              "<style scoped>\n",
              "    .dataframe tbody tr th:only-of-type {\n",
              "        vertical-align: middle;\n",
              "    }\n",
              "\n",
              "    .dataframe tbody tr th {\n",
              "        vertical-align: top;\n",
              "    }\n",
              "\n",
              "    .dataframe thead th {\n",
              "        text-align: right;\n",
              "    }\n",
              "</style>\n",
              "<table border=\"1\" class=\"dataframe\">\n",
              "  <thead>\n",
              "    <tr style=\"text-align: right;\">\n",
              "      <th></th>\n",
              "      <th>Алкоголь_в_напитке_нет</th>\n",
              "      <th>Потраченные_деньги_много</th>\n",
              "      <th>Потраченные_деньги_мало</th>\n",
              "      <th>Уровень_красноречия_средний</th>\n",
              "      <th>Внешность_приятная</th>\n",
              "      <th>Алкоголь_в_напитке_да</th>\n",
              "      <th>Внешность_отталкивающая</th>\n",
              "      <th>Уровень_красноречия_высокий</th>\n",
              "    </tr>\n",
              "  </thead>\n",
              "  <tbody>\n",
              "    <tr>\n",
              "      <th>0</th>\n",
              "      <td>0</td>\n",
              "      <td>1</td>\n",
              "      <td>0</td>\n",
              "      <td>0</td>\n",
              "      <td>1</td>\n",
              "      <td>1</td>\n",
              "      <td>0</td>\n",
              "      <td>1</td>\n",
              "    </tr>\n",
              "    <tr>\n",
              "      <th>1</th>\n",
              "      <td>0</td>\n",
              "      <td>0</td>\n",
              "      <td>1</td>\n",
              "      <td>0</td>\n",
              "      <td>1</td>\n",
              "      <td>1</td>\n",
              "      <td>0</td>\n",
              "      <td>0</td>\n",
              "    </tr>\n",
              "    <tr>\n",
              "      <th>2</th>\n",
              "      <td>1</td>\n",
              "      <td>1</td>\n",
              "      <td>0</td>\n",
              "      <td>1</td>\n",
              "      <td>1</td>\n",
              "      <td>0</td>\n",
              "      <td>0</td>\n",
              "      <td>0</td>\n",
              "    </tr>\n",
              "    <tr>\n",
              "      <th>3</th>\n",
              "      <td>1</td>\n",
              "      <td>0</td>\n",
              "      <td>1</td>\n",
              "      <td>1</td>\n",
              "      <td>0</td>\n",
              "      <td>0</td>\n",
              "      <td>1</td>\n",
              "      <td>0</td>\n",
              "    </tr>\n",
              "    <tr>\n",
              "      <th>4</th>\n",
              "      <td>0</td>\n",
              "      <td>1</td>\n",
              "      <td>0</td>\n",
              "      <td>0</td>\n",
              "      <td>0</td>\n",
              "      <td>1</td>\n",
              "      <td>1</td>\n",
              "      <td>0</td>\n",
              "    </tr>\n",
              "    <tr>\n",
              "      <th>5</th>\n",
              "      <td>0</td>\n",
              "      <td>1</td>\n",
              "      <td>0</td>\n",
              "      <td>0</td>\n",
              "      <td>0</td>\n",
              "      <td>1</td>\n",
              "      <td>1</td>\n",
              "      <td>1</td>\n",
              "    </tr>\n",
              "    <tr>\n",
              "      <th>6</th>\n",
              "      <td>0</td>\n",
              "      <td>1</td>\n",
              "      <td>0</td>\n",
              "      <td>1</td>\n",
              "      <td>1</td>\n",
              "      <td>1</td>\n",
              "      <td>0</td>\n",
              "      <td>0</td>\n",
              "    </tr>\n",
              "  </tbody>\n",
              "</table>\n",
              "</div>"
            ],
            "text/plain": [
              "   Алкоголь_в_напитке_нет  ...  Уровень_красноречия_высокий\n",
              "0                       0  ...                            1\n",
              "1                       0  ...                            0\n",
              "2                       1  ...                            0\n",
              "3                       1  ...                            0\n",
              "4                       0  ...                            0\n",
              "5                       0  ...                            1\n",
              "6                       0  ...                            0\n",
              "\n",
              "[7 rows x 8 columns]"
            ]
          },
          "metadata": {},
          "execution_count": 11
        }
      ]
    },
    {
      "cell_type": "markdown",
      "metadata": {
        "id": "u1MjXSVyJeAy"
      },
      "source": [
        "**Постройте с помощью `sklearn` дерево решений, обучив его на обучающей выборке. Глубину можно не ограничивать.**"
      ]
    },
    {
      "cell_type": "code",
      "metadata": {
        "colab": {
          "base_uri": "https://localhost:8080/"
        },
        "id": "CVM53D0aDBNs",
        "outputId": "fe25a142-be52-4fb3-bf9a-335fc58fab37"
      },
      "source": [
        "dt = DecisionTreeClassifier(criterion='entropy', random_state=11)\n",
        "dt.fit(df_train, y)"
      ],
      "execution_count": 18,
      "outputs": [
        {
          "output_type": "execute_result",
          "data": {
            "text/plain": [
              "DecisionTreeClassifier(ccp_alpha=0.0, class_weight=None, criterion='entropy',\n",
              "                       max_depth=None, max_features=None, max_leaf_nodes=None,\n",
              "                       min_impurity_decrease=0.0, min_impurity_split=None,\n",
              "                       min_samples_leaf=1, min_samples_split=2,\n",
              "                       min_weight_fraction_leaf=0.0, presort='deprecated',\n",
              "                       random_state=11, splitter='best')"
            ]
          },
          "metadata": {},
          "execution_count": 18
        }
      ]
    },
    {
      "cell_type": "markdown",
      "metadata": {
        "id": "GRStlr_wJeAy"
      },
      "source": [
        "**Дополнительно: отобразите дерево с помощью graphviz. Можно использовать `pydot` или, например, [онлайн-сервис](https://www.coolutils.com/ru/online/DOT-to-PNG) dot2png.**"
      ]
    },
    {
      "cell_type": "code",
      "metadata": {
        "collapsed": true,
        "id": "STdyiU97JeAz",
        "colab": {
          "base_uri": "https://localhost:8080/",
          "height": 466
        },
        "outputId": "e5cb1c93-13b5-4baf-e3cd-002c42db8756"
      },
      "source": [
        "plot_tree(\n",
        "    dt, feature_names=df_train.columns, filled=True, class_names=[\"+\", \"-\"]\n",
        ");"
      ],
      "execution_count": 20,
      "outputs": [
        {
          "output_type": "display_data",
          "data": {
            "image/png": "[encoded data removed]",
            "text/plain": [
              "<Figure size 720x576 with 1 Axes>"
            ]
          },
          "metadata": {
            "needs_background": "light"
          }
        }
      ]
    },
    {
      "cell_type": "markdown",
      "metadata": {
        "id": "nVxulag7JeAz"
      },
      "source": [
        "## Часть 2. Функции для расчета энтропии и прироста информации"
      ]
    },
    {
      "cell_type": "markdown",
      "metadata": {
        "id": "26UlR6ylJeAz"
      },
      "source": [
        "Примерчик для проверки: 9 синих шариков и 11 желтых. Пусть шарик находится в состоянии \"1\", если он синий и \"0\" – если он желтый."
      ]
    },
    {
      "cell_type": "code",
      "metadata": {
        "collapsed": true,
        "id": "mvIRfmEGJeAz"
      },
      "source": [
        "balls = [1 for i in range(9)] + [0 for i in range(11)]"
      ],
      "execution_count": 29,
      "outputs": []
    },
    {
      "cell_type": "markdown",
      "metadata": {
        "id": "cpwV_lDEJeAz"
      },
      "source": [
        "![png](../../img/decision_tree3.png)"
      ]
    },
    {
      "cell_type": "markdown",
      "metadata": {
        "id": "bIycmsUvJeAz"
      },
      "source": [
        "Дальше пусть шарики разбиваются на 2 группы\n",
        "![png](../../img/decision_tree4.png)"
      ]
    },
    {
      "cell_type": "code",
      "metadata": {
        "collapsed": true,
        "id": "hQTyF_a1JeA0"
      },
      "source": [
        "# две группы\n",
        "balls_left  = [1 for i in range(8)] + [0 for i in range(5)] # 8 синих и 5 желтых\n",
        "balls_right = [1 for i in range(1)] + [0 for i in range(6)] # 1 синий и 6 желтых"
      ],
      "execution_count": 30,
      "outputs": []
    },
    {
      "cell_type": "markdown",
      "metadata": {
        "id": "xmHXo7dVJeA0"
      },
      "source": [
        "**Реализуйте функцию для расчета энтропии Шеннона.**"
      ]
    },
    {
      "cell_type": "code",
      "metadata": {
        "collapsed": true,
        "id": "ItnxEpiiJeA0"
      },
      "source": [
        "def entropy(a_list):\n",
        "  lst = list(a_list)\n",
        "  size = len(lst)\n",
        "  request = 0\n",
        "\n",
        "  for i in set(lst):\n",
        "      request -= lst.count(i) / size * math.log2(lst.count(i) / size)\n",
        "  return request"
      ],
      "execution_count": 35,
      "outputs": []
    },
    {
      "cell_type": "markdown",
      "metadata": {
        "id": "GDspy1fEJeA0"
      },
      "source": [
        "Проверка"
      ]
    },
    {
      "cell_type": "code",
      "metadata": {
        "collapsed": true,
        "id": "IQS8Vl15JeA0",
        "colab": {
          "base_uri": "https://localhost:8080/"
        },
        "outputId": "7841e024-5410-420a-de92-fe8f478bd09b"
      },
      "source": [
        "print(entropy(balls)) # 9 синих и 11 желтых\n",
        "print(entropy(balls_left)) # 8 синих и 5 желтых\n",
        "print(entropy(balls_right)) # 1 синий и 6 желтых\n",
        "print(entropy([1,2,3,4,5,6])) # энтропия игральной кости с несмещенным центром тяжести"
      ],
      "execution_count": 36,
      "outputs": [
        {
          "output_type": "stream",
          "name": "stdout",
          "text": [
            "0.9927744539878083\n",
            "0.9612366047228759\n",
            "0.5916727785823275\n",
            "2.584962500721156\n"
          ]
        }
      ]
    },
    {
      "cell_type": "markdown",
      "metadata": {
        "id": "lHW22RkdJeA0"
      },
      "source": [
        "<font color='red'>Вопрос 3.</font> Чему равна энтропия состояния, заданного списком `balls_left`?"
      ]
    },
    {
      "cell_type": "markdown",
      "metadata": {
        "id": "s425se0iJeA0"
      },
      "source": [
        "<font color='red'>Вопрос 4.</font> Чему равна энтропия игральной кости с несмещенным центром тяжести?"
      ]
    },
    {
      "cell_type": "code",
      "metadata": {
        "collapsed": true,
        "id": "L_Rl2ENcJeA1"
      },
      "source": [
        "# расчет прироста информации\n",
        "\n",
        "def information_gain(root, left, right):\n",
        "    ''' root - изначальный набор данных, left и right два разбиения изначального набора'''\n",
        "    \n",
        "    return (entropy(root) \n",
        "      - (len(left) / len(root)) * entropy(left) \n",
        "      - (len(right) / len(root)) * entropy(right))"
      ],
      "execution_count": 37,
      "outputs": []
    },
    {
      "cell_type": "markdown",
      "metadata": {
        "id": "B0OlsBFrJeA1"
      },
      "source": [
        "<font color='red'>Вопрос 5.  </font> Каков прирост информации при разделении выборки на `balls_left` и `balls_right`?"
      ]
    },
    {
      "cell_type": "code",
      "metadata": {
        "collapsed": true,
        "id": "B6XcHMLkJeA1",
        "colab": {
          "base_uri": "https://localhost:8080/"
        },
        "outputId": "c654b3e7-4538-4ebc-81b3-ca5febeb10db"
      },
      "source": [
        "information_gain(balls, balls_left, balls_right)"
      ],
      "execution_count": 38,
      "outputs": [
        {
          "output_type": "execute_result",
          "data": {
            "text/plain": [
              "0.16088518841412436"
            ]
          },
          "metadata": {},
          "execution_count": 38
        }
      ]
    },
    {
      "cell_type": "code",
      "metadata": {
        "collapsed": true,
        "id": "EWjSq-MnJeA1"
      },
      "source": [
        "def best_feature_to_split(X, y):\n",
        "    ''' Выводит прирост информации при разбиении по каждому признаку'''\n",
        "    \n",
        "    out = []\n",
        "\n",
        "    for i in X.columns:\n",
        "      out.append(information_gain(y, y[X[i] == 1], y[X[i] == 0]))\n",
        "    \n",
        "    return out"
      ],
      "execution_count": 48,
      "outputs": []
    },
    {
      "cell_type": "code",
      "metadata": {
        "colab": {
          "base_uri": "https://localhost:8080/"
        },
        "id": "Ujpf1TBf16JW",
        "outputId": "fa9feff6-b193-44ca-cb53-7baa998d0f4d"
      },
      "source": [
        "best_feature_to_split(df_train, y)"
      ],
      "execution_count": 49,
      "outputs": [
        {
          "output_type": "execute_result",
          "data": {
            "text/plain": [
              "[0.0059777114237740125,\n",
              " 0.46956521111470695,\n",
              " 0.46956521111470695,\n",
              " 0.020244207153756077,\n",
              " 0.12808527889139443,\n",
              " 0.0059777114237740125,\n",
              " 0.12808527889139443,\n",
              " 0.2916919971380597]"
            ]
          },
          "metadata": {},
          "execution_count": 49
        }
      ]
    },
    {
      "cell_type": "markdown",
      "metadata": {
        "id": "rksRIeuHJeA1"
      },
      "source": [
        "**Опционально:**\n",
        "\n",
        " - реализуйте алгоритм построения дерева за счет рекурсивного вызова функции `best_feature_to_split`\n",
        " - нарисуйте полученное дерево"
      ]
    },
    {
      "cell_type": "markdown",
      "metadata": {
        "id": "0bI9nDyvJeA1"
      },
      "source": [
        "## Часть 3. Набор данных \"Adult\""
      ]
    },
    {
      "cell_type": "markdown",
      "metadata": {
        "id": "9LqVsMfvJeA1"
      },
      "source": [
        "**Описание набора:**"
      ]
    },
    {
      "cell_type": "markdown",
      "metadata": {
        "id": "jrtIHbF4JeA2"
      },
      "source": [
        "**[Набор](http://archive.ics.uci.edu/ml/machine-learning-databases/adult) данных UCI Adult** (качать не надо, все есть в репозитории): классификация людей с помощью демографических данных для прогнозирования, зарабатывает ли человек более \\$ 50 000 в год.\n",
        "\n",
        "Описание признаков: \n",
        "\n",
        "**Age** – возраст, количественный признак  \n",
        "**Workclass** – тип работодателя, количественный признак  \n",
        "**fnlwgt** – итоговый вес обьекта, количественный признак    \n",
        "**Education** – уровень образования, качественный признак  \n",
        "**Education_Num** – количество лет обучения, количественный признак  \n",
        "**Martial_Status** – семейное положение, категориальный признак  \n",
        "**Occupation** – профессия, категориальный признак  \n",
        "**Relationship** – тип семейных отношений, категориальный признак    \n",
        "**Race** – раса, категориальный признак  \n",
        "**Sex** – пол, качественный признак  \n",
        "**Capital_Gain** – прирост капитала, количественный признак  \n",
        "**Capital_Loss** – потери капитала, количественный признак  \n",
        "**Hours_per_week** – количество часов работы в неделю, количественный признак  \n",
        "**Country** – страна, категориальный признак  \n",
        "   \n",
        "Целевая переменная: **Target** – уровень заработка, категориальный (бинарный) признак  "
      ]
    },
    {
      "cell_type": "markdown",
      "metadata": {
        "id": "jKxh9ec5JeA2"
      },
      "source": [
        "**Считываем обучающую и тестовую выборки.**"
      ]
    },
    {
      "cell_type": "code",
      "metadata": {
        "collapsed": true,
        "id": "gznNHgWGJeA2"
      },
      "source": [
        "data_train = pd.read_csv('../../data/adult_train.csv', sep=';') "
      ],
      "execution_count": null,
      "outputs": []
    },
    {
      "cell_type": "code",
      "metadata": {
        "id": "ZEWGfW47JeA2",
        "outputId": "b5eb64ce-2fe8-4536-e7a2-78e4d6e850cc"
      },
      "source": [
        "data_train.tail()"
      ],
      "execution_count": null,
      "outputs": [
        {
          "data": {
            "text/html": [
              "<div>\n",
              "<table border=\"1\" class=\"dataframe\">\n",
              "  <thead>\n",
              "    <tr style=\"text-align: right;\">\n",
              "      <th></th>\n",
              "      <th>Age</th>\n",
              "      <th>Workclass</th>\n",
              "      <th>fnlwgt</th>\n",
              "      <th>Education</th>\n",
              "      <th>Education_Num</th>\n",
              "      <th>Martial_Status</th>\n",
              "      <th>Occupation</th>\n",
              "      <th>Relationship</th>\n",
              "      <th>Race</th>\n",
              "      <th>Sex</th>\n",
              "      <th>Capital_Gain</th>\n",
              "      <th>Capital_Loss</th>\n",
              "      <th>Hours_per_week</th>\n",
              "      <th>Country</th>\n",
              "      <th>Target</th>\n",
              "    </tr>\n",
              "  </thead>\n",
              "  <tbody>\n",
              "    <tr>\n",
              "      <th>32556</th>\n",
              "      <td>27</td>\n",
              "      <td>Private</td>\n",
              "      <td>257302</td>\n",
              "      <td>Assoc-acdm</td>\n",
              "      <td>12</td>\n",
              "      <td>Married-civ-spouse</td>\n",
              "      <td>Tech-support</td>\n",
              "      <td>Wife</td>\n",
              "      <td>White</td>\n",
              "      <td>Female</td>\n",
              "      <td>0</td>\n",
              "      <td>0</td>\n",
              "      <td>38</td>\n",
              "      <td>United-States</td>\n",
              "      <td>&lt;=50K</td>\n",
              "    </tr>\n",
              "    <tr>\n",
              "      <th>32557</th>\n",
              "      <td>40</td>\n",
              "      <td>Private</td>\n",
              "      <td>154374</td>\n",
              "      <td>HS-grad</td>\n",
              "      <td>9</td>\n",
              "      <td>Married-civ-spouse</td>\n",
              "      <td>Machine-op-inspct</td>\n",
              "      <td>Husband</td>\n",
              "      <td>White</td>\n",
              "      <td>Male</td>\n",
              "      <td>0</td>\n",
              "      <td>0</td>\n",
              "      <td>40</td>\n",
              "      <td>United-States</td>\n",
              "      <td>&gt;50K</td>\n",
              "    </tr>\n",
              "    <tr>\n",
              "      <th>32558</th>\n",
              "      <td>58</td>\n",
              "      <td>Private</td>\n",
              "      <td>151910</td>\n",
              "      <td>HS-grad</td>\n",
              "      <td>9</td>\n",
              "      <td>Widowed</td>\n",
              "      <td>Adm-clerical</td>\n",
              "      <td>Unmarried</td>\n",
              "      <td>White</td>\n",
              "      <td>Female</td>\n",
              "      <td>0</td>\n",
              "      <td>0</td>\n",
              "      <td>40</td>\n",
              "      <td>United-States</td>\n",
              "      <td>&lt;=50K</td>\n",
              "    </tr>\n",
              "    <tr>\n",
              "      <th>32559</th>\n",
              "      <td>22</td>\n",
              "      <td>Private</td>\n",
              "      <td>201490</td>\n",
              "      <td>HS-grad</td>\n",
              "      <td>9</td>\n",
              "      <td>Never-married</td>\n",
              "      <td>Adm-clerical</td>\n",
              "      <td>Own-child</td>\n",
              "      <td>White</td>\n",
              "      <td>Male</td>\n",
              "      <td>0</td>\n",
              "      <td>0</td>\n",
              "      <td>20</td>\n",
              "      <td>United-States</td>\n",
              "      <td>&lt;=50K</td>\n",
              "    </tr>\n",
              "    <tr>\n",
              "      <th>32560</th>\n",
              "      <td>52</td>\n",
              "      <td>Self-emp-inc</td>\n",
              "      <td>287927</td>\n",
              "      <td>HS-grad</td>\n",
              "      <td>9</td>\n",
              "      <td>Married-civ-spouse</td>\n",
              "      <td>Exec-managerial</td>\n",
              "      <td>Wife</td>\n",
              "      <td>White</td>\n",
              "      <td>Female</td>\n",
              "      <td>15024</td>\n",
              "      <td>0</td>\n",
              "      <td>40</td>\n",
              "      <td>United-States</td>\n",
              "      <td>&gt;50K</td>\n",
              "    </tr>\n",
              "  </tbody>\n",
              "</table>\n",
              "</div>"
            ],
            "text/plain": [
              "       Age      Workclass  fnlwgt    Education  Education_Num  \\\n",
              "32556   27        Private  257302   Assoc-acdm             12   \n",
              "32557   40        Private  154374      HS-grad              9   \n",
              "32558   58        Private  151910      HS-grad              9   \n",
              "32559   22        Private  201490      HS-grad              9   \n",
              "32560   52   Self-emp-inc  287927      HS-grad              9   \n",
              "\n",
              "            Martial_Status          Occupation Relationship    Race      Sex  \\\n",
              "32556   Married-civ-spouse        Tech-support         Wife   White   Female   \n",
              "32557   Married-civ-spouse   Machine-op-inspct      Husband   White     Male   \n",
              "32558              Widowed        Adm-clerical    Unmarried   White   Female   \n",
              "32559        Never-married        Adm-clerical    Own-child   White     Male   \n",
              "32560   Married-civ-spouse     Exec-managerial         Wife   White   Female   \n",
              "\n",
              "       Capital_Gain  Capital_Loss  Hours_per_week         Country  Target  \n",
              "32556             0             0              38   United-States   <=50K  \n",
              "32557             0             0              40   United-States    >50K  \n",
              "32558             0             0              40   United-States   <=50K  \n",
              "32559             0             0              20   United-States   <=50K  \n",
              "32560         15024             0              40   United-States    >50K  "
            ]
          },
          "execution_count": 19,
          "metadata": {},
          "output_type": "execute_result"
        }
      ]
    },
    {
      "cell_type": "code",
      "metadata": {
        "collapsed": true,
        "id": "4p5hsYPzJeA2"
      },
      "source": [
        "data_test = pd.read_csv('../../data/adult_test.csv', sep=';') "
      ],
      "execution_count": null,
      "outputs": []
    },
    {
      "cell_type": "code",
      "metadata": {
        "id": "5XH2MAucJeA2",
        "outputId": "e08e6965-48d7-4a3a-89e0-dc141362beb4"
      },
      "source": [
        "data_test.tail()"
      ],
      "execution_count": null,
      "outputs": [
        {
          "data": {
            "text/html": [
              "<div>\n",
              "<table border=\"1\" class=\"dataframe\">\n",
              "  <thead>\n",
              "    <tr style=\"text-align: right;\">\n",
              "      <th></th>\n",
              "      <th>Age</th>\n",
              "      <th>Workclass</th>\n",
              "      <th>fnlwgt</th>\n",
              "      <th>Education</th>\n",
              "      <th>Education_Num</th>\n",
              "      <th>Martial_Status</th>\n",
              "      <th>Occupation</th>\n",
              "      <th>Relationship</th>\n",
              "      <th>Race</th>\n",
              "      <th>Sex</th>\n",
              "      <th>Capital_Gain</th>\n",
              "      <th>Capital_Loss</th>\n",
              "      <th>Hours_per_week</th>\n",
              "      <th>Country</th>\n",
              "      <th>Target</th>\n",
              "    </tr>\n",
              "  </thead>\n",
              "  <tbody>\n",
              "    <tr>\n",
              "      <th>16277</th>\n",
              "      <td>39</td>\n",
              "      <td>Private</td>\n",
              "      <td>215419.0</td>\n",
              "      <td>Bachelors</td>\n",
              "      <td>13.0</td>\n",
              "      <td>Divorced</td>\n",
              "      <td>Prof-specialty</td>\n",
              "      <td>Not-in-family</td>\n",
              "      <td>White</td>\n",
              "      <td>Female</td>\n",
              "      <td>0.0</td>\n",
              "      <td>0.0</td>\n",
              "      <td>36.0</td>\n",
              "      <td>United-States</td>\n",
              "      <td>&lt;=50K.</td>\n",
              "    </tr>\n",
              "    <tr>\n",
              "      <th>16278</th>\n",
              "      <td>64</td>\n",
              "      <td>NaN</td>\n",
              "      <td>321403.0</td>\n",
              "      <td>HS-grad</td>\n",
              "      <td>9.0</td>\n",
              "      <td>Widowed</td>\n",
              "      <td>NaN</td>\n",
              "      <td>Other-relative</td>\n",
              "      <td>Black</td>\n",
              "      <td>Male</td>\n",
              "      <td>0.0</td>\n",
              "      <td>0.0</td>\n",
              "      <td>40.0</td>\n",
              "      <td>United-States</td>\n",
              "      <td>&lt;=50K.</td>\n",
              "    </tr>\n",
              "    <tr>\n",
              "      <th>16279</th>\n",
              "      <td>38</td>\n",
              "      <td>Private</td>\n",
              "      <td>374983.0</td>\n",
              "      <td>Bachelors</td>\n",
              "      <td>13.0</td>\n",
              "      <td>Married-civ-spouse</td>\n",
              "      <td>Prof-specialty</td>\n",
              "      <td>Husband</td>\n",
              "      <td>White</td>\n",
              "      <td>Male</td>\n",
              "      <td>0.0</td>\n",
              "      <td>0.0</td>\n",
              "      <td>50.0</td>\n",
              "      <td>United-States</td>\n",
              "      <td>&lt;=50K.</td>\n",
              "    </tr>\n",
              "    <tr>\n",
              "      <th>16280</th>\n",
              "      <td>44</td>\n",
              "      <td>Private</td>\n",
              "      <td>83891.0</td>\n",
              "      <td>Bachelors</td>\n",
              "      <td>13.0</td>\n",
              "      <td>Divorced</td>\n",
              "      <td>Adm-clerical</td>\n",
              "      <td>Own-child</td>\n",
              "      <td>Asian-Pac-Islander</td>\n",
              "      <td>Male</td>\n",
              "      <td>5455.0</td>\n",
              "      <td>0.0</td>\n",
              "      <td>40.0</td>\n",
              "      <td>United-States</td>\n",
              "      <td>&lt;=50K.</td>\n",
              "    </tr>\n",
              "    <tr>\n",
              "      <th>16281</th>\n",
              "      <td>35</td>\n",
              "      <td>Self-emp-inc</td>\n",
              "      <td>182148.0</td>\n",
              "      <td>Bachelors</td>\n",
              "      <td>13.0</td>\n",
              "      <td>Married-civ-spouse</td>\n",
              "      <td>Exec-managerial</td>\n",
              "      <td>Husband</td>\n",
              "      <td>White</td>\n",
              "      <td>Male</td>\n",
              "      <td>0.0</td>\n",
              "      <td>0.0</td>\n",
              "      <td>60.0</td>\n",
              "      <td>United-States</td>\n",
              "      <td>&gt;50K.</td>\n",
              "    </tr>\n",
              "  </tbody>\n",
              "</table>\n",
              "</div>"
            ],
            "text/plain": [
              "      Age      Workclass    fnlwgt   Education  Education_Num  \\\n",
              "16277  39        Private  215419.0   Bachelors           13.0   \n",
              "16278  64            NaN  321403.0     HS-grad            9.0   \n",
              "16279  38        Private  374983.0   Bachelors           13.0   \n",
              "16280  44        Private   83891.0   Bachelors           13.0   \n",
              "16281  35   Self-emp-inc  182148.0   Bachelors           13.0   \n",
              "\n",
              "            Martial_Status        Occupation     Relationship  \\\n",
              "16277             Divorced    Prof-specialty    Not-in-family   \n",
              "16278              Widowed               NaN   Other-relative   \n",
              "16279   Married-civ-spouse    Prof-specialty          Husband   \n",
              "16280             Divorced      Adm-clerical        Own-child   \n",
              "16281   Married-civ-spouse   Exec-managerial          Husband   \n",
              "\n",
              "                      Race      Sex  Capital_Gain  Capital_Loss  \\\n",
              "16277                White   Female           0.0           0.0   \n",
              "16278                Black     Male           0.0           0.0   \n",
              "16279                White     Male           0.0           0.0   \n",
              "16280   Asian-Pac-Islander     Male        5455.0           0.0   \n",
              "16281                White     Male           0.0           0.0   \n",
              "\n",
              "       Hours_per_week         Country   Target  \n",
              "16277            36.0   United-States   <=50K.  \n",
              "16278            40.0   United-States   <=50K.  \n",
              "16279            50.0   United-States   <=50K.  \n",
              "16280            40.0   United-States   <=50K.  \n",
              "16281            60.0   United-States    >50K.  "
            ]
          },
          "execution_count": 21,
          "metadata": {},
          "output_type": "execute_result"
        }
      ]
    },
    {
      "cell_type": "code",
      "metadata": {
        "collapsed": true,
        "id": "ZzRMv2RbJeA2"
      },
      "source": [
        "# необходимо убрать строки с неправильными метками в тестовой выборке\n",
        "data_test = data_test[(data_test['Target'] == ' >50K.') \n",
        "                      | (data_test['Target']==' <=50K.')]\n",
        "\n",
        "# перекодируем target в числовое поле\n",
        "data_train.at[data_train['Target'] == ' <=50K', 'Target'] = 0\n",
        "data_train.at[data_train['Target'] == ' >50K', 'Target'] = 1\n",
        "\n",
        "data_test.at[data_test['Target'] == ' <=50K.', 'Target'] = 0\n",
        "data_test.at[data_test['Target'] == ' >50K.', 'Target'] = 1"
      ],
      "execution_count": null,
      "outputs": []
    },
    {
      "cell_type": "markdown",
      "metadata": {
        "id": "MKMBMYLEJeA3"
      },
      "source": [
        "**Первичный анализ данных.**"
      ]
    },
    {
      "cell_type": "code",
      "metadata": {
        "id": "quMl2s_fJeA3",
        "outputId": "92742b21-3455-42d1-9403-18e42795b7af"
      },
      "source": [
        "data_test.describe(include='all').T"
      ],
      "execution_count": null,
      "outputs": [
        {
          "data": {
            "text/html": [
              "<div>\n",
              "<table border=\"1\" class=\"dataframe\">\n",
              "  <thead>\n",
              "    <tr style=\"text-align: right;\">\n",
              "      <th></th>\n",
              "      <th>count</th>\n",
              "      <th>unique</th>\n",
              "      <th>top</th>\n",
              "      <th>freq</th>\n",
              "      <th>mean</th>\n",
              "      <th>std</th>\n",
              "      <th>min</th>\n",
              "      <th>25%</th>\n",
              "      <th>50%</th>\n",
              "      <th>75%</th>\n",
              "      <th>max</th>\n",
              "    </tr>\n",
              "  </thead>\n",
              "  <tbody>\n",
              "    <tr>\n",
              "      <th>Age</th>\n",
              "      <td>16281</td>\n",
              "      <td>73</td>\n",
              "      <td>35</td>\n",
              "      <td>461</td>\n",
              "      <td>NaN</td>\n",
              "      <td>NaN</td>\n",
              "      <td>NaN</td>\n",
              "      <td>NaN</td>\n",
              "      <td>NaN</td>\n",
              "      <td>NaN</td>\n",
              "      <td>NaN</td>\n",
              "    </tr>\n",
              "    <tr>\n",
              "      <th>Workclass</th>\n",
              "      <td>15318</td>\n",
              "      <td>8</td>\n",
              "      <td>Private</td>\n",
              "      <td>11210</td>\n",
              "      <td>NaN</td>\n",
              "      <td>NaN</td>\n",
              "      <td>NaN</td>\n",
              "      <td>NaN</td>\n",
              "      <td>NaN</td>\n",
              "      <td>NaN</td>\n",
              "      <td>NaN</td>\n",
              "    </tr>\n",
              "    <tr>\n",
              "      <th>fnlwgt</th>\n",
              "      <td>16281</td>\n",
              "      <td>NaN</td>\n",
              "      <td>NaN</td>\n",
              "      <td>NaN</td>\n",
              "      <td>189436</td>\n",
              "      <td>105715</td>\n",
              "      <td>13492</td>\n",
              "      <td>116736</td>\n",
              "      <td>177831</td>\n",
              "      <td>238384</td>\n",
              "      <td>1.4904e+06</td>\n",
              "    </tr>\n",
              "    <tr>\n",
              "      <th>Education</th>\n",
              "      <td>16281</td>\n",
              "      <td>16</td>\n",
              "      <td>HS-grad</td>\n",
              "      <td>5283</td>\n",
              "      <td>NaN</td>\n",
              "      <td>NaN</td>\n",
              "      <td>NaN</td>\n",
              "      <td>NaN</td>\n",
              "      <td>NaN</td>\n",
              "      <td>NaN</td>\n",
              "      <td>NaN</td>\n",
              "    </tr>\n",
              "    <tr>\n",
              "      <th>Education_Num</th>\n",
              "      <td>16281</td>\n",
              "      <td>NaN</td>\n",
              "      <td>NaN</td>\n",
              "      <td>NaN</td>\n",
              "      <td>10.0729</td>\n",
              "      <td>2.56755</td>\n",
              "      <td>1</td>\n",
              "      <td>9</td>\n",
              "      <td>10</td>\n",
              "      <td>12</td>\n",
              "      <td>16</td>\n",
              "    </tr>\n",
              "    <tr>\n",
              "      <th>Martial_Status</th>\n",
              "      <td>16281</td>\n",
              "      <td>7</td>\n",
              "      <td>Married-civ-spouse</td>\n",
              "      <td>7403</td>\n",
              "      <td>NaN</td>\n",
              "      <td>NaN</td>\n",
              "      <td>NaN</td>\n",
              "      <td>NaN</td>\n",
              "      <td>NaN</td>\n",
              "      <td>NaN</td>\n",
              "      <td>NaN</td>\n",
              "    </tr>\n",
              "    <tr>\n",
              "      <th>Occupation</th>\n",
              "      <td>15315</td>\n",
              "      <td>14</td>\n",
              "      <td>Prof-specialty</td>\n",
              "      <td>2032</td>\n",
              "      <td>NaN</td>\n",
              "      <td>NaN</td>\n",
              "      <td>NaN</td>\n",
              "      <td>NaN</td>\n",
              "      <td>NaN</td>\n",
              "      <td>NaN</td>\n",
              "      <td>NaN</td>\n",
              "    </tr>\n",
              "    <tr>\n",
              "      <th>Relationship</th>\n",
              "      <td>16281</td>\n",
              "      <td>6</td>\n",
              "      <td>Husband</td>\n",
              "      <td>6523</td>\n",
              "      <td>NaN</td>\n",
              "      <td>NaN</td>\n",
              "      <td>NaN</td>\n",
              "      <td>NaN</td>\n",
              "      <td>NaN</td>\n",
              "      <td>NaN</td>\n",
              "      <td>NaN</td>\n",
              "    </tr>\n",
              "    <tr>\n",
              "      <th>Race</th>\n",
              "      <td>16281</td>\n",
              "      <td>5</td>\n",
              "      <td>White</td>\n",
              "      <td>13946</td>\n",
              "      <td>NaN</td>\n",
              "      <td>NaN</td>\n",
              "      <td>NaN</td>\n",
              "      <td>NaN</td>\n",
              "      <td>NaN</td>\n",
              "      <td>NaN</td>\n",
              "      <td>NaN</td>\n",
              "    </tr>\n",
              "    <tr>\n",
              "      <th>Sex</th>\n",
              "      <td>16281</td>\n",
              "      <td>2</td>\n",
              "      <td>Male</td>\n",
              "      <td>10860</td>\n",
              "      <td>NaN</td>\n",
              "      <td>NaN</td>\n",
              "      <td>NaN</td>\n",
              "      <td>NaN</td>\n",
              "      <td>NaN</td>\n",
              "      <td>NaN</td>\n",
              "      <td>NaN</td>\n",
              "    </tr>\n",
              "    <tr>\n",
              "      <th>Capital_Gain</th>\n",
              "      <td>16281</td>\n",
              "      <td>NaN</td>\n",
              "      <td>NaN</td>\n",
              "      <td>NaN</td>\n",
              "      <td>1081.91</td>\n",
              "      <td>7583.94</td>\n",
              "      <td>0</td>\n",
              "      <td>0</td>\n",
              "      <td>0</td>\n",
              "      <td>0</td>\n",
              "      <td>99999</td>\n",
              "    </tr>\n",
              "    <tr>\n",
              "      <th>Capital_Loss</th>\n",
              "      <td>16281</td>\n",
              "      <td>NaN</td>\n",
              "      <td>NaN</td>\n",
              "      <td>NaN</td>\n",
              "      <td>87.8993</td>\n",
              "      <td>403.105</td>\n",
              "      <td>0</td>\n",
              "      <td>0</td>\n",
              "      <td>0</td>\n",
              "      <td>0</td>\n",
              "      <td>3770</td>\n",
              "    </tr>\n",
              "    <tr>\n",
              "      <th>Hours_per_week</th>\n",
              "      <td>16281</td>\n",
              "      <td>NaN</td>\n",
              "      <td>NaN</td>\n",
              "      <td>NaN</td>\n",
              "      <td>40.3922</td>\n",
              "      <td>12.4793</td>\n",
              "      <td>1</td>\n",
              "      <td>40</td>\n",
              "      <td>40</td>\n",
              "      <td>45</td>\n",
              "      <td>99</td>\n",
              "    </tr>\n",
              "    <tr>\n",
              "      <th>Country</th>\n",
              "      <td>16007</td>\n",
              "      <td>40</td>\n",
              "      <td>United-States</td>\n",
              "      <td>14662</td>\n",
              "      <td>NaN</td>\n",
              "      <td>NaN</td>\n",
              "      <td>NaN</td>\n",
              "      <td>NaN</td>\n",
              "      <td>NaN</td>\n",
              "      <td>NaN</td>\n",
              "      <td>NaN</td>\n",
              "    </tr>\n",
              "    <tr>\n",
              "      <th>Target</th>\n",
              "      <td>16281</td>\n",
              "      <td>2</td>\n",
              "      <td>0</td>\n",
              "      <td>12435</td>\n",
              "      <td>NaN</td>\n",
              "      <td>NaN</td>\n",
              "      <td>NaN</td>\n",
              "      <td>NaN</td>\n",
              "      <td>NaN</td>\n",
              "      <td>NaN</td>\n",
              "      <td>NaN</td>\n",
              "    </tr>\n",
              "  </tbody>\n",
              "</table>\n",
              "</div>"
            ],
            "text/plain": [
              "                count unique                  top   freq     mean      std  \\\n",
              "Age             16281     73                   35    461      NaN      NaN   \n",
              "Workclass       15318      8              Private  11210      NaN      NaN   \n",
              "fnlwgt          16281    NaN                  NaN    NaN   189436   105715   \n",
              "Education       16281     16              HS-grad   5283      NaN      NaN   \n",
              "Education_Num   16281    NaN                  NaN    NaN  10.0729  2.56755   \n",
              "Martial_Status  16281      7   Married-civ-spouse   7403      NaN      NaN   \n",
              "Occupation      15315     14       Prof-specialty   2032      NaN      NaN   \n",
              "Relationship    16281      6              Husband   6523      NaN      NaN   \n",
              "Race            16281      5                White  13946      NaN      NaN   \n",
              "Sex             16281      2                 Male  10860      NaN      NaN   \n",
              "Capital_Gain    16281    NaN                  NaN    NaN  1081.91  7583.94   \n",
              "Capital_Loss    16281    NaN                  NaN    NaN  87.8993  403.105   \n",
              "Hours_per_week  16281    NaN                  NaN    NaN  40.3922  12.4793   \n",
              "Country         16007     40        United-States  14662      NaN      NaN   \n",
              "Target          16281      2                    0  12435      NaN      NaN   \n",
              "\n",
              "                  min     25%     50%     75%         max  \n",
              "Age               NaN     NaN     NaN     NaN         NaN  \n",
              "Workclass         NaN     NaN     NaN     NaN         NaN  \n",
              "fnlwgt          13492  116736  177831  238384  1.4904e+06  \n",
              "Education         NaN     NaN     NaN     NaN         NaN  \n",
              "Education_Num       1       9      10      12          16  \n",
              "Martial_Status    NaN     NaN     NaN     NaN         NaN  \n",
              "Occupation        NaN     NaN     NaN     NaN         NaN  \n",
              "Relationship      NaN     NaN     NaN     NaN         NaN  \n",
              "Race              NaN     NaN     NaN     NaN         NaN  \n",
              "Sex               NaN     NaN     NaN     NaN         NaN  \n",
              "Capital_Gain        0       0       0       0       99999  \n",
              "Capital_Loss        0       0       0       0        3770  \n",
              "Hours_per_week      1      40      40      45          99  \n",
              "Country           NaN     NaN     NaN     NaN         NaN  \n",
              "Target            NaN     NaN     NaN     NaN         NaN  "
            ]
          },
          "execution_count": 23,
          "metadata": {},
          "output_type": "execute_result"
        }
      ]
    },
    {
      "cell_type": "code",
      "metadata": {
        "id": "FaF1q9ZCJeA3",
        "outputId": "777dcd6f-4367-4067-92e3-6993dbadd91d"
      },
      "source": [
        "data_train['Target'].value_counts()"
      ],
      "execution_count": null,
      "outputs": [
        {
          "data": {
            "text/plain": [
              "0    24720\n",
              "1     7841\n",
              "Name: Target, dtype: int64"
            ]
          },
          "execution_count": 24,
          "metadata": {},
          "output_type": "execute_result"
        }
      ]
    },
    {
      "cell_type": "code",
      "metadata": {
        "id": "CGi6qpN5JeA3",
        "outputId": "2730c4d0-bff1-44e1-8219-ccf675951f90"
      },
      "source": [
        "fig = plt.figure(figsize=(25, 15))\n",
        "cols = 5\n",
        "rows = np.ceil(float(data_train.shape[1]) / cols)\n",
        "for i, column in enumerate(data_train.columns):\n",
        "    ax = fig.add_subplot(rows, cols, i + 1)\n",
        "    ax.set_title(column)\n",
        "    if data_train.dtypes[column] == np.object:\n",
        "        data_train[column].value_counts().plot(kind=\"bar\", axes=ax)\n",
        "    else:\n",
        "        data_train[column].hist(axes=ax)\n",
        "        plt.xticks(rotation=\"vertical\")\n",
        "plt.subplots_adjust(hspace=0.7, wspace=0.2)"
      ],
      "execution_count": null,
      "outputs": [
        {
          "data": {
            "image/png": "[encoded data removed]",
            "text/plain": [
              "<matplotlib.figure.Figure at 0x1154e5048>"
            ]
          },
          "metadata": {},
          "output_type": "display_data"
        }
      ]
    },
    {
      "cell_type": "markdown",
      "metadata": {
        "id": "Ve74Ugp_JeA4"
      },
      "source": [
        "**Проверяем типы данных**"
      ]
    },
    {
      "cell_type": "code",
      "metadata": {
        "id": "oimhn3TEJeA4",
        "outputId": "ddaef3a1-4ff2-472d-fe34-58f68c82bc23"
      },
      "source": [
        "data_train.dtypes"
      ],
      "execution_count": null,
      "outputs": [
        {
          "data": {
            "text/plain": [
              "Age                int64\n",
              "Workclass         object\n",
              "fnlwgt             int64\n",
              "Education         object\n",
              "Education_Num      int64\n",
              "Martial_Status    object\n",
              "Occupation        object\n",
              "Relationship      object\n",
              "Race              object\n",
              "Sex               object\n",
              "Capital_Gain       int64\n",
              "Capital_Loss       int64\n",
              "Hours_per_week     int64\n",
              "Country           object\n",
              "Target            object\n",
              "dtype: object"
            ]
          },
          "execution_count": 26,
          "metadata": {},
          "output_type": "execute_result"
        }
      ]
    },
    {
      "cell_type": "code",
      "metadata": {
        "id": "tDBZmprWJeA4",
        "outputId": "35e69c27-0dbe-4f20-8e58-6f9f13f29a5b"
      },
      "source": [
        "data_test.dtypes"
      ],
      "execution_count": null,
      "outputs": [
        {
          "data": {
            "text/plain": [
              "Age                object\n",
              "Workclass          object\n",
              "fnlwgt            float64\n",
              "Education          object\n",
              "Education_Num     float64\n",
              "Martial_Status     object\n",
              "Occupation         object\n",
              "Relationship       object\n",
              "Race               object\n",
              "Sex                object\n",
              "Capital_Gain      float64\n",
              "Capital_Loss      float64\n",
              "Hours_per_week    float64\n",
              "Country            object\n",
              "Target             object\n",
              "dtype: object"
            ]
          },
          "execution_count": 27,
          "metadata": {},
          "output_type": "execute_result"
        }
      ]
    },
    {
      "cell_type": "markdown",
      "metadata": {
        "id": "K9UNmBjJJeA4"
      },
      "source": [
        "Выяснилось, что в тесте возраст отнесен к типу object, необходимо это исправить."
      ]
    },
    {
      "cell_type": "code",
      "metadata": {
        "collapsed": true,
        "id": "RWLjpfQfJeA4"
      },
      "source": [
        "data_test['Age'] = data_test['Age'].astype(int)"
      ],
      "execution_count": null,
      "outputs": []
    },
    {
      "cell_type": "markdown",
      "metadata": {
        "id": "V8nnm5pCJeA5"
      },
      "source": [
        "Также приведем показатели типа float в int для соответствия train и test выборок."
      ]
    },
    {
      "cell_type": "code",
      "metadata": {
        "collapsed": true,
        "id": "tjAw_Mb0JeA5"
      },
      "source": [
        "data_test['fnlwgt'] = data_test['fnlwgt'].astype(int)\n",
        "data_test['Education_Num'] = data_test['Education_Num'].astype(int)\n",
        "data_test['Capital_Gain'] = data_test['Capital_Gain'].astype(int)\n",
        "data_test['Capital_Loss'] = data_test['Capital_Loss'].astype(int)\n",
        "data_test['Hours_per_week'] = data_test['Hours_per_week'].astype(int)"
      ],
      "execution_count": null,
      "outputs": []
    },
    {
      "cell_type": "markdown",
      "metadata": {
        "id": "hri5s7ZAJeA5"
      },
      "source": [
        "**Заполним пропуски в количественных полях медианными значениями, а в категориальных – наиболее часто встречающимся значением**"
      ]
    },
    {
      "cell_type": "code",
      "metadata": {
        "id": "EdON39-UJeA5",
        "outputId": "db5cb63c-96aa-47b9-85c7-eadf42bcec72"
      },
      "source": [
        "# выделим в выборках категориальные и числовые поля\n",
        "\n",
        "categorical_columns_train = [c for c in data_train.columns \n",
        "                             if data_train[c].dtype.name == 'object']\n",
        "numerical_columns_train = [c for c in data_train.columns \n",
        "                           if data_train[c].dtype.name != 'object']\n",
        "\n",
        "categorical_columns_test = [c for c in data_test.columns \n",
        "                            if data_test[c].dtype.name == 'object']\n",
        "numerical_columns_test = [c for c in data_test.columns \n",
        "                          if data_test[c].dtype.name != 'object']\n",
        "\n",
        "print('categorical_columns_test:', categorical_columns_test)\n",
        "print('categorical_columns_train:', categorical_columns_train)\n",
        "print('numerical_columns_test:', numerical_columns_test)\n",
        "print('numerical_columns_train:', numerical_columns_train)"
      ],
      "execution_count": null,
      "outputs": [
        {
          "name": "stdout",
          "output_type": "stream",
          "text": [
            "categorical_columns_test: ['Workclass', 'Education', 'Martial_Status', 'Occupation', 'Relationship', 'Race', 'Sex', 'Country', 'Target']\n",
            "categorical_columns_train: ['Workclass', 'Education', 'Martial_Status', 'Occupation', 'Relationship', 'Race', 'Sex', 'Country', 'Target']\n",
            "numerical_columns_test: ['Age', 'fnlwgt', 'Education_Num', 'Capital_Gain', 'Capital_Loss', 'Hours_per_week']\n",
            "numerical_columns_train: ['Age', 'fnlwgt', 'Education_Num', 'Capital_Gain', 'Capital_Loss', 'Hours_per_week']\n"
          ]
        }
      ]
    },
    {
      "cell_type": "code",
      "metadata": {
        "collapsed": true,
        "id": "neJhXr4QJeA5"
      },
      "source": [
        "# заполним пропуски\n",
        "\n",
        "for c in categorical_columns_train:\n",
        "    data_train[c] = data_train[c].fillna(data_train[c].mode())\n",
        "for c in categorical_columns_test:\n",
        "    data_test[c] = data_test[c].fillna(data_train[c].mode())\n",
        "    \n",
        "for c in numerical_columns_train:\n",
        "    data_train[c] = data_train[c].fillna(data_train[c].median())\n",
        "for c in numerical_columns_test:\n",
        "    data_test[c] = data_test[c].fillna(data_train[c].median())    "
      ],
      "execution_count": null,
      "outputs": []
    },
    {
      "cell_type": "markdown",
      "metadata": {
        "id": "ksmDou4GJeA5"
      },
      "source": [
        "**Кодируем категориальные признаки 'Workclass', 'Education', 'Martial_Status', 'Occupation', 'Relationship', 'Race', 'Sex', 'Country'. Это можно сделать с помощью метода `pandas get_dummies`.**"
      ]
    },
    {
      "cell_type": "code",
      "metadata": {
        "collapsed": true,
        "id": "TWiLSDaiJeA5"
      },
      "source": [
        "data_train = pd.concat([data_train, pd.get_dummies(data_train['Workclass'], \n",
        "                                                   prefix=\"Workclass\"),\n",
        "                      pd.get_dummies(data_train['Education'], prefix=\"Education\"),\n",
        "                      pd.get_dummies(data_train['Martial_Status'], prefix=\"Martial_Status\"),\n",
        "                      pd.get_dummies(data_train['Occupation'], prefix=\"Occupation\"),\n",
        "                      pd.get_dummies(data_train['Relationship'], prefix=\"Relationship\"),\n",
        "                      pd.get_dummies(data_train['Race'], prefix=\"Race\"),\n",
        "                      pd.get_dummies(data_train['Sex'], prefix=\"Sex\"),\n",
        "                      pd.get_dummies(data_train['Country'], prefix=\"Country\")],\n",
        "                     axis=1)\n",
        "\n",
        "data_test = pd.concat([data_test, pd.get_dummies(data_test['Workclass'], prefix=\"Workclass\"),\n",
        "                      pd.get_dummies(data_test['Education'], prefix=\"Education\"),\n",
        "                      pd.get_dummies(data_test['Martial_Status'], prefix=\"Martial_Status\"),\n",
        "                      pd.get_dummies(data_test['Occupation'], prefix=\"Occupation\"),\n",
        "                      pd.get_dummies(data_test['Relationship'], prefix=\"Relationship\"),\n",
        "                      pd.get_dummies(data_test['Race'], prefix=\"Race\"),\n",
        "                      pd.get_dummies(data_test['Sex'], prefix=\"Sex\"),\n",
        "                      pd.get_dummies(data_test['Country'], prefix=\"Country\")],\n",
        "                     axis=1)"
      ],
      "execution_count": null,
      "outputs": []
    },
    {
      "cell_type": "code",
      "metadata": {
        "collapsed": true,
        "id": "FblOOZHSJeA6"
      },
      "source": [
        "data_train.drop(['Workclass', 'Education', 'Martial_Status',\n",
        "                 'Occupation', 'Relationship', 'Race', 'Sex', 'Country'],\n",
        "                axis=1, inplace=True)\n",
        "data_test.drop(['Workclass', 'Education', 'Martial_Status', 'Occupation', \n",
        "                'Relationship', 'Race', 'Sex', 'Country'],\n",
        "               axis=1, inplace=True)"
      ],
      "execution_count": null,
      "outputs": []
    },
    {
      "cell_type": "code",
      "metadata": {
        "id": "MUgTAaZ_JeA6",
        "outputId": "9275ce9f-0f94-4785-bd2c-1b770501116b"
      },
      "source": [
        "data_test.describe(include='all').T"
      ],
      "execution_count": null,
      "outputs": [
        {
          "data": {
            "text/html": [
              "<div>\n",
              "<table border=\"1\" class=\"dataframe\">\n",
              "  <thead>\n",
              "    <tr style=\"text-align: right;\">\n",
              "      <th></th>\n",
              "      <th>count</th>\n",
              "      <th>mean</th>\n",
              "      <th>std</th>\n",
              "      <th>min</th>\n",
              "      <th>25%</th>\n",
              "      <th>50%</th>\n",
              "      <th>75%</th>\n",
              "      <th>max</th>\n",
              "    </tr>\n",
              "  </thead>\n",
              "  <tbody>\n",
              "    <tr>\n",
              "      <th>Age</th>\n",
              "      <td>16281.0</td>\n",
              "      <td>38.767459</td>\n",
              "      <td>13.849187</td>\n",
              "      <td>17.0</td>\n",
              "      <td>28.0</td>\n",
              "      <td>37.0</td>\n",
              "      <td>48.0</td>\n",
              "      <td>90.0</td>\n",
              "    </tr>\n",
              "    <tr>\n",
              "      <th>fnlwgt</th>\n",
              "      <td>16281.0</td>\n",
              "      <td>189435.677784</td>\n",
              "      <td>105714.907671</td>\n",
              "      <td>13492.0</td>\n",
              "      <td>116736.0</td>\n",
              "      <td>177831.0</td>\n",
              "      <td>238384.0</td>\n",
              "      <td>1490400.0</td>\n",
              "    </tr>\n",
              "    <tr>\n",
              "      <th>Education_Num</th>\n",
              "      <td>16281.0</td>\n",
              "      <td>10.072907</td>\n",
              "      <td>2.567545</td>\n",
              "      <td>1.0</td>\n",
              "      <td>9.0</td>\n",
              "      <td>10.0</td>\n",
              "      <td>12.0</td>\n",
              "      <td>16.0</td>\n",
              "    </tr>\n",
              "    <tr>\n",
              "      <th>Capital_Gain</th>\n",
              "      <td>16281.0</td>\n",
              "      <td>1081.905104</td>\n",
              "      <td>7583.935968</td>\n",
              "      <td>0.0</td>\n",
              "      <td>0.0</td>\n",
              "      <td>0.0</td>\n",
              "      <td>0.0</td>\n",
              "      <td>99999.0</td>\n",
              "    </tr>\n",
              "    <tr>\n",
              "      <th>Capital_Loss</th>\n",
              "      <td>16281.0</td>\n",
              "      <td>87.899269</td>\n",
              "      <td>403.105286</td>\n",
              "      <td>0.0</td>\n",
              "      <td>0.0</td>\n",
              "      <td>0.0</td>\n",
              "      <td>0.0</td>\n",
              "      <td>3770.0</td>\n",
              "    </tr>\n",
              "    <tr>\n",
              "      <th>Hours_per_week</th>\n",
              "      <td>16281.0</td>\n",
              "      <td>40.392236</td>\n",
              "      <td>12.479332</td>\n",
              "      <td>1.0</td>\n",
              "      <td>40.0</td>\n",
              "      <td>40.0</td>\n",
              "      <td>45.0</td>\n",
              "      <td>99.0</td>\n",
              "    </tr>\n",
              "    <tr>\n",
              "      <th>Target</th>\n",
              "      <td>16281.0</td>\n",
              "      <td>0.236226</td>\n",
              "      <td>0.424776</td>\n",
              "      <td>0.0</td>\n",
              "      <td>0.0</td>\n",
              "      <td>0.0</td>\n",
              "      <td>0.0</td>\n",
              "      <td>1.0</td>\n",
              "    </tr>\n",
              "    <tr>\n",
              "      <th>Workclass_ Federal-gov</th>\n",
              "      <td>16281.0</td>\n",
              "      <td>0.028991</td>\n",
              "      <td>0.167786</td>\n",
              "      <td>0.0</td>\n",
              "      <td>0.0</td>\n",
              "      <td>0.0</td>\n",
              "      <td>0.0</td>\n",
              "      <td>1.0</td>\n",
              "    </tr>\n",
              "    <tr>\n",
              "      <th>Workclass_ Local-gov</th>\n",
              "      <td>16281.0</td>\n",
              "      <td>0.064062</td>\n",
              "      <td>0.244872</td>\n",
              "      <td>0.0</td>\n",
              "      <td>0.0</td>\n",
              "      <td>0.0</td>\n",
              "      <td>0.0</td>\n",
              "      <td>1.0</td>\n",
              "    </tr>\n",
              "    <tr>\n",
              "      <th>Workclass_ Never-worked</th>\n",
              "      <td>16281.0</td>\n",
              "      <td>0.000184</td>\n",
              "      <td>0.013574</td>\n",
              "      <td>0.0</td>\n",
              "      <td>0.0</td>\n",
              "      <td>0.0</td>\n",
              "      <td>0.0</td>\n",
              "      <td>1.0</td>\n",
              "    </tr>\n",
              "    <tr>\n",
              "      <th>Workclass_ Private</th>\n",
              "      <td>16281.0</td>\n",
              "      <td>0.747681</td>\n",
              "      <td>0.434356</td>\n",
              "      <td>0.0</td>\n",
              "      <td>0.0</td>\n",
              "      <td>1.0</td>\n",
              "      <td>1.0</td>\n",
              "      <td>1.0</td>\n",
              "    </tr>\n",
              "    <tr>\n",
              "      <th>Workclass_ Self-emp-inc</th>\n",
              "      <td>16281.0</td>\n",
              "      <td>0.035563</td>\n",
              "      <td>0.185203</td>\n",
              "      <td>0.0</td>\n",
              "      <td>0.0</td>\n",
              "      <td>0.0</td>\n",
              "      <td>0.0</td>\n",
              "      <td>1.0</td>\n",
              "    </tr>\n",
              "    <tr>\n",
              "      <th>Workclass_ Self-emp-not-inc</th>\n",
              "      <td>16281.0</td>\n",
              "      <td>0.081138</td>\n",
              "      <td>0.273055</td>\n",
              "      <td>0.0</td>\n",
              "      <td>0.0</td>\n",
              "      <td>0.0</td>\n",
              "      <td>0.0</td>\n",
              "      <td>1.0</td>\n",
              "    </tr>\n",
              "    <tr>\n",
              "      <th>Workclass_ State-gov</th>\n",
              "      <td>16281.0</td>\n",
              "      <td>0.041951</td>\n",
              "      <td>0.200483</td>\n",
              "      <td>0.0</td>\n",
              "      <td>0.0</td>\n",
              "      <td>0.0</td>\n",
              "      <td>0.0</td>\n",
              "      <td>1.0</td>\n",
              "    </tr>\n",
              "    <tr>\n",
              "      <th>Workclass_ Without-pay</th>\n",
              "      <td>16281.0</td>\n",
              "      <td>0.000430</td>\n",
              "      <td>0.020731</td>\n",
              "      <td>0.0</td>\n",
              "      <td>0.0</td>\n",
              "      <td>0.0</td>\n",
              "      <td>0.0</td>\n",
              "      <td>1.0</td>\n",
              "    </tr>\n",
              "    <tr>\n",
              "      <th>Education_ 10th</th>\n",
              "      <td>16281.0</td>\n",
              "      <td>0.028008</td>\n",
              "      <td>0.165001</td>\n",
              "      <td>0.0</td>\n",
              "      <td>0.0</td>\n",
              "      <td>0.0</td>\n",
              "      <td>0.0</td>\n",
              "      <td>1.0</td>\n",
              "    </tr>\n",
              "    <tr>\n",
              "      <th>Education_ 11th</th>\n",
              "      <td>16281.0</td>\n",
              "      <td>0.039125</td>\n",
              "      <td>0.193899</td>\n",
              "      <td>0.0</td>\n",
              "      <td>0.0</td>\n",
              "      <td>0.0</td>\n",
              "      <td>0.0</td>\n",
              "      <td>1.0</td>\n",
              "    </tr>\n",
              "    <tr>\n",
              "      <th>Education_ 12th</th>\n",
              "      <td>16281.0</td>\n",
              "      <td>0.013758</td>\n",
              "      <td>0.116490</td>\n",
              "      <td>0.0</td>\n",
              "      <td>0.0</td>\n",
              "      <td>0.0</td>\n",
              "      <td>0.0</td>\n",
              "      <td>1.0</td>\n",
              "    </tr>\n",
              "    <tr>\n",
              "      <th>Education_ 1st-4th</th>\n",
              "      <td>16281.0</td>\n",
              "      <td>0.004852</td>\n",
              "      <td>0.069491</td>\n",
              "      <td>0.0</td>\n",
              "      <td>0.0</td>\n",
              "      <td>0.0</td>\n",
              "      <td>0.0</td>\n",
              "      <td>1.0</td>\n",
              "    </tr>\n",
              "    <tr>\n",
              "      <th>Education_ 5th-6th</th>\n",
              "      <td>16281.0</td>\n",
              "      <td>0.010810</td>\n",
              "      <td>0.103412</td>\n",
              "      <td>0.0</td>\n",
              "      <td>0.0</td>\n",
              "      <td>0.0</td>\n",
              "      <td>0.0</td>\n",
              "      <td>1.0</td>\n",
              "    </tr>\n",
              "    <tr>\n",
              "      <th>Education_ 7th-8th</th>\n",
              "      <td>16281.0</td>\n",
              "      <td>0.018979</td>\n",
              "      <td>0.136456</td>\n",
              "      <td>0.0</td>\n",
              "      <td>0.0</td>\n",
              "      <td>0.0</td>\n",
              "      <td>0.0</td>\n",
              "      <td>1.0</td>\n",
              "    </tr>\n",
              "    <tr>\n",
              "      <th>Education_ 9th</th>\n",
              "      <td>16281.0</td>\n",
              "      <td>0.014864</td>\n",
              "      <td>0.121012</td>\n",
              "      <td>0.0</td>\n",
              "      <td>0.0</td>\n",
              "      <td>0.0</td>\n",
              "      <td>0.0</td>\n",
              "      <td>1.0</td>\n",
              "    </tr>\n",
              "    <tr>\n",
              "      <th>Education_ Assoc-acdm</th>\n",
              "      <td>16281.0</td>\n",
              "      <td>0.032799</td>\n",
              "      <td>0.178116</td>\n",
              "      <td>0.0</td>\n",
              "      <td>0.0</td>\n",
              "      <td>0.0</td>\n",
              "      <td>0.0</td>\n",
              "      <td>1.0</td>\n",
              "    </tr>\n",
              "    <tr>\n",
              "      <th>Education_ Assoc-voc</th>\n",
              "      <td>16281.0</td>\n",
              "      <td>0.041705</td>\n",
              "      <td>0.199920</td>\n",
              "      <td>0.0</td>\n",
              "      <td>0.0</td>\n",
              "      <td>0.0</td>\n",
              "      <td>0.0</td>\n",
              "      <td>1.0</td>\n",
              "    </tr>\n",
              "    <tr>\n",
              "      <th>Education_ Bachelors</th>\n",
              "      <td>16281.0</td>\n",
              "      <td>0.163995</td>\n",
              "      <td>0.370282</td>\n",
              "      <td>0.0</td>\n",
              "      <td>0.0</td>\n",
              "      <td>0.0</td>\n",
              "      <td>0.0</td>\n",
              "      <td>1.0</td>\n",
              "    </tr>\n",
              "    <tr>\n",
              "      <th>Education_ Doctorate</th>\n",
              "      <td>16281.0</td>\n",
              "      <td>0.011117</td>\n",
              "      <td>0.104854</td>\n",
              "      <td>0.0</td>\n",
              "      <td>0.0</td>\n",
              "      <td>0.0</td>\n",
              "      <td>0.0</td>\n",
              "      <td>1.0</td>\n",
              "    </tr>\n",
              "    <tr>\n",
              "      <th>Education_ HS-grad</th>\n",
              "      <td>16281.0</td>\n",
              "      <td>0.324489</td>\n",
              "      <td>0.468198</td>\n",
              "      <td>0.0</td>\n",
              "      <td>0.0</td>\n",
              "      <td>0.0</td>\n",
              "      <td>1.0</td>\n",
              "      <td>1.0</td>\n",
              "    </tr>\n",
              "    <tr>\n",
              "      <th>Education_ Masters</th>\n",
              "      <td>16281.0</td>\n",
              "      <td>0.057367</td>\n",
              "      <td>0.232551</td>\n",
              "      <td>0.0</td>\n",
              "      <td>0.0</td>\n",
              "      <td>0.0</td>\n",
              "      <td>0.0</td>\n",
              "      <td>1.0</td>\n",
              "    </tr>\n",
              "    <tr>\n",
              "      <th>Education_ Preschool</th>\n",
              "      <td>16281.0</td>\n",
              "      <td>0.001965</td>\n",
              "      <td>0.044292</td>\n",
              "      <td>0.0</td>\n",
              "      <td>0.0</td>\n",
              "      <td>0.0</td>\n",
              "      <td>0.0</td>\n",
              "      <td>1.0</td>\n",
              "    </tr>\n",
              "    <tr>\n",
              "      <th>Education_ Prof-school</th>\n",
              "      <td>16281.0</td>\n",
              "      <td>0.015847</td>\n",
              "      <td>0.124886</td>\n",
              "      <td>0.0</td>\n",
              "      <td>0.0</td>\n",
              "      <td>0.0</td>\n",
              "      <td>0.0</td>\n",
              "      <td>1.0</td>\n",
              "    </tr>\n",
              "    <tr>\n",
              "      <th>...</th>\n",
              "      <td>...</td>\n",
              "      <td>...</td>\n",
              "      <td>...</td>\n",
              "      <td>...</td>\n",
              "      <td>...</td>\n",
              "      <td>...</td>\n",
              "      <td>...</td>\n",
              "      <td>...</td>\n",
              "    </tr>\n",
              "    <tr>\n",
              "      <th>Country_ Germany</th>\n",
              "      <td>16281.0</td>\n",
              "      <td>0.004238</td>\n",
              "      <td>0.064964</td>\n",
              "      <td>0.0</td>\n",
              "      <td>0.0</td>\n",
              "      <td>0.0</td>\n",
              "      <td>0.0</td>\n",
              "      <td>1.0</td>\n",
              "    </tr>\n",
              "    <tr>\n",
              "      <th>Country_ Greece</th>\n",
              "      <td>16281.0</td>\n",
              "      <td>0.001228</td>\n",
              "      <td>0.035028</td>\n",
              "      <td>0.0</td>\n",
              "      <td>0.0</td>\n",
              "      <td>0.0</td>\n",
              "      <td>0.0</td>\n",
              "      <td>1.0</td>\n",
              "    </tr>\n",
              "    <tr>\n",
              "      <th>Country_ Guatemala</th>\n",
              "      <td>16281.0</td>\n",
              "      <td>0.001474</td>\n",
              "      <td>0.038367</td>\n",
              "      <td>0.0</td>\n",
              "      <td>0.0</td>\n",
              "      <td>0.0</td>\n",
              "      <td>0.0</td>\n",
              "      <td>1.0</td>\n",
              "    </tr>\n",
              "    <tr>\n",
              "      <th>Country_ Haiti</th>\n",
              "      <td>16281.0</td>\n",
              "      <td>0.001904</td>\n",
              "      <td>0.043595</td>\n",
              "      <td>0.0</td>\n",
              "      <td>0.0</td>\n",
              "      <td>0.0</td>\n",
              "      <td>0.0</td>\n",
              "      <td>1.0</td>\n",
              "    </tr>\n",
              "    <tr>\n",
              "      <th>Country_ Honduras</th>\n",
              "      <td>16281.0</td>\n",
              "      <td>0.000430</td>\n",
              "      <td>0.020731</td>\n",
              "      <td>0.0</td>\n",
              "      <td>0.0</td>\n",
              "      <td>0.0</td>\n",
              "      <td>0.0</td>\n",
              "      <td>1.0</td>\n",
              "    </tr>\n",
              "    <tr>\n",
              "      <th>Country_ Hong</th>\n",
              "      <td>16281.0</td>\n",
              "      <td>0.000614</td>\n",
              "      <td>0.024776</td>\n",
              "      <td>0.0</td>\n",
              "      <td>0.0</td>\n",
              "      <td>0.0</td>\n",
              "      <td>0.0</td>\n",
              "      <td>1.0</td>\n",
              "    </tr>\n",
              "    <tr>\n",
              "      <th>Country_ Hungary</th>\n",
              "      <td>16281.0</td>\n",
              "      <td>0.000369</td>\n",
              "      <td>0.019194</td>\n",
              "      <td>0.0</td>\n",
              "      <td>0.0</td>\n",
              "      <td>0.0</td>\n",
              "      <td>0.0</td>\n",
              "      <td>1.0</td>\n",
              "    </tr>\n",
              "    <tr>\n",
              "      <th>Country_ India</th>\n",
              "      <td>16281.0</td>\n",
              "      <td>0.003132</td>\n",
              "      <td>0.055883</td>\n",
              "      <td>0.0</td>\n",
              "      <td>0.0</td>\n",
              "      <td>0.0</td>\n",
              "      <td>0.0</td>\n",
              "      <td>1.0</td>\n",
              "    </tr>\n",
              "    <tr>\n",
              "      <th>Country_ Iran</th>\n",
              "      <td>16281.0</td>\n",
              "      <td>0.000983</td>\n",
              "      <td>0.031334</td>\n",
              "      <td>0.0</td>\n",
              "      <td>0.0</td>\n",
              "      <td>0.0</td>\n",
              "      <td>0.0</td>\n",
              "      <td>1.0</td>\n",
              "    </tr>\n",
              "    <tr>\n",
              "      <th>Country_ Ireland</th>\n",
              "      <td>16281.0</td>\n",
              "      <td>0.000798</td>\n",
              "      <td>0.028247</td>\n",
              "      <td>0.0</td>\n",
              "      <td>0.0</td>\n",
              "      <td>0.0</td>\n",
              "      <td>0.0</td>\n",
              "      <td>1.0</td>\n",
              "    </tr>\n",
              "    <tr>\n",
              "      <th>Country_ Italy</th>\n",
              "      <td>16281.0</td>\n",
              "      <td>0.001965</td>\n",
              "      <td>0.044292</td>\n",
              "      <td>0.0</td>\n",
              "      <td>0.0</td>\n",
              "      <td>0.0</td>\n",
              "      <td>0.0</td>\n",
              "      <td>1.0</td>\n",
              "    </tr>\n",
              "    <tr>\n",
              "      <th>Country_ Jamaica</th>\n",
              "      <td>16281.0</td>\n",
              "      <td>0.001536</td>\n",
              "      <td>0.039157</td>\n",
              "      <td>0.0</td>\n",
              "      <td>0.0</td>\n",
              "      <td>0.0</td>\n",
              "      <td>0.0</td>\n",
              "      <td>1.0</td>\n",
              "    </tr>\n",
              "    <tr>\n",
              "      <th>Country_ Japan</th>\n",
              "      <td>16281.0</td>\n",
              "      <td>0.001843</td>\n",
              "      <td>0.042888</td>\n",
              "      <td>0.0</td>\n",
              "      <td>0.0</td>\n",
              "      <td>0.0</td>\n",
              "      <td>0.0</td>\n",
              "      <td>1.0</td>\n",
              "    </tr>\n",
              "    <tr>\n",
              "      <th>Country_ Laos</th>\n",
              "      <td>16281.0</td>\n",
              "      <td>0.000307</td>\n",
              "      <td>0.017522</td>\n",
              "      <td>0.0</td>\n",
              "      <td>0.0</td>\n",
              "      <td>0.0</td>\n",
              "      <td>0.0</td>\n",
              "      <td>1.0</td>\n",
              "    </tr>\n",
              "    <tr>\n",
              "      <th>Country_ Mexico</th>\n",
              "      <td>16281.0</td>\n",
              "      <td>0.018918</td>\n",
              "      <td>0.136239</td>\n",
              "      <td>0.0</td>\n",
              "      <td>0.0</td>\n",
              "      <td>0.0</td>\n",
              "      <td>0.0</td>\n",
              "      <td>1.0</td>\n",
              "    </tr>\n",
              "    <tr>\n",
              "      <th>Country_ Nicaragua</th>\n",
              "      <td>16281.0</td>\n",
              "      <td>0.000921</td>\n",
              "      <td>0.030340</td>\n",
              "      <td>0.0</td>\n",
              "      <td>0.0</td>\n",
              "      <td>0.0</td>\n",
              "      <td>0.0</td>\n",
              "      <td>1.0</td>\n",
              "    </tr>\n",
              "    <tr>\n",
              "      <th>Country_ Outlying-US(Guam-USVI-etc)</th>\n",
              "      <td>16281.0</td>\n",
              "      <td>0.000553</td>\n",
              "      <td>0.023506</td>\n",
              "      <td>0.0</td>\n",
              "      <td>0.0</td>\n",
              "      <td>0.0</td>\n",
              "      <td>0.0</td>\n",
              "      <td>1.0</td>\n",
              "    </tr>\n",
              "    <tr>\n",
              "      <th>Country_ Peru</th>\n",
              "      <td>16281.0</td>\n",
              "      <td>0.000921</td>\n",
              "      <td>0.030340</td>\n",
              "      <td>0.0</td>\n",
              "      <td>0.0</td>\n",
              "      <td>0.0</td>\n",
              "      <td>0.0</td>\n",
              "      <td>1.0</td>\n",
              "    </tr>\n",
              "    <tr>\n",
              "      <th>Country_ Philippines</th>\n",
              "      <td>16281.0</td>\n",
              "      <td>0.005958</td>\n",
              "      <td>0.076959</td>\n",
              "      <td>0.0</td>\n",
              "      <td>0.0</td>\n",
              "      <td>0.0</td>\n",
              "      <td>0.0</td>\n",
              "      <td>1.0</td>\n",
              "    </tr>\n",
              "    <tr>\n",
              "      <th>Country_ Poland</th>\n",
              "      <td>16281.0</td>\n",
              "      <td>0.001658</td>\n",
              "      <td>0.040691</td>\n",
              "      <td>0.0</td>\n",
              "      <td>0.0</td>\n",
              "      <td>0.0</td>\n",
              "      <td>0.0</td>\n",
              "      <td>1.0</td>\n",
              "    </tr>\n",
              "    <tr>\n",
              "      <th>Country_ Portugal</th>\n",
              "      <td>16281.0</td>\n",
              "      <td>0.001843</td>\n",
              "      <td>0.042888</td>\n",
              "      <td>0.0</td>\n",
              "      <td>0.0</td>\n",
              "      <td>0.0</td>\n",
              "      <td>0.0</td>\n",
              "      <td>1.0</td>\n",
              "    </tr>\n",
              "    <tr>\n",
              "      <th>Country_ Puerto-Rico</th>\n",
              "      <td>16281.0</td>\n",
              "      <td>0.004299</td>\n",
              "      <td>0.065431</td>\n",
              "      <td>0.0</td>\n",
              "      <td>0.0</td>\n",
              "      <td>0.0</td>\n",
              "      <td>0.0</td>\n",
              "      <td>1.0</td>\n",
              "    </tr>\n",
              "    <tr>\n",
              "      <th>Country_ Scotland</th>\n",
              "      <td>16281.0</td>\n",
              "      <td>0.000553</td>\n",
              "      <td>0.023506</td>\n",
              "      <td>0.0</td>\n",
              "      <td>0.0</td>\n",
              "      <td>0.0</td>\n",
              "      <td>0.0</td>\n",
              "      <td>1.0</td>\n",
              "    </tr>\n",
              "    <tr>\n",
              "      <th>Country_ South</th>\n",
              "      <td>16281.0</td>\n",
              "      <td>0.002150</td>\n",
              "      <td>0.046317</td>\n",
              "      <td>0.0</td>\n",
              "      <td>0.0</td>\n",
              "      <td>0.0</td>\n",
              "      <td>0.0</td>\n",
              "      <td>1.0</td>\n",
              "    </tr>\n",
              "    <tr>\n",
              "      <th>Country_ Taiwan</th>\n",
              "      <td>16281.0</td>\n",
              "      <td>0.000860</td>\n",
              "      <td>0.029312</td>\n",
              "      <td>0.0</td>\n",
              "      <td>0.0</td>\n",
              "      <td>0.0</td>\n",
              "      <td>0.0</td>\n",
              "      <td>1.0</td>\n",
              "    </tr>\n",
              "    <tr>\n",
              "      <th>Country_ Thailand</th>\n",
              "      <td>16281.0</td>\n",
              "      <td>0.000737</td>\n",
              "      <td>0.027140</td>\n",
              "      <td>0.0</td>\n",
              "      <td>0.0</td>\n",
              "      <td>0.0</td>\n",
              "      <td>0.0</td>\n",
              "      <td>1.0</td>\n",
              "    </tr>\n",
              "    <tr>\n",
              "      <th>Country_ Trinadad&amp;Tobago</th>\n",
              "      <td>16281.0</td>\n",
              "      <td>0.000491</td>\n",
              "      <td>0.022162</td>\n",
              "      <td>0.0</td>\n",
              "      <td>0.0</td>\n",
              "      <td>0.0</td>\n",
              "      <td>0.0</td>\n",
              "      <td>1.0</td>\n",
              "    </tr>\n",
              "    <tr>\n",
              "      <th>Country_ United-States</th>\n",
              "      <td>16281.0</td>\n",
              "      <td>0.917388</td>\n",
              "      <td>0.275303</td>\n",
              "      <td>0.0</td>\n",
              "      <td>1.0</td>\n",
              "      <td>1.0</td>\n",
              "      <td>1.0</td>\n",
              "      <td>1.0</td>\n",
              "    </tr>\n",
              "    <tr>\n",
              "      <th>Country_ Vietnam</th>\n",
              "      <td>16281.0</td>\n",
              "      <td>0.001167</td>\n",
              "      <td>0.034143</td>\n",
              "      <td>0.0</td>\n",
              "      <td>0.0</td>\n",
              "      <td>0.0</td>\n",
              "      <td>0.0</td>\n",
              "      <td>1.0</td>\n",
              "    </tr>\n",
              "    <tr>\n",
              "      <th>Country_ Yugoslavia</th>\n",
              "      <td>16281.0</td>\n",
              "      <td>0.000430</td>\n",
              "      <td>0.020731</td>\n",
              "      <td>0.0</td>\n",
              "      <td>0.0</td>\n",
              "      <td>0.0</td>\n",
              "      <td>0.0</td>\n",
              "      <td>1.0</td>\n",
              "    </tr>\n",
              "  </tbody>\n",
              "</table>\n",
              "<p>105 rows × 8 columns</p>\n",
              "</div>"
            ],
            "text/plain": [
              "                                       count           mean            std  \\\n",
              "Age                                  16281.0      38.767459      13.849187   \n",
              "fnlwgt                               16281.0  189435.677784  105714.907671   \n",
              "Education_Num                        16281.0      10.072907       2.567545   \n",
              "Capital_Gain                         16281.0    1081.905104    7583.935968   \n",
              "Capital_Loss                         16281.0      87.899269     403.105286   \n",
              "Hours_per_week                       16281.0      40.392236      12.479332   \n",
              "Target                               16281.0       0.236226       0.424776   \n",
              "Workclass_ Federal-gov               16281.0       0.028991       0.167786   \n",
              "Workclass_ Local-gov                 16281.0       0.064062       0.244872   \n",
              "Workclass_ Never-worked              16281.0       0.000184       0.013574   \n",
              "Workclass_ Private                   16281.0       0.747681       0.434356   \n",
              "Workclass_ Self-emp-inc              16281.0       0.035563       0.185203   \n",
              "Workclass_ Self-emp-not-inc          16281.0       0.081138       0.273055   \n",
              "Workclass_ State-gov                 16281.0       0.041951       0.200483   \n",
              "Workclass_ Without-pay               16281.0       0.000430       0.020731   \n",
              "Education_ 10th                      16281.0       0.028008       0.165001   \n",
              "Education_ 11th                      16281.0       0.039125       0.193899   \n",
              "Education_ 12th                      16281.0       0.013758       0.116490   \n",
              "Education_ 1st-4th                   16281.0       0.004852       0.069491   \n",
              "Education_ 5th-6th                   16281.0       0.010810       0.103412   \n",
              "Education_ 7th-8th                   16281.0       0.018979       0.136456   \n",
              "Education_ 9th                       16281.0       0.014864       0.121012   \n",
              "Education_ Assoc-acdm                16281.0       0.032799       0.178116   \n",
              "Education_ Assoc-voc                 16281.0       0.041705       0.199920   \n",
              "Education_ Bachelors                 16281.0       0.163995       0.370282   \n",
              "Education_ Doctorate                 16281.0       0.011117       0.104854   \n",
              "Education_ HS-grad                   16281.0       0.324489       0.468198   \n",
              "Education_ Masters                   16281.0       0.057367       0.232551   \n",
              "Education_ Preschool                 16281.0       0.001965       0.044292   \n",
              "Education_ Prof-school               16281.0       0.015847       0.124886   \n",
              "...                                      ...            ...            ...   \n",
              "Country_ Germany                     16281.0       0.004238       0.064964   \n",
              "Country_ Greece                      16281.0       0.001228       0.035028   \n",
              "Country_ Guatemala                   16281.0       0.001474       0.038367   \n",
              "Country_ Haiti                       16281.0       0.001904       0.043595   \n",
              "Country_ Honduras                    16281.0       0.000430       0.020731   \n",
              "Country_ Hong                        16281.0       0.000614       0.024776   \n",
              "Country_ Hungary                     16281.0       0.000369       0.019194   \n",
              "Country_ India                       16281.0       0.003132       0.055883   \n",
              "Country_ Iran                        16281.0       0.000983       0.031334   \n",
              "Country_ Ireland                     16281.0       0.000798       0.028247   \n",
              "Country_ Italy                       16281.0       0.001965       0.044292   \n",
              "Country_ Jamaica                     16281.0       0.001536       0.039157   \n",
              "Country_ Japan                       16281.0       0.001843       0.042888   \n",
              "Country_ Laos                        16281.0       0.000307       0.017522   \n",
              "Country_ Mexico                      16281.0       0.018918       0.136239   \n",
              "Country_ Nicaragua                   16281.0       0.000921       0.030340   \n",
              "Country_ Outlying-US(Guam-USVI-etc)  16281.0       0.000553       0.023506   \n",
              "Country_ Peru                        16281.0       0.000921       0.030340   \n",
              "Country_ Philippines                 16281.0       0.005958       0.076959   \n",
              "Country_ Poland                      16281.0       0.001658       0.040691   \n",
              "Country_ Portugal                    16281.0       0.001843       0.042888   \n",
              "Country_ Puerto-Rico                 16281.0       0.004299       0.065431   \n",
              "Country_ Scotland                    16281.0       0.000553       0.023506   \n",
              "Country_ South                       16281.0       0.002150       0.046317   \n",
              "Country_ Taiwan                      16281.0       0.000860       0.029312   \n",
              "Country_ Thailand                    16281.0       0.000737       0.027140   \n",
              "Country_ Trinadad&Tobago             16281.0       0.000491       0.022162   \n",
              "Country_ United-States               16281.0       0.917388       0.275303   \n",
              "Country_ Vietnam                     16281.0       0.001167       0.034143   \n",
              "Country_ Yugoslavia                  16281.0       0.000430       0.020731   \n",
              "\n",
              "                                         min       25%       50%       75%  \\\n",
              "Age                                     17.0      28.0      37.0      48.0   \n",
              "fnlwgt                               13492.0  116736.0  177831.0  238384.0   \n",
              "Education_Num                            1.0       9.0      10.0      12.0   \n",
              "Capital_Gain                             0.0       0.0       0.0       0.0   \n",
              "Capital_Loss                             0.0       0.0       0.0       0.0   \n",
              "Hours_per_week                           1.0      40.0      40.0      45.0   \n",
              "Target                                   0.0       0.0       0.0       0.0   \n",
              "Workclass_ Federal-gov                   0.0       0.0       0.0       0.0   \n",
              "Workclass_ Local-gov                     0.0       0.0       0.0       0.0   \n",
              "Workclass_ Never-worked                  0.0       0.0       0.0       0.0   \n",
              "Workclass_ Private                       0.0       0.0       1.0       1.0   \n",
              "Workclass_ Self-emp-inc                  0.0       0.0       0.0       0.0   \n",
              "Workclass_ Self-emp-not-inc              0.0       0.0       0.0       0.0   \n",
              "Workclass_ State-gov                     0.0       0.0       0.0       0.0   \n",
              "Workclass_ Without-pay                   0.0       0.0       0.0       0.0   \n",
              "Education_ 10th                          0.0       0.0       0.0       0.0   \n",
              "Education_ 11th                          0.0       0.0       0.0       0.0   \n",
              "Education_ 12th                          0.0       0.0       0.0       0.0   \n",
              "Education_ 1st-4th                       0.0       0.0       0.0       0.0   \n",
              "Education_ 5th-6th                       0.0       0.0       0.0       0.0   \n",
              "Education_ 7th-8th                       0.0       0.0       0.0       0.0   \n",
              "Education_ 9th                           0.0       0.0       0.0       0.0   \n",
              "Education_ Assoc-acdm                    0.0       0.0       0.0       0.0   \n",
              "Education_ Assoc-voc                     0.0       0.0       0.0       0.0   \n",
              "Education_ Bachelors                     0.0       0.0       0.0       0.0   \n",
              "Education_ Doctorate                     0.0       0.0       0.0       0.0   \n",
              "Education_ HS-grad                       0.0       0.0       0.0       1.0   \n",
              "Education_ Masters                       0.0       0.0       0.0       0.0   \n",
              "Education_ Preschool                     0.0       0.0       0.0       0.0   \n",
              "Education_ Prof-school                   0.0       0.0       0.0       0.0   \n",
              "...                                      ...       ...       ...       ...   \n",
              "Country_ Germany                         0.0       0.0       0.0       0.0   \n",
              "Country_ Greece                          0.0       0.0       0.0       0.0   \n",
              "Country_ Guatemala                       0.0       0.0       0.0       0.0   \n",
              "Country_ Haiti                           0.0       0.0       0.0       0.0   \n",
              "Country_ Honduras                        0.0       0.0       0.0       0.0   \n",
              "Country_ Hong                            0.0       0.0       0.0       0.0   \n",
              "Country_ Hungary                         0.0       0.0       0.0       0.0   \n",
              "Country_ India                           0.0       0.0       0.0       0.0   \n",
              "Country_ Iran                            0.0       0.0       0.0       0.0   \n",
              "Country_ Ireland                         0.0       0.0       0.0       0.0   \n",
              "Country_ Italy                           0.0       0.0       0.0       0.0   \n",
              "Country_ Jamaica                         0.0       0.0       0.0       0.0   \n",
              "Country_ Japan                           0.0       0.0       0.0       0.0   \n",
              "Country_ Laos                            0.0       0.0       0.0       0.0   \n",
              "Country_ Mexico                          0.0       0.0       0.0       0.0   \n",
              "Country_ Nicaragua                       0.0       0.0       0.0       0.0   \n",
              "Country_ Outlying-US(Guam-USVI-etc)      0.0       0.0       0.0       0.0   \n",
              "Country_ Peru                            0.0       0.0       0.0       0.0   \n",
              "Country_ Philippines                     0.0       0.0       0.0       0.0   \n",
              "Country_ Poland                          0.0       0.0       0.0       0.0   \n",
              "Country_ Portugal                        0.0       0.0       0.0       0.0   \n",
              "Country_ Puerto-Rico                     0.0       0.0       0.0       0.0   \n",
              "Country_ Scotland                        0.0       0.0       0.0       0.0   \n",
              "Country_ South                           0.0       0.0       0.0       0.0   \n",
              "Country_ Taiwan                          0.0       0.0       0.0       0.0   \n",
              "Country_ Thailand                        0.0       0.0       0.0       0.0   \n",
              "Country_ Trinadad&Tobago                 0.0       0.0       0.0       0.0   \n",
              "Country_ United-States                   0.0       1.0       1.0       1.0   \n",
              "Country_ Vietnam                         0.0       0.0       0.0       0.0   \n",
              "Country_ Yugoslavia                      0.0       0.0       0.0       0.0   \n",
              "\n",
              "                                           max  \n",
              "Age                                       90.0  \n",
              "fnlwgt                               1490400.0  \n",
              "Education_Num                             16.0  \n",
              "Capital_Gain                           99999.0  \n",
              "Capital_Loss                            3770.0  \n",
              "Hours_per_week                            99.0  \n",
              "Target                                     1.0  \n",
              "Workclass_ Federal-gov                     1.0  \n",
              "Workclass_ Local-gov                       1.0  \n",
              "Workclass_ Never-worked                    1.0  \n",
              "Workclass_ Private                         1.0  \n",
              "Workclass_ Self-emp-inc                    1.0  \n",
              "Workclass_ Self-emp-not-inc                1.0  \n",
              "Workclass_ State-gov                       1.0  \n",
              "Workclass_ Without-pay                     1.0  \n",
              "Education_ 10th                            1.0  \n",
              "Education_ 11th                            1.0  \n",
              "Education_ 12th                            1.0  \n",
              "Education_ 1st-4th                         1.0  \n",
              "Education_ 5th-6th                         1.0  \n",
              "Education_ 7th-8th                         1.0  \n",
              "Education_ 9th                             1.0  \n",
              "Education_ Assoc-acdm                      1.0  \n",
              "Education_ Assoc-voc                       1.0  \n",
              "Education_ Bachelors                       1.0  \n",
              "Education_ Doctorate                       1.0  \n",
              "Education_ HS-grad                         1.0  \n",
              "Education_ Masters                         1.0  \n",
              "Education_ Preschool                       1.0  \n",
              "Education_ Prof-school                     1.0  \n",
              "...                                        ...  \n",
              "Country_ Germany                           1.0  \n",
              "Country_ Greece                            1.0  \n",
              "Country_ Guatemala                         1.0  \n",
              "Country_ Haiti                             1.0  \n",
              "Country_ Honduras                          1.0  \n",
              "Country_ Hong                              1.0  \n",
              "Country_ Hungary                           1.0  \n",
              "Country_ India                             1.0  \n",
              "Country_ Iran                              1.0  \n",
              "Country_ Ireland                           1.0  \n",
              "Country_ Italy                             1.0  \n",
              "Country_ Jamaica                           1.0  \n",
              "Country_ Japan                             1.0  \n",
              "Country_ Laos                              1.0  \n",
              "Country_ Mexico                            1.0  \n",
              "Country_ Nicaragua                         1.0  \n",
              "Country_ Outlying-US(Guam-USVI-etc)        1.0  \n",
              "Country_ Peru                              1.0  \n",
              "Country_ Philippines                       1.0  \n",
              "Country_ Poland                            1.0  \n",
              "Country_ Portugal                          1.0  \n",
              "Country_ Puerto-Rico                       1.0  \n",
              "Country_ Scotland                          1.0  \n",
              "Country_ South                             1.0  \n",
              "Country_ Taiwan                            1.0  \n",
              "Country_ Thailand                          1.0  \n",
              "Country_ Trinadad&Tobago                   1.0  \n",
              "Country_ United-States                     1.0  \n",
              "Country_ Vietnam                           1.0  \n",
              "Country_ Yugoslavia                        1.0  \n",
              "\n",
              "[105 rows x 8 columns]"
            ]
          },
          "execution_count": 34,
          "metadata": {},
          "output_type": "execute_result"
        }
      ]
    },
    {
      "cell_type": "code",
      "metadata": {
        "id": "VDx98Em5JeA6",
        "outputId": "2d708da6-5235-4d41-f0da-a1bcf04a08f5"
      },
      "source": [
        "set(data_train.columns) - set(data_test.columns)"
      ],
      "execution_count": null,
      "outputs": [
        {
          "data": {
            "text/plain": [
              "{'Country_ Holand-Netherlands'}"
            ]
          },
          "execution_count": 35,
          "metadata": {},
          "output_type": "execute_result"
        }
      ]
    },
    {
      "cell_type": "code",
      "metadata": {
        "id": "adyqoxACJeA6",
        "outputId": "0e354bf3-d9c8-43cc-8589-e52a752148b7"
      },
      "source": [
        "data_train.shape, data_test.shape"
      ],
      "execution_count": null,
      "outputs": [
        {
          "data": {
            "text/plain": [
              "((32561, 106), (16281, 105))"
            ]
          },
          "execution_count": 36,
          "metadata": {},
          "output_type": "execute_result"
        }
      ]
    },
    {
      "cell_type": "markdown",
      "metadata": {
        "id": "3BluzRUlJeA6"
      },
      "source": [
        "**В тестовой выборке не оказалось Голландии. Заведем необходимый признак из нулей.**"
      ]
    },
    {
      "cell_type": "code",
      "metadata": {
        "collapsed": true,
        "id": "FnXPepGHJeA6"
      },
      "source": [
        "data_test['Country_ Holand-Netherlands'] = np.zeros([data_test.shape[0], 1])"
      ],
      "execution_count": null,
      "outputs": []
    },
    {
      "cell_type": "code",
      "metadata": {
        "id": "B1QHcM33JeA7",
        "outputId": "41e7103b-51bc-4bea-fe85-ac4959d69a1d"
      },
      "source": [
        "set(data_train.columns) - set(data_test.columns)"
      ],
      "execution_count": null,
      "outputs": [
        {
          "data": {
            "text/plain": [
              "set()"
            ]
          },
          "execution_count": 38,
          "metadata": {},
          "output_type": "execute_result"
        }
      ]
    },
    {
      "cell_type": "code",
      "metadata": {
        "id": "9u_HptA6JeA7",
        "outputId": "dc1519a1-689f-4b2b-a875-8aef755dbab3"
      },
      "source": [
        "data_train.head(2)"
      ],
      "execution_count": null,
      "outputs": [
        {
          "data": {
            "text/html": [
              "<div>\n",
              "<table border=\"1\" class=\"dataframe\">\n",
              "  <thead>\n",
              "    <tr style=\"text-align: right;\">\n",
              "      <th></th>\n",
              "      <th>Age</th>\n",
              "      <th>fnlwgt</th>\n",
              "      <th>Education_Num</th>\n",
              "      <th>Capital_Gain</th>\n",
              "      <th>Capital_Loss</th>\n",
              "      <th>Hours_per_week</th>\n",
              "      <th>Target</th>\n",
              "      <th>Workclass_ Federal-gov</th>\n",
              "      <th>Workclass_ Local-gov</th>\n",
              "      <th>Workclass_ Never-worked</th>\n",
              "      <th>...</th>\n",
              "      <th>Country_ Portugal</th>\n",
              "      <th>Country_ Puerto-Rico</th>\n",
              "      <th>Country_ Scotland</th>\n",
              "      <th>Country_ South</th>\n",
              "      <th>Country_ Taiwan</th>\n",
              "      <th>Country_ Thailand</th>\n",
              "      <th>Country_ Trinadad&amp;Tobago</th>\n",
              "      <th>Country_ United-States</th>\n",
              "      <th>Country_ Vietnam</th>\n",
              "      <th>Country_ Yugoslavia</th>\n",
              "    </tr>\n",
              "  </thead>\n",
              "  <tbody>\n",
              "    <tr>\n",
              "      <th>0</th>\n",
              "      <td>39</td>\n",
              "      <td>77516</td>\n",
              "      <td>13</td>\n",
              "      <td>2174</td>\n",
              "      <td>0</td>\n",
              "      <td>40</td>\n",
              "      <td>0</td>\n",
              "      <td>0</td>\n",
              "      <td>0</td>\n",
              "      <td>0</td>\n",
              "      <td>...</td>\n",
              "      <td>0</td>\n",
              "      <td>0</td>\n",
              "      <td>0</td>\n",
              "      <td>0</td>\n",
              "      <td>0</td>\n",
              "      <td>0</td>\n",
              "      <td>0</td>\n",
              "      <td>1</td>\n",
              "      <td>0</td>\n",
              "      <td>0</td>\n",
              "    </tr>\n",
              "    <tr>\n",
              "      <th>1</th>\n",
              "      <td>50</td>\n",
              "      <td>83311</td>\n",
              "      <td>13</td>\n",
              "      <td>0</td>\n",
              "      <td>0</td>\n",
              "      <td>13</td>\n",
              "      <td>0</td>\n",
              "      <td>0</td>\n",
              "      <td>0</td>\n",
              "      <td>0</td>\n",
              "      <td>...</td>\n",
              "      <td>0</td>\n",
              "      <td>0</td>\n",
              "      <td>0</td>\n",
              "      <td>0</td>\n",
              "      <td>0</td>\n",
              "      <td>0</td>\n",
              "      <td>0</td>\n",
              "      <td>1</td>\n",
              "      <td>0</td>\n",
              "      <td>0</td>\n",
              "    </tr>\n",
              "  </tbody>\n",
              "</table>\n",
              "<p>2 rows × 106 columns</p>\n",
              "</div>"
            ],
            "text/plain": [
              "   Age  fnlwgt  Education_Num  Capital_Gain  Capital_Loss  Hours_per_week  \\\n",
              "0   39   77516             13          2174             0              40   \n",
              "1   50   83311             13             0             0              13   \n",
              "\n",
              "   Target  Workclass_ Federal-gov  Workclass_ Local-gov  \\\n",
              "0       0                       0                     0   \n",
              "1       0                       0                     0   \n",
              "\n",
              "   Workclass_ Never-worked         ...           Country_ Portugal  \\\n",
              "0                        0         ...                           0   \n",
              "1                        0         ...                           0   \n",
              "\n",
              "   Country_ Puerto-Rico  Country_ Scotland  Country_ South  Country_ Taiwan  \\\n",
              "0                     0                  0               0                0   \n",
              "1                     0                  0               0                0   \n",
              "\n",
              "   Country_ Thailand  Country_ Trinadad&Tobago  Country_ United-States  \\\n",
              "0                  0                         0                       1   \n",
              "1                  0                         0                       1   \n",
              "\n",
              "   Country_ Vietnam  Country_ Yugoslavia  \n",
              "0                 0                    0  \n",
              "1                 0                    0  \n",
              "\n",
              "[2 rows x 106 columns]"
            ]
          },
          "execution_count": 39,
          "metadata": {},
          "output_type": "execute_result"
        }
      ]
    },
    {
      "cell_type": "code",
      "metadata": {
        "id": "ZDXLPTXKJeA7",
        "outputId": "330a9081-2294-46df-c8f7-406c8b43358c"
      },
      "source": [
        "data_test.head(2)"
      ],
      "execution_count": null,
      "outputs": [
        {
          "data": {
            "text/html": [
              "<div>\n",
              "<table border=\"1\" class=\"dataframe\">\n",
              "  <thead>\n",
              "    <tr style=\"text-align: right;\">\n",
              "      <th></th>\n",
              "      <th>Age</th>\n",
              "      <th>fnlwgt</th>\n",
              "      <th>Education_Num</th>\n",
              "      <th>Capital_Gain</th>\n",
              "      <th>Capital_Loss</th>\n",
              "      <th>Hours_per_week</th>\n",
              "      <th>Target</th>\n",
              "      <th>Workclass_ Federal-gov</th>\n",
              "      <th>Workclass_ Local-gov</th>\n",
              "      <th>Workclass_ Never-worked</th>\n",
              "      <th>...</th>\n",
              "      <th>Country_ Puerto-Rico</th>\n",
              "      <th>Country_ Scotland</th>\n",
              "      <th>Country_ South</th>\n",
              "      <th>Country_ Taiwan</th>\n",
              "      <th>Country_ Thailand</th>\n",
              "      <th>Country_ Trinadad&amp;Tobago</th>\n",
              "      <th>Country_ United-States</th>\n",
              "      <th>Country_ Vietnam</th>\n",
              "      <th>Country_ Yugoslavia</th>\n",
              "      <th>Country_ Holand-Netherlands</th>\n",
              "    </tr>\n",
              "  </thead>\n",
              "  <tbody>\n",
              "    <tr>\n",
              "      <th>1</th>\n",
              "      <td>25</td>\n",
              "      <td>226802</td>\n",
              "      <td>7</td>\n",
              "      <td>0</td>\n",
              "      <td>0</td>\n",
              "      <td>40</td>\n",
              "      <td>0</td>\n",
              "      <td>0</td>\n",
              "      <td>0</td>\n",
              "      <td>0</td>\n",
              "      <td>...</td>\n",
              "      <td>0</td>\n",
              "      <td>0</td>\n",
              "      <td>0</td>\n",
              "      <td>0</td>\n",
              "      <td>0</td>\n",
              "      <td>0</td>\n",
              "      <td>1</td>\n",
              "      <td>0</td>\n",
              "      <td>0</td>\n",
              "      <td>0.0</td>\n",
              "    </tr>\n",
              "    <tr>\n",
              "      <th>2</th>\n",
              "      <td>38</td>\n",
              "      <td>89814</td>\n",
              "      <td>9</td>\n",
              "      <td>0</td>\n",
              "      <td>0</td>\n",
              "      <td>50</td>\n",
              "      <td>0</td>\n",
              "      <td>0</td>\n",
              "      <td>0</td>\n",
              "      <td>0</td>\n",
              "      <td>...</td>\n",
              "      <td>0</td>\n",
              "      <td>0</td>\n",
              "      <td>0</td>\n",
              "      <td>0</td>\n",
              "      <td>0</td>\n",
              "      <td>0</td>\n",
              "      <td>1</td>\n",
              "      <td>0</td>\n",
              "      <td>0</td>\n",
              "      <td>0.0</td>\n",
              "    </tr>\n",
              "  </tbody>\n",
              "</table>\n",
              "<p>2 rows × 106 columns</p>\n",
              "</div>"
            ],
            "text/plain": [
              "   Age  fnlwgt  Education_Num  Capital_Gain  Capital_Loss  Hours_per_week  \\\n",
              "1   25  226802              7             0             0              40   \n",
              "2   38   89814              9             0             0              50   \n",
              "\n",
              "   Target  Workclass_ Federal-gov  Workclass_ Local-gov  \\\n",
              "1       0                       0                     0   \n",
              "2       0                       0                     0   \n",
              "\n",
              "   Workclass_ Never-worked             ...               Country_ Puerto-Rico  \\\n",
              "1                        0             ...                                  0   \n",
              "2                        0             ...                                  0   \n",
              "\n",
              "   Country_ Scotland  Country_ South  Country_ Taiwan  Country_ Thailand  \\\n",
              "1                  0               0                0                  0   \n",
              "2                  0               0                0                  0   \n",
              "\n",
              "   Country_ Trinadad&Tobago  Country_ United-States  Country_ Vietnam  \\\n",
              "1                         0                       1                 0   \n",
              "2                         0                       1                 0   \n",
              "\n",
              "   Country_ Yugoslavia  Country_ Holand-Netherlands  \n",
              "1                    0                          0.0  \n",
              "2                    0                          0.0  \n",
              "\n",
              "[2 rows x 106 columns]"
            ]
          },
          "execution_count": 40,
          "metadata": {},
          "output_type": "execute_result"
        }
      ]
    },
    {
      "cell_type": "code",
      "metadata": {
        "collapsed": true,
        "id": "yrFBhOYfJeA7"
      },
      "source": [
        "X_train=data_train.drop(['Target'], axis=1)\n",
        "y_train = data_train['Target']\n",
        "\n",
        "X_test=data_test.drop(['Target'], axis=1)\n",
        "y_test = data_test['Target']"
      ],
      "execution_count": null,
      "outputs": []
    },
    {
      "cell_type": "markdown",
      "metadata": {
        "id": "T2iSw0UpJeA7"
      },
      "source": [
        "## 3.1. Дерево решений без настройки параметров "
      ]
    },
    {
      "cell_type": "markdown",
      "metadata": {
        "id": "rLJxg9BbJeA8"
      },
      "source": [
        "**Обучите на имеющейся выборке дерево решений (`DecisionTreeClassifier`) максимальной глубины 3 и получите качество на тесте. Используйте параметр `random_state` = 17 для воспроизводимости результатов.**"
      ]
    },
    {
      "cell_type": "code",
      "metadata": {
        "collapsed": true,
        "id": "mlknjF_CJeA8"
      },
      "source": [
        "tree = # Ваш код здесь\n",
        "tree.fit # Ваш код здесь"
      ],
      "execution_count": null,
      "outputs": []
    },
    {
      "cell_type": "markdown",
      "metadata": {
        "id": "Uryl4XwiJeA8"
      },
      "source": [
        "**Сделайте с помощью полученной модели прогноз для тестовой выборки.**"
      ]
    },
    {
      "cell_type": "code",
      "metadata": {
        "collapsed": true,
        "id": "v7f3ah5cJeA8"
      },
      "source": [
        "tree_predictions = tree.predict # Ваш код здесь"
      ],
      "execution_count": null,
      "outputs": []
    },
    {
      "cell_type": "code",
      "metadata": {
        "collapsed": true,
        "id": "ulABMZ6XJeA8"
      },
      "source": [
        "accuracy_score # Ваш код здесь"
      ],
      "execution_count": null,
      "outputs": []
    },
    {
      "cell_type": "markdown",
      "metadata": {
        "id": "p6jcR9MUJeA8"
      },
      "source": [
        "<font color='red'>Вопрос 6.  </font> Какова доля правильных ответов дерева решений на тестовой выборке при максимальной глубине дерева = 3 и random_state = 17?"
      ]
    },
    {
      "cell_type": "markdown",
      "metadata": {
        "id": "VOku8tOmJeA8"
      },
      "source": [
        "## 3.2. Дерево решений с настройкой параметров "
      ]
    },
    {
      "cell_type": "markdown",
      "metadata": {
        "id": "QLeLR1fJJeA8"
      },
      "source": [
        "**Обучите на имеющейся выборке дерево решений (`DecisionTreeClassifier`, опять `random_state` = 17 ). Максимальную глубину настройте на кросс-валидации с помощью `GridSearchCV`. Проведите 5-кратную кросс-валидацию**"
      ]
    },
    {
      "cell_type": "code",
      "metadata": {
        "collapsed": true,
        "id": "sJlC6PW-JeA9"
      },
      "source": [
        "tree_params = {'max_depth': range(2,11)}\n",
        "\n",
        "locally_best_tree = GridSearchCV # Ваш код здесь                      \n",
        "\n",
        "locally_best_tree.fit # Ваш код здесь"
      ],
      "execution_count": null,
      "outputs": []
    },
    {
      "cell_type": "code",
      "metadata": {
        "collapsed": true,
        "id": "ML4vSHR5JeA9"
      },
      "source": [
        "print(\"Best params:\", locally_best_tree.best_params_)\n",
        "print(\"Best cross validaton score\", locally_best_tree.best_score_)"
      ],
      "execution_count": null,
      "outputs": []
    },
    {
      "cell_type": "markdown",
      "metadata": {
        "id": "2dVgRx1uJeA9"
      },
      "source": [
        "**Обучите на имеющейся выборке дерево решений максимальной глубины 9 (это лучшее значение `max_depth` в моем случае) и   оцените долю правильных ответов на тесте. Используйте параметр random_state = 17 для воспроизводимости результатов.**"
      ]
    },
    {
      "cell_type": "code",
      "metadata": {
        "collapsed": true,
        "id": "hPpFVzozJeA9"
      },
      "source": [
        "tuned_tree = # Ваш код здесь\n",
        "tuned_tree.fit # Ваш код здесь\n",
        "tuned_tree_predictions = tuned_tree.predict # Ваш код здесь\n",
        "accuracy_score # Ваш код здесь"
      ],
      "execution_count": null,
      "outputs": []
    },
    {
      "cell_type": "markdown",
      "metadata": {
        "id": "WcfAcs6NJeA9"
      },
      "source": [
        "<font color='red'>Вопрос 7.  </font> Какова доля правильных ответов дерева решений на тестовой выборке при максимальной глубине дерева = 9 и random_state = 17?"
      ]
    },
    {
      "cell_type": "markdown",
      "metadata": {
        "id": "yeyxd5eOJeA9"
      },
      "source": [
        "## 3.3. Случайный лес без настройки параметров  (опционально)¶"
      ]
    },
    {
      "cell_type": "markdown",
      "metadata": {
        "id": "QH62gXnkJeA9"
      },
      "source": [
        "**Немного забежим вперед и попробуем в нашей задаче случайный лес. Пока можно его себе представлять, как куча деревьев решений, обученных на немного разных подвыборках исходной обучающей выборки, причем эта куча деревьев обычно работает существенно лучше, чем отдельные деревья. **\n",
        "\n",
        "**Обучите на имеющейся выборке случайный лес (`RandomForestClassifier`), число деревьев сделайте равным ста, а `random_state` = 17.**"
      ]
    },
    {
      "cell_type": "code",
      "metadata": {
        "collapsed": true,
        "id": "qWDlD5QFJeA9"
      },
      "source": [
        "rf = # Ваш код здесь\n",
        "rf.fit # Ваш код здесь"
      ],
      "execution_count": null,
      "outputs": []
    },
    {
      "cell_type": "markdown",
      "metadata": {
        "id": "ppQPr3IwJeA9"
      },
      "source": [
        "**Сделайте с помощью полученной модели прогноз для тестовой выборки.**"
      ]
    },
    {
      "cell_type": "code",
      "metadata": {
        "collapsed": true,
        "id": "mVYoZ4WMJeA-"
      },
      "source": [
        "forest_predictions = rf.predict # Ваш код здесь"
      ],
      "execution_count": null,
      "outputs": []
    },
    {
      "cell_type": "code",
      "metadata": {
        "collapsed": true,
        "id": "v2bmVdE3JeA-"
      },
      "source": [
        "accuracy_score # Ваш код здесь"
      ],
      "execution_count": null,
      "outputs": []
    },
    {
      "cell_type": "markdown",
      "metadata": {
        "id": "dml1QNWmJeA-"
      },
      "source": [
        "## 3.4. Случайный лес с настройкой параметров  (опционально)"
      ]
    },
    {
      "cell_type": "markdown",
      "metadata": {
        "id": "2xSJQpKtJeA-"
      },
      "source": [
        "**Обучите на имеющейся выборке случайный лес (`RandomForestClassifier`). Максимальную глубину и максимальное число признаков для каждого дерева настройте с помощью GridSearchCV.**"
      ]
    },
    {
      "cell_type": "code",
      "metadata": {
        "collapsed": true,
        "id": "5hKD12G5JeA-"
      },
      "source": [
        "forest_params = {'max_depth': range(10, 21),\n",
        "                'max_features': range(5, 105, 10)}\n",
        "\n",
        "locally_best_forest = GridSearchCV # Ваш код здесь\n",
        "\n",
        "locally_best_forest.fit # Ваш код здесь"
      ],
      "execution_count": null,
      "outputs": []
    },
    {
      "cell_type": "code",
      "metadata": {
        "collapsed": true,
        "id": "FzweROpGJeA-"
      },
      "source": [
        "print(\"Best params:\", locally_best_forest.best_params_)\n",
        "print(\"Best cross validaton score\", locally_best_forest.best_score_)"
      ],
      "execution_count": null,
      "outputs": []
    },
    {
      "cell_type": "markdown",
      "metadata": {
        "id": "lYojVfssJeA-"
      },
      "source": [
        "**Сделайте с помощью полученной модели прогноз для тестовой выборки.**"
      ]
    },
    {
      "cell_type": "code",
      "metadata": {
        "collapsed": true,
        "id": "JH3pFYCYJeA-"
      },
      "source": [
        "tuned_forest_predictions = locally_best_forest.predict # Ваш код здесь\n",
        "accuracy_score # Ваш код здесь"
      ],
      "execution_count": null,
      "outputs": []
    }
  ]
}