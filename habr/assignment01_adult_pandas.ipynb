{
  "nbformat": 4,
  "nbformat_minor": 0,
  "metadata": {
    "colab": {
      "name": "assignment01_adult_pandas.ipynb",
      "provenance": []
    },
    "kernelspec": {
      "name": "python3",
      "display_name": "Python 3"
    },
    "language_info": {
      "name": "python"
    }
  },
  "cells": [
    {
      "cell_type": "code",
      "metadata": {
        "id": "yYzhRcXuSwXX"
      },
      "source": [
        "import pandas as pd"
      ],
      "execution_count": 1,
      "outputs": []
    },
    {
      "cell_type": "code",
      "metadata": {
        "colab": {
          "base_uri": "https://localhost:8080/",
          "height": 362
        },
        "id": "-N9olLpoS3a_",
        "outputId": "f6a454c4-19c9-4a94-ada0-cb22baa6637a"
      },
      "source": [
        "data = pd.read_csv(\"https://raw.githubusercontent.com/Yorko/mlcourse.ai/master/data/adult.data.csv\")\n",
        "data.head(10)"
      ],
      "execution_count": 86,
      "outputs": [
        {
          "output_type": "execute_result",
          "data": {
            "text/html": [
              "<div>\n",
              "<style scoped>\n",
              "    .dataframe tbody tr th:only-of-type {\n",
              "        vertical-align: middle;\n",
              "    }\n",
              "\n",
              "    .dataframe tbody tr th {\n",
              "        vertical-align: top;\n",
              "    }\n",
              "\n",
              "    .dataframe thead th {\n",
              "        text-align: right;\n",
              "    }\n",
              "</style>\n",
              "<table border=\"1\" class=\"dataframe\">\n",
              "  <thead>\n",
              "    <tr style=\"text-align: right;\">\n",
              "      <th></th>\n",
              "      <th>age</th>\n",
              "      <th>workclass</th>\n",
              "      <th>fnlwgt</th>\n",
              "      <th>education</th>\n",
              "      <th>education-num</th>\n",
              "      <th>marital-status</th>\n",
              "      <th>occupation</th>\n",
              "      <th>relationship</th>\n",
              "      <th>race</th>\n",
              "      <th>sex</th>\n",
              "      <th>capital-gain</th>\n",
              "      <th>capital-loss</th>\n",
              "      <th>hours-per-week</th>\n",
              "      <th>native-country</th>\n",
              "      <th>salary</th>\n",
              "    </tr>\n",
              "  </thead>\n",
              "  <tbody>\n",
              "    <tr>\n",
              "      <th>0</th>\n",
              "      <td>39</td>\n",
              "      <td>State-gov</td>\n",
              "      <td>77516</td>\n",
              "      <td>Bachelors</td>\n",
              "      <td>13</td>\n",
              "      <td>Never-married</td>\n",
              "      <td>Adm-clerical</td>\n",
              "      <td>Not-in-family</td>\n",
              "      <td>White</td>\n",
              "      <td>Male</td>\n",
              "      <td>2174</td>\n",
              "      <td>0</td>\n",
              "      <td>40</td>\n",
              "      <td>United-States</td>\n",
              "      <td>&lt;=50K</td>\n",
              "    </tr>\n",
              "    <tr>\n",
              "      <th>1</th>\n",
              "      <td>50</td>\n",
              "      <td>Self-emp-not-inc</td>\n",
              "      <td>83311</td>\n",
              "      <td>Bachelors</td>\n",
              "      <td>13</td>\n",
              "      <td>Married-civ-spouse</td>\n",
              "      <td>Exec-managerial</td>\n",
              "      <td>Husband</td>\n",
              "      <td>White</td>\n",
              "      <td>Male</td>\n",
              "      <td>0</td>\n",
              "      <td>0</td>\n",
              "      <td>13</td>\n",
              "      <td>United-States</td>\n",
              "      <td>&lt;=50K</td>\n",
              "    </tr>\n",
              "    <tr>\n",
              "      <th>2</th>\n",
              "      <td>38</td>\n",
              "      <td>Private</td>\n",
              "      <td>215646</td>\n",
              "      <td>HS-grad</td>\n",
              "      <td>9</td>\n",
              "      <td>Divorced</td>\n",
              "      <td>Handlers-cleaners</td>\n",
              "      <td>Not-in-family</td>\n",
              "      <td>White</td>\n",
              "      <td>Male</td>\n",
              "      <td>0</td>\n",
              "      <td>0</td>\n",
              "      <td>40</td>\n",
              "      <td>United-States</td>\n",
              "      <td>&lt;=50K</td>\n",
              "    </tr>\n",
              "    <tr>\n",
              "      <th>3</th>\n",
              "      <td>53</td>\n",
              "      <td>Private</td>\n",
              "      <td>234721</td>\n",
              "      <td>11th</td>\n",
              "      <td>7</td>\n",
              "      <td>Married-civ-spouse</td>\n",
              "      <td>Handlers-cleaners</td>\n",
              "      <td>Husband</td>\n",
              "      <td>Black</td>\n",
              "      <td>Male</td>\n",
              "      <td>0</td>\n",
              "      <td>0</td>\n",
              "      <td>40</td>\n",
              "      <td>United-States</td>\n",
              "      <td>&lt;=50K</td>\n",
              "    </tr>\n",
              "    <tr>\n",
              "      <th>4</th>\n",
              "      <td>28</td>\n",
              "      <td>Private</td>\n",
              "      <td>338409</td>\n",
              "      <td>Bachelors</td>\n",
              "      <td>13</td>\n",
              "      <td>Married-civ-spouse</td>\n",
              "      <td>Prof-specialty</td>\n",
              "      <td>Wife</td>\n",
              "      <td>Black</td>\n",
              "      <td>Female</td>\n",
              "      <td>0</td>\n",
              "      <td>0</td>\n",
              "      <td>40</td>\n",
              "      <td>Cuba</td>\n",
              "      <td>&lt;=50K</td>\n",
              "    </tr>\n",
              "    <tr>\n",
              "      <th>5</th>\n",
              "      <td>37</td>\n",
              "      <td>Private</td>\n",
              "      <td>284582</td>\n",
              "      <td>Masters</td>\n",
              "      <td>14</td>\n",
              "      <td>Married-civ-spouse</td>\n",
              "      <td>Exec-managerial</td>\n",
              "      <td>Wife</td>\n",
              "      <td>White</td>\n",
              "      <td>Female</td>\n",
              "      <td>0</td>\n",
              "      <td>0</td>\n",
              "      <td>40</td>\n",
              "      <td>United-States</td>\n",
              "      <td>&lt;=50K</td>\n",
              "    </tr>\n",
              "    <tr>\n",
              "      <th>6</th>\n",
              "      <td>49</td>\n",
              "      <td>Private</td>\n",
              "      <td>160187</td>\n",
              "      <td>9th</td>\n",
              "      <td>5</td>\n",
              "      <td>Married-spouse-absent</td>\n",
              "      <td>Other-service</td>\n",
              "      <td>Not-in-family</td>\n",
              "      <td>Black</td>\n",
              "      <td>Female</td>\n",
              "      <td>0</td>\n",
              "      <td>0</td>\n",
              "      <td>16</td>\n",
              "      <td>Jamaica</td>\n",
              "      <td>&lt;=50K</td>\n",
              "    </tr>\n",
              "    <tr>\n",
              "      <th>7</th>\n",
              "      <td>52</td>\n",
              "      <td>Self-emp-not-inc</td>\n",
              "      <td>209642</td>\n",
              "      <td>HS-grad</td>\n",
              "      <td>9</td>\n",
              "      <td>Married-civ-spouse</td>\n",
              "      <td>Exec-managerial</td>\n",
              "      <td>Husband</td>\n",
              "      <td>White</td>\n",
              "      <td>Male</td>\n",
              "      <td>0</td>\n",
              "      <td>0</td>\n",
              "      <td>45</td>\n",
              "      <td>United-States</td>\n",
              "      <td>&gt;50K</td>\n",
              "    </tr>\n",
              "    <tr>\n",
              "      <th>8</th>\n",
              "      <td>31</td>\n",
              "      <td>Private</td>\n",
              "      <td>45781</td>\n",
              "      <td>Masters</td>\n",
              "      <td>14</td>\n",
              "      <td>Never-married</td>\n",
              "      <td>Prof-specialty</td>\n",
              "      <td>Not-in-family</td>\n",
              "      <td>White</td>\n",
              "      <td>Female</td>\n",
              "      <td>14084</td>\n",
              "      <td>0</td>\n",
              "      <td>50</td>\n",
              "      <td>United-States</td>\n",
              "      <td>&gt;50K</td>\n",
              "    </tr>\n",
              "    <tr>\n",
              "      <th>9</th>\n",
              "      <td>42</td>\n",
              "      <td>Private</td>\n",
              "      <td>159449</td>\n",
              "      <td>Bachelors</td>\n",
              "      <td>13</td>\n",
              "      <td>Married-civ-spouse</td>\n",
              "      <td>Exec-managerial</td>\n",
              "      <td>Husband</td>\n",
              "      <td>White</td>\n",
              "      <td>Male</td>\n",
              "      <td>5178</td>\n",
              "      <td>0</td>\n",
              "      <td>40</td>\n",
              "      <td>United-States</td>\n",
              "      <td>&gt;50K</td>\n",
              "    </tr>\n",
              "  </tbody>\n",
              "</table>\n",
              "</div>"
            ],
            "text/plain": [
              "   age         workclass  fnlwgt  ... hours-per-week  native-country salary\n",
              "0   39         State-gov   77516  ...             40   United-States  <=50K\n",
              "1   50  Self-emp-not-inc   83311  ...             13   United-States  <=50K\n",
              "2   38           Private  215646  ...             40   United-States  <=50K\n",
              "3   53           Private  234721  ...             40   United-States  <=50K\n",
              "4   28           Private  338409  ...             40            Cuba  <=50K\n",
              "5   37           Private  284582  ...             40   United-States  <=50K\n",
              "6   49           Private  160187  ...             16         Jamaica  <=50K\n",
              "7   52  Self-emp-not-inc  209642  ...             45   United-States   >50K\n",
              "8   31           Private   45781  ...             50   United-States   >50K\n",
              "9   42           Private  159449  ...             40   United-States   >50K\n",
              "\n",
              "[10 rows x 15 columns]"
            ]
          },
          "metadata": {},
          "execution_count": 86
        }
      ]
    },
    {
      "cell_type": "markdown",
      "metadata": {
        "id": "OMItVnfFTkZc"
      },
      "source": [
        "1. Сколько мужчин и женщин (признак sex) представлено в этом наборе данных?"
      ]
    },
    {
      "cell_type": "code",
      "metadata": {
        "colab": {
          "base_uri": "https://localhost:8080/"
        },
        "id": "vG4TpTm3TTts",
        "outputId": "9639f71f-df8c-4b5d-e90f-9110157471e6"
      },
      "source": [
        "male, female = data[data[\"sex\"] == \"Male\"].shape[0], data[data[\"sex\"] == \"Female\"].shape[0]\n",
        "\n",
        "print(f\"Мужчин в наборе данных - {male}\\nЖенщины в наборе данных - {female}\")"
      ],
      "execution_count": 20,
      "outputs": [
        {
          "output_type": "stream",
          "name": "stdout",
          "text": [
            "Мужчин в наборе данных - 21790\n",
            "Женщины в наборе данных - 10771\n"
          ]
        }
      ]
    },
    {
      "cell_type": "markdown",
      "metadata": {
        "id": "rPwsjam_TlLt"
      },
      "source": [
        "\n",
        "2. Каков средний возраст (признак age) женщин?"
      ]
    },
    {
      "cell_type": "code",
      "metadata": {
        "colab": {
          "base_uri": "https://localhost:8080/"
        },
        "id": "M9GfGH9kT7n6",
        "outputId": "5df4d90a-7d5a-4381-afc8-2be60abd4404"
      },
      "source": [
        "average_age = sum(data[data[\"sex\"] == \"Female\"][\"age\"]) / data[data[\"sex\"] == \"Female\"].shape[0]\n",
        "\n",
        "print(f\"Средний возраст женщин в наборе данных - {average_age}\")\n",
        "print(f\"Средний возраст женщин округленный до целого - {round(average_age)}\")"
      ],
      "execution_count": 27,
      "outputs": [
        {
          "output_type": "stream",
          "name": "stdout",
          "text": [
            "Средний возраст женщин в наборе данных - 36.85823043357163\n",
            "Средний возраст женщин округленный до целого - 37\n"
          ]
        }
      ]
    },
    {
      "cell_type": "markdown",
      "metadata": {
        "id": "NCBBihVxTmVx"
      },
      "source": [
        "\n",
        "3. Какова доля граждан Германии (признак native-country)?"
      ]
    },
    {
      "cell_type": "code",
      "metadata": {
        "colab": {
          "base_uri": "https://localhost:8080/"
        },
        "id": "Lr0WGJTQT77n",
        "outputId": "465c9532-2f41-4c3a-8a63-2901991673f4"
      },
      "source": [
        "data[data[\"native-country\"] == \"Germany\"].shape[0] / data.shape[0] * 100"
      ],
      "execution_count": 143,
      "outputs": [
        {
          "output_type": "execute_result",
          "data": {
            "text/plain": [
              "0.42074874850281013"
            ]
          },
          "metadata": {},
          "execution_count": 143
        }
      ]
    },
    {
      "cell_type": "markdown",
      "metadata": {
        "id": "6a8s1QZtTmRd"
      },
      "source": [
        "5. Каковы средние значения и среднеквадратичные отклонения возраста тех, кто получает более 50K в год (признак salary) и тех, кто получает менее 50K в год?"
      ]
    },
    {
      "cell_type": "code",
      "metadata": {
        "id": "GcPdEx94ZqZM"
      },
      "source": [
        "import math"
      ],
      "execution_count": 40,
      "outputs": []
    },
    {
      "cell_type": "code",
      "metadata": {
        "colab": {
          "base_uri": "https://localhost:8080/"
        },
        "id": "Wd50sz6gT8Yd",
        "outputId": "912780b1-41a9-46e3-a661-d59671516704"
      },
      "source": [
        "average_age_50_more = sum(data[data[\"salary\"] == \">50K\"][\"age\"]) / data[data[\"salary\"] == \">50K\"].shape[0]\n",
        "\n",
        "standard_deviations_50_more = (1 / data[data[\"salary\"] == \">50K\"].shape[0]) * math.sqrt(sum([(average_age - i) * (average_age - i) for i in data[data[\"salary\"] == \">50K\"][\"age\"]]))\n",
        "\n",
        "average_age_50_less = sum(data[data[\"salary\"] == \"<=50K\"][\"age\"]) / data[data[\"salary\"] == \"<=50K\"].shape[0]\n",
        "\n",
        "standard_deviations_50_less = (1 / data[data[\"salary\"] == \"<=50K\"].shape[0]) * math.sqrt(sum([(average_age - i) * (average_age - i) for i in data[data[\"salary\"] == \"<=50K\"][\"age\"]]))\n",
        "\n",
        "print(f\"Cредние значения возраста тех, кто получает более 50К в год - {average_age_50_more:.{3}}\" +\n",
        "      f\"\\nCреднеквадратичные отклонения возраста тех, кто получает более 50К в год - {standard_deviations_50_more:.{2}}\"+\n",
        "      f\"\\nCредние значения возраста тех, кто получает более 50К в год - {average_age_50_less:.{3}}\" +\n",
        "      f\"\\nCреднеквадратичные отклонения возраста тех, кто получает более 50К в год - {standard_deviations_50_less:.{2}}\")"
      ],
      "execution_count": 57,
      "outputs": [
        {
          "output_type": "stream",
          "name": "stdout",
          "text": [
            "Cредние значения возраста тех, кто получает более 50К в год - 44.2\n",
            "Cреднеквадратичные отклонения возраста тех, кто получает более 50К в год - 0.12\n",
            "Cредние значения возраста тех, кто получает более 50К в год - 36.8\n",
            "Cреднеквадратичные отклонения возраста тех, кто получает более 50К в год - 0.1\n"
          ]
        }
      ]
    },
    {
      "cell_type": "markdown",
      "metadata": {
        "id": "VZJmSEpZTmL9"
      },
      "source": [
        "\n",
        "6. Правда ли, что люди, которые получают больше 50k, имеют как минимум высшее образование? (признак education – Bachelors, Prof-school, Assoc-acdm, Assoc-voc, Masters или Doctorate)"
      ]
    },
    {
      "cell_type": "code",
      "metadata": {
        "colab": {
          "base_uri": "https://localhost:8080/"
        },
        "id": "8xu93uhaT8y3",
        "outputId": "7fffb0bd-b54f-44f0-a338-31ae974eb945"
      },
      "source": [
        "education = [\"Bachelors\", \"Prof-school\", \"Assoc-acdm\", \"Assoc-voc\", \"Masters\", \"Doctorate\"]\n",
        "\n",
        "data[(data[\"salary\"] == \">50K\")][\"education\"].isin(education)"
      ],
      "execution_count": 82,
      "outputs": [
        {
          "output_type": "execute_result",
          "data": {
            "text/plain": [
              "7        False\n",
              "8         True\n",
              "9         True\n",
              "10       False\n",
              "11        True\n",
              "         ...  \n",
              "32539     True\n",
              "32545     True\n",
              "32554     True\n",
              "32557    False\n",
              "32560    False\n",
              "Name: education, Length: 7841, dtype: bool"
            ]
          },
          "metadata": {},
          "execution_count": 82
        }
      ]
    },
    {
      "cell_type": "markdown",
      "metadata": {
        "id": "KsS5HP9yTl3u"
      },
      "source": [
        "7. Выведите статистику возраста для каждой расы (признак race) и каждого пола. Используйте groupby и describe. Найдите таким образом максимальный возраст мужчин расы Amer-Indian-Eskimo."
      ]
    },
    {
      "cell_type": "code",
      "metadata": {
        "colab": {
          "base_uri": "https://localhost:8080/",
          "height": 237
        },
        "id": "55ViApWAT9Oi",
        "outputId": "4dd9dc3c-9ac3-4426-ed85-d24c2a51dfe2"
      },
      "source": [
        "data.groupby(\"race\").mean()"
      ],
      "execution_count": 106,
      "outputs": [
        {
          "output_type": "execute_result",
          "data": {
            "text/html": [
              "<div>\n",
              "<style scoped>\n",
              "    .dataframe tbody tr th:only-of-type {\n",
              "        vertical-align: middle;\n",
              "    }\n",
              "\n",
              "    .dataframe tbody tr th {\n",
              "        vertical-align: top;\n",
              "    }\n",
              "\n",
              "    .dataframe thead th {\n",
              "        text-align: right;\n",
              "    }\n",
              "</style>\n",
              "<table border=\"1\" class=\"dataframe\">\n",
              "  <thead>\n",
              "    <tr style=\"text-align: right;\">\n",
              "      <th></th>\n",
              "      <th>age</th>\n",
              "      <th>fnlwgt</th>\n",
              "      <th>education-num</th>\n",
              "      <th>capital-gain</th>\n",
              "      <th>capital-loss</th>\n",
              "      <th>hours-per-week</th>\n",
              "    </tr>\n",
              "    <tr>\n",
              "      <th>race</th>\n",
              "      <th></th>\n",
              "      <th></th>\n",
              "      <th></th>\n",
              "      <th></th>\n",
              "      <th></th>\n",
              "      <th></th>\n",
              "    </tr>\n",
              "  </thead>\n",
              "  <tbody>\n",
              "    <tr>\n",
              "      <th>Amer-Indian-Eskimo</th>\n",
              "      <td>37.173633</td>\n",
              "      <td>120831.147910</td>\n",
              "      <td>9.311897</td>\n",
              "      <td>625.266881</td>\n",
              "      <td>34.176849</td>\n",
              "      <td>40.048232</td>\n",
              "    </tr>\n",
              "    <tr>\n",
              "      <th>Asian-Pac-Islander</th>\n",
              "      <td>37.746872</td>\n",
              "      <td>159940.609240</td>\n",
              "      <td>10.960539</td>\n",
              "      <td>1478.358037</td>\n",
              "      <td>97.222329</td>\n",
              "      <td>40.127045</td>\n",
              "    </tr>\n",
              "    <tr>\n",
              "      <th>Black</th>\n",
              "      <td>37.767926</td>\n",
              "      <td>228013.124200</td>\n",
              "      <td>9.486236</td>\n",
              "      <td>609.940461</td>\n",
              "      <td>60.385083</td>\n",
              "      <td>38.422855</td>\n",
              "    </tr>\n",
              "    <tr>\n",
              "      <th>Other</th>\n",
              "      <td>33.457565</td>\n",
              "      <td>197124.191882</td>\n",
              "      <td>8.841328</td>\n",
              "      <td>934.660517</td>\n",
              "      <td>61.070111</td>\n",
              "      <td>39.468635</td>\n",
              "    </tr>\n",
              "    <tr>\n",
              "      <th>White</th>\n",
              "      <td>38.769881</td>\n",
              "      <td>187298.064280</td>\n",
              "      <td>10.135246</td>\n",
              "      <td>1121.660375</td>\n",
              "      <td>90.806155</td>\n",
              "      <td>40.689100</td>\n",
              "    </tr>\n",
              "  </tbody>\n",
              "</table>\n",
              "</div>"
            ],
            "text/plain": [
              "                          age         fnlwgt  ...  capital-loss  hours-per-week\n",
              "race                                          ...                              \n",
              "Amer-Indian-Eskimo  37.173633  120831.147910  ...     34.176849       40.048232\n",
              "Asian-Pac-Islander  37.746872  159940.609240  ...     97.222329       40.127045\n",
              "Black               37.767926  228013.124200  ...     60.385083       38.422855\n",
              "Other               33.457565  197124.191882  ...     61.070111       39.468635\n",
              "White               38.769881  187298.064280  ...     90.806155       40.689100\n",
              "\n",
              "[5 rows x 6 columns]"
            ]
          },
          "metadata": {},
          "execution_count": 106
        }
      ]
    },
    {
      "cell_type": "code",
      "metadata": {
        "colab": {
          "base_uri": "https://localhost:8080/",
          "height": 300
        },
        "id": "EW3wFseEhoU-",
        "outputId": "fcfc96dd-0365-4058-a8db-284e49f67bcf"
      },
      "source": [
        "data[data[\"race\"] == \"Amer-Indian-Eskimo\"].describe()"
      ],
      "execution_count": 107,
      "outputs": [
        {
          "output_type": "execute_result",
          "data": {
            "text/html": [
              "<div>\n",
              "<style scoped>\n",
              "    .dataframe tbody tr th:only-of-type {\n",
              "        vertical-align: middle;\n",
              "    }\n",
              "\n",
              "    .dataframe tbody tr th {\n",
              "        vertical-align: top;\n",
              "    }\n",
              "\n",
              "    .dataframe thead th {\n",
              "        text-align: right;\n",
              "    }\n",
              "</style>\n",
              "<table border=\"1\" class=\"dataframe\">\n",
              "  <thead>\n",
              "    <tr style=\"text-align: right;\">\n",
              "      <th></th>\n",
              "      <th>age</th>\n",
              "      <th>fnlwgt</th>\n",
              "      <th>education-num</th>\n",
              "      <th>capital-gain</th>\n",
              "      <th>capital-loss</th>\n",
              "      <th>hours-per-week</th>\n",
              "    </tr>\n",
              "  </thead>\n",
              "  <tbody>\n",
              "    <tr>\n",
              "      <th>count</th>\n",
              "      <td>311.000000</td>\n",
              "      <td>311.000000</td>\n",
              "      <td>311.000000</td>\n",
              "      <td>311.000000</td>\n",
              "      <td>311.000000</td>\n",
              "      <td>311.000000</td>\n",
              "    </tr>\n",
              "    <tr>\n",
              "      <th>mean</th>\n",
              "      <td>37.173633</td>\n",
              "      <td>120831.147910</td>\n",
              "      <td>9.311897</td>\n",
              "      <td>625.266881</td>\n",
              "      <td>34.176849</td>\n",
              "      <td>40.048232</td>\n",
              "    </tr>\n",
              "    <tr>\n",
              "      <th>std</th>\n",
              "      <td>12.447130</td>\n",
              "      <td>88338.636336</td>\n",
              "      <td>2.310387</td>\n",
              "      <td>2753.238961</td>\n",
              "      <td>245.583106</td>\n",
              "      <td>11.695364</td>\n",
              "    </tr>\n",
              "    <tr>\n",
              "      <th>min</th>\n",
              "      <td>17.000000</td>\n",
              "      <td>12285.000000</td>\n",
              "      <td>2.000000</td>\n",
              "      <td>0.000000</td>\n",
              "      <td>0.000000</td>\n",
              "      <td>3.000000</td>\n",
              "    </tr>\n",
              "    <tr>\n",
              "      <th>25%</th>\n",
              "      <td>28.000000</td>\n",
              "      <td>35036.500000</td>\n",
              "      <td>9.000000</td>\n",
              "      <td>0.000000</td>\n",
              "      <td>0.000000</td>\n",
              "      <td>40.000000</td>\n",
              "    </tr>\n",
              "    <tr>\n",
              "      <th>50%</th>\n",
              "      <td>35.000000</td>\n",
              "      <td>102541.000000</td>\n",
              "      <td>9.000000</td>\n",
              "      <td>0.000000</td>\n",
              "      <td>0.000000</td>\n",
              "      <td>40.000000</td>\n",
              "    </tr>\n",
              "    <tr>\n",
              "      <th>75%</th>\n",
              "      <td>45.500000</td>\n",
              "      <td>176142.000000</td>\n",
              "      <td>10.000000</td>\n",
              "      <td>0.000000</td>\n",
              "      <td>0.000000</td>\n",
              "      <td>40.000000</td>\n",
              "    </tr>\n",
              "    <tr>\n",
              "      <th>max</th>\n",
              "      <td>82.000000</td>\n",
              "      <td>445168.000000</td>\n",
              "      <td>16.000000</td>\n",
              "      <td>27828.000000</td>\n",
              "      <td>1980.000000</td>\n",
              "      <td>84.000000</td>\n",
              "    </tr>\n",
              "  </tbody>\n",
              "</table>\n",
              "</div>"
            ],
            "text/plain": [
              "              age         fnlwgt  ...  capital-loss  hours-per-week\n",
              "count  311.000000     311.000000  ...    311.000000      311.000000\n",
              "mean    37.173633  120831.147910  ...     34.176849       40.048232\n",
              "std     12.447130   88338.636336  ...    245.583106       11.695364\n",
              "min     17.000000   12285.000000  ...      0.000000        3.000000\n",
              "25%     28.000000   35036.500000  ...      0.000000       40.000000\n",
              "50%     35.000000  102541.000000  ...      0.000000       40.000000\n",
              "75%     45.500000  176142.000000  ...      0.000000       40.000000\n",
              "max     82.000000  445168.000000  ...   1980.000000       84.000000\n",
              "\n",
              "[8 rows x 6 columns]"
            ]
          },
          "metadata": {},
          "execution_count": 107
        }
      ]
    },
    {
      "cell_type": "markdown",
      "metadata": {
        "id": "DMDd5yXNT2kM"
      },
      "source": [
        "8. Среди кого больше доля зарабатывающих много (>50K): среди женатых или холостых мужчин (признак marital-status)? Женатыми считаем тех, у кого marital-status начинается с Married (Married-civ-spouse, Married-spouse-absent или Married-AF-spouse), остальных считаем холостыми."
      ]
    },
    {
      "cell_type": "code",
      "metadata": {
        "colab": {
          "base_uri": "https://localhost:8080/",
          "height": 300
        },
        "id": "jJMPTO4ZlaNw",
        "outputId": "f657a99c-dd92-44c9-cd05-ef209ce41ce6"
      },
      "source": [
        "data.groupby(\"marital-status\").mean()"
      ],
      "execution_count": 120,
      "outputs": [
        {
          "output_type": "execute_result",
          "data": {
            "text/html": [
              "<div>\n",
              "<style scoped>\n",
              "    .dataframe tbody tr th:only-of-type {\n",
              "        vertical-align: middle;\n",
              "    }\n",
              "\n",
              "    .dataframe tbody tr th {\n",
              "        vertical-align: top;\n",
              "    }\n",
              "\n",
              "    .dataframe thead th {\n",
              "        text-align: right;\n",
              "    }\n",
              "</style>\n",
              "<table border=\"1\" class=\"dataframe\">\n",
              "  <thead>\n",
              "    <tr style=\"text-align: right;\">\n",
              "      <th></th>\n",
              "      <th>age</th>\n",
              "      <th>fnlwgt</th>\n",
              "      <th>education-num</th>\n",
              "      <th>capital-gain</th>\n",
              "      <th>capital-loss</th>\n",
              "      <th>hours-per-week</th>\n",
              "    </tr>\n",
              "    <tr>\n",
              "      <th>marital-status</th>\n",
              "      <th></th>\n",
              "      <th></th>\n",
              "      <th></th>\n",
              "      <th></th>\n",
              "      <th></th>\n",
              "      <th></th>\n",
              "    </tr>\n",
              "  </thead>\n",
              "  <tbody>\n",
              "    <tr>\n",
              "      <th>Divorced</th>\n",
              "      <td>43.041639</td>\n",
              "      <td>185802.790457</td>\n",
              "      <td>10.030385</td>\n",
              "      <td>728.414810</td>\n",
              "      <td>64.600720</td>\n",
              "      <td>41.246680</td>\n",
              "    </tr>\n",
              "    <tr>\n",
              "      <th>Married-AF-spouse</th>\n",
              "      <td>32.478261</td>\n",
              "      <td>188165.565217</td>\n",
              "      <td>10.173913</td>\n",
              "      <td>432.652174</td>\n",
              "      <td>0.000000</td>\n",
              "      <td>41.130435</td>\n",
              "    </tr>\n",
              "    <tr>\n",
              "      <th>Married-civ-spouse</th>\n",
              "      <td>43.247596</td>\n",
              "      <td>186763.172877</td>\n",
              "      <td>10.320646</td>\n",
              "      <td>1764.859509</td>\n",
              "      <td>122.439103</td>\n",
              "      <td>43.284856</td>\n",
              "    </tr>\n",
              "    <tr>\n",
              "      <th>Married-spouse-absent</th>\n",
              "      <td>40.578947</td>\n",
              "      <td>193141.760766</td>\n",
              "      <td>9.308612</td>\n",
              "      <td>653.983254</td>\n",
              "      <td>57.779904</td>\n",
              "      <td>39.669856</td>\n",
              "    </tr>\n",
              "    <tr>\n",
              "      <th>Never-married</th>\n",
              "      <td>28.150988</td>\n",
              "      <td>195383.308996</td>\n",
              "      <td>9.962464</td>\n",
              "      <td>376.588318</td>\n",
              "      <td>52.345502</td>\n",
              "      <td>36.939998</td>\n",
              "    </tr>\n",
              "    <tr>\n",
              "      <th>Separated</th>\n",
              "      <td>39.354146</td>\n",
              "      <td>206444.325854</td>\n",
              "      <td>9.293659</td>\n",
              "      <td>535.568780</td>\n",
              "      <td>58.110244</td>\n",
              "      <td>39.301463</td>\n",
              "    </tr>\n",
              "    <tr>\n",
              "      <th>Widowed</th>\n",
              "      <td>58.975831</td>\n",
              "      <td>174159.042296</td>\n",
              "      <td>9.093656</td>\n",
              "      <td>571.071501</td>\n",
              "      <td>79.666667</td>\n",
              "      <td>32.979859</td>\n",
              "    </tr>\n",
              "  </tbody>\n",
              "</table>\n",
              "</div>"
            ],
            "text/plain": [
              "                             age         fnlwgt  ...  capital-loss  hours-per-week\n",
              "marital-status                                   ...                              \n",
              "Divorced               43.041639  185802.790457  ...     64.600720       41.246680\n",
              "Married-AF-spouse      32.478261  188165.565217  ...      0.000000       41.130435\n",
              "Married-civ-spouse     43.247596  186763.172877  ...    122.439103       43.284856\n",
              "Married-spouse-absent  40.578947  193141.760766  ...     57.779904       39.669856\n",
              "Never-married          28.150988  195383.308996  ...     52.345502       36.939998\n",
              "Separated              39.354146  206444.325854  ...     58.110244       39.301463\n",
              "Widowed                58.975831  174159.042296  ...     79.666667       32.979859\n",
              "\n",
              "[7 rows x 6 columns]"
            ]
          },
          "metadata": {},
          "execution_count": 120
        }
      ]
    },
    {
      "cell_type": "code",
      "metadata": {
        "colab": {
          "base_uri": "https://localhost:8080/"
        },
        "id": "_zCV9ntFT93U",
        "outputId": "f28df525-1f2c-40a7-8483-3238541054cf"
      },
      "source": [
        "married = [\"Married-civ-spouse\", \"Married-spouse-absent\", \"Married-AF-spouse\"]\n",
        "not_married = [\"Divorced\", \"Never-married\", \"Separated\", \"Widowed\"]\n",
        "\n",
        "married_count = data[(data[\"sex\"] == \"Male\") & (data[\"marital-status\"].isin(married))].shape[0]\n",
        "not_married_count = data[(data[\"sex\"] == \"Male\") & (data[\"marital-status\"].isin(not_married))].shape[0]\n",
        "\n",
        "married_count_50K_more = data[(data[\"sex\"] == \"Male\") & (data[\"marital-status\"].isin(married)) & (data[\"salary\"] == \">50K\")].shape[0]\n",
        "not_married_count_50K_more = data[(data[\"sex\"] == \"Male\") & (data[\"marital-status\"].isin(not_married)) & (data[\"salary\"] == \">50K\")].shape[0]\n",
        "\n",
        "print(f\"Доля женатых, зарабатывающих более 50К - {married_count_50K_more / married_count :.{3}}\" +\n",
        "      f\"\\nДоля холостых, зарабатывающих более 50К - {not_married_count_50K_more / not_married_count :.{3}}\")"
      ],
      "execution_count": 128,
      "outputs": [
        {
          "output_type": "stream",
          "name": "stdout",
          "text": [
            "Доля женатых, зарабатывающих более 50К - 0.441\n",
            "Доля холостых, зарабатывающих более 50К - 0.0845\n"
          ]
        }
      ]
    },
    {
      "cell_type": "markdown",
      "metadata": {
        "id": "eIbIQzuST4RR"
      },
      "source": [
        "\n",
        "9. Какое максимальное число часов человек работает в неделю (признак hours-per-week)? Сколько людей работают такое количество часов и каков среди них процент зарабатывающих много?"
      ]
    },
    {
      "cell_type": "code",
      "metadata": {
        "colab": {
          "base_uri": "https://localhost:8080/"
        },
        "id": "7H5kgGeQT-Vh",
        "outputId": "d0002c69-c678-4d8d-e03e-435d87611bea"
      },
      "source": [
        "max_hour = data[\"hours-per-week\"].max()\n",
        "\n",
        "people_count_max_hour_work = data[data[\"hours-per-week\"] == max_hour].shape[0]\n",
        "\n",
        "people_cmhw_more_50K = data[(data[\"hours-per-week\"] == max_hour) & (data[\"salary\"] == \">50K\")].shape[0]\n",
        "\n",
        "print(f\"Максимальное число часов человек работает в неделю - {max_hour}\" +\n",
        "      f\"\\nЛюдей, работающих {max_hour} часов в неделю - {people_count_max_hour_work}\" +\n",
        "      f\"\\nПроцент людей зарабатываюзих много, среди людей работающих {max_hour} часов в неделю - {people_cmhw_more_50K / people_count_max_hour_work :.{3}}\")"
      ],
      "execution_count": 142,
      "outputs": [
        {
          "output_type": "stream",
          "name": "stdout",
          "text": [
            "Максимальное число часов человек работает в неделю - 99\n",
            "Людей, работающих 99 часов в неделю - 85\n",
            "Процент людей зарабатываюзих много, среди людей работающих 99 часов в неделю - 0.294\n"
          ]
        }
      ]
    },
    {
      "cell_type": "markdown",
      "metadata": {
        "id": "Cm52VprvT5zF"
      },
      "source": [
        "10. Посчитайте среднее время работы (hours-per-week) зарабатывающих мало и много (salary) для каждой страны (native-country)."
      ]
    },
    {
      "cell_type": "code",
      "metadata": {
        "colab": {
          "base_uri": "https://localhost:8080/",
          "height": 454
        },
        "id": "swkZiVy7r6AX",
        "outputId": "4e3e5dd3-3394-415d-d04b-78133455d6e9"
      },
      "source": [
        " data.groupby([\"native-country\", \"salary\"]).mean()"
      ],
      "execution_count": 156,
      "outputs": [
        {
          "output_type": "execute_result",
          "data": {
            "text/html": [
              "<div>\n",
              "<style scoped>\n",
              "    .dataframe tbody tr th:only-of-type {\n",
              "        vertical-align: middle;\n",
              "    }\n",
              "\n",
              "    .dataframe tbody tr th {\n",
              "        vertical-align: top;\n",
              "    }\n",
              "\n",
              "    .dataframe thead th {\n",
              "        text-align: right;\n",
              "    }\n",
              "</style>\n",
              "<table border=\"1\" class=\"dataframe\">\n",
              "  <thead>\n",
              "    <tr style=\"text-align: right;\">\n",
              "      <th></th>\n",
              "      <th></th>\n",
              "      <th>age</th>\n",
              "      <th>fnlwgt</th>\n",
              "      <th>education-num</th>\n",
              "      <th>capital-gain</th>\n",
              "      <th>capital-loss</th>\n",
              "      <th>hours-per-week</th>\n",
              "    </tr>\n",
              "    <tr>\n",
              "      <th>native-country</th>\n",
              "      <th>salary</th>\n",
              "      <th></th>\n",
              "      <th></th>\n",
              "      <th></th>\n",
              "      <th></th>\n",
              "      <th></th>\n",
              "      <th></th>\n",
              "    </tr>\n",
              "  </thead>\n",
              "  <tbody>\n",
              "    <tr>\n",
              "      <th rowspan=\"2\" valign=\"top\">?</th>\n",
              "      <th>&lt;=50K</th>\n",
              "      <td>36.853547</td>\n",
              "      <td>195354.379863</td>\n",
              "      <td>10.038902</td>\n",
              "      <td>113.757437</td>\n",
              "      <td>62.427918</td>\n",
              "      <td>40.164760</td>\n",
              "    </tr>\n",
              "    <tr>\n",
              "      <th>&gt;50K</th>\n",
              "      <td>44.328767</td>\n",
              "      <td>187154.513699</td>\n",
              "      <td>12.273973</td>\n",
              "      <td>6873.205479</td>\n",
              "      <td>285.397260</td>\n",
              "      <td>45.547945</td>\n",
              "    </tr>\n",
              "    <tr>\n",
              "      <th rowspan=\"2\" valign=\"top\">Cambodia</th>\n",
              "      <th>&lt;=50K</th>\n",
              "      <td>35.666667</td>\n",
              "      <td>167065.666667</td>\n",
              "      <td>7.916667</td>\n",
              "      <td>498.250000</td>\n",
              "      <td>289.833333</td>\n",
              "      <td>41.416667</td>\n",
              "    </tr>\n",
              "    <tr>\n",
              "      <th>&gt;50K</th>\n",
              "      <td>41.428571</td>\n",
              "      <td>237677.000000</td>\n",
              "      <td>10.285714</td>\n",
              "      <td>1935.714286</td>\n",
              "      <td>0.000000</td>\n",
              "      <td>40.000000</td>\n",
              "    </tr>\n",
              "    <tr>\n",
              "      <th>Canada</th>\n",
              "      <th>&lt;=50K</th>\n",
              "      <td>41.012195</td>\n",
              "      <td>169279.585366</td>\n",
              "      <td>10.243902</td>\n",
              "      <td>110.695122</td>\n",
              "      <td>145.524390</td>\n",
              "      <td>37.914634</td>\n",
              "    </tr>\n",
              "    <tr>\n",
              "      <th>...</th>\n",
              "      <th>...</th>\n",
              "      <td>...</td>\n",
              "      <td>...</td>\n",
              "      <td>...</td>\n",
              "      <td>...</td>\n",
              "      <td>...</td>\n",
              "      <td>...</td>\n",
              "    </tr>\n",
              "    <tr>\n",
              "      <th>United-States</th>\n",
              "      <th>&gt;50K</th>\n",
              "      <td>44.297169</td>\n",
              "      <td>187433.992330</td>\n",
              "      <td>11.578859</td>\n",
              "      <td>3967.286850</td>\n",
              "      <td>194.465207</td>\n",
              "      <td>45.505369</td>\n",
              "    </tr>\n",
              "    <tr>\n",
              "      <th rowspan=\"2\" valign=\"top\">Vietnam</th>\n",
              "      <th>&lt;=50K</th>\n",
              "      <td>33.951613</td>\n",
              "      <td>165028.725806</td>\n",
              "      <td>9.661290</td>\n",
              "      <td>240.193548</td>\n",
              "      <td>94.338710</td>\n",
              "      <td>37.193548</td>\n",
              "    </tr>\n",
              "    <tr>\n",
              "      <th>&gt;50K</th>\n",
              "      <td>35.400000</td>\n",
              "      <td>141648.400000</td>\n",
              "      <td>9.600000</td>\n",
              "      <td>5873.600000</td>\n",
              "      <td>0.000000</td>\n",
              "      <td>39.200000</td>\n",
              "    </tr>\n",
              "    <tr>\n",
              "      <th rowspan=\"2\" valign=\"top\">Yugoslavia</th>\n",
              "      <th>&lt;=50K</th>\n",
              "      <td>38.000000</td>\n",
              "      <td>227306.800000</td>\n",
              "      <td>9.700000</td>\n",
              "      <td>0.000000</td>\n",
              "      <td>0.000000</td>\n",
              "      <td>41.600000</td>\n",
              "    </tr>\n",
              "    <tr>\n",
              "      <th>&gt;50K</th>\n",
              "      <td>40.166667</td>\n",
              "      <td>197059.166667</td>\n",
              "      <td>10.333333</td>\n",
              "      <td>926.000000</td>\n",
              "      <td>0.000000</td>\n",
              "      <td>49.500000</td>\n",
              "    </tr>\n",
              "  </tbody>\n",
              "</table>\n",
              "<p>82 rows × 6 columns</p>\n",
              "</div>"
            ],
            "text/plain": [
              "                             age         fnlwgt  ...  capital-loss  hours-per-week\n",
              "native-country salary                            ...                              \n",
              "?              <=50K   36.853547  195354.379863  ...     62.427918       40.164760\n",
              "               >50K    44.328767  187154.513699  ...    285.397260       45.547945\n",
              "Cambodia       <=50K   35.666667  167065.666667  ...    289.833333       41.416667\n",
              "               >50K    41.428571  237677.000000  ...      0.000000       40.000000\n",
              "Canada         <=50K   41.012195  169279.585366  ...    145.524390       37.914634\n",
              "...                          ...            ...  ...           ...             ...\n",
              "United-States  >50K    44.297169  187433.992330  ...    194.465207       45.505369\n",
              "Vietnam        <=50K   33.951613  165028.725806  ...     94.338710       37.193548\n",
              "               >50K    35.400000  141648.400000  ...      0.000000       39.200000\n",
              "Yugoslavia     <=50K   38.000000  227306.800000  ...      0.000000       41.600000\n",
              "               >50K    40.166667  197059.166667  ...      0.000000       49.500000\n",
              "\n",
              "[82 rows x 6 columns]"
            ]
          },
          "metadata": {},
          "execution_count": 156
        }
      ]
    }
  ]
}
