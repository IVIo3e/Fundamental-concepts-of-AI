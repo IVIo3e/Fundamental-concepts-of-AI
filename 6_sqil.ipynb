{
  "cells": [
    {
      "cell_type": "markdown",
      "metadata": {
        "id": "PQDSU_zXGDAu"
      },
      "source": [
        "#Тетрадка 6. Имитационное обучение:  алгоритм SQIL.\n",
        "\n",
        "Научиться имитировать поведение экспертов из демонстраций может быть непросто, особенно в средах с многомерными непрерывными наблюдениями и неизвестной динамикой. Методы копирования поведения, страдают от сдвига распределения (distribution shift): поскольку агент жадно имитирует продемонстрированные действия, он может отклоняться от продемонстрированных состояний, что приводит к накоплению ошибок.\n",
        "\n",
        "Оригинальная статья: [SQIL: Imitation Learning via Reinforcement Learning with Sparse Rewards](https://arxiv.org/abs/1905.11108)\n",
        "\n",
        "В данной части мы попробуем применить идею из этой статьи для среды ``LunarLanderContinuous-v2``, воспользовавшись кодом алгоритма DDPG с прошлого семинара."
      ]
    },
    {
      "cell_type": "code",
      "execution_count": null,
      "metadata": {
        "id": "xLO7IRJuhAQJ",
        "colab": {
          "base_uri": "https://localhost:8080/"
        },
        "outputId": "89c43cf4-f184-4a21-beb1-00092d5f4aba"
      },
      "outputs": [
        {
          "output_type": "stream",
          "name": "stdout",
          "text": [
            "43 packages can be upgraded. Run 'apt list --upgradable' to see them.\n",
            "The following additional packages will be installed:\n",
            "  swig4.0\n",
            "Suggested packages:\n",
            "  swig-doc swig-examples swig4.0-examples swig4.0-doc\n",
            "The following NEW packages will be installed:\n",
            "  swig swig4.0\n",
            "0 upgraded, 2 newly installed, 0 to remove and 43 not upgraded.\n",
            "Need to get 1,116 kB of archives.\n",
            "After this operation, 5,542 kB of additional disk space will be used.\n",
            "Selecting previously unselected package swig4.0.\n",
            "(Reading database ... 121666 files and directories currently installed.)\n",
            "Preparing to unpack .../swig4.0_4.0.2-1ubuntu1_amd64.deb ...\n",
            "Unpacking swig4.0 (4.0.2-1ubuntu1) ...\n",
            "Selecting previously unselected package swig.\n",
            "Preparing to unpack .../swig_4.0.2-1ubuntu1_all.deb ...\n",
            "Unpacking swig (4.0.2-1ubuntu1) ...\n",
            "Setting up swig4.0 (4.0.2-1ubuntu1) ...\n",
            "Setting up swig (4.0.2-1ubuntu1) ...\n",
            "Processing triggers for man-db (2.10.2-1) ...\n",
            "\u001b[2K     \u001b[90m━━━━━━━━━━━━━━━━━━━━━━━━━━━━━━━━━━━━━━━━\u001b[0m \u001b[32m374.5/374.5 kB\u001b[0m \u001b[31m1.7 MB/s\u001b[0m eta \u001b[36m0:00:00\u001b[0m\n",
            "\u001b[?25h  Preparing metadata (setup.py) ... \u001b[?25l\u001b[?25hdone\n",
            "  Building wheel for box2d-py (setup.py) ... \u001b[?25l\u001b[?25hdone\n",
            "\u001b[2K     \u001b[90m━━━━━━━━━━━━━━━━━━━━━━━━━━━━━━━━━━━━━━━━\u001b[0m \u001b[32m953.9/953.9 kB\u001b[0m \u001b[31m14.4 MB/s\u001b[0m eta \u001b[36m0:00:00\u001b[0m\n",
            "\u001b[2K     \u001b[90m━━━━━━━━━━━━━━━━━━━━━━━━━━━━━━━━━━━━━━━━\u001b[0m \u001b[32m374.4/374.4 kB\u001b[0m \u001b[31m35.7 MB/s\u001b[0m eta \u001b[36m0:00:00\u001b[0m\n",
            "\u001b[?25h  Preparing metadata (setup.py) ... \u001b[?25l\u001b[?25hdone\n",
            "\u001b[2K     \u001b[90m━━━━━━━━━━━━━━━━━━━━━━━━━━━━━━━━━━━━━━━━\u001b[0m \u001b[32m1.8/1.8 MB\u001b[0m \u001b[31m73.9 MB/s\u001b[0m eta \u001b[36m0:00:00\u001b[0m\n",
            "\u001b[2K     \u001b[90m━━━━━━━━━━━━━━━━━━━━━━━━━━━━━━━━━━━━━━━━\u001b[0m \u001b[32m434.7/434.7 kB\u001b[0m \u001b[31m45.1 MB/s\u001b[0m eta \u001b[36m0:00:00\u001b[0m\n",
            "\u001b[?25h  Installing build dependencies ... \u001b[?25l\u001b[?25hdone\n",
            "  Getting requirements to build wheel ... \u001b[?25l\u001b[?25hdone\n",
            "  Preparing metadata (pyproject.toml) ... \u001b[?25l\u001b[?25hdone\n",
            "\u001b[2K     \u001b[90m━━━━━━━━━━━━━━━━━━━━━━━━━━━━━━━━━━━━━━━━\u001b[0m \u001b[32m1.7/1.7 MB\u001b[0m \u001b[31m55.5 MB/s\u001b[0m eta \u001b[36m0:00:00\u001b[0m\n",
            "\u001b[?25h  Building wheel for box2d-py (setup.py) ... \u001b[?25l\u001b[?25hdone\n",
            "  Building wheel for AutoROM.accept-rom-license (pyproject.toml) ... \u001b[?25l\u001b[?25hdone\n",
            "\u001b[2K     \u001b[90m━━━━━━━━━━━━━━━━━━━━━━━━━━━━━━━━━━━━━━━━\u001b[0m \u001b[32m67.5/67.5 kB\u001b[0m \u001b[31m1.8 MB/s\u001b[0m eta \u001b[36m0:00:00\u001b[0m\n",
            "\u001b[?25h"
          ]
        }
      ],
      "source": [
        "# @title Установка зависимостей\n",
        "try:\n",
        "    import google.colab\n",
        "    COLAB = True\n",
        "except ModuleNotFoundError:\n",
        "    COLAB = False\n",
        "    pass\n",
        "\n",
        "if COLAB:\n",
        "    !apt -qq update -y\n",
        "    !apt -qq install swig -y\n",
        "    !pip -q install box2d-py\n",
        "    !pip -q install \"gymnasium[classic-control, box2d, atari, accept-rom-license]\"\n",
        "    !pip -q install piglet\n",
        "    !pip -q install imageio_ffmpeg\n",
        "    !pip -q install moviepy==1.0.3"
      ]
    },
    {
      "cell_type": "code",
      "execution_count": null,
      "metadata": {
        "id": "CZPVELn-GDAu",
        "cellView": "form",
        "colab": {
          "base_uri": "https://localhost:8080/"
        },
        "outputId": "9dfd610c-b831-415e-b420-9a1f5da3bb64"
      },
      "outputs": [
        {
          "output_type": "stream",
          "name": "stdout",
          "text": [
            "cuda\n"
          ]
        }
      ],
      "source": [
        "# @title Импортирование зависимостей\n",
        "import math\n",
        "import random\n",
        "\n",
        "import gymnasium as gym\n",
        "import numpy as np\n",
        "\n",
        "import torch\n",
        "import torch.nn as nn\n",
        "import torch.optim as optim\n",
        "import torch.nn.functional as F\n",
        "from torch.distributions import Normal\n",
        "\n",
        "# библиотеки и функции, которые потребуеются для показа видео\n",
        "import glob\n",
        "import io\n",
        "import base64\n",
        "from IPython import display as ipythondisplay\n",
        "from IPython.display import HTML\n",
        "import matplotlib.pyplot as plt\n",
        "from gymnasium.wrappers.record_video import RecordVideo\n",
        "\n",
        "%matplotlib inline\n",
        "\n",
        "import warnings\n",
        "warnings.filterwarnings(\"ignore\", category=DeprecationWarning)\n",
        "\n",
        "\n",
        "def show_video(folder=\"./video\"):\n",
        "    mp4list = glob.glob(folder + '/*.mp4')\n",
        "    if len(mp4list) > 0:\n",
        "        mp4 = sorted(mp4list, key=lambda x: x[-15:], reverse=True)[0]\n",
        "        video = io.open(mp4, 'r+b').read()\n",
        "        encoded = base64.b64encode(video)\n",
        "        ipythondisplay.display(HTML(data='''<video alt=\"test\" autoplay\n",
        "                loop controls style=\"height: 400px;\">\n",
        "                <source src=\"data:video/mp4;base64,{0}\" type=\"video/mp4\" />\n",
        "             </video>'''.format(encoded.decode('ascii'))))\n",
        "    else:\n",
        "        print(\"Could not find video\")\n",
        "\n",
        "\n",
        "def show_progress(rewards_batch, log, reward_range=None):\n",
        "    \"\"\"\n",
        "    Удобная функция, которая отображает прогресс обучения.\n",
        "    \"\"\"\n",
        "\n",
        "    if reward_range is None:\n",
        "        reward_range = [-990, +10]\n",
        "    mean_reward = np.mean(rewards_batch)\n",
        "    log.append([mean_reward])\n",
        "\n",
        "    clear_output(True)\n",
        "    plt.figure(figsize=[8, 4])\n",
        "    plt.subplot(1, 2, 1)\n",
        "    plt.plot(list(zip(*log))[0], label='Mean rewards')\n",
        "    plt.legend(loc=4)\n",
        "    plt.grid()\n",
        "    plt.grid()\n",
        "    plt.show()\n",
        "\n",
        "use_cuda = torch.cuda.is_available()\n",
        "device = torch.device(\"cuda\" if use_cuda else \"cpu\")\n",
        "\n",
        "print(device)"
      ]
    },
    {
      "cell_type": "markdown",
      "metadata": {
        "id": "WpRWeOaSS4JN"
      },
      "source": [
        "# Нормализация действия и добавление шума:"
      ]
    },
    {
      "cell_type": "code",
      "execution_count": null,
      "metadata": {
        "id": "WkrMry8US3l2"
      },
      "outputs": [],
      "source": [
        "class NormalizedActions(gym.ActionWrapper):\n",
        "\n",
        "    def action(self, action):\n",
        "        low_bound = self.action_space.low\n",
        "        upper_bound = self.action_space.high\n",
        "        # [L, M, R]\n",
        "        # actions are in [-1, 1]\n",
        "        ####### Здесь ваш код ########\n",
        "        action = low_bound + (action + 1.0) * 0.5 * (upper_bound - low_bound)\n",
        "        ##############################\n",
        "        action = np.clip(action, low_bound, upper_bound)\n",
        "\n",
        "        return action\n",
        "\n",
        "    def reverse_action(self, action):\n",
        "        pass\n",
        "\n",
        "\n",
        "class GaussNoise:\n",
        "\n",
        "    def __init__(self, sigma):\n",
        "        super().__init__()\n",
        "\n",
        "        self.sigma = sigma\n",
        "\n",
        "    def get_action(self, action):\n",
        "        # add normal noise\n",
        "        ####### Здесь ваш код ########\n",
        "        noisy_action = np.random.normal(action, self.sigma)\n",
        "        ##############################\n",
        "        return noisy_action"
      ]
    },
    {
      "cell_type": "markdown",
      "metadata": {
        "id": "ESkyAhamS6ps"
      },
      "source": [
        "# Value и Policy сети:"
      ]
    },
    {
      "cell_type": "code",
      "execution_count": null,
      "metadata": {
        "id": "PMnBtE_lS7vy"
      },
      "outputs": [],
      "source": [
        "class ValueNetwork(nn.Module):\n",
        "    def __init__(\n",
        "            self,\n",
        "            num_inputs,\n",
        "            num_actions,\n",
        "            hidden_size,\n",
        "    ):\n",
        "        super().__init__()\n",
        "        # add 3 linear layers\n",
        "        ####### Здесь ваш код ########\n",
        "        self.net = nn.Sequential(\n",
        "            nn.Linear(num_inputs + num_actions, hidden_size),\n",
        "            nn.Tanh(),\n",
        "            nn.Linear(hidden_size, hidden_size),\n",
        "            nn.Tanh(),\n",
        "            nn.Linear(hidden_size, hidden_size),\n",
        "            nn.Tanh(),\n",
        "            nn.Linear(hidden_size, hidden_size),\n",
        "            nn.Tanh(),\n",
        "            nn.Linear(hidden_size, 1)\n",
        "        )\n",
        "        ##############################\n",
        "\n",
        "    def forward(self, state, action):\n",
        "        x = torch.cat([state, action], 1)\n",
        "        x = self.net(x)\n",
        "        return x\n",
        "\n",
        "\n",
        "class PolicyNetwork(nn.Module):\n",
        "    def __init__(\n",
        "            self,\n",
        "            num_inputs,\n",
        "            num_actions,\n",
        "            hidden_size,\n",
        "    ):\n",
        "        super().__init__()\n",
        "\n",
        "        # определяем граф вычисления для Policy Network\n",
        "        # add 3 linear layers\n",
        "        ####### Здесь ваш код ########\n",
        "        self.net = nn.Sequential(\n",
        "            nn.Linear(num_inputs, hidden_size),\n",
        "            nn.Tanh(),\n",
        "            nn.Linear(hidden_size, hidden_size),\n",
        "            nn.Tanh(),\n",
        "            nn.Linear(hidden_size, hidden_size),\n",
        "            nn.Tanh(),\n",
        "            nn.Linear(hidden_size, hidden_size),\n",
        "            nn.Tanh(),\n",
        "            nn.Linear(hidden_size, num_actions),\n",
        "            nn.Tanh()\n",
        "        )\n",
        "        ##############################\n",
        "\n",
        "    def forward(self, state):\n",
        "        # определяем прямой проход по графу вычислений\n",
        "        # x =\n",
        "        x = state\n",
        "        x = self.net(x)\n",
        "        return x\n",
        "\n",
        "    def get_action(self, state):\n",
        "        \"\"\"\n",
        "        функция для выбора действия\n",
        "        \"\"\"\n",
        "        state = torch.tensor(state, dtype=torch.float32).unsqueeze(0).to(device)\n",
        "        action = self.forward(state)\n",
        "        action = action.detach().cpu().numpy()[0]\n",
        "        action = np.clip(action, -1.0, 1.0)\n",
        "\n",
        "        return action"
      ]
    },
    {
      "cell_type": "markdown",
      "metadata": {
        "id": "Zz8GYof-S8gr"
      },
      "source": [
        "# DDPG обновление\n",
        "\n",
        "<img src=\"https://spinningup.openai.com/en/latest/_images/math/5811066e89799e65be299ec407846103fcf1f746.svg\">\n",
        "\n",
        "Оригинальная статья:  <a href=\"https://arxiv.org/abs/1509.02971\">Continuous control with deep reinforcement learning Arxiv</a>"
      ]
    },
    {
      "cell_type": "code",
      "execution_count": null,
      "metadata": {
        "id": "yG2548uTS-WL"
      },
      "outputs": [],
      "source": [
        "def ddpg_update(\n",
        "        state,\n",
        "        action,\n",
        "        reward,\n",
        "        next_state,\n",
        "        done,\n",
        "        gamma=0.99,\n",
        "        min_value=-np.inf,\n",
        "        max_value=np.inf,\n",
        "        soft_tau=0.001,\n",
        "):\n",
        "    state = torch.tensor(state, dtype=torch.float32).to(device)\n",
        "    next_state = torch.tensor(next_state, dtype=torch.float32).to(device)\n",
        "    action = torch.tensor(action, dtype=torch.float32).to(device)\n",
        "    reward = torch.tensor(reward, dtype=torch.float32).unsqueeze(1).to(device)\n",
        "    done = torch.tensor(np.float32(done)).unsqueeze(1).to(device)\n",
        "\n",
        "    # считаем policy loss по формуле выше, используя value_net\n",
        "    ####### Здесь ваш код ########\n",
        "    policy_loss = -value_net(state, policy_net(state)).mean()\n",
        "    ##############################\n",
        "\n",
        "    next_action = target_policy_net(next_state)\n",
        "    target_value = target_value_net(next_state, next_action.detach())\n",
        "    # считаем таргет Q функцию\n",
        "    ####### Здесь ваш код ########\n",
        "    expected_value = reward + gamma * target_value * (1.0 - done)\n",
        "    ##############################\n",
        "    expected_value = torch.clamp(expected_value, min_value, max_value)\n",
        "\n",
        "    value = value_net(state, action)\n",
        "    value_loss = nn.MSELoss()(value, expected_value.detach())\n",
        "\n",
        "\n",
        "    policy_optimizer.zero_grad()\n",
        "    policy_loss.backward()\n",
        "    policy_optimizer.step()\n",
        "\n",
        "    value_optimizer.zero_grad()\n",
        "    value_loss.backward()\n",
        "    value_optimizer.step()\n",
        "\n",
        "    for target_param, param in zip(target_value_net.parameters(), value_net.parameters()):\n",
        "        target_param.data.copy_(\n",
        "            target_param.data * (1.0 - soft_tau) + param.data * soft_tau\n",
        "        )\n",
        "\n",
        "    for target_param, param in zip(target_policy_net.parameters(), policy_net.parameters()):\n",
        "        target_param.data.copy_(\n",
        "            target_param.data * (1.0 - soft_tau) + param.data * soft_tau\n",
        "        )"
      ]
    },
    {
      "cell_type": "markdown",
      "metadata": {
        "id": "nv9a_CeQTAO_"
      },
      "source": [
        "# Стандартная и комбинированная память прецедентов:  "
      ]
    },
    {
      "cell_type": "code",
      "execution_count": null,
      "metadata": {
        "id": "JyIcEo8US_GS"
      },
      "outputs": [],
      "source": [
        "class ReplayBuffer:\n",
        "    def __init__(self, capacity):\n",
        "        self.capacity = capacity\n",
        "        self.buffer = []\n",
        "        self.position = 0\n",
        "\n",
        "    def push(self, state, action, reward, next_state, done):\n",
        "        if len(self.buffer) < self.capacity:\n",
        "            self.buffer.append(None)\n",
        "        self.buffer[self.position] = (state, action, reward, next_state, done)\n",
        "        self.position = (self.position + 1) % self.capacity\n",
        "\n",
        "    def sample(self, batch_size):\n",
        "        batch = random.sample(self.buffer, batch_size)\n",
        "        state, action, reward, next_state, done = map(np.stack, zip(*batch))\n",
        "        return state, action, reward, next_state, done\n",
        "\n",
        "    def __len__(self):\n",
        "        return len(self.buffer)\n",
        "\n",
        "\n",
        "class CombinedReplayBuffer:\n",
        "    def __init__(self, capacity):\n",
        "        self.capacity = capacity\n",
        "        self.demo = ReplayBuffer(self.capacity)\n",
        "        self.agent = ReplayBuffer(self.capacity)\n",
        "\n",
        "    def push_demo(self, state, action, reward, next_state, smart_done):\n",
        "        # модифицируем вознаграждения, как этого предусматривает алгоритм SQIL\n",
        "        # reward =\n",
        "        ####### Здесь ваш код ########\n",
        "        reward = 1\n",
        "        ##############################\n",
        "        self.demo.push(state, action, reward, next_state, smart_done)\n",
        "\n",
        "    def push(self, state, action, reward, next_state, smart_done):\n",
        "        # модифицируем вознаграждения, как этого предусматривает алгоритм SQIL\n",
        "        # reward =\n",
        "        ####### Здесь ваш код ########\n",
        "        reward = 0\n",
        "        ##############################\n",
        "        self.agent.push(state, action, reward, next_state, smart_done)\n",
        "\n",
        "\n",
        "    def sample(self, batch_size):\n",
        "        demo_batch_size = min(batch_size // 2, len(self.demo))\n",
        "        # набираем данные из обоих буферов\n",
        "        ####### Здесь ваш код ########\n",
        "        states, actions, rewards, next_states, dones = self.agent.sample(batch_size - demo_batch_size)\n",
        "        demo_states, demo_actions, demo_rewards, demo_next_states, demo_dones = self.demo.sample(demo_batch_size)\n",
        "        ##############################\n",
        "\n",
        "        return np.concatenate([states, demo_states]), \\\n",
        "               np.concatenate([actions, demo_actions]), \\\n",
        "               np.concatenate([rewards, demo_rewards]), \\\n",
        "               np.concatenate([next_states, demo_next_states]), \\\n",
        "               np.concatenate([dones, demo_dones])\n",
        "\n",
        "    def __len__(self):\n",
        "        return len(self.demo) + len(self.agent)"
      ]
    },
    {
      "cell_type": "markdown",
      "metadata": {
        "id": "Nk7is64CTCQH"
      },
      "source": [
        " # Метод ``generate_session``\n"
      ]
    },
    {
      "cell_type": "code",
      "execution_count": null,
      "metadata": {
        "id": "_IyL6wkFTDuY"
      },
      "outputs": [],
      "source": [
        "def generate_session(train=False):\n",
        "    \"\"\"эпизод взаимодействие агента со средой, а также вызов процесса обучения\"\"\"\n",
        "    total_reward = 0\n",
        "    state = env.reset()\n",
        "\n",
        "    done = False\n",
        "    while not done:\n",
        "        action = policy_net.get_action(state)\n",
        "        if train:\n",
        "            action = noise.get_action(action)\n",
        "        next_state, reward, term, trunc = env.step(action)\n",
        "        done = term or trunc\n",
        "        if train:\n",
        "            replay_buffer.push(state, action, reward, next_state, term)\n",
        "            if len(replay_buffer) > replay_buffer_size + 250:\n",
        "                ddpg_update(*replay_buffer.sample(batch_size))\n",
        "        total_reward += reward\n",
        "        state = next_state\n",
        "        if done:\n",
        "            break\n",
        "\n",
        "    return total_reward"
      ]
    },
    {
      "cell_type": "code",
      "source": [
        "!apt-get install -y \\\n",
        "    libgl1-mesa-dev \\\n",
        "    libgl1-mesa-glx \\\n",
        "    libglew-dev \\\n",
        "    libosmesa6-dev \\\n",
        "    software-properties-common\n",
        "\n",
        "!apt-get install -y patchelf\n",
        "!pip install mujoco_py==2.0.2.8\n",
        "!pip install free-mujoco-py\n",
        "!pip install git+https://github.com/Farama-Foundation/d4rl@master#egg=d4rl\n"
      ],
      "metadata": {
        "id": "MmSi3ezp4dTU",
        "outputId": "4768e462-6c2f-4121-e009-eb3fd0e0bf8b",
        "colab": {
          "base_uri": "https://localhost:8080/",
          "height": 1000
        }
      },
      "execution_count": null,
      "outputs": [
        {
          "output_type": "stream",
          "name": "stdout",
          "text": [
            "Reading package lists... Done\n",
            "Building dependency tree... Done\n",
            "Reading state information... Done\n",
            "software-properties-common is already the newest version (0.99.22.8).\n",
            "The following additional packages will be installed:\n",
            "  libegl-dev libgl-dev libgles-dev libgles1 libglu1-mesa libglu1-mesa-dev libglvnd-core-dev\n",
            "  libglvnd-dev libglx-dev libopengl-dev libosmesa6\n",
            "The following NEW packages will be installed:\n",
            "  libegl-dev libgl-dev libgl1-mesa-dev libgl1-mesa-glx libgles-dev libgles1 libglew-dev\n",
            "  libglu1-mesa libglu1-mesa-dev libglvnd-core-dev libglvnd-dev libglx-dev libopengl-dev libosmesa6\n",
            "  libosmesa6-dev\n",
            "0 upgraded, 15 newly installed, 0 to remove and 43 not upgraded.\n",
            "Need to get 3,952 kB of archives.\n",
            "After this operation, 18.7 MB of additional disk space will be used.\n",
            "Get:1 http://archive.ubuntu.com/ubuntu jammy/main amd64 libglx-dev amd64 1.4.0-1 [14.1 kB]\n",
            "Get:2 http://archive.ubuntu.com/ubuntu jammy/main amd64 libgl-dev amd64 1.4.0-1 [101 kB]\n",
            "Get:3 http://archive.ubuntu.com/ubuntu jammy/main amd64 libegl-dev amd64 1.4.0-1 [18.0 kB]\n",
            "Get:4 http://archive.ubuntu.com/ubuntu jammy-updates/universe amd64 libgl1-mesa-glx amd64 23.0.4-0ubuntu1~22.04.1 [5,584 B]\n",
            "Get:5 http://archive.ubuntu.com/ubuntu jammy/main amd64 libgles1 amd64 1.4.0-1 [11.5 kB]\n",
            "Get:6 http://archive.ubuntu.com/ubuntu jammy/main amd64 libgles-dev amd64 1.4.0-1 [49.4 kB]\n",
            "Get:7 http://archive.ubuntu.com/ubuntu jammy/main amd64 libglvnd-core-dev amd64 1.4.0-1 [12.7 kB]\n",
            "Get:8 http://archive.ubuntu.com/ubuntu jammy/main amd64 libopengl-dev amd64 1.4.0-1 [3,400 B]\n",
            "Get:9 http://archive.ubuntu.com/ubuntu jammy/main amd64 libglvnd-dev amd64 1.4.0-1 [3,162 B]\n",
            "Get:10 http://archive.ubuntu.com/ubuntu jammy-updates/main amd64 libgl1-mesa-dev amd64 23.0.4-0ubuntu1~22.04.1 [6,510 B]\n",
            "Get:11 http://archive.ubuntu.com/ubuntu jammy/main amd64 libglu1-mesa amd64 9.0.2-1 [145 kB]\n",
            "Get:12 http://archive.ubuntu.com/ubuntu jammy/main amd64 libglu1-mesa-dev amd64 9.0.2-1 [231 kB]\n",
            "Get:13 http://archive.ubuntu.com/ubuntu jammy/universe amd64 libglew-dev amd64 2.2.0-4 [287 kB]\n",
            "Get:14 http://archive.ubuntu.com/ubuntu jammy-updates/main amd64 libosmesa6 amd64 23.0.4-0ubuntu1~22.04.1 [3,054 kB]\n",
            "Get:15 http://archive.ubuntu.com/ubuntu jammy-updates/main amd64 libosmesa6-dev amd64 23.0.4-0ubuntu1~22.04.1 [8,986 B]\n",
            "Fetched 3,952 kB in 3s (1,541 kB/s)\n",
            "Selecting previously unselected package libglx-dev:amd64.\n",
            "(Reading database ... 122419 files and directories currently installed.)\n",
            "Preparing to unpack .../00-libglx-dev_1.4.0-1_amd64.deb ...\n",
            "Unpacking libglx-dev:amd64 (1.4.0-1) ...\n",
            "Selecting previously unselected package libgl-dev:amd64.\n",
            "Preparing to unpack .../01-libgl-dev_1.4.0-1_amd64.deb ...\n",
            "Unpacking libgl-dev:amd64 (1.4.0-1) ...\n",
            "Selecting previously unselected package libegl-dev:amd64.\n",
            "Preparing to unpack .../02-libegl-dev_1.4.0-1_amd64.deb ...\n",
            "Unpacking libegl-dev:amd64 (1.4.0-1) ...\n",
            "Selecting previously unselected package libgl1-mesa-glx:amd64.\n",
            "Preparing to unpack .../03-libgl1-mesa-glx_23.0.4-0ubuntu1~22.04.1_amd64.deb ...\n",
            "Unpacking libgl1-mesa-glx:amd64 (23.0.4-0ubuntu1~22.04.1) ...\n",
            "Selecting previously unselected package libgles1:amd64.\n",
            "Preparing to unpack .../04-libgles1_1.4.0-1_amd64.deb ...\n",
            "Unpacking libgles1:amd64 (1.4.0-1) ...\n",
            "Selecting previously unselected package libgles-dev:amd64.\n",
            "Preparing to unpack .../05-libgles-dev_1.4.0-1_amd64.deb ...\n",
            "Unpacking libgles-dev:amd64 (1.4.0-1) ...\n",
            "Selecting previously unselected package libglvnd-core-dev:amd64.\n",
            "Preparing to unpack .../06-libglvnd-core-dev_1.4.0-1_amd64.deb ...\n",
            "Unpacking libglvnd-core-dev:amd64 (1.4.0-1) ...\n",
            "Selecting previously unselected package libopengl-dev:amd64.\n",
            "Preparing to unpack .../07-libopengl-dev_1.4.0-1_amd64.deb ...\n",
            "Unpacking libopengl-dev:amd64 (1.4.0-1) ...\n",
            "Selecting previously unselected package libglvnd-dev:amd64.\n",
            "Preparing to unpack .../08-libglvnd-dev_1.4.0-1_amd64.deb ...\n",
            "Unpacking libglvnd-dev:amd64 (1.4.0-1) ...\n",
            "Selecting previously unselected package libgl1-mesa-dev:amd64.\n",
            "Preparing to unpack .../09-libgl1-mesa-dev_23.0.4-0ubuntu1~22.04.1_amd64.deb ...\n",
            "Unpacking libgl1-mesa-dev:amd64 (23.0.4-0ubuntu1~22.04.1) ...\n",
            "Selecting previously unselected package libglu1-mesa:amd64.\n",
            "Preparing to unpack .../10-libglu1-mesa_9.0.2-1_amd64.deb ...\n",
            "Unpacking libglu1-mesa:amd64 (9.0.2-1) ...\n",
            "Selecting previously unselected package libglu1-mesa-dev:amd64.\n",
            "Preparing to unpack .../11-libglu1-mesa-dev_9.0.2-1_amd64.deb ...\n",
            "Unpacking libglu1-mesa-dev:amd64 (9.0.2-1) ...\n",
            "Selecting previously unselected package libglew-dev:amd64.\n",
            "Preparing to unpack .../12-libglew-dev_2.2.0-4_amd64.deb ...\n",
            "Unpacking libglew-dev:amd64 (2.2.0-4) ...\n",
            "Selecting previously unselected package libosmesa6:amd64.\n",
            "Preparing to unpack .../13-libosmesa6_23.0.4-0ubuntu1~22.04.1_amd64.deb ...\n",
            "Unpacking libosmesa6:amd64 (23.0.4-0ubuntu1~22.04.1) ...\n",
            "Selecting previously unselected package libosmesa6-dev:amd64.\n",
            "Preparing to unpack .../14-libosmesa6-dev_23.0.4-0ubuntu1~22.04.1_amd64.deb ...\n",
            "Unpacking libosmesa6-dev:amd64 (23.0.4-0ubuntu1~22.04.1) ...\n",
            "Setting up libglvnd-core-dev:amd64 (1.4.0-1) ...\n",
            "Setting up libgles1:amd64 (1.4.0-1) ...\n",
            "Setting up libgl1-mesa-glx:amd64 (23.0.4-0ubuntu1~22.04.1) ...\n",
            "Setting up libglx-dev:amd64 (1.4.0-1) ...\n",
            "Setting up libglu1-mesa:amd64 (9.0.2-1) ...\n",
            "Setting up libopengl-dev:amd64 (1.4.0-1) ...\n",
            "Setting up libgl-dev:amd64 (1.4.0-1) ...\n",
            "Setting up libosmesa6:amd64 (23.0.4-0ubuntu1~22.04.1) ...\n",
            "Setting up libegl-dev:amd64 (1.4.0-1) ...\n",
            "Setting up libglu1-mesa-dev:amd64 (9.0.2-1) ...\n",
            "Setting up libosmesa6-dev:amd64 (23.0.4-0ubuntu1~22.04.1) ...\n",
            "Setting up libgles-dev:amd64 (1.4.0-1) ...\n",
            "Setting up libglvnd-dev:amd64 (1.4.0-1) ...\n",
            "Setting up libglew-dev:amd64 (2.2.0-4) ...\n",
            "Setting up libgl1-mesa-dev:amd64 (23.0.4-0ubuntu1~22.04.1) ...\n",
            "Processing triggers for libc-bin (2.35-0ubuntu3.4) ...\n",
            "/sbin/ldconfig.real: /usr/local/lib/libtbbbind_2_5.so.3 is not a symbolic link\n",
            "\n",
            "/sbin/ldconfig.real: /usr/local/lib/libtbb.so.12 is not a symbolic link\n",
            "\n",
            "/sbin/ldconfig.real: /usr/local/lib/libtbbmalloc_proxy.so.2 is not a symbolic link\n",
            "\n",
            "/sbin/ldconfig.real: /usr/local/lib/libtbbbind.so.3 is not a symbolic link\n",
            "\n",
            "/sbin/ldconfig.real: /usr/local/lib/libtbbbind_2_0.so.3 is not a symbolic link\n",
            "\n",
            "/sbin/ldconfig.real: /usr/local/lib/libtbbmalloc.so.2 is not a symbolic link\n",
            "\n",
            "Reading package lists... Done\n",
            "Building dependency tree... Done\n",
            "Reading state information... Done\n",
            "The following NEW packages will be installed:\n",
            "  patchelf\n",
            "0 upgraded, 1 newly installed, 0 to remove and 43 not upgraded.\n",
            "Need to get 72.1 kB of archives.\n",
            "After this operation, 186 kB of additional disk space will be used.\n",
            "Get:1 http://archive.ubuntu.com/ubuntu jammy/universe amd64 patchelf amd64 0.14.3-1 [72.1 kB]\n",
            "Fetched 72.1 kB in 1s (69.4 kB/s)\n",
            "Selecting previously unselected package patchelf.\n",
            "(Reading database ... 122559 files and directories currently installed.)\n",
            "Preparing to unpack .../patchelf_0.14.3-1_amd64.deb ...\n",
            "Unpacking patchelf (0.14.3-1) ...\n",
            "Setting up patchelf (0.14.3-1) ...\n",
            "Processing triggers for man-db (2.10.2-1) ...\n",
            "Collecting mujoco_py==2.0.2.8\n",
            "  Downloading mujoco_py-2.0.2.8-py3-none-any.whl (4.0 MB)\n",
            "\u001b[2K     \u001b[90m━━━━━━━━━━━━━━━━━━━━━━━━━━━━━━━━━━━━━━━━\u001b[0m \u001b[32m4.0/4.0 MB\u001b[0m \u001b[31m21.3 MB/s\u001b[0m eta \u001b[36m0:00:00\u001b[0m\n",
            "\u001b[?25hCollecting glfw>=1.4.0 (from mujoco_py==2.0.2.8)\n",
            "  Downloading glfw-2.6.4-py2.py27.py3.py30.py31.py32.py33.py34.py35.py36.py37.py38-none-manylinux2014_x86_64.whl (211 kB)\n",
            "\u001b[2K     \u001b[90m━━━━━━━━━━━━━━━━━━━━━━━━━━━━━━━━━━━━━━━━\u001b[0m \u001b[32m211.8/211.8 kB\u001b[0m \u001b[31m24.0 MB/s\u001b[0m eta \u001b[36m0:00:00\u001b[0m\n",
            "\u001b[?25hRequirement already satisfied: numpy>=1.11 in /usr/local/lib/python3.10/dist-packages (from mujoco_py==2.0.2.8) (1.23.5)\n",
            "Requirement already satisfied: Cython>=0.27.2 in /usr/local/lib/python3.10/dist-packages (from mujoco_py==2.0.2.8) (3.0.6)\n",
            "Requirement already satisfied: imageio>=2.1.2 in /usr/local/lib/python3.10/dist-packages (from mujoco_py==2.0.2.8) (2.31.6)\n",
            "Requirement already satisfied: cffi>=1.10 in /usr/local/lib/python3.10/dist-packages (from mujoco_py==2.0.2.8) (1.16.0)\n",
            "Collecting fasteners~=0.15 (from mujoco_py==2.0.2.8)\n",
            "  Downloading fasteners-0.19-py3-none-any.whl (18 kB)\n",
            "Requirement already satisfied: pycparser in /usr/local/lib/python3.10/dist-packages (from cffi>=1.10->mujoco_py==2.0.2.8) (2.21)\n",
            "Requirement already satisfied: pillow<10.1.0,>=8.3.2 in /usr/local/lib/python3.10/dist-packages (from imageio>=2.1.2->mujoco_py==2.0.2.8) (9.4.0)\n",
            "Installing collected packages: glfw, fasteners, mujoco_py\n",
            "Successfully installed fasteners-0.19 glfw-2.6.4 mujoco_py-2.0.2.8\n",
            "Collecting free-mujoco-py\n",
            "  Downloading free_mujoco_py-2.1.6-py3-none-any.whl (14.1 MB)\n",
            "\u001b[2K     \u001b[90m━━━━━━━━━━━━━━━━━━━━━━━━━━━━━━━━━━━━━━━━\u001b[0m \u001b[32m14.1/14.1 MB\u001b[0m \u001b[31m39.4 MB/s\u001b[0m eta \u001b[36m0:00:00\u001b[0m\n",
            "\u001b[?25hCollecting Cython<0.30.0,>=0.29.24 (from free-mujoco-py)\n",
            "  Downloading Cython-0.29.36-cp310-cp310-manylinux_2_17_x86_64.manylinux2014_x86_64.manylinux_2_24_x86_64.whl (1.9 MB)\n",
            "\u001b[2K     \u001b[90m━━━━━━━━━━━━━━━━━━━━━━━━━━━━━━━━━━━━━━━━\u001b[0m \u001b[32m1.9/1.9 MB\u001b[0m \u001b[31m81.7 MB/s\u001b[0m eta \u001b[36m0:00:00\u001b[0m\n",
            "\u001b[?25hRequirement already satisfied: cffi<2.0.0,>=1.15.0 in /usr/local/lib/python3.10/dist-packages (from free-mujoco-py) (1.16.0)\n",
            "Collecting fasteners==0.15 (from free-mujoco-py)\n",
            "  Downloading fasteners-0.15-py2.py3-none-any.whl (23 kB)\n",
            "Collecting glfw<2.0.0,>=1.4.0 (from free-mujoco-py)\n",
            "  Downloading glfw-1.12.0-py2.py27.py3.py30.py31.py32.py33.py34.py35.py36.py37.py38-none-manylinux2014_x86_64.whl (203 kB)\n",
            "\u001b[2K     \u001b[90m━━━━━━━━━━━━━━━━━━━━━━━━━━━━━━━━━━━━━━━━\u001b[0m \u001b[32m203.7/203.7 kB\u001b[0m \u001b[31m26.6 MB/s\u001b[0m eta \u001b[36m0:00:00\u001b[0m\n",
            "\u001b[?25hRequirement already satisfied: imageio<3.0.0,>=2.9.0 in /usr/local/lib/python3.10/dist-packages (from free-mujoco-py) (2.31.6)\n",
            "Requirement already satisfied: numpy<2.0.0,>=1.21.3 in /usr/local/lib/python3.10/dist-packages (from free-mujoco-py) (1.23.5)\n",
            "Requirement already satisfied: six in /usr/local/lib/python3.10/dist-packages (from fasteners==0.15->free-mujoco-py) (1.16.0)\n",
            "Collecting monotonic>=0.1 (from fasteners==0.15->free-mujoco-py)\n",
            "  Downloading monotonic-1.6-py2.py3-none-any.whl (8.2 kB)\n",
            "Requirement already satisfied: pycparser in /usr/local/lib/python3.10/dist-packages (from cffi<2.0.0,>=1.15.0->free-mujoco-py) (2.21)\n",
            "Requirement already satisfied: pillow<10.1.0,>=8.3.2 in /usr/local/lib/python3.10/dist-packages (from imageio<3.0.0,>=2.9.0->free-mujoco-py) (9.4.0)\n",
            "Installing collected packages: monotonic, glfw, fasteners, Cython, free-mujoco-py\n",
            "  Attempting uninstall: glfw\n",
            "    Found existing installation: glfw 2.6.4\n",
            "    Uninstalling glfw-2.6.4:\n",
            "      Successfully uninstalled glfw-2.6.4\n",
            "  Attempting uninstall: fasteners\n",
            "    Found existing installation: fasteners 0.19\n",
            "    Uninstalling fasteners-0.19:\n",
            "      Successfully uninstalled fasteners-0.19\n",
            "  Attempting uninstall: Cython\n",
            "    Found existing installation: Cython 3.0.6\n",
            "    Uninstalling Cython-3.0.6:\n",
            "      Successfully uninstalled Cython-3.0.6\n",
            "Successfully installed Cython-0.29.36 fasteners-0.15 free-mujoco-py-2.1.6 glfw-1.12.0 monotonic-1.6\n",
            "Collecting d4rl\n",
            "  Cloning https://github.com/Farama-Foundation/d4rl (to revision master) to /tmp/pip-install-rbx470xx/d4rl_58d7f2f3f491472cb3874d4b9a22279c\n",
            "  Running command git clone --filter=blob:none --quiet https://github.com/Farama-Foundation/d4rl /tmp/pip-install-rbx470xx/d4rl_58d7f2f3f491472cb3874d4b9a22279c\n",
            "  Resolved https://github.com/Farama-Foundation/d4rl to commit 71a9549f2091accff93eeff68f1f3ab2c0e0a288\n",
            "  Preparing metadata (setup.py) ... \u001b[?25l\u001b[?25hdone\n",
            "Collecting mjrl@ git+https://github.com/aravindr93/mjrl@master#egg=mjrl (from d4rl)\n",
            "  Cloning https://github.com/aravindr93/mjrl (to revision master) to /tmp/pip-install-rbx470xx/mjrl_3f99b56b26fb45f2975c518f88018d2d\n",
            "  Running command git clone --filter=blob:none --quiet https://github.com/aravindr93/mjrl /tmp/pip-install-rbx470xx/mjrl_3f99b56b26fb45f2975c518f88018d2d\n",
            "  Resolved https://github.com/aravindr93/mjrl to commit 3871d93763d3b49c4741e6daeaebbc605fe140dc\n",
            "  Preparing metadata (setup.py) ... \u001b[?25l\u001b[?25hdone\n",
            "Collecting gym<0.24.0 (from d4rl)\n",
            "  Downloading gym-0.23.1.tar.gz (626 kB)\n",
            "\u001b[2K     \u001b[90m━━━━━━━━━━━━━━━━━━━━━━━━━━━━━━━━━━━━━━━━\u001b[0m \u001b[32m626.2/626.2 kB\u001b[0m \u001b[31m6.2 MB/s\u001b[0m eta \u001b[36m0:00:00\u001b[0m\n",
            "\u001b[?25h  Installing build dependencies ... \u001b[?25l\u001b[?25hdone\n",
            "  Getting requirements to build wheel ... \u001b[?25l\u001b[?25hdone\n",
            "  Preparing metadata (pyproject.toml) ... \u001b[?25l\u001b[?25hdone\n",
            "Requirement already satisfied: numpy in /usr/local/lib/python3.10/dist-packages (from d4rl) (1.23.5)\n",
            "Requirement already satisfied: mujoco_py in /usr/local/lib/python3.10/dist-packages (from d4rl) (2.0.2.8)\n",
            "Collecting pybullet (from d4rl)\n",
            "  Downloading pybullet-3.2.6-cp310-cp310-manylinux_2_17_x86_64.manylinux2014_x86_64.whl (103.2 MB)\n",
            "\u001b[2K     \u001b[90m━━━━━━━━━━━━━━━━━━━━━━━━━━━━━━━━━━━━━━━━\u001b[0m \u001b[32m103.2/103.2 MB\u001b[0m \u001b[31m10.1 MB/s\u001b[0m eta \u001b[36m0:00:00\u001b[0m\n",
            "\u001b[?25hRequirement already satisfied: h5py in /usr/local/lib/python3.10/dist-packages (from d4rl) (3.9.0)\n",
            "Requirement already satisfied: termcolor in /usr/local/lib/python3.10/dist-packages (from d4rl) (2.4.0)\n",
            "Requirement already satisfied: click in /usr/local/lib/python3.10/dist-packages (from d4rl) (8.1.7)\n",
            "Collecting dm_control>=1.0.3 (from d4rl)\n",
            "  Downloading dm_control-1.0.15-py3-none-any.whl (55.4 MB)\n",
            "\u001b[2K     \u001b[90m━━━━━━━━━━━━━━━━━━━━━━━━━━━━━━━━━━━━━━━━\u001b[0m \u001b[32m55.4/55.4 MB\u001b[0m \u001b[31m8.4 MB/s\u001b[0m eta \u001b[36m0:00:00\u001b[0m\n",
            "\u001b[?25hRequirement already satisfied: absl-py>=0.7.0 in /usr/local/lib/python3.10/dist-packages (from dm_control>=1.0.3->d4rl) (1.4.0)\n",
            "Collecting dm-env (from dm_control>=1.0.3->d4rl)\n",
            "  Downloading dm_env-1.6-py3-none-any.whl (26 kB)\n",
            "Requirement already satisfied: dm-tree!=0.1.2 in /usr/local/lib/python3.10/dist-packages (from dm_control>=1.0.3->d4rl) (0.1.8)\n",
            "Requirement already satisfied: glfw in /usr/local/lib/python3.10/dist-packages (from dm_control>=1.0.3->d4rl) (1.12.0)\n",
            "Collecting labmaze (from dm_control>=1.0.3->d4rl)\n",
            "  Downloading labmaze-1.0.6-cp310-cp310-manylinux_2_17_x86_64.manylinux2014_x86_64.whl (4.9 MB)\n",
            "\u001b[2K     \u001b[90m━━━━━━━━━━━━━━━━━━━━━━━━━━━━━━━━━━━━━━━━\u001b[0m \u001b[32m4.9/4.9 MB\u001b[0m \u001b[31m95.7 MB/s\u001b[0m eta \u001b[36m0:00:00\u001b[0m\n",
            "\u001b[?25hRequirement already satisfied: lxml in /usr/local/lib/python3.10/dist-packages (from dm_control>=1.0.3->d4rl) (4.9.3)\n",
            "Collecting mujoco>=3.0.0 (from dm_control>=1.0.3->d4rl)\n",
            "  Downloading mujoco-3.1.0-cp310-cp310-manylinux_2_17_x86_64.manylinux2014_x86_64.whl (5.4 MB)\n",
            "\u001b[2K     \u001b[90m━━━━━━━━━━━━━━━━━━━━━━━━━━━━━━━━━━━━━━━━\u001b[0m \u001b[32m5.4/5.4 MB\u001b[0m \u001b[31m95.0 MB/s\u001b[0m eta \u001b[36m0:00:00\u001b[0m\n",
            "\u001b[?25hRequirement already satisfied: protobuf>=3.19.4 in /usr/local/lib/python3.10/dist-packages (from dm_control>=1.0.3->d4rl) (3.20.3)\n",
            "Requirement already satisfied: pyopengl>=3.1.4 in /usr/local/lib/python3.10/dist-packages (from dm_control>=1.0.3->d4rl) (3.1.7)\n",
            "Requirement already satisfied: pyparsing>=3.0.0 in /usr/local/lib/python3.10/dist-packages (from dm_control>=1.0.3->d4rl) (3.1.1)\n",
            "Requirement already satisfied: requests in /usr/local/lib/python3.10/dist-packages (from dm_control>=1.0.3->d4rl) (2.31.0)\n",
            "Requirement already satisfied: setuptools!=50.0.0 in /usr/local/lib/python3.10/dist-packages (from dm_control>=1.0.3->d4rl) (67.7.2)\n",
            "Requirement already satisfied: scipy in /usr/local/lib/python3.10/dist-packages (from dm_control>=1.0.3->d4rl) (1.11.4)\n",
            "Requirement already satisfied: tqdm in /usr/local/lib/python3.10/dist-packages (from dm_control>=1.0.3->d4rl) (4.66.1)\n",
            "Requirement already satisfied: cloudpickle>=1.2.0 in /usr/local/lib/python3.10/dist-packages (from gym<0.24.0->d4rl) (2.2.1)\n",
            "Requirement already satisfied: gym-notices>=0.0.4 in /usr/local/lib/python3.10/dist-packages (from gym<0.24.0->d4rl) (0.0.8)\n",
            "Requirement already satisfied: Cython>=0.27.2 in /usr/local/lib/python3.10/dist-packages (from mujoco_py->d4rl) (0.29.36)\n",
            "Requirement already satisfied: imageio>=2.1.2 in /usr/local/lib/python3.10/dist-packages (from mujoco_py->d4rl) (2.31.6)\n",
            "Requirement already satisfied: cffi>=1.10 in /usr/local/lib/python3.10/dist-packages (from mujoco_py->d4rl) (1.16.0)\n",
            "Requirement already satisfied: fasteners~=0.15 in /usr/local/lib/python3.10/dist-packages (from mujoco_py->d4rl) (0.15)\n",
            "Requirement already satisfied: pycparser in /usr/local/lib/python3.10/dist-packages (from cffi>=1.10->mujoco_py->d4rl) (2.21)\n",
            "Requirement already satisfied: six in /usr/local/lib/python3.10/dist-packages (from fasteners~=0.15->mujoco_py->d4rl) (1.16.0)\n",
            "Requirement already satisfied: monotonic>=0.1 in /usr/local/lib/python3.10/dist-packages (from fasteners~=0.15->mujoco_py->d4rl) (1.6)\n",
            "Requirement already satisfied: pillow<10.1.0,>=8.3.2 in /usr/local/lib/python3.10/dist-packages (from imageio>=2.1.2->mujoco_py->d4rl) (9.4.0)\n",
            "Requirement already satisfied: etils[epath] in /usr/local/lib/python3.10/dist-packages (from mujoco>=3.0.0->dm_control>=1.0.3->d4rl) (1.6.0)\n",
            "Requirement already satisfied: charset-normalizer<4,>=2 in /usr/local/lib/python3.10/dist-packages (from requests->dm_control>=1.0.3->d4rl) (3.3.2)\n",
            "Requirement already satisfied: idna<4,>=2.5 in /usr/local/lib/python3.10/dist-packages (from requests->dm_control>=1.0.3->d4rl) (3.6)\n",
            "Requirement already satisfied: urllib3<3,>=1.21.1 in /usr/local/lib/python3.10/dist-packages (from requests->dm_control>=1.0.3->d4rl) (2.0.7)\n",
            "Requirement already satisfied: certifi>=2017.4.17 in /usr/local/lib/python3.10/dist-packages (from requests->dm_control>=1.0.3->d4rl) (2023.11.17)\n",
            "Requirement already satisfied: fsspec in /usr/local/lib/python3.10/dist-packages (from etils[epath]->mujoco>=3.0.0->dm_control>=1.0.3->d4rl) (2023.6.0)\n",
            "Requirement already satisfied: importlib_resources in /usr/local/lib/python3.10/dist-packages (from etils[epath]->mujoco>=3.0.0->dm_control>=1.0.3->d4rl) (6.1.1)\n",
            "Requirement already satisfied: typing_extensions in /usr/local/lib/python3.10/dist-packages (from etils[epath]->mujoco>=3.0.0->dm_control>=1.0.3->d4rl) (4.5.0)\n",
            "Requirement already satisfied: zipp in /usr/local/lib/python3.10/dist-packages (from etils[epath]->mujoco>=3.0.0->dm_control>=1.0.3->d4rl) (3.17.0)\n",
            "Building wheels for collected packages: d4rl, gym, mjrl\n",
            "  Building wheel for d4rl (setup.py) ... \u001b[?25l\u001b[?25hdone\n",
            "  Created wheel for d4rl: filename=D4RL-1.1-py3-none-any.whl size=26412939 sha256=0373ca6d6eb8877517d928a392a3cb97c550b3e15f2f763ea501304eb3d22fc3\n",
            "  Stored in directory: /tmp/pip-ephem-wheel-cache-k7oh7_a4/wheels/7a/6e/e1/e5d8e3f6d89271fbc022dc955bb64360665044214be4e17251\n",
            "  Building wheel for gym (pyproject.toml) ... \u001b[?25l\u001b[?25hdone\n",
            "  Created wheel for gym: filename=gym-0.23.1-py3-none-any.whl size=701343 sha256=336c29faeea35713716d1681411425186ae479daa8b5ceabb81761ab4c2fda2a\n",
            "  Stored in directory: /root/.cache/pip/wheels/1a/00/fb/fe5cf2860fb9b7bc860e28f00095a1f42c7b726dd6f42d1acc\n",
            "  Building wheel for mjrl (setup.py) ... \u001b[?25l\u001b[?25hdone\n",
            "  Created wheel for mjrl: filename=mjrl-1.0.0-py3-none-any.whl size=61935 sha256=02614c53655db7e3be27cc9513aa4bac66e929489f0bf44a60fe8ec19d7aac05\n",
            "  Stored in directory: /tmp/pip-ephem-wheel-cache-k7oh7_a4/wheels/8f/99/f9/efd223b38d503df5eaada10ffe96a869fb0c0f3c92d9e43ed0\n",
            "Successfully built d4rl gym mjrl\n",
            "Installing collected packages: pybullet, mjrl, labmaze, gym, dm-env, mujoco, dm_control, d4rl\n",
            "  Attempting uninstall: gym\n",
            "    Found existing installation: gym 0.25.2\n",
            "    Uninstalling gym-0.25.2:\n",
            "      Successfully uninstalled gym-0.25.2\n",
            "Successfully installed d4rl-1.1 dm-env-1.6 dm_control-1.0.15 gym-0.23.1 labmaze-1.0.6 mjrl-1.0.0 mujoco-3.1.0 pybullet-3.2.6\n"
          ]
        },
        {
          "output_type": "display_data",
          "data": {
            "application/vnd.colab-display-data+json": {
              "pip_warning": {
                "packages": [
                  "gym"
                ]
              }
            }
          },
          "metadata": {}
        }
      ]
    },
    {
      "cell_type": "code",
      "source": [
        "%env D4RL_SUPPRESS_IMPORT_ERROR=1\n",
        "import os\n",
        "import sys\n",
        "import random\n",
        "import csv\n",
        "from datetime import datetime\n",
        "import pickle\n",
        "import collections\n",
        "import math\n",
        "\n",
        "import gym\n",
        "import numpy as np\n",
        "import torch\n",
        "import torch.nn as nn\n",
        "import torch.nn.functional as F\n",
        "from torch.utils.data import Dataset, DataLoader\n",
        "\n",
        "import d4rl\n",
        "\n",
        "\n",
        "ENV_NAMES = ['halfcheetah']  # walker2d, halfcheetah, hopper\n",
        "DATASET_TYPES = ['medium-expert']  # medium, medium-expert, medium-replay\n",
        "\n",
        "\n",
        "def download_d4rl_data():\n",
        "    datasets = []\n",
        "\n",
        "    data_dir = 'data/'\n",
        "    print(data_dir)\n",
        "\n",
        "    if not os.path.exists(data_dir):\n",
        "        os.makedirs(data_dir)\n",
        "\n",
        "    for env_name in ENV_NAMES:\n",
        "        for dataset_type in DATASET_TYPES:\n",
        "\n",
        "            name = f'{env_name}-{dataset_type}-v2'\n",
        "            pkl_file_path = os.path.join(data_dir, name)\n",
        "\n",
        "            print(\"processing: \", name)\n",
        "\n",
        "            env = gym.make(name)\n",
        "            dataset = env.get_dataset()\n",
        "\n",
        "            N = dataset['rewards'].shape[0]\n",
        "            data_ = collections.defaultdict(list)\n",
        "\n",
        "            use_timeouts = False\n",
        "            if 'timeouts' in dataset:\n",
        "                use_timeouts = True\n",
        "\n",
        "            episode_step = 0\n",
        "            paths = []\n",
        "            for i in range(N):\n",
        "                done_bool = bool(dataset['terminals'][i])\n",
        "                if use_timeouts:\n",
        "                    final_timestep = dataset['timeouts'][i]\n",
        "                else:\n",
        "                    final_timestep = (episode_step == 1000-1)\n",
        "                for k in ['observations', 'next_observations', 'actions', 'rewards', 'terminals']:\n",
        "                    data_[k].append(dataset[k][i])\n",
        "                if done_bool or final_timestep:\n",
        "                    episode_step = 0\n",
        "                    episode_data = {}\n",
        "                    for k in data_:\n",
        "                        episode_data[k] = np.array(data_[k])\n",
        "                    paths.append(episode_data)\n",
        "                    data_ = collections.defaultdict(list)\n",
        "                episode_step += 1\n",
        "\n",
        "            returns = np.array([np.sum(p['rewards']) for p in paths])\n",
        "            num_samples = np.sum([p['rewards'].shape[0] for p in paths])\n",
        "            print(f'Number of samples collected: {num_samples}')\n",
        "            print(\n",
        "                f'Trajectory returns: mean = {np.mean(returns)}, std = {np.std(returns)}, max = {np.max(returns)}, min = {np.min(returns)}')\n",
        "\n",
        "            with open(f'{pkl_file_path}.pkl', 'wb') as f:\n",
        "                pickle.dump(paths, f)\n",
        "\n",
        "\n",
        "download_d4rl_data()"
      ],
      "metadata": {
        "id": "7SZG0XNa4dNb",
        "outputId": "b49a7fe9-caae-4b83-85f0-dc87aae07f9d",
        "colab": {
          "base_uri": "https://localhost:8080/"
        }
      },
      "execution_count": null,
      "outputs": [
        {
          "output_type": "stream",
          "name": "stdout",
          "text": [
            "env: D4RL_SUPPRESS_IMPORT_ERROR=1\n",
            "Compiling /usr/local/lib/python3.10/dist-packages/mujoco_py/cymj.pyx because it changed.\n",
            "[1/1] Cythonizing /usr/local/lib/python3.10/dist-packages/mujoco_py/cymj.pyx\n"
          ]
        },
        {
          "output_type": "stream",
          "name": "stderr",
          "text": [
            "INFO:root:running build_ext\n",
            "INFO:root:building 'mujoco_py.cymj' extension\n",
            "INFO:root:creating /usr/local/lib/python3.10/dist-packages/mujoco_py/generated/_pyxbld_2.0.2.13_310_linuxcpuextensionbuilder\n",
            "INFO:root:creating /usr/local/lib/python3.10/dist-packages/mujoco_py/generated/_pyxbld_2.0.2.13_310_linuxcpuextensionbuilder/temp.linux-x86_64-cpython-310\n",
            "INFO:root:creating /usr/local/lib/python3.10/dist-packages/mujoco_py/generated/_pyxbld_2.0.2.13_310_linuxcpuextensionbuilder/temp.linux-x86_64-cpython-310/usr\n",
            "INFO:root:creating /usr/local/lib/python3.10/dist-packages/mujoco_py/generated/_pyxbld_2.0.2.13_310_linuxcpuextensionbuilder/temp.linux-x86_64-cpython-310/usr/local\n",
            "INFO:root:creating /usr/local/lib/python3.10/dist-packages/mujoco_py/generated/_pyxbld_2.0.2.13_310_linuxcpuextensionbuilder/temp.linux-x86_64-cpython-310/usr/local/lib\n",
            "INFO:root:creating /usr/local/lib/python3.10/dist-packages/mujoco_py/generated/_pyxbld_2.0.2.13_310_linuxcpuextensionbuilder/temp.linux-x86_64-cpython-310/usr/local/lib/python3.10\n",
            "INFO:root:creating /usr/local/lib/python3.10/dist-packages/mujoco_py/generated/_pyxbld_2.0.2.13_310_linuxcpuextensionbuilder/temp.linux-x86_64-cpython-310/usr/local/lib/python3.10/dist-packages\n",
            "INFO:root:creating /usr/local/lib/python3.10/dist-packages/mujoco_py/generated/_pyxbld_2.0.2.13_310_linuxcpuextensionbuilder/temp.linux-x86_64-cpython-310/usr/local/lib/python3.10/dist-packages/mujoco_py\n",
            "INFO:root:creating /usr/local/lib/python3.10/dist-packages/mujoco_py/generated/_pyxbld_2.0.2.13_310_linuxcpuextensionbuilder/temp.linux-x86_64-cpython-310/usr/local/lib/python3.10/dist-packages/mujoco_py/gl\n",
            "INFO:root:x86_64-linux-gnu-gcc -Wno-unused-result -Wsign-compare -DNDEBUG -g -fwrapv -O2 -Wall -g -fstack-protector-strong -Wformat -Werror=format-security -g -fwrapv -O2 -fPIC -I/usr/local/lib/python3.10/dist-packages/mujoco_py -I/usr/local/lib/python3.10/dist-packages/mujoco_py/binaries/linux/mujoco210/include -I/usr/local/lib/python3.10/dist-packages/numpy/core/include -I/usr/include/python3.10 -c /usr/local/lib/python3.10/dist-packages/mujoco_py/cymj.c -o /usr/local/lib/python3.10/dist-packages/mujoco_py/generated/_pyxbld_2.0.2.13_310_linuxcpuextensionbuilder/temp.linux-x86_64-cpython-310/usr/local/lib/python3.10/dist-packages/mujoco_py/cymj.o -fopenmp -w\n",
            "INFO:root:x86_64-linux-gnu-gcc -Wno-unused-result -Wsign-compare -DNDEBUG -g -fwrapv -O2 -Wall -g -fstack-protector-strong -Wformat -Werror=format-security -g -fwrapv -O2 -fPIC -I/usr/local/lib/python3.10/dist-packages/mujoco_py -I/usr/local/lib/python3.10/dist-packages/mujoco_py/binaries/linux/mujoco210/include -I/usr/local/lib/python3.10/dist-packages/numpy/core/include -I/usr/include/python3.10 -c /usr/local/lib/python3.10/dist-packages/mujoco_py/gl/osmesashim.c -o /usr/local/lib/python3.10/dist-packages/mujoco_py/generated/_pyxbld_2.0.2.13_310_linuxcpuextensionbuilder/temp.linux-x86_64-cpython-310/usr/local/lib/python3.10/dist-packages/mujoco_py/gl/osmesashim.o -fopenmp -w\n",
            "INFO:root:creating /usr/local/lib/python3.10/dist-packages/mujoco_py/generated/_pyxbld_2.0.2.13_310_linuxcpuextensionbuilder/lib.linux-x86_64-cpython-310\n",
            "INFO:root:creating /usr/local/lib/python3.10/dist-packages/mujoco_py/generated/_pyxbld_2.0.2.13_310_linuxcpuextensionbuilder/lib.linux-x86_64-cpython-310/mujoco_py\n",
            "INFO:root:x86_64-linux-gnu-gcc -shared -Wl,-O1 -Wl,-Bsymbolic-functions -Wl,-Bsymbolic-functions -g -fwrapv -O2 /usr/local/lib/python3.10/dist-packages/mujoco_py/generated/_pyxbld_2.0.2.13_310_linuxcpuextensionbuilder/temp.linux-x86_64-cpython-310/usr/local/lib/python3.10/dist-packages/mujoco_py/cymj.o /usr/local/lib/python3.10/dist-packages/mujoco_py/generated/_pyxbld_2.0.2.13_310_linuxcpuextensionbuilder/temp.linux-x86_64-cpython-310/usr/local/lib/python3.10/dist-packages/mujoco_py/gl/osmesashim.o -L/usr/local/lib/python3.10/dist-packages/mujoco_py/binaries/linux/mujoco210/bin -L/usr/lib/x86_64-linux-gnu -Wl,--enable-new-dtags,-R/usr/local/lib/python3.10/dist-packages/mujoco_py/binaries/linux/mujoco210/bin -lmujoco210 -lglewosmesa -lOSMesa -lGL -o /usr/local/lib/python3.10/dist-packages/mujoco_py/generated/_pyxbld_2.0.2.13_310_linuxcpuextensionbuilder/lib.linux-x86_64-cpython-310/mujoco_py/cymj.cpython-310-x86_64-linux-gnu.so -fopenmp\n",
            "INFO:absl:MUJOCO_GL is not set, so an OpenGL backend will be chosen automatically.\n",
            "INFO:absl:Failed to import OpenGL backend: glfw\n",
            "INFO:OpenGL.acceleratesupport:No OpenGL_accelerate module loaded: No module named 'OpenGL_accelerate'\n",
            "INFO:absl:Successfully imported OpenGL backend: egl\n",
            "INFO:absl:MuJoCo library version is: 3.1.0\n",
            "/usr/local/lib/python3.10/dist-packages/gym/envs/registration.py:440: UserWarning: \u001b[33mWARN: The `registry.env_specs` property along with `EnvSpecTree` is deprecated. Please use `registry` directly as a dictionary instead.\u001b[0m\n",
            "  # If this is the last item make sure we use the\n",
            "/usr/local/lib/python3.10/dist-packages/gym/spaces/box.py:128: UserWarning: \u001b[33mWARN: Box bound precision lowered by casting to float32\u001b[0m\n",
            "  upp_bounded = ~self.bounded_below & self.bounded_above\n"
          ]
        },
        {
          "output_type": "stream",
          "name": "stdout",
          "text": [
            "data/\n",
            "processing:  halfcheetah-medium-expert-v2\n",
            "Downloading dataset: http://rail.eecs.berkeley.edu/datasets/offline_rl/gym_mujoco_v2/halfcheetah_medium_expert-v2.hdf5 to /root/.d4rl/datasets/halfcheetah_medium_expert-v2.hdf5\n"
          ]
        },
        {
          "output_type": "stream",
          "name": "stderr",
          "text": [
            "load datafile: 100%|██████████| 9/9 [00:05<00:00,  1.59it/s]\n"
          ]
        },
        {
          "output_type": "stream",
          "name": "stdout",
          "text": [
            "Number of samples collected: 2000000\n",
            "Trajectory returns: mean = 7713.38037109375, std = 2970.242431640625, max = 11252.03515625, min = -310.23419189453125\n"
          ]
        }
      ]
    },
    {
      "cell_type": "code",
      "source": [
        "dataset = \"medium-expert\"       # medium / medium-replay / medium-expert\n",
        "rtg_scale = 1000                # scale to normalize returns to go\n",
        "\n",
        "env_name = 'HalfCheetah-v3'\n",
        "rtg_target = 6000\n",
        "env_d4rl_name = f'halfcheetah-{dataset}-v2'\n",
        "\n",
        "\n",
        "\n",
        "max_eval_ep_len = 1000      # max len of one evaluation episode\n",
        "num_eval_ep = 10            # num of evaluation episodes per iteration\n",
        "\n",
        "batch_size = 64             # training batch size\n",
        "lr = 1e-4                   # learning rate\n",
        "wt_decay = 1e-4             # weight decay\n",
        "warmup_steps = 10000        # warmup steps for lr scheduler\n",
        "\n",
        "# total updates = max_train_iters x num_updates_per_iter\n",
        "max_train_iters = 200\n",
        "num_updates_per_iter = 100\n",
        "\n",
        "context_len = 20        # K in decision transformer\n",
        "n_blocks = 3            # num of transformer blocks\n",
        "embed_dim = 128         # embedding (hidden) dim of transformer\n",
        "n_heads = 1             # num of transformer heads\n",
        "dropout_p = 0.1         # dropout probability\n",
        "\n",
        "\n",
        "\n",
        "# load data from this file\n",
        "dataset_path = f'data/{env_d4rl_name}.pkl'\n",
        "\n",
        "# saves model and csv in this directory\n",
        "log_dir = \"./dt_runs/\"\n",
        "\n",
        "\n",
        "if not os.path.exists(log_dir):\n",
        "    os.makedirs(log_dir)\n",
        "\n",
        "\n",
        "# training and evaluation device\n",
        "device_name = 'cuda'\n",
        "device = torch.device(device_name)\n",
        "print(\"device set to: \", device)"
      ],
      "metadata": {
        "id": "RY3hbva54yd6",
        "outputId": "02c3dae7-5206-4b59-a15f-2281ca3ed359",
        "colab": {
          "base_uri": "https://localhost:8080/"
        }
      },
      "execution_count": null,
      "outputs": [
        {
          "output_type": "stream",
          "name": "stdout",
          "text": [
            "device set to:  cuda\n"
          ]
        }
      ]
    },
    {
      "cell_type": "code",
      "source": [
        "with open(dataset_path, 'rb') as f:\n",
        "    trajectories = pickle.load(f)"
      ],
      "metadata": {
        "id": "k7elFgNM5wvr"
      },
      "execution_count": null,
      "outputs": []
    },
    {
      "cell_type": "code",
      "source": [
        "replay_buffer_size = 100000\n",
        "replay_buffer = CombinedReplayBuffer(replay_buffer_size)\n",
        "\n",
        "for dd in trajectories:\n",
        "  for state, next_state, action, _, terminated in zip(*dd.values()):\n",
        "    replay_buffer.push_demo(state, action, 1, next_state, terminated)"
      ],
      "metadata": {
        "id": "5AV4ULsu5-WK"
      },
      "execution_count": null,
      "outputs": []
    },
    {
      "cell_type": "code",
      "source": [
        "max_steps = 1000\n",
        "env = NormalizedActions(gym.make(env_name, max_episode_steps=max_steps))\n",
        "noise = GaussNoise(sigma=0.001)\n",
        "\n",
        "state_dim = env.observation_space.shape[0]\n",
        "action_dim = env.action_space.shape[0]\n",
        "hidden_dim = 128\n",
        "\n",
        "value_net = ValueNetwork(state_dim, action_dim, hidden_dim).to(device)\n",
        "policy_net = PolicyNetwork(state_dim, action_dim, hidden_dim).to(device)\n",
        "\n",
        "target_value_net = ValueNetwork(state_dim, action_dim, hidden_dim).to(device)\n",
        "target_policy_net = PolicyNetwork(state_dim, action_dim, hidden_dim).to(device)\n",
        "\n",
        "for target_param, param in zip(target_value_net.parameters(), value_net.parameters()):\n",
        "    target_param.data.copy_(param.data)\n",
        "\n",
        "for target_param, param in zip(target_policy_net.parameters(), policy_net.parameters()):\n",
        "    target_param.data.copy_(param.data)\n",
        "\n",
        "value_lr = 1e-3\n",
        "policy_lr = 1e-4\n",
        "\n",
        "value_optimizer = optim.Adam(value_net.parameters(), lr=value_lr, weight_decay=1e-6)\n",
        "policy_optimizer = optim.Adam(policy_net.parameters(), lr=policy_lr, weight_decay=1e-6)\n",
        "\n",
        "batch_size = 256"
      ],
      "metadata": {
        "id": "_3_jTBsG6564",
        "colab": {
          "base_uri": "https://localhost:8080/"
        },
        "outputId": "143bb252-deaa-457f-b287-fb971ab190c3"
      },
      "execution_count": null,
      "outputs": [
        {
          "output_type": "stream",
          "name": "stderr",
          "text": [
            "/usr/local/lib/python3.10/dist-packages/gym/envs/registration.py:593: UserWarning: \u001b[33mWARN: The environment HalfCheetah-v3 is out of date. You should consider upgrading to version `v4`.\u001b[0m\n",
            "  finally:\n"
          ]
        }
      ]
    },
    {
      "cell_type": "code",
      "source": [
        "def generate_session(train=False):\n",
        "    \"\"\"эпизод взаимодействие агента со средой, а также вызов процесса обучения\"\"\"\n",
        "    total_reward = 0\n",
        "    state = env.reset()\n",
        "\n",
        "    done = False\n",
        "    while not done:\n",
        "        action = policy_net.get_action(state)\n",
        "        if train:\n",
        "            action = noise.get_action(action)\n",
        "        next_state, reward, done, info = env.step(action)\n",
        "        if train:\n",
        "            replay_buffer.push(state, action, reward, next_state, done)\n",
        "            if len(replay_buffer) > replay_buffer_size + 1500:\n",
        "                ddpg_update(*replay_buffer.sample(batch_size))\n",
        "        total_reward += reward\n",
        "        state = next_state\n",
        "        if done:\n",
        "            break\n",
        "\n",
        "    return total_reward"
      ],
      "metadata": {
        "id": "yHVciO3qBtuS"
      },
      "execution_count": null,
      "outputs": []
    },
    {
      "cell_type": "code",
      "source": [
        "len(replay_buffer)"
      ],
      "metadata": {
        "id": "oP5S8RJhCqUG",
        "outputId": "e3858010-33c1-4c7a-96d8-40d8f35b2306",
        "colab": {
          "base_uri": "https://localhost:8080/"
        }
      },
      "execution_count": null,
      "outputs": [
        {
          "output_type": "execute_result",
          "data": {
            "text/plain": [
              "100000"
            ]
          },
          "metadata": {},
          "execution_count": 15
        }
      ]
    },
    {
      "cell_type": "code",
      "source": [
        "generate_session(train=False)"
      ],
      "metadata": {
        "id": "j2sYQHRLFI9q",
        "outputId": "6d605d7d-6130-4496-b0cd-3840a658162e",
        "colab": {
          "base_uri": "https://localhost:8080/"
        }
      },
      "execution_count": null,
      "outputs": [
        {
          "output_type": "execute_result",
          "data": {
            "text/plain": [
              "-2.2861037507085555"
            ]
          },
          "metadata": {},
          "execution_count": 16
        }
      ]
    },
    {
      "cell_type": "code",
      "source": [
        "env = NormalizedActions(gym.make(env_name, max_episode_steps=max_steps))\n",
        "\n",
        "valid_mean_rewards = []\n",
        "for i in range(100):\n",
        "    session_rewards_train = [generate_session(train=True) for _ in range(10)]\n",
        "\n",
        "    mean_reward = np.mean(session_rewards_train)\n",
        "    print(f\"epoch #{i:02d}\\tmean reward (train) = {mean_reward:.3f}\\t\")\n",
        "\n",
        "    if mean_reward > 7500:\n",
        "        print(\"Выполнено!\")\n",
        "        break\n",
        "\n",
        "env.close()"
      ],
      "metadata": {
        "id": "QBko_yh97ncZ",
        "outputId": "4c05d6b4-2bbe-42a0-8d60-d3dae51b86f7",
        "colab": {
          "base_uri": "https://localhost:8080/"
        }
      },
      "execution_count": null,
      "outputs": [
        {
          "output_type": "stream",
          "name": "stderr",
          "text": [
            "/usr/local/lib/python3.10/dist-packages/gym/envs/registration.py:593: UserWarning: \u001b[33mWARN: The environment HalfCheetah-v3 is out of date. You should consider upgrading to version `v4`.\u001b[0m\n",
            "  finally:\n"
          ]
        },
        {
          "output_type": "stream",
          "name": "stdout",
          "text": [
            "epoch #00\tmean reward (train) = -421.217\t\n",
            "epoch #01\tmean reward (train) = -455.620\t\n",
            "epoch #02\tmean reward (train) = 306.871\t\n",
            "epoch #03\tmean reward (train) = 878.872\t\n",
            "epoch #04\tmean reward (train) = 948.230\t\n",
            "epoch #05\tmean reward (train) = 859.924\t\n",
            "epoch #06\tmean reward (train) = 1954.258\t\n",
            "epoch #07\tmean reward (train) = 2338.029\t\n",
            "epoch #08\tmean reward (train) = 2488.746\t\n",
            "epoch #09\tmean reward (train) = 2108.793\t\n",
            "epoch #10\tmean reward (train) = 3000.234\t\n",
            "epoch #11\tmean reward (train) = 2758.159\t\n",
            "epoch #12\tmean reward (train) = 4275.054\t\n",
            "epoch #13\tmean reward (train) = 3048.987\t\n",
            "epoch #14\tmean reward (train) = 4752.983\t\n",
            "epoch #15\tmean reward (train) = 5272.843\t\n",
            "epoch #16\tmean reward (train) = 5715.157\t\n",
            "epoch #17\tmean reward (train) = 4839.628\t\n",
            "epoch #18\tmean reward (train) = 4715.176\t\n",
            "epoch #19\tmean reward (train) = 4918.997\t\n",
            "epoch #20\tmean reward (train) = 4262.915\t\n"
          ]
        }
      ]
    },
    {
      "cell_type": "markdown",
      "metadata": {
        "id": "5YB2qXtyTGPZ"
      },
      "source": [
        "# Задание гиперпараметров и инициализация всего и вся:"
      ]
    },
    {
      "cell_type": "code",
      "execution_count": null,
      "metadata": {
        "id": "vZOPhbttTE9P"
      },
      "outputs": [],
      "source": [
        "env_name = \"LunarLanderContinuous-v2\"\n",
        "\n",
        "max_steps = 350\n",
        "env = NormalizedActions(gym.make(env_name, max_episode_steps=max_steps))\n",
        "\n",
        "noise = GaussNoise(sigma=0.1)\n",
        "\n",
        "state_dim = env.observation_space.shape[0]\n",
        "action_dim = env.action_space.shape[0]\n",
        "hidden_dim = 512\n",
        "\n",
        "value_net = ValueNetwork(state_dim, action_dim, hidden_dim).to(device)\n",
        "policy_net = PolicyNetwork(state_dim, action_dim, hidden_dim).to(device)\n",
        "\n",
        "target_value_net = ValueNetwork(state_dim, action_dim, hidden_dim).to(device)\n",
        "target_policy_net = PolicyNetwork(state_dim, action_dim, hidden_dim).to(device)\n",
        "\n",
        "for target_param, param in zip(target_value_net.parameters(), value_net.parameters()):\n",
        "    target_param.data.copy_(param.data)\n",
        "\n",
        "for target_param, param in zip(target_policy_net.parameters(), policy_net.parameters()):\n",
        "    target_param.data.copy_(param.data)\n",
        "\n",
        "value_lr = 1e-3\n",
        "policy_lr = 1e-4\n",
        "\n",
        "value_optimizer = optim.Adam(value_net.parameters(), lr=value_lr, weight_decay=1e-6)\n",
        "policy_optimizer = optim.Adam(policy_net.parameters(), lr=policy_lr, weight_decay=1e-6)\n",
        "\n",
        "batch_size = 128"
      ]
    },
    {
      "cell_type": "markdown",
      "metadata": {
        "id": "qOMDZHwpTISu"
      },
      "source": [
        "### Генерация экспертных данных:"
      ]
    },
    {
      "cell_type": "code",
      "execution_count": null,
      "metadata": {
        "id": "BZBM4JsLTJH4",
        "colab": {
          "base_uri": "https://localhost:8080/"
        },
        "outputId": "84744961-e85c-46ed-cae5-7a9d9ee01f31"
      },
      "outputs": [
        {
          "output_type": "stream",
          "name": "stderr",
          "text": [
            "/usr/local/lib/python3.10/dist-packages/gymnasium/core.py:311: UserWarning: \u001b[33mWARN: env.continuous to get variables from other wrappers is deprecated and will be removed in v1.0, to get this variable you can do `env.unwrapped.continuous` for environment variables or `env.get_wrapper_attr('continuous')` that will search the reminding wrappers.\u001b[0m\n",
            "  logger.warn(\n"
          ]
        },
        {
          "output_type": "stream",
          "name": "stdout",
          "text": [
            "episode: 100, reward: 299.05841105292996, replay_size: 20271\n",
            "episode: 200, reward: 286.6264456101353, replay_size: 40888\n",
            "episode: 300, reward: 271.27487454272466, replay_size: 60650\n",
            "episode: 400, reward: 239.37888402131665, replay_size: 80747\n"
          ]
        }
      ],
      "source": [
        "from gymnasium.envs.box2d.lunar_lander import heuristic\n",
        "\n",
        "replay_buffer_size = 100000\n",
        "replay_buffer = CombinedReplayBuffer(replay_buffer_size)\n",
        "\n",
        "noise = GaussNoise(sigma=0.1)\n",
        "episodes = 0\n",
        "while len(replay_buffer) < replay_buffer_size:\n",
        "    episodes += 1\n",
        "    done = False\n",
        "    state, _ = env.reset()\n",
        "    episode_reward = 0\n",
        "    while not done:\n",
        "        action = noise.get_action(heuristic(env, state))\n",
        "        next_state, reward, terminated, truncated, _ = env.step(action)\n",
        "        replay_buffer.push_demo(state, action, 1, next_state, terminated)\n",
        "        done = terminated or truncated\n",
        "        episode_reward += reward\n",
        "        state = next_state\n",
        "    if episodes % 100 == 0:\n",
        "        print(f\"episode: {episodes}, reward: {episode_reward}, replay_size:\", len(replay_buffer))\n",
        "noise = GaussNoise(sigma=0.001)\n",
        "env.close()"
      ]
    },
    {
      "cell_type": "code",
      "execution_count": null,
      "metadata": {
        "id": "f8yn3DcdTK7W",
        "pycharm": {
          "is_executing": true
        },
        "colab": {
          "base_uri": "https://localhost:8080/"
        },
        "outputId": "211b5c9a-3be4-4070-8d33-fab4b86de4fb"
      },
      "outputs": [
        {
          "output_type": "stream",
          "name": "stdout",
          "text": [
            "epoch #00\tmean reward (train) = -227.405\t\n",
            "epoch #01\tmean reward (train) = -347.010\t\n",
            "epoch #02\tmean reward (train) = -190.934\t\n",
            "epoch #03\tmean reward (train) = 34.860\t\n",
            "epoch #04\tmean reward (train) = 33.180\t\n",
            "epoch #05\tmean reward (train) = 229.317\t\n",
            "Выполнено!\n"
          ]
        }
      ],
      "source": [
        "env = NormalizedActions(gym.make(env_name, max_episode_steps=max_steps))\n",
        "\n",
        "valid_mean_rewards = []\n",
        "for i in range(100):\n",
        "    session_rewards_train = [generate_session(train=True) for _ in range(10)]\n",
        "\n",
        "    mean_reward = np.mean(session_rewards_train)\n",
        "    print(f\"epoch #{i:02d}\\tmean reward (train) = {mean_reward:.3f}\\t\")\n",
        "\n",
        "    if mean_reward > 200:\n",
        "        print(\"Выполнено!\")\n",
        "        break\n",
        "\n",
        "env.close()"
      ]
    },
    {
      "cell_type": "markdown",
      "metadata": {
        "id": "EjyY2GHPTMRy"
      },
      "source": [
        "# Посмотрим за полетом:"
      ]
    },
    {
      "cell_type": "code",
      "execution_count": null,
      "metadata": {
        "id": "91RCFUMkTPGT",
        "pycharm": {
          "is_executing": true
        },
        "colab": {
          "base_uri": "https://localhost:8080/",
          "height": 508
        },
        "outputId": "bad83ce3-6a4b-4751-efc8-ffba0b1d6788"
      },
      "outputs": [
        {
          "output_type": "stream",
          "name": "stdout",
          "text": [
            "Moviepy - Building video /content/video/rl-video-episode-0.mp4.\n",
            "Moviepy - Writing video /content/video/rl-video-episode-0.mp4\n",
            "\n"
          ]
        },
        {
          "output_type": "stream",
          "name": "stderr",
          "text": []
        },
        {
          "output_type": "stream",
          "name": "stdout",
          "text": [
            "Moviepy - Done !\n",
            "Moviepy - video ready /content/video/rl-video-episode-0.mp4\n"
          ]
        },
        {
          "output_type": "display_data",
          "data": {
            "text/plain": [
              "<IPython.core.display.HTML object>"
            ],
            "text/html": [
              "<video alt=\"test\" autoplay\n",
              "                loop controls style=\"height: 400px;\">\n",
              "                <source src=\"data:video/mp4;base64,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\" type=\"video/mp4\" />\n",
              "             </video>"
            ]
          },
          "metadata": {}
        }
      ],
      "source": [
        "env = NormalizedActions(gym.make(env_name, max_episode_steps=max_steps, render_mode='rgb_array'))\n",
        "env = RecordVideo(env, f\"./video\")\n",
        "\n",
        "done = False\n",
        "\n",
        "state, info = env.reset()\n",
        "\n",
        "while not done:\n",
        "    action = policy_net.get_action(state)\n",
        "    state, _, term, trunc, info = env.step(action)\n",
        "    done = term or trunc\n",
        "\n",
        "env.close()\n",
        "show_video()"
      ]
    },
    {
      "cell_type": "code",
      "source": [],
      "metadata": {
        "id": "4-0_PJUaVFwg"
      },
      "execution_count": null,
      "outputs": []
    }
  ],
  "metadata": {
    "accelerator": "GPU",
    "colab": {
      "provenance": []
    },
    "kernelspec": {
      "display_name": "Python 3 (ipykernel)",
      "language": "python",
      "name": "python3"
    },
    "language_info": {
      "codemirror_mode": {
        "name": "ipython",
        "version": 3
      },
      "file_extension": ".py",
      "mimetype": "text/x-python",
      "name": "python",
      "nbconvert_exporter": "python",
      "pygments_lexer": "ipython3",
      "version": "3.9.16"
    }
  },
  "nbformat": 4,
  "nbformat_minor": 0
}