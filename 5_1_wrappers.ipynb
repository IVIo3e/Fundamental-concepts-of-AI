{
  "cells": [
    {
      "cell_type": "markdown",
      "source": [
        "# Тетрадка 5. RL Инструментарий\n",
        "\n",
        "## Содержание:\n",
        "\n",
        "1. [Модификация сред: Wrappers](#wrappers)\n",
        "2. [Логирование Wandb](#logs)\n",
        "3. [RL Фреймворки](#frameworks)\n"
      ],
      "metadata": {
        "id": "Ud0HQmbRsQK3"
      }
    },
    {
      "cell_type": "code",
      "source": [
        "# @title Установка зависимостей\n",
        "\n",
        "try:\n",
        "    import google.colab\n",
        "    COLAB = True\n",
        "except ModuleNotFoundError:\n",
        "    COLAB = False\n",
        "    pass\n",
        "\n",
        "if COLAB:\n",
        "    !pip -q install \"gymnasium[classic-control, atari, accept-rom-license]\"\n",
        "    !pip -q install piglet\n",
        "    !pip -q install imageio_ffmpeg\n",
        "    !pip -q install moviepy==1.0.3"
      ],
      "metadata": {
        "colab": {
          "base_uri": "https://localhost:8080/"
        },
        "id": "uQ1AqY8XugCU",
        "outputId": "4276fe37-0bb5-4d68-84ca-b223ed2dfac4"
      },
      "execution_count": null,
      "outputs": [
        {
          "output_type": "stream",
          "name": "stdout",
          "text": [
            "\u001b[2K     \u001b[90m━━━━━━━━━━━━━━━━━━━━━━━━━━━━━━━━━━━━━━━━\u001b[0m \u001b[32m13.7/13.7 MB\u001b[0m \u001b[31m56.5 MB/s\u001b[0m eta \u001b[36m0:00:00\u001b[0m\n",
            "\u001b[2K     \u001b[90m━━━━━━━━━━━━━━━━━━━━━━━━━━━━━━━━━━━━━━━━\u001b[0m \u001b[32m434.7/434.7 kB\u001b[0m \u001b[31m43.4 MB/s\u001b[0m eta \u001b[36m0:00:00\u001b[0m\n",
            "\u001b[?25h  Installing build dependencies ... \u001b[?25l\u001b[?25hdone\n",
            "  Getting requirements to build wheel ... \u001b[?25l\u001b[?25hdone\n",
            "  Preparing metadata (pyproject.toml) ... \u001b[?25l\u001b[?25hdone\n",
            "\u001b[2K     \u001b[90m━━━━━━━━━━━━━━━━━━━━━━━━━━━━━━━━━━━━━━━━\u001b[0m \u001b[32m1.7/1.7 MB\u001b[0m \u001b[31m52.3 MB/s\u001b[0m eta \u001b[36m0:00:00\u001b[0m\n",
            "\u001b[?25h  Building wheel for AutoROM.accept-rom-license (pyproject.toml) ... \u001b[?25l\u001b[?25hdone\n",
            "\u001b[2K     \u001b[90m━━━━━━━━━━━━━━━━━━━━━━━━━━━━━━━━━━━━━━━━\u001b[0m \u001b[32m67.5/67.5 kB\u001b[0m \u001b[31m2.8 MB/s\u001b[0m eta \u001b[36m0:00:00\u001b[0m\n",
            "\u001b[?25h"
          ]
        }
      ]
    },
    {
      "cell_type": "code",
      "source": [
        "# @title Импортирование зависимостей\n",
        "\n",
        "import time\n",
        "import glob\n",
        "import io\n",
        "import base64\n",
        "from IPython import display as ipythondisplay\n",
        "from IPython.display import HTML\n",
        "import gymnasium as gym\n",
        "from gymnasium.wrappers.record_video import RecordVideo\n",
        "import numpy as np\n",
        "import matplotlib.pyplot as plt\n",
        "from IPython.display import clear_output\n",
        "%matplotlib inline\n",
        "import warnings\n",
        "warnings.filterwarnings(\"ignore\", category=DeprecationWarning)\n",
        "\n",
        "\n",
        "def show_video(folder=\"./video\"):\n",
        "    mp4list = glob.glob(folder + '/*.mp4')\n",
        "    if len(mp4list) > 0:\n",
        "        mp4 = sorted(mp4list, key=lambda x: x[-15:], reverse=True)[0]\n",
        "        video = io.open(mp4, 'r+b').read()\n",
        "        encoded = base64.b64encode(video)\n",
        "        ipythondisplay.display(HTML(data='''<video alt=\"test\" autoplay\n",
        "                loop controls style=\"height: 400px;\">\n",
        "                <source src=\"data:video/mp4;base64,{0}\" type=\"video/mp4\" />\n",
        "             </video>'''.format(encoded.decode('ascii'))))\n",
        "    else:\n",
        "        print(\"Could not find video\")"
      ],
      "metadata": {
        "cellView": "form",
        "id": "0YEJQOnqxyHw"
      },
      "execution_count": null,
      "outputs": []
    },
    {
      "cell_type": "markdown",
      "metadata": {
        "id": "m27R1Ttz7UTG"
      },
      "source": [
        "# 1. Модификация сред: Wrappers  <a name = 'wrappers'></a>\n",
        "Мы знаем, что окружения создаются с помощью команды ``gym.make(<имя среды>)``, но что если мы хотим немного изменить окружение или добавить какой-то дополнительный функционал? Для этого существуют обертки (wrappers). [Уже существующие обертки](https://gymnasium.farama.org/api/wrappers/).\n"
      ]
    },
    {
      "cell_type": "markdown",
      "source": [
        "## Reward Wrapper\n",
        " Вспомним среду ``Taxi-v3``, предположим, что мы хотим поменять вознаграждения на следующие: 1 за решение задачи, -1 за неправильную посадку/высадку пассажира и 0 во всех остальных случаях. Для этого мы можем воспользоваться ``RewardWrapper``-ом:"
      ],
      "metadata": {
        "id": "n7Nx4GBzuDvo"
      }
    },
    {
      "cell_type": "code",
      "execution_count": null,
      "metadata": {
        "id": "9JM0vL4PI5eg"
      },
      "outputs": [],
      "source": [
        "class MyRewardWrapper(gym.RewardWrapper):\n",
        "    def reward(self, reward):\n",
        "        if reward == -1:\n",
        "            return 0\n",
        "        elif reward == 20:\n",
        "            return 1\n",
        "        elif reward == -10:\n",
        "            return -1\n",
        "        else:\n",
        "            raise KeyError"
      ]
    },
    {
      "cell_type": "code",
      "execution_count": null,
      "metadata": {
        "id": "_KgNfBuZxrXb",
        "colab": {
          "base_uri": "https://localhost:8080/"
        },
        "outputId": "b516c4ab-f9b2-4d9f-9f71-c4fde1b19f73"
      },
      "outputs": [
        {
          "output_type": "stream",
          "name": "stdout",
          "text": [
            "{0, -1}\n"
          ]
        }
      ],
      "source": [
        "env = gym.make(\"Taxi-v3\")\n",
        "env = MyRewardWrapper(env)\n",
        "observation, info = env.reset()\n",
        "\n",
        "rewards = set()\n",
        "\n",
        "while True:\n",
        "    observation, reward, term, trunc, info = env.step(env.action_space.sample())\n",
        "    rewards.add(reward)\n",
        "    if term or trunc:\n",
        "        break\n",
        "\n",
        "# выведем все вознаграждения, которые получал агент\n",
        "print(rewards)\n",
        "env.close()"
      ]
    },
    {
      "cell_type": "markdown",
      "metadata": {
        "id": "sV94d7A_IqjO"
      },
      "source": [
        "## Time Limit Wrapper\n",
        "\n",
        "В зависимости от рандома, мы могли получить разные результаты, но обычно это ``{0, -1}``. Откуда такой результат? Ведь среда заканчивается только когда задание выполнено. Все дело во встроенной обертке ограничивающей максимальное количество шагов."
      ]
    },
    {
      "cell_type": "code",
      "execution_count": null,
      "metadata": {
        "id": "T0iim5ptN5e5",
        "colab": {
          "base_uri": "https://localhost:8080/"
        },
        "outputId": "b89422f8-6674-43af-ca74-cac4383ae2f5"
      },
      "outputs": [
        {
          "output_type": "stream",
          "name": "stdout",
          "text": [
            "<class 'gymnasium.wrappers.time_limit.TimeLimit'>\n"
          ]
        }
      ],
      "source": [
        "env = gym.make(\"Taxi-v3\")\n",
        "print(type(env))\n",
        "env.close()"
      ]
    },
    {
      "cell_type": "markdown",
      "metadata": {
        "id": "JaWtFjhqOUho"
      },
      "source": [
        "Можно воспользоваться окружением без этой обертки, вызвав ``.env``:"
      ]
    },
    {
      "cell_type": "code",
      "execution_count": null,
      "metadata": {
        "id": "-sNyaV1mI8x-",
        "colab": {
          "base_uri": "https://localhost:8080/"
        },
        "outputId": "5bfadd51-2ebe-472a-948a-4388e1a1caa7"
      },
      "outputs": [
        {
          "output_type": "stream",
          "name": "stdout",
          "text": [
            "{0, 1, -1}\n"
          ]
        }
      ],
      "source": [
        "env = gym.make(\"Taxi-v3\").env\n",
        "env = MyRewardWrapper(env)\n",
        "\n",
        "observation, info = env.reset()\n",
        "rewards = set()\n",
        "while True:\n",
        "    observation, reward, term, trunc, info = env.step(env.action_space.sample())\n",
        "    rewards.add(reward)\n",
        "    if term or trunc:\n",
        "        break\n",
        "\n",
        "print(rewards)\n",
        "env.close()"
      ]
    },
    {
      "cell_type": "code",
      "source": [
        "term, trunc"
      ],
      "metadata": {
        "colab": {
          "base_uri": "https://localhost:8080/"
        },
        "id": "ts6kuuq7ut2z",
        "outputId": "d9bcf5d4-bda9-4039-9c00-7a05b7a16d37"
      },
      "execution_count": null,
      "outputs": [
        {
          "output_type": "execute_result",
          "data": {
            "text/plain": [
              "(True, False)"
            ]
          },
          "metadata": {},
          "execution_count": 11
        }
      ]
    },
    {
      "cell_type": "markdown",
      "metadata": {
        "id": "MiXN8vXRQbHV"
      },
      "source": [
        "А если у нас есть окружение без этого враппера по умолчанию, то можно добавить его вот так:"
      ]
    },
    {
      "cell_type": "code",
      "execution_count": null,
      "metadata": {
        "id": "gFikwyLVQYWa",
        "colab": {
          "base_uri": "https://localhost:8080/"
        },
        "outputId": "70562b69-1576-4f94-9116-4bad3af1323f"
      },
      "outputs": [
        {
          "output_type": "stream",
          "name": "stdout",
          "text": [
            "{0}\n"
          ]
        }
      ],
      "source": [
        "env = gym.make(\"Taxi-v3\").env\n",
        "env = MyRewardWrapper(env)\n",
        "env = gym.wrappers.TimeLimit(env, max_episode_steps=1)\n",
        "\n",
        "observation, info = env.reset()\n",
        "rewards = set()\n",
        "\n",
        "while True:\n",
        "    observation, reward, term, trunc, info = env.step(env.action_space.sample())\n",
        "    rewards.add(reward)\n",
        "    if term or trunc:\n",
        "        break\n",
        "\n",
        "print(rewards)\n",
        "env.close()"
      ]
    },
    {
      "cell_type": "code",
      "source": [
        "term, trunc"
      ],
      "metadata": {
        "colab": {
          "base_uri": "https://localhost:8080/"
        },
        "id": "tUU5l3yrunRc",
        "outputId": "c1b096a7-9f77-4131-dba2-31f9a6c050ca"
      },
      "execution_count": null,
      "outputs": [
        {
          "output_type": "execute_result",
          "data": {
            "text/plain": [
              "(False, True)"
            ]
          },
          "metadata": {},
          "execution_count": 9
        }
      ]
    },
    {
      "cell_type": "markdown",
      "metadata": {
        "id": "SvWsHZ-0YQAh"
      },
      "source": [
        "Как вы считаете, корректно ли с точки зрения MDP, если среда будет досрочно возвращать ``done=True``?"
      ]
    },
    {
      "cell_type": "markdown",
      "metadata": {
        "id": "u6QK20teTQjm"
      },
      "source": [
        "## Action Wrapper\n",
        "Представим, что наш водитель находится не в лучшем своем состоянии и независимо от выбора агента, в 50% случаев совершает случайные действий. Сделать среду стохастическои и добиться такого эффекта мы можем, используя ``ActionWrapper``:"
      ]
    },
    {
      "cell_type": "code",
      "execution_count": null,
      "metadata": {
        "id": "r0mn9Ru8RCNl"
      },
      "outputs": [],
      "source": [
        "class TaxiRandomActionWrapper(gym.ActionWrapper):\n",
        "    def __init__(self, env, probability=0.5):\n",
        "        super().__init__(env)\n",
        "        self.probability = probability\n",
        "\n",
        "    def action(self, action):\n",
        "        if np.random.random() < self.probability:\n",
        "            return env.action_space.sample()\n",
        "        else:\n",
        "            return action"
      ]
    },
    {
      "cell_type": "markdown",
      "metadata": {
        "id": "KV3X90ywVZY6"
      },
      "source": [
        "Чтобы проверить, что обертка работает будем выполнять единственное действие:"
      ]
    },
    {
      "cell_type": "code",
      "execution_count": null,
      "metadata": {
        "id": "TZwWeCihTSx5",
        "colab": {
          "base_uri": "https://localhost:8080/",
          "height": 526
        },
        "outputId": "57592bd2-6e22-46ae-f423-43a8e22cc31f"
      },
      "outputs": [
        {
          "output_type": "stream",
          "name": "stdout",
          "text": [
            "Moviepy - Building video /content/video/rl-video-episode-0.mp4.\n",
            "Moviepy - Writing video /content/video/rl-video-episode-0.mp4\n",
            "\n"
          ]
        },
        {
          "output_type": "stream",
          "name": "stderr",
          "text": []
        },
        {
          "output_type": "stream",
          "name": "stdout",
          "text": [
            "Moviepy - Done !\n",
            "Moviepy - video ready /content/video/rl-video-episode-0.mp4\n",
            "{0, -1}\n"
          ]
        },
        {
          "output_type": "display_data",
          "data": {
            "text/plain": [
              "<IPython.core.display.HTML object>"
            ],
            "text/html": [
              "<video alt=\"test\" autoplay\n",
              "                loop controls style=\"height: 400px;\">\n",
              "                <source src=\"data:video/mp4;base64,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\" type=\"video/mp4\" />\n",
              "             </video>"
            ]
          },
          "metadata": {}
        }
      ],
      "source": [
        "env = gym.make(\"Taxi-v3\", render_mode='rgb_array')\n",
        "env = MyRewardWrapper(env)\n",
        "env = TaxiRandomActionWrapper(env)\n",
        "env = RecordVideo(env, f\"./video\")\n",
        "\n",
        "observation, info = env.reset()\n",
        "rewards = set()\n",
        "\n",
        "while True:\n",
        "    action = 0\n",
        "    observation, reward, term, trunc, info = env.step(action)\n",
        "    rewards.add(reward)\n",
        "    if term or trunc:\n",
        "        break\n",
        "\n",
        "print(rewards)\n",
        "env.close()\n",
        "show_video()"
      ]
    },
    {
      "cell_type": "markdown",
      "metadata": {
        "id": "sjC6hUvBcFON"
      },
      "source": [
        "## Wrapper\n",
        "\n",
        "Класс ``gym.Wrapper`` является базовым для всех оберток. Подкласс может переопределить    многие методы для изменения поведения исходной среды, не изменяя при этом ее исходный код. Например, мы можем изменить метод step и добавить, какую-то дополнительную информацию в ``info``:"
      ]
    },
    {
      "cell_type": "code",
      "execution_count": null,
      "metadata": {
        "id": "BqWHuIZddnS-"
      },
      "outputs": [],
      "source": [
        "class MyWrapper(gym.Wrapper):\n",
        "    def step(self, action):\n",
        "        observation, reward, term, trunc, info = self.env.step(action)\n",
        "        info['Wrapped'] = True\n",
        "        return observation, reward, term, trunc, info"
      ]
    },
    {
      "cell_type": "code",
      "execution_count": null,
      "metadata": {
        "id": "neHGTYK_fG6H",
        "colab": {
          "base_uri": "https://localhost:8080/"
        },
        "outputId": "d2e385a5-4575-4b8e-e3a5-5dc4c6b3e397"
      },
      "outputs": [
        {
          "output_type": "stream",
          "name": "stdout",
          "text": [
            "{'prob': 1.0, 'action_mask': array([0, 1, 0, 1, 0, 0], dtype=int8), 'Wrapped': True}\n"
          ]
        }
      ],
      "source": [
        "env = gym.make(\"Taxi-v3\")\n",
        "env = MyWrapper(env)\n",
        "\n",
        "env.reset()\n",
        "_, _, _, _, info = env.step(env.action_space.sample())\n",
        "\n",
        "print(info)\n",
        "env.close()"
      ]
    },
    {
      "cell_type": "markdown",
      "metadata": {
        "id": "0ALA6a3Gtmvc"
      },
      "source": [
        "## Atari Preprocessing\n",
        "\n",
        "\n",
        "Предварительная обработка для Atari 2600.\n",
        "Класс ``AtariPreprocessing`` следует рекомендациям статьи: Revisiting the Arcade Learning Environment: Evaluation Protocols and Open Problems for General Agents\" Machado et al. (2018)."
      ]
    },
    {
      "cell_type": "code",
      "execution_count": null,
      "metadata": {
        "id": "CD8E-N41tmvc",
        "colab": {
          "base_uri": "https://localhost:8080/"
        },
        "outputId": "69ecb7a3-612b-4513-ee12-3c57b5cb72ab"
      },
      "outputs": [
        {
          "output_type": "stream",
          "name": "stdout",
          "text": [
            "Original: (210, 160, 3)\n"
          ]
        }
      ],
      "source": [
        "env = gym.make(\"BoxingNoFrameskip-v0\")\n",
        "\n",
        "print(f'Original: {env.observation_space.shape}')"
      ]
    },
    {
      "cell_type": "code",
      "execution_count": null,
      "metadata": {
        "id": "hu6MIGGGtmvc",
        "colab": {
          "base_uri": "https://localhost:8080/"
        },
        "outputId": "bbff8221-4f00-43f4-a582-2284a5f353b2"
      },
      "outputs": [
        {
          "output_type": "stream",
          "name": "stdout",
          "text": [
            "Preprocessed: (84, 84)\n"
          ]
        }
      ],
      "source": [
        "env = gym.wrappers.AtariPreprocessing(gym.make(\"BoxingNoFrameskip-v0\"))\n",
        "\n",
        "print(f'Preprocessed: {env.observation_space.shape}')"
      ]
    },
    {
      "cell_type": "markdown",
      "source": [
        "# 2. Логирование Wandb <a name = 'logs'></a>\n",
        "\n",
        "Несколько примеров: [Dexterity](https://wandb.ai/site/customers/learning-dexterity-end-to-end-using-weights-biases-reports), [RL Example: Pacman](https://wandb.ai/yashkotadia/rl-example).\n",
        "\n",
        "Для того, чтобы результаты записывались в облако, нужно залогиниться. Предоставить свой api-key. Самый простой способ - использование консоли:"
      ],
      "metadata": {
        "id": "Cvg-C0rl0J9I"
      }
    },
    {
      "cell_type": "code",
      "source": [
        "if COLAB:\n",
        "    !pip install wandb --quiet\n",
        "\n",
        "import wandb\n",
        "wandb.login()"
      ],
      "metadata": {
        "colab": {
          "base_uri": "https://localhost:8080/",
          "height": 191
        },
        "id": "RURn4KF41r8x",
        "outputId": "12f808cf-778b-48ae-aaf4-2c3c621069ef"
      },
      "execution_count": null,
      "outputs": [
        {
          "output_type": "stream",
          "name": "stdout",
          "text": [
            "\u001b[2K     \u001b[90m━━━━━━━━━━━━━━━━━━━━━━━━━━━━━━━━━━━━━━━━\u001b[0m \u001b[32m2.1/2.1 MB\u001b[0m \u001b[31m10.4 MB/s\u001b[0m eta \u001b[36m0:00:00\u001b[0m\n",
            "\u001b[2K     \u001b[90m━━━━━━━━━━━━━━━━━━━━━━━━━━━━━━━━━━━━━━━━\u001b[0m \u001b[32m190.6/190.6 kB\u001b[0m \u001b[31m12.2 MB/s\u001b[0m eta \u001b[36m0:00:00\u001b[0m\n",
            "\u001b[2K     \u001b[90m━━━━━━━━━━━━━━━━━━━━━━━━━━━━━━━━━━━━━━━━\u001b[0m \u001b[32m252.8/252.8 kB\u001b[0m \u001b[31m14.8 MB/s\u001b[0m eta \u001b[36m0:00:00\u001b[0m\n",
            "\u001b[2K     \u001b[90m━━━━━━━━━━━━━━━━━━━━━━━━━━━━━━━━━━━━━━━━\u001b[0m \u001b[32m62.7/62.7 kB\u001b[0m \u001b[31m7.6 MB/s\u001b[0m eta \u001b[36m0:00:00\u001b[0m\n",
            "\u001b[?25h"
          ]
        },
        {
          "output_type": "display_data",
          "data": {
            "text/plain": [
              "<IPython.core.display.Javascript object>"
            ],
            "application/javascript": [
              "\n",
              "        window._wandbApiKey = new Promise((resolve, reject) => {\n",
              "            function loadScript(url) {\n",
              "            return new Promise(function(resolve, reject) {\n",
              "                let newScript = document.createElement(\"script\");\n",
              "                newScript.onerror = reject;\n",
              "                newScript.onload = resolve;\n",
              "                document.body.appendChild(newScript);\n",
              "                newScript.src = url;\n",
              "            });\n",
              "            }\n",
              "            loadScript(\"https://cdn.jsdelivr.net/npm/postmate/build/postmate.min.js\").then(() => {\n",
              "            const iframe = document.createElement('iframe')\n",
              "            iframe.style.cssText = \"width:0;height:0;border:none\"\n",
              "            document.body.appendChild(iframe)\n",
              "            const handshake = new Postmate({\n",
              "                container: iframe,\n",
              "                url: 'https://wandb.ai/authorize'\n",
              "            });\n",
              "            const timeout = setTimeout(() => reject(\"Couldn't auto authenticate\"), 5000)\n",
              "            handshake.then(function(child) {\n",
              "                child.on('authorize', data => {\n",
              "                    clearTimeout(timeout)\n",
              "                    resolve(data)\n",
              "                });\n",
              "            });\n",
              "            })\n",
              "        });\n",
              "    "
            ]
          },
          "metadata": {}
        },
        {
          "output_type": "stream",
          "name": "stderr",
          "text": [
            "\u001b[34m\u001b[1mwandb\u001b[0m: Logging into wandb.ai. (Learn how to deploy a W&B server locally: https://wandb.me/wandb-server)\n",
            "\u001b[34m\u001b[1mwandb\u001b[0m: You can find your API key in your browser here: https://wandb.ai/authorize\n",
            "wandb: Paste an API key from your profile and hit enter, or press ctrl+c to quit:"
          ]
        },
        {
          "name": "stdout",
          "output_type": "stream",
          "text": [
            " ··········\n"
          ]
        },
        {
          "output_type": "stream",
          "name": "stderr",
          "text": [
            "\u001b[34m\u001b[1mwandb\u001b[0m: Appending key for api.wandb.ai to your netrc file: /root/.netrc\n"
          ]
        },
        {
          "output_type": "execute_result",
          "data": {
            "text/plain": [
              "True"
            ]
          },
          "metadata": {},
          "execution_count": 18
        }
      ]
    },
    {
      "cell_type": "code",
      "source": [
        "import math\n",
        "import random\n",
        "\n",
        "# Start a new run, tracking hyperparameters in config\n",
        "wandb.init(project=\"test-drive\", config={\n",
        "    \"learning_rate\": 0.01,\n",
        "    \"dropout\": 0.2,\n",
        "    \"architecture\": \"CNN\",\n",
        "    \"dataset\": \"CIFAR-100\",\n",
        "})\n",
        "config = wandb.config\n",
        "\n",
        "# Simulating a training or evaluation loop\n",
        "for x in range(50):\n",
        "    acc = math.log(1 + x + random.random()*config.learning_rate) + random.random() + config.dropout\n",
        "    loss = 10 - math.log(1 + x + random.random() + config.learning_rate*x) + random.random() + config.dropout\n",
        "    # Log metrics from your script to W&B\n",
        "    wandb.log({\"acc\":acc, \"loss\":loss}, step=x)\n",
        "wandb.finish()"
      ],
      "metadata": {
        "colab": {
          "base_uri": "https://localhost:8080/",
          "height": 312,
          "referenced_widgets": [
            "58847f9ff43c44b5975eba4402b20ff6",
            "9e157b0fee8b4f9187ad5b0775a9d17d",
            "eeaa109db96041d792231d687a258d50",
            "63ef24f141cc40b49d195f841450b019",
            "b4c69ec8b3bb42d2a3e0487b34f1bed7",
            "bdb57a0a83b546a1ae648dcd819c3fef",
            "1e605c694d3044ef8431a14cc9dab751",
            "07f1338799d442c88305f2c71c0b253c"
          ]
        },
        "id": "AktQMorD11IG",
        "outputId": "2965c8ec-b98e-48a0-c54a-518e3ad300e5"
      },
      "execution_count": null,
      "outputs": [
        {
          "output_type": "stream",
          "name": "stderr",
          "text": [
            "\u001b[34m\u001b[1mwandb\u001b[0m: Currently logged in as: \u001b[33markol\u001b[0m. Use \u001b[1m`wandb login --relogin`\u001b[0m to force relogin\n"
          ]
        },
        {
          "output_type": "display_data",
          "data": {
            "text/plain": [
              "<IPython.core.display.HTML object>"
            ],
            "text/html": [
              "Tracking run with wandb version 0.16.0"
            ]
          },
          "metadata": {}
        },
        {
          "output_type": "display_data",
          "data": {
            "text/plain": [
              "<IPython.core.display.HTML object>"
            ],
            "text/html": [
              "Run data is saved locally in <code>/content/wandb/run-20231204_170438-67u76j3g</code>"
            ]
          },
          "metadata": {}
        },
        {
          "output_type": "display_data",
          "data": {
            "text/plain": [
              "<IPython.core.display.HTML object>"
            ],
            "text/html": [
              "Syncing run <strong><a href='https://wandb.ai/arkol/test-drive/runs/67u76j3g' target=\"_blank\">cerulean-totem-5</a></strong> to <a href='https://wandb.ai/arkol/test-drive' target=\"_blank\">Weights & Biases</a> (<a href='https://wandb.me/run' target=\"_blank\">docs</a>)<br/>"
            ]
          },
          "metadata": {}
        },
        {
          "output_type": "display_data",
          "data": {
            "text/plain": [
              "<IPython.core.display.HTML object>"
            ],
            "text/html": [
              " View project at <a href='https://wandb.ai/arkol/test-drive' target=\"_blank\">https://wandb.ai/arkol/test-drive</a>"
            ]
          },
          "metadata": {}
        },
        {
          "output_type": "display_data",
          "data": {
            "text/plain": [
              "<IPython.core.display.HTML object>"
            ],
            "text/html": [
              " View run at <a href='https://wandb.ai/arkol/test-drive/runs/67u76j3g' target=\"_blank\">https://wandb.ai/arkol/test-drive/runs/67u76j3g</a>"
            ]
          },
          "metadata": {}
        },
        {
          "output_type": "display_data",
          "data": {
            "text/plain": [
              "VBox(children=(Label(value='0.010 MB of 0.010 MB uploaded\\r'), FloatProgress(value=1.0, max=1.0)))"
            ],
            "application/vnd.jupyter.widget-view+json": {
              "version_major": 2,
              "version_minor": 0,
              "model_id": "58847f9ff43c44b5975eba4402b20ff6"
            }
          },
          "metadata": {}
        },
        {
          "output_type": "display_data",
          "data": {
            "text/plain": [
              "<IPython.core.display.HTML object>"
            ],
            "text/html": [
              "<style>\n",
              "    table.wandb td:nth-child(1) { padding: 0 10px; text-align: left ; width: auto;} td:nth-child(2) {text-align: left ; width: 100%}\n",
              "    .wandb-row { display: flex; flex-direction: row; flex-wrap: wrap; justify-content: flex-start; width: 100% }\n",
              "    .wandb-col { display: flex; flex-direction: column; flex-basis: 100%; flex: 1; padding: 10px; }\n",
              "    </style>\n",
              "<div class=\"wandb-row\"><div class=\"wandb-col\"><h3>Run history:</h3><br/><table class=\"wandb\"><tr><td>acc</td><td>▁▃▄▄▅▄▄▅▅▆▅▅▅▅▅▆▇▆▆▇▆▇▇▇▇▆▇▇▇▇▆▇▇▇▇█████</td></tr><tr><td>loss</td><td>█▆▆▅▆▄▅▄▄▄▄▃▄▂▃▃▃▃▃▂▃▂▂▃▃▂▂▃▂▂▁▂▂▁▁▂▂▁▂▂</td></tr></table><br/></div><div class=\"wandb-col\"><h3>Run summary:</h3><br/><table class=\"wandb\"><tr><td>acc</td><td>4.81129</td></tr><tr><td>loss</td><td>6.8239</td></tr></table><br/></div></div>"
            ]
          },
          "metadata": {}
        },
        {
          "output_type": "display_data",
          "data": {
            "text/plain": [
              "<IPython.core.display.HTML object>"
            ],
            "text/html": [
              " View run <strong style=\"color:#cdcd00\">cerulean-totem-5</strong> at: <a href='https://wandb.ai/arkol/test-drive/runs/67u76j3g' target=\"_blank\">https://wandb.ai/arkol/test-drive/runs/67u76j3g</a><br/>Synced 4 W&B file(s), 0 media file(s), 0 artifact file(s) and 0 other file(s)"
            ]
          },
          "metadata": {}
        },
        {
          "output_type": "display_data",
          "data": {
            "text/plain": [
              "<IPython.core.display.HTML object>"
            ],
            "text/html": [
              "Find logs at: <code>./wandb/run-20231204_170438-67u76j3g/logs</code>"
            ]
          },
          "metadata": {}
        }
      ]
    },
    {
      "cell_type": "markdown",
      "metadata": {
        "id": "PaeOKJGxtmvc"
      },
      "source": [
        "# 3. RL Фреймворки <a name = 'frameworks'></a>\n",
        "\n",
        "Переиспользование написанного кода является хорошей практикой написания программ и обучение с подкреплением не является исключением. Существует большое число готовых реализаций RL алгоритмов. Рассмотрим некоторые из них:"
      ]
    },
    {
      "cell_type": "markdown",
      "metadata": {
        "id": "HoZ50gJ5tmvc"
      },
      "source": [
        "## Stable Baselines3\n",
        "\n",
        "\n",
        "Stable Baselines3 (SB3) is a set of reliable implementations of reinforcement learning algorithms in PyTorch. It is the next major version of [Stable Baselines](https://github.com/hill-a/stable-baselines).\n",
        "\n",
        "You can read a detailed presentation of Stable Baselines3 in the [v1.0 blog post](https://araffin.github.io/post/sb3/) or our [JMLR paper](https://jmlr.org/papers/volume22/20-1364/20-1364.pdf).\n",
        "\n",
        "\n",
        "These algorithms will make it easier for the research community and industry to replicate, refine, and identify new ideas, and will create good baselines to build projects on top of. We expect these tools will be used as a base around which new ideas can be added, and as a tool for comparing a new approach against existing ones. We also hope that the simplicity of these tools will allow beginners to experiment with a more advanced toolset, without being buried in implementation details.\n",
        "\n",
        "\n",
        "**Neural Network Framework:** PyTorch.\n",
        "\n",
        "**Список алгоритмов:** A2C, DDPG, DQN, HER, PPO, SAC, TD3, etc.\n",
        "\n",
        "Tutorial: [Stable Baselines3 Tutorial](https://github.com/araffin/rl-tutorial-jnrr19)"
      ]
    },
    {
      "cell_type": "code",
      "execution_count": null,
      "metadata": {
        "id": "jDLUlNPatmvc",
        "colab": {
          "base_uri": "https://localhost:8080/"
        },
        "outputId": "87c58d50-3fe9-4d3a-b76c-d294a114b9fb"
      },
      "outputs": [
        {
          "output_type": "stream",
          "name": "stdout",
          "text": [
            "\u001b[2K     \u001b[90m━━━━━━━━━━━━━━━━━━━━━━━━━━━━━━━━━━━━━━━━\u001b[0m \u001b[32m181.7/181.7 kB\u001b[0m \u001b[31m3.7 MB/s\u001b[0m eta \u001b[36m0:00:00\u001b[0m\n",
            "Reading package lists... Done\n",
            "Building dependency tree... Done\n",
            "Reading state information... Done\n",
            "The following additional packages will be installed:\n",
            "  swig4.0\n",
            "Suggested packages:\n",
            "  swig-doc swig-examples swig4.0-examples swig4.0-doc\n",
            "The following NEW packages will be installed:\n",
            "  swig swig4.0\n",
            "0 upgraded, 2 newly installed, 0 to remove and 15 not upgraded.\n",
            "Need to get 1,116 kB of archives.\n",
            "After this operation, 5,542 kB of additional disk space will be used.\n",
            "Get:1 http://archive.ubuntu.com/ubuntu jammy/universe amd64 swig4.0 amd64 4.0.2-1ubuntu1 [1,110 kB]\n",
            "Get:2 http://archive.ubuntu.com/ubuntu jammy/universe amd64 swig all 4.0.2-1ubuntu1 [5,632 B]\n",
            "Fetched 1,116 kB in 1s (1,721 kB/s)\n",
            "Selecting previously unselected package swig4.0.\n",
            "(Reading database ... 120882 files and directories currently installed.)\n",
            "Preparing to unpack .../swig4.0_4.0.2-1ubuntu1_amd64.deb ...\n",
            "Unpacking swig4.0 (4.0.2-1ubuntu1) ...\n",
            "Selecting previously unselected package swig.\n",
            "Preparing to unpack .../swig_4.0.2-1ubuntu1_all.deb ...\n",
            "Unpacking swig (4.0.2-1ubuntu1) ...\n",
            "Setting up swig4.0 (4.0.2-1ubuntu1) ...\n",
            "Setting up swig (4.0.2-1ubuntu1) ...\n",
            "Processing triggers for man-db (2.10.2-1) ...\n",
            "Requirement already satisfied: gymnasium[box2d] in /usr/local/lib/python3.10/dist-packages (0.29.1)\n",
            "Requirement already satisfied: numpy>=1.21.0 in /usr/local/lib/python3.10/dist-packages (from gymnasium[box2d]) (1.23.5)\n",
            "Requirement already satisfied: cloudpickle>=1.2.0 in /usr/local/lib/python3.10/dist-packages (from gymnasium[box2d]) (2.2.1)\n",
            "Requirement already satisfied: typing-extensions>=4.3.0 in /usr/local/lib/python3.10/dist-packages (from gymnasium[box2d]) (4.5.0)\n",
            "Requirement already satisfied: farama-notifications>=0.0.1 in /usr/local/lib/python3.10/dist-packages (from gymnasium[box2d]) (0.0.4)\n",
            "Collecting box2d-py==2.3.5 (from gymnasium[box2d])\n",
            "  Downloading box2d-py-2.3.5.tar.gz (374 kB)\n",
            "\u001b[2K     \u001b[90m━━━━━━━━━━━━━━━━━━━━━━━━━━━━━━━━━━━━━━━━\u001b[0m \u001b[32m374.4/374.4 kB\u001b[0m \u001b[31m5.7 MB/s\u001b[0m eta \u001b[36m0:00:00\u001b[0m\n",
            "\u001b[?25h  Preparing metadata (setup.py) ... \u001b[?25l\u001b[?25hdone\n",
            "Requirement already satisfied: pygame>=2.1.3 in /usr/local/lib/python3.10/dist-packages (from gymnasium[box2d]) (2.5.2)\n",
            "Collecting swig==4.* (from gymnasium[box2d])\n",
            "  Downloading swig-4.1.1.post0-py2.py3-none-manylinux_2_5_x86_64.manylinux1_x86_64.whl (1.8 MB)\n",
            "\u001b[2K     \u001b[90m━━━━━━━━━━━━━━━━━━━━━━━━━━━━━━━━━━━━━━━━\u001b[0m \u001b[32m1.8/1.8 MB\u001b[0m \u001b[31m13.8 MB/s\u001b[0m eta \u001b[36m0:00:00\u001b[0m\n",
            "\u001b[?25hBuilding wheels for collected packages: box2d-py\n",
            "  Building wheel for box2d-py (setup.py) ... \u001b[?25l\u001b[?25hdone\n",
            "  Created wheel for box2d-py: filename=box2d_py-2.3.5-cp310-cp310-linux_x86_64.whl size=2349118 sha256=e5fb38de3459245d1ee55969283107725fef935f017f591c5cfaa1f83f7fb7c9\n",
            "  Stored in directory: /root/.cache/pip/wheels/db/8f/6a/eaaadf056fba10a98d986f6dce954e6201ba3126926fc5ad9e\n",
            "Successfully built box2d-py\n",
            "Installing collected packages: swig, box2d-py\n",
            "Successfully installed box2d-py-2.3.5 swig-4.1.1.post0\n"
          ]
        }
      ],
      "source": [
        "if COLAB:\n",
        "    !pip install stable-baselines3[extra] --quiet\n",
        "    !apt install swig\n",
        "    !pip install gymnasium[box2d]"
      ]
    },
    {
      "cell_type": "code",
      "source": [
        "from stable_baselines3 import DQN\n",
        "from stable_baselines3.common.evaluation import evaluate_policy\n",
        "\n",
        "# Create environment\n",
        "env = gym.make(\"LunarLander-v2\", render_mode=\"rgb_array\")\n",
        "\n",
        "# Instantiate the agent\n",
        "model = DQN(\"MlpPolicy\", env, verbose=0)\n",
        "# Train the agent and display a progress bar\n",
        "model.learn(total_timesteps=int(2e5), progress_bar=True)\n",
        "# Save the agent\n",
        "model.save(\"dqn_lunar\")\n",
        "del model  # delete trained model to demonstrate loading\n",
        "\n",
        "# Load the trained agent\n",
        "# NOTE: if you have loading issue, you can pass `print_system_info=True`\n",
        "# to compare the system on which the model was trained vs the current one\n",
        "# model = DQN.load(\"dqn_lunar\", env=env, print_system_info=True)\n",
        "model = DQN.load(\"dqn_lunar\", env=env)\n",
        "\n",
        "# Evaluate the agent\n",
        "mean_reward, std_reward = evaluate_policy(model, model.get_env(), n_eval_episodes=10)"
      ],
      "metadata": {
        "colab": {
          "base_uri": "https://localhost:8080/",
          "height": 406,
          "referenced_widgets": [
            "3c00630679d84417bf1b2de6f02cfaa1",
            "e1e522068cf748819acb85be71be754e"
          ]
        },
        "id": "Og04xGPtVB5m",
        "outputId": "88ce574e-085d-409a-b4f3-a6c38e726b55"
      },
      "execution_count": null,
      "outputs": [
        {
          "output_type": "display_data",
          "data": {
            "text/plain": [
              "Output()"
            ],
            "application/vnd.jupyter.widget-view+json": {
              "version_major": 2,
              "version_minor": 0,
              "model_id": "3c00630679d84417bf1b2de6f02cfaa1"
            }
          },
          "metadata": {}
        },
        {
          "output_type": "error",
          "ename": "KeyboardInterrupt",
          "evalue": "ignored",
          "traceback": [
            "\u001b[0;31m---------------------------------------------------------------------------\u001b[0m",
            "\u001b[0;31mKeyboardInterrupt\u001b[0m                         Traceback (most recent call last)",
            "\u001b[0;32m<ipython-input-21-9e7547d5ca8d>\u001b[0m in \u001b[0;36m<cell line: 10>\u001b[0;34m()\u001b[0m\n\u001b[1;32m      8\u001b[0m \u001b[0mmodel\u001b[0m \u001b[0;34m=\u001b[0m \u001b[0mDQN\u001b[0m\u001b[0;34m(\u001b[0m\u001b[0;34m\"MlpPolicy\"\u001b[0m\u001b[0;34m,\u001b[0m \u001b[0menv\u001b[0m\u001b[0;34m,\u001b[0m \u001b[0mverbose\u001b[0m\u001b[0;34m=\u001b[0m\u001b[0;36m0\u001b[0m\u001b[0;34m)\u001b[0m\u001b[0;34m\u001b[0m\u001b[0;34m\u001b[0m\u001b[0m\n\u001b[1;32m      9\u001b[0m \u001b[0;31m# Train the agent and display a progress bar\u001b[0m\u001b[0;34m\u001b[0m\u001b[0;34m\u001b[0m\u001b[0m\n\u001b[0;32m---> 10\u001b[0;31m \u001b[0mmodel\u001b[0m\u001b[0;34m.\u001b[0m\u001b[0mlearn\u001b[0m\u001b[0;34m(\u001b[0m\u001b[0mtotal_timesteps\u001b[0m\u001b[0;34m=\u001b[0m\u001b[0mint\u001b[0m\u001b[0;34m(\u001b[0m\u001b[0;36m2e5\u001b[0m\u001b[0;34m)\u001b[0m\u001b[0;34m,\u001b[0m \u001b[0mprogress_bar\u001b[0m\u001b[0;34m=\u001b[0m\u001b[0;32mTrue\u001b[0m\u001b[0;34m)\u001b[0m\u001b[0;34m\u001b[0m\u001b[0;34m\u001b[0m\u001b[0m\n\u001b[0m\u001b[1;32m     11\u001b[0m \u001b[0;31m# Save the agent\u001b[0m\u001b[0;34m\u001b[0m\u001b[0;34m\u001b[0m\u001b[0m\n\u001b[1;32m     12\u001b[0m \u001b[0mmodel\u001b[0m\u001b[0;34m.\u001b[0m\u001b[0msave\u001b[0m\u001b[0;34m(\u001b[0m\u001b[0;34m\"dqn_lunar\"\u001b[0m\u001b[0;34m)\u001b[0m\u001b[0;34m\u001b[0m\u001b[0;34m\u001b[0m\u001b[0m\n",
            "\u001b[0;32m/usr/local/lib/python3.10/dist-packages/stable_baselines3/dqn/dqn.py\u001b[0m in \u001b[0;36mlearn\u001b[0;34m(self, total_timesteps, callback, log_interval, tb_log_name, reset_num_timesteps, progress_bar)\u001b[0m\n\u001b[1;32m    265\u001b[0m         \u001b[0mprogress_bar\u001b[0m\u001b[0;34m:\u001b[0m \u001b[0mbool\u001b[0m \u001b[0;34m=\u001b[0m \u001b[0;32mFalse\u001b[0m\u001b[0;34m,\u001b[0m\u001b[0;34m\u001b[0m\u001b[0;34m\u001b[0m\u001b[0m\n\u001b[1;32m    266\u001b[0m     ) -> SelfDQN:\n\u001b[0;32m--> 267\u001b[0;31m         return super().learn(\n\u001b[0m\u001b[1;32m    268\u001b[0m             \u001b[0mtotal_timesteps\u001b[0m\u001b[0;34m=\u001b[0m\u001b[0mtotal_timesteps\u001b[0m\u001b[0;34m,\u001b[0m\u001b[0;34m\u001b[0m\u001b[0;34m\u001b[0m\u001b[0m\n\u001b[1;32m    269\u001b[0m             \u001b[0mcallback\u001b[0m\u001b[0;34m=\u001b[0m\u001b[0mcallback\u001b[0m\u001b[0;34m,\u001b[0m\u001b[0;34m\u001b[0m\u001b[0;34m\u001b[0m\u001b[0m\n",
            "\u001b[0;32m/usr/local/lib/python3.10/dist-packages/stable_baselines3/common/off_policy_algorithm.py\u001b[0m in \u001b[0;36mlearn\u001b[0;34m(self, total_timesteps, callback, log_interval, tb_log_name, reset_num_timesteps, progress_bar)\u001b[0m\n\u001b[1;32m    326\u001b[0m \u001b[0;34m\u001b[0m\u001b[0m\n\u001b[1;32m    327\u001b[0m         \u001b[0;32mwhile\u001b[0m \u001b[0mself\u001b[0m\u001b[0;34m.\u001b[0m\u001b[0mnum_timesteps\u001b[0m \u001b[0;34m<\u001b[0m \u001b[0mtotal_timesteps\u001b[0m\u001b[0;34m:\u001b[0m\u001b[0;34m\u001b[0m\u001b[0;34m\u001b[0m\u001b[0m\n\u001b[0;32m--> 328\u001b[0;31m             rollout = self.collect_rollouts(\n\u001b[0m\u001b[1;32m    329\u001b[0m                 \u001b[0mself\u001b[0m\u001b[0;34m.\u001b[0m\u001b[0menv\u001b[0m\u001b[0;34m,\u001b[0m\u001b[0;34m\u001b[0m\u001b[0;34m\u001b[0m\u001b[0m\n\u001b[1;32m    330\u001b[0m                 \u001b[0mtrain_freq\u001b[0m\u001b[0;34m=\u001b[0m\u001b[0mself\u001b[0m\u001b[0;34m.\u001b[0m\u001b[0mtrain_freq\u001b[0m\u001b[0;34m,\u001b[0m\u001b[0;34m\u001b[0m\u001b[0;34m\u001b[0m\u001b[0m\n",
            "\u001b[0;32m/usr/local/lib/python3.10/dist-packages/stable_baselines3/common/off_policy_algorithm.py\u001b[0m in \u001b[0;36mcollect_rollouts\u001b[0;34m(self, env, callback, train_freq, replay_buffer, action_noise, learning_starts, log_interval)\u001b[0m\n\u001b[1;32m    558\u001b[0m \u001b[0;34m\u001b[0m\u001b[0m\n\u001b[1;32m    559\u001b[0m             \u001b[0;31m# Rescale and perform action\u001b[0m\u001b[0;34m\u001b[0m\u001b[0;34m\u001b[0m\u001b[0m\n\u001b[0;32m--> 560\u001b[0;31m             \u001b[0mnew_obs\u001b[0m\u001b[0;34m,\u001b[0m \u001b[0mrewards\u001b[0m\u001b[0;34m,\u001b[0m \u001b[0mdones\u001b[0m\u001b[0;34m,\u001b[0m \u001b[0minfos\u001b[0m \u001b[0;34m=\u001b[0m \u001b[0menv\u001b[0m\u001b[0;34m.\u001b[0m\u001b[0mstep\u001b[0m\u001b[0;34m(\u001b[0m\u001b[0mactions\u001b[0m\u001b[0;34m)\u001b[0m\u001b[0;34m\u001b[0m\u001b[0;34m\u001b[0m\u001b[0m\n\u001b[0m\u001b[1;32m    561\u001b[0m \u001b[0;34m\u001b[0m\u001b[0m\n\u001b[1;32m    562\u001b[0m             \u001b[0mself\u001b[0m\u001b[0;34m.\u001b[0m\u001b[0mnum_timesteps\u001b[0m \u001b[0;34m+=\u001b[0m \u001b[0menv\u001b[0m\u001b[0;34m.\u001b[0m\u001b[0mnum_envs\u001b[0m\u001b[0;34m\u001b[0m\u001b[0;34m\u001b[0m\u001b[0m\n",
            "\u001b[0;32m/usr/local/lib/python3.10/dist-packages/stable_baselines3/common/vec_env/base_vec_env.py\u001b[0m in \u001b[0;36mstep\u001b[0;34m(self, actions)\u001b[0m\n\u001b[1;32m    204\u001b[0m         \"\"\"\n\u001b[1;32m    205\u001b[0m         \u001b[0mself\u001b[0m\u001b[0;34m.\u001b[0m\u001b[0mstep_async\u001b[0m\u001b[0;34m(\u001b[0m\u001b[0mactions\u001b[0m\u001b[0;34m)\u001b[0m\u001b[0;34m\u001b[0m\u001b[0;34m\u001b[0m\u001b[0m\n\u001b[0;32m--> 206\u001b[0;31m         \u001b[0;32mreturn\u001b[0m \u001b[0mself\u001b[0m\u001b[0;34m.\u001b[0m\u001b[0mstep_wait\u001b[0m\u001b[0;34m(\u001b[0m\u001b[0;34m)\u001b[0m\u001b[0;34m\u001b[0m\u001b[0;34m\u001b[0m\u001b[0m\n\u001b[0m\u001b[1;32m    207\u001b[0m \u001b[0;34m\u001b[0m\u001b[0m\n\u001b[1;32m    208\u001b[0m     \u001b[0;32mdef\u001b[0m \u001b[0mget_images\u001b[0m\u001b[0;34m(\u001b[0m\u001b[0mself\u001b[0m\u001b[0;34m)\u001b[0m \u001b[0;34m->\u001b[0m \u001b[0mSequence\u001b[0m\u001b[0;34m[\u001b[0m\u001b[0mOptional\u001b[0m\u001b[0;34m[\u001b[0m\u001b[0mnp\u001b[0m\u001b[0;34m.\u001b[0m\u001b[0mndarray\u001b[0m\u001b[0;34m]\u001b[0m\u001b[0;34m]\u001b[0m\u001b[0;34m:\u001b[0m\u001b[0;34m\u001b[0m\u001b[0;34m\u001b[0m\u001b[0m\n",
            "\u001b[0;32m/usr/local/lib/python3.10/dist-packages/stable_baselines3/common/vec_env/dummy_vec_env.py\u001b[0m in \u001b[0;36mstep_wait\u001b[0;34m(self)\u001b[0m\n\u001b[1;32m     56\u001b[0m         \u001b[0;31m# Avoid circular imports\u001b[0m\u001b[0;34m\u001b[0m\u001b[0;34m\u001b[0m\u001b[0m\n\u001b[1;32m     57\u001b[0m         \u001b[0;32mfor\u001b[0m \u001b[0menv_idx\u001b[0m \u001b[0;32min\u001b[0m \u001b[0mrange\u001b[0m\u001b[0;34m(\u001b[0m\u001b[0mself\u001b[0m\u001b[0;34m.\u001b[0m\u001b[0mnum_envs\u001b[0m\u001b[0;34m)\u001b[0m\u001b[0;34m:\u001b[0m\u001b[0;34m\u001b[0m\u001b[0;34m\u001b[0m\u001b[0m\n\u001b[0;32m---> 58\u001b[0;31m             obs, self.buf_rews[env_idx], terminated, truncated, self.buf_infos[env_idx] = self.envs[env_idx].step(\n\u001b[0m\u001b[1;32m     59\u001b[0m                 \u001b[0mself\u001b[0m\u001b[0;34m.\u001b[0m\u001b[0mactions\u001b[0m\u001b[0;34m[\u001b[0m\u001b[0menv_idx\u001b[0m\u001b[0;34m]\u001b[0m\u001b[0;34m\u001b[0m\u001b[0;34m\u001b[0m\u001b[0m\n\u001b[1;32m     60\u001b[0m             )\n",
            "\u001b[0;32m/usr/local/lib/python3.10/dist-packages/stable_baselines3/common/monitor.py\u001b[0m in \u001b[0;36mstep\u001b[0;34m(self, action)\u001b[0m\n\u001b[1;32m     92\u001b[0m         \u001b[0;32mif\u001b[0m \u001b[0mself\u001b[0m\u001b[0;34m.\u001b[0m\u001b[0mneeds_reset\u001b[0m\u001b[0;34m:\u001b[0m\u001b[0;34m\u001b[0m\u001b[0;34m\u001b[0m\u001b[0m\n\u001b[1;32m     93\u001b[0m             \u001b[0;32mraise\u001b[0m \u001b[0mRuntimeError\u001b[0m\u001b[0;34m(\u001b[0m\u001b[0;34m\"Tried to step environment that needs reset\"\u001b[0m\u001b[0;34m)\u001b[0m\u001b[0;34m\u001b[0m\u001b[0;34m\u001b[0m\u001b[0m\n\u001b[0;32m---> 94\u001b[0;31m         \u001b[0mobservation\u001b[0m\u001b[0;34m,\u001b[0m \u001b[0mreward\u001b[0m\u001b[0;34m,\u001b[0m \u001b[0mterminated\u001b[0m\u001b[0;34m,\u001b[0m \u001b[0mtruncated\u001b[0m\u001b[0;34m,\u001b[0m \u001b[0minfo\u001b[0m \u001b[0;34m=\u001b[0m \u001b[0mself\u001b[0m\u001b[0;34m.\u001b[0m\u001b[0menv\u001b[0m\u001b[0;34m.\u001b[0m\u001b[0mstep\u001b[0m\u001b[0;34m(\u001b[0m\u001b[0maction\u001b[0m\u001b[0;34m)\u001b[0m\u001b[0;34m\u001b[0m\u001b[0;34m\u001b[0m\u001b[0m\n\u001b[0m\u001b[1;32m     95\u001b[0m         \u001b[0mself\u001b[0m\u001b[0;34m.\u001b[0m\u001b[0mrewards\u001b[0m\u001b[0;34m.\u001b[0m\u001b[0mappend\u001b[0m\u001b[0;34m(\u001b[0m\u001b[0mfloat\u001b[0m\u001b[0;34m(\u001b[0m\u001b[0mreward\u001b[0m\u001b[0;34m)\u001b[0m\u001b[0;34m)\u001b[0m\u001b[0;34m\u001b[0m\u001b[0;34m\u001b[0m\u001b[0m\n\u001b[1;32m     96\u001b[0m         \u001b[0;32mif\u001b[0m \u001b[0mterminated\u001b[0m \u001b[0;32mor\u001b[0m \u001b[0mtruncated\u001b[0m\u001b[0;34m:\u001b[0m\u001b[0;34m\u001b[0m\u001b[0;34m\u001b[0m\u001b[0m\n",
            "\u001b[0;32m/usr/local/lib/python3.10/dist-packages/gymnasium/wrappers/time_limit.py\u001b[0m in \u001b[0;36mstep\u001b[0;34m(self, action)\u001b[0m\n\u001b[1;32m     55\u001b[0m \u001b[0;34m\u001b[0m\u001b[0m\n\u001b[1;32m     56\u001b[0m         \"\"\"\n\u001b[0;32m---> 57\u001b[0;31m         \u001b[0mobservation\u001b[0m\u001b[0;34m,\u001b[0m \u001b[0mreward\u001b[0m\u001b[0;34m,\u001b[0m \u001b[0mterminated\u001b[0m\u001b[0;34m,\u001b[0m \u001b[0mtruncated\u001b[0m\u001b[0;34m,\u001b[0m \u001b[0minfo\u001b[0m \u001b[0;34m=\u001b[0m \u001b[0mself\u001b[0m\u001b[0;34m.\u001b[0m\u001b[0menv\u001b[0m\u001b[0;34m.\u001b[0m\u001b[0mstep\u001b[0m\u001b[0;34m(\u001b[0m\u001b[0maction\u001b[0m\u001b[0;34m)\u001b[0m\u001b[0;34m\u001b[0m\u001b[0;34m\u001b[0m\u001b[0m\n\u001b[0m\u001b[1;32m     58\u001b[0m         \u001b[0mself\u001b[0m\u001b[0;34m.\u001b[0m\u001b[0m_elapsed_steps\u001b[0m \u001b[0;34m+=\u001b[0m \u001b[0;36m1\u001b[0m\u001b[0;34m\u001b[0m\u001b[0;34m\u001b[0m\u001b[0m\n\u001b[1;32m     59\u001b[0m \u001b[0;34m\u001b[0m\u001b[0m\n",
            "\u001b[0;32m/usr/local/lib/python3.10/dist-packages/gymnasium/wrappers/order_enforcing.py\u001b[0m in \u001b[0;36mstep\u001b[0;34m(self, action)\u001b[0m\n\u001b[1;32m     54\u001b[0m         \u001b[0;32mif\u001b[0m \u001b[0;32mnot\u001b[0m \u001b[0mself\u001b[0m\u001b[0;34m.\u001b[0m\u001b[0m_has_reset\u001b[0m\u001b[0;34m:\u001b[0m\u001b[0;34m\u001b[0m\u001b[0;34m\u001b[0m\u001b[0m\n\u001b[1;32m     55\u001b[0m             \u001b[0;32mraise\u001b[0m \u001b[0mResetNeeded\u001b[0m\u001b[0;34m(\u001b[0m\u001b[0;34m\"Cannot call env.step() before calling env.reset()\"\u001b[0m\u001b[0;34m)\u001b[0m\u001b[0;34m\u001b[0m\u001b[0;34m\u001b[0m\u001b[0m\n\u001b[0;32m---> 56\u001b[0;31m         \u001b[0;32mreturn\u001b[0m \u001b[0mself\u001b[0m\u001b[0;34m.\u001b[0m\u001b[0menv\u001b[0m\u001b[0;34m.\u001b[0m\u001b[0mstep\u001b[0m\u001b[0;34m(\u001b[0m\u001b[0maction\u001b[0m\u001b[0;34m)\u001b[0m\u001b[0;34m\u001b[0m\u001b[0;34m\u001b[0m\u001b[0m\n\u001b[0m\u001b[1;32m     57\u001b[0m \u001b[0;34m\u001b[0m\u001b[0m\n\u001b[1;32m     58\u001b[0m     \u001b[0;32mdef\u001b[0m \u001b[0mreset\u001b[0m\u001b[0;34m(\u001b[0m\u001b[0mself\u001b[0m\u001b[0;34m,\u001b[0m \u001b[0;34m**\u001b[0m\u001b[0mkwargs\u001b[0m\u001b[0;34m)\u001b[0m\u001b[0;34m:\u001b[0m\u001b[0;34m\u001b[0m\u001b[0;34m\u001b[0m\u001b[0m\n",
            "\u001b[0;32m/usr/local/lib/python3.10/dist-packages/gymnasium/wrappers/env_checker.py\u001b[0m in \u001b[0;36mstep\u001b[0;34m(self, action)\u001b[0m\n\u001b[1;32m     49\u001b[0m             \u001b[0;32mreturn\u001b[0m \u001b[0menv_step_passive_checker\u001b[0m\u001b[0;34m(\u001b[0m\u001b[0mself\u001b[0m\u001b[0;34m.\u001b[0m\u001b[0menv\u001b[0m\u001b[0;34m,\u001b[0m \u001b[0maction\u001b[0m\u001b[0;34m)\u001b[0m\u001b[0;34m\u001b[0m\u001b[0;34m\u001b[0m\u001b[0m\n\u001b[1;32m     50\u001b[0m         \u001b[0;32melse\u001b[0m\u001b[0;34m:\u001b[0m\u001b[0;34m\u001b[0m\u001b[0;34m\u001b[0m\u001b[0m\n\u001b[0;32m---> 51\u001b[0;31m             \u001b[0;32mreturn\u001b[0m \u001b[0mself\u001b[0m\u001b[0;34m.\u001b[0m\u001b[0menv\u001b[0m\u001b[0;34m.\u001b[0m\u001b[0mstep\u001b[0m\u001b[0;34m(\u001b[0m\u001b[0maction\u001b[0m\u001b[0;34m)\u001b[0m\u001b[0;34m\u001b[0m\u001b[0;34m\u001b[0m\u001b[0m\n\u001b[0m\u001b[1;32m     52\u001b[0m \u001b[0;34m\u001b[0m\u001b[0m\n\u001b[1;32m     53\u001b[0m     \u001b[0;32mdef\u001b[0m \u001b[0mreset\u001b[0m\u001b[0;34m(\u001b[0m\u001b[0mself\u001b[0m\u001b[0;34m,\u001b[0m \u001b[0;34m**\u001b[0m\u001b[0mkwargs\u001b[0m\u001b[0;34m)\u001b[0m\u001b[0;34m:\u001b[0m\u001b[0;34m\u001b[0m\u001b[0;34m\u001b[0m\u001b[0m\n",
            "\u001b[0;32m/usr/local/lib/python3.10/dist-packages/gymnasium/envs/box2d/lunar_lander.py\u001b[0m in \u001b[0;36mstep\u001b[0;34m(self, action)\u001b[0m\n\u001b[1;32m    629\u001b[0m             )\n\u001b[1;32m    630\u001b[0m \u001b[0;34m\u001b[0m\u001b[0m\n\u001b[0;32m--> 631\u001b[0;31m         \u001b[0mself\u001b[0m\u001b[0;34m.\u001b[0m\u001b[0mworld\u001b[0m\u001b[0;34m.\u001b[0m\u001b[0mStep\u001b[0m\u001b[0;34m(\u001b[0m\u001b[0;36m1.0\u001b[0m \u001b[0;34m/\u001b[0m \u001b[0mFPS\u001b[0m\u001b[0;34m,\u001b[0m \u001b[0;36m6\u001b[0m \u001b[0;34m*\u001b[0m \u001b[0;36m30\u001b[0m\u001b[0;34m,\u001b[0m \u001b[0;36m2\u001b[0m \u001b[0;34m*\u001b[0m \u001b[0;36m30\u001b[0m\u001b[0;34m)\u001b[0m\u001b[0;34m\u001b[0m\u001b[0;34m\u001b[0m\u001b[0m\n\u001b[0m\u001b[1;32m    632\u001b[0m \u001b[0;34m\u001b[0m\u001b[0m\n\u001b[1;32m    633\u001b[0m         \u001b[0mpos\u001b[0m \u001b[0;34m=\u001b[0m \u001b[0mself\u001b[0m\u001b[0;34m.\u001b[0m\u001b[0mlander\u001b[0m\u001b[0;34m.\u001b[0m\u001b[0mposition\u001b[0m\u001b[0;34m\u001b[0m\u001b[0;34m\u001b[0m\u001b[0m\n",
            "\u001b[0;32m/usr/local/lib/python3.10/dist-packages/gymnasium/envs/box2d/lunar_lander.py\u001b[0m in \u001b[0;36mBeginContact\u001b[0;34m(self, contact)\u001b[0m\n\u001b[1;32m     63\u001b[0m         \u001b[0mself\u001b[0m\u001b[0;34m.\u001b[0m\u001b[0menv\u001b[0m \u001b[0;34m=\u001b[0m \u001b[0menv\u001b[0m\u001b[0;34m\u001b[0m\u001b[0;34m\u001b[0m\u001b[0m\n\u001b[1;32m     64\u001b[0m \u001b[0;34m\u001b[0m\u001b[0m\n\u001b[0;32m---> 65\u001b[0;31m     \u001b[0;32mdef\u001b[0m \u001b[0mBeginContact\u001b[0m\u001b[0;34m(\u001b[0m\u001b[0mself\u001b[0m\u001b[0;34m,\u001b[0m \u001b[0mcontact\u001b[0m\u001b[0;34m)\u001b[0m\u001b[0;34m:\u001b[0m\u001b[0;34m\u001b[0m\u001b[0;34m\u001b[0m\u001b[0m\n\u001b[0m\u001b[1;32m     66\u001b[0m         if (\n\u001b[1;32m     67\u001b[0m             \u001b[0mself\u001b[0m\u001b[0;34m.\u001b[0m\u001b[0menv\u001b[0m\u001b[0;34m.\u001b[0m\u001b[0mlander\u001b[0m \u001b[0;34m==\u001b[0m \u001b[0mcontact\u001b[0m\u001b[0;34m.\u001b[0m\u001b[0mfixtureA\u001b[0m\u001b[0;34m.\u001b[0m\u001b[0mbody\u001b[0m\u001b[0;34m\u001b[0m\u001b[0;34m\u001b[0m\u001b[0m\n",
            "\u001b[0;31mKeyboardInterrupt\u001b[0m: "
          ]
        }
      ]
    },
    {
      "cell_type": "code",
      "source": [
        "mean_reward"
      ],
      "metadata": {
        "id": "drVYYWjdk1_V"
      },
      "execution_count": null,
      "outputs": []
    },
    {
      "cell_type": "code",
      "execution_count": null,
      "metadata": {
        "id": "ymmpucR1tmvc"
      },
      "outputs": [],
      "source": [
        "env = RecordVideo(gym.make(\"LunarLander-v2\", render_mode='rgb_array'), f\"./video\")\n",
        "obs, _ = env.reset()\n",
        "for i in range(1000):\n",
        "    action, _states = model.predict(obs, deterministic=True)\n",
        "    obs, rewards, term, trunc, info = env.step(action)\n",
        "env.close()\n",
        "\n",
        "show_video()"
      ]
    },
    {
      "cell_type": "markdown",
      "source": [
        "## CleanRL\n",
        "\n",
        "[CleanRL](https://docs.cleanrl.dev/) is a Deep Reinforcement Learning library that provides high-quality single-file implementation with research-friendly features. The implementation is clean and simple, yet we can scale it to run thousands of experiments using AWS Batch.\n"
      ],
      "metadata": {
        "id": "i5m7y7N0jKaA"
      }
    },
    {
      "cell_type": "code",
      "source": [
        "! git clone https://github.com/vwxyzjn/cleanrl.git\n",
        "! pip install -r cleanrl/requirements/requirements.txt\n",
        "! pip install -r requirements/requirements-atari.txt"
      ],
      "metadata": {
        "id": "nrn6JthGpVDD"
      },
      "execution_count": null,
      "outputs": []
    },
    {
      "cell_type": "code",
      "source": [
        "! python cleanrl/cleanrl/dqn_atari.py --env-id BreakoutNoFrameskip-v4 --track --capture_video"
      ],
      "metadata": {
        "colab": {
          "base_uri": "https://localhost:8080/"
        },
        "id": "piyF6HNbpjDS",
        "outputId": "ef914b7e-2dc1-495f-83fe-d813693428a5"
      },
      "execution_count": null,
      "outputs": [
        {
          "output_type": "stream",
          "name": "stdout",
          "text": [
            "/usr/local/lib/python3.10/dist-packages/torch/utils/tensorboard/__init__.py:4: DeprecationWarning: distutils Version classes are deprecated. Use packaging.version instead.\n",
            "  if not hasattr(tensorboard, \"__version__\") or LooseVersion(\n",
            "/usr/local/lib/python3.10/dist-packages/pkg_resources/__init__.py:121: DeprecationWarning: pkg_resources is deprecated as an API\n",
            "  warnings.warn(\"pkg_resources is deprecated as an API\", DeprecationWarning)\n",
            "/usr/local/lib/python3.10/dist-packages/pkg_resources/__init__.py:2870: DeprecationWarning: Deprecated call to `pkg_resources.declare_namespace('google')`.\n",
            "Implementing implicit namespace packages (as specified in PEP 420) is preferred to `pkg_resources.declare_namespace`. See https://setuptools.pypa.io/en/latest/references/keywords.html#keyword-namespace-packages\n",
            "  declare_namespace(pkg)\n",
            "/usr/local/lib/python3.10/dist-packages/pkg_resources/__init__.py:2870: DeprecationWarning: Deprecated call to `pkg_resources.declare_namespace('google.ai')`.\n",
            "Implementing implicit namespace packages (as specified in PEP 420) is preferred to `pkg_resources.declare_namespace`. See https://setuptools.pypa.io/en/latest/references/keywords.html#keyword-namespace-packages\n",
            "  declare_namespace(pkg)\n",
            "/usr/local/lib/python3.10/dist-packages/pkg_resources/__init__.py:2870: DeprecationWarning: Deprecated call to `pkg_resources.declare_namespace('google.cloud')`.\n",
            "Implementing implicit namespace packages (as specified in PEP 420) is preferred to `pkg_resources.declare_namespace`. See https://setuptools.pypa.io/en/latest/references/keywords.html#keyword-namespace-packages\n",
            "  declare_namespace(pkg)\n",
            "/usr/local/lib/python3.10/dist-packages/pkg_resources/__init__.py:2870: DeprecationWarning: Deprecated call to `pkg_resources.declare_namespace('google.logging')`.\n",
            "Implementing implicit namespace packages (as specified in PEP 420) is preferred to `pkg_resources.declare_namespace`. See https://setuptools.pypa.io/en/latest/references/keywords.html#keyword-namespace-packages\n",
            "  declare_namespace(pkg)\n",
            "/usr/local/lib/python3.10/dist-packages/pkg_resources/__init__.py:2870: DeprecationWarning: Deprecated call to `pkg_resources.declare_namespace('google.iam')`.\n",
            "Implementing implicit namespace packages (as specified in PEP 420) is preferred to `pkg_resources.declare_namespace`. See https://setuptools.pypa.io/en/latest/references/keywords.html#keyword-namespace-packages\n",
            "  declare_namespace(pkg)\n",
            "/usr/local/lib/python3.10/dist-packages/pkg_resources/__init__.py:2870: DeprecationWarning: Deprecated call to `pkg_resources.declare_namespace('mpl_toolkits')`.\n",
            "Implementing implicit namespace packages (as specified in PEP 420) is preferred to `pkg_resources.declare_namespace`. See https://setuptools.pypa.io/en/latest/references/keywords.html#keyword-namespace-packages\n",
            "  declare_namespace(pkg)\n",
            "/usr/local/lib/python3.10/dist-packages/pkg_resources/__init__.py:2870: DeprecationWarning: Deprecated call to `pkg_resources.declare_namespace('sphinxcontrib')`.\n",
            "Implementing implicit namespace packages (as specified in PEP 420) is preferred to `pkg_resources.declare_namespace`. See https://setuptools.pypa.io/en/latest/references/keywords.html#keyword-namespace-packages\n",
            "  declare_namespace(pkg)\n",
            "2023-12-04 17:57:55.707924: E tensorflow/compiler/xla/stream_executor/cuda/cuda_dnn.cc:9342] Unable to register cuDNN factory: Attempting to register factory for plugin cuDNN when one has already been registered\n",
            "2023-12-04 17:57:55.708009: E tensorflow/compiler/xla/stream_executor/cuda/cuda_fft.cc:609] Unable to register cuFFT factory: Attempting to register factory for plugin cuFFT when one has already been registered\n",
            "2023-12-04 17:57:55.708044: E tensorflow/compiler/xla/stream_executor/cuda/cuda_blas.cc:1518] Unable to register cuBLAS factory: Attempting to register factory for plugin cuBLAS when one has already been registered\n",
            "2023-12-04 17:57:55.717801: I tensorflow/core/platform/cpu_feature_guard.cc:182] This TensorFlow binary is optimized to use available CPU instructions in performance-critical operations.\n",
            "To enable the following instructions: AVX2 FMA, in other operations, rebuild TensorFlow with the appropriate compiler flags.\n",
            "/usr/local/lib/python3.10/dist-packages/tensorflow/python/framework/dtypes.py:35: DeprecationWarning: ml_dtypes.float8_e4m3b11 is deprecated. Use ml_dtypes.float8_e4m3b11fnuz\n",
            "  from tensorflow.tsl.python.lib.core import pywrap_ml_dtypes\n",
            "2023-12-04 17:57:57.314450: W tensorflow/compiler/tf2tensorrt/utils/py_utils.cc:38] TF-TRT Warning: Could not find TensorRT\n",
            "\u001b[34m\u001b[1mwandb\u001b[0m: Currently logged in as: \u001b[33markol\u001b[0m. Use \u001b[1m`wandb login --relogin`\u001b[0m to force relogin\n",
            "\u001b[34m\u001b[1mwandb\u001b[0m: wandb version 0.16.0 is available!  To upgrade, please run:\n",
            "\u001b[34m\u001b[1mwandb\u001b[0m:  $ pip install wandb --upgrade\n",
            "\u001b[34m\u001b[1mwandb\u001b[0m: Tracking run with wandb version 0.13.11\n",
            "\u001b[34m\u001b[1mwandb\u001b[0m: Run data is saved locally in \u001b[35m\u001b[1m/content/wandb/run-20231204_175759-acf039dy\u001b[0m\n",
            "\u001b[34m\u001b[1mwandb\u001b[0m: Run \u001b[1m`wandb offline`\u001b[0m to turn off syncing.\n",
            "\u001b[34m\u001b[1mwandb\u001b[0m: Syncing run \u001b[33mBreakoutNoFrameskip-v4__dqn_atari__1__1701712672\u001b[0m\n",
            "\u001b[34m\u001b[1mwandb\u001b[0m: ⭐️ View project at \u001b[34m\u001b[4mhttps://wandb.ai/arkol/cleanRL\u001b[0m\n",
            "\u001b[34m\u001b[1mwandb\u001b[0m: 🚀 View run at \u001b[34m\u001b[4mhttps://wandb.ai/arkol/cleanRL/runs/acf039dy\u001b[0m\n",
            "A.L.E: Arcade Learning Environment (version 0.8.1+53f58b7)\n",
            "[Powered by Stella]\n",
            "/usr/local/lib/python3.10/dist-packages/stable_baselines3/common/buffers.py:229: UserWarning: This system does not have apparently enough memory to store the complete replay buffer 28.24GB > 12.06GB\n",
            "  warnings.warn(\n",
            "2023-12-04 17:58:00.629420: E tensorflow/compiler/xla/stream_executor/cuda/cuda_dnn.cc:9342] Unable to register cuDNN factory: Attempting to register factory for plugin cuDNN when one has already been registered\n",
            "2023-12-04 17:58:00.629501: E tensorflow/compiler/xla/stream_executor/cuda/cuda_fft.cc:609] Unable to register cuFFT factory: Attempting to register factory for plugin cuFFT when one has already been registered\n",
            "2023-12-04 17:58:00.629542: E tensorflow/compiler/xla/stream_executor/cuda/cuda_blas.cc:1518] Unable to register cuBLAS factory: Attempting to register factory for plugin cuBLAS when one has already been registered\n",
            "2023-12-04 17:58:00.647045: I tensorflow/core/platform/cpu_feature_guard.cc:182] This TensorFlow binary is optimized to use available CPU instructions in performance-critical operations.\n",
            "To enable the following instructions: AVX2 FMA, in other operations, rebuild TensorFlow with the appropriate compiler flags.\n",
            "/usr/local/lib/python3.10/dist-packages/gymnasium/utils/passive_env_checker.py:364: UserWarning: \u001b[33mWARN: No render fps was declared in the environment (env.metadata['render_fps'] is None or not defined), rendering may occur at inconsistent fps.\u001b[0m\n",
            "  logger.warn(\n",
            "Moviepy - Building video /content/videos/BreakoutNoFrameskip-v4__dqn_atari__1__1701712672/rl-video-episode-0.mp4.\n",
            "Moviepy - Writing video /content/videos/BreakoutNoFrameskip-v4__dqn_atari__1__1701712672/rl-video-episode-0.mp4\n",
            "\n",
            "t:  90% 555/620 [00:02<00:00, 265.01it/s, now=None]2023-12-04 17:58:04.723942: W tensorflow/compiler/tf2tensorrt/utils/py_utils.cc:38] TF-TRT Warning: Could not find TensorRT\n",
            "Moviepy - Done !\n",
            "Moviepy - video ready /content/videos/BreakoutNoFrameskip-v4__dqn_atari__1__1701712672/rl-video-episode-0.mp4\n",
            "global_step=139, episodic_return=[1.]\n",
            "Moviepy - Building video /content/videos/BreakoutNoFrameskip-v4__dqn_atari__1__1701712672/rl-video-episode-1.mp4.\n",
            "Moviepy - Writing video /content/videos/BreakoutNoFrameskip-v4__dqn_atari__1__1701712672/rl-video-episode-1.mp4\n",
            "\n",
            "Moviepy - Done !\n",
            "Moviepy - video ready /content/videos/BreakoutNoFrameskip-v4__dqn_atari__1__1701712672/rl-video-episode-1.mp4\n",
            "global_step=324, episodic_return=[2.]\n",
            "global_step=435, episodic_return=[0.]\n",
            "global_step=673, episodic_return=[3.]\n",
            "global_step=935, episodic_return=[3.]\n",
            "global_step=1141, episodic_return=[2.]\n",
            "global_step=1352, episodic_return=[2.]\n",
            "global_step=1495, episodic_return=[1.]\n",
            "Moviepy - Building video /content/videos/BreakoutNoFrameskip-v4__dqn_atari__1__1701712672/rl-video-episode-8.mp4.\n",
            "Moviepy - Writing video /content/videos/BreakoutNoFrameskip-v4__dqn_atari__1__1701712672/rl-video-episode-8.mp4\n",
            "\n",
            "Moviepy - Done !\n",
            "Moviepy - video ready /content/videos/BreakoutNoFrameskip-v4__dqn_atari__1__1701712672/rl-video-episode-8.mp4\n",
            "global_step=1608, episodic_return=[0.]\n",
            "global_step=1769, episodic_return=[1.]\n",
            "global_step=1884, episodic_return=[0.]\n",
            "global_step=1999, episodic_return=[0.]\n",
            "global_step=2158, episodic_return=[1.]\n",
            "global_step=2273, episodic_return=[0.]\n",
            "global_step=2483, episodic_return=[2.]\n",
            "global_step=2825, episodic_return=[6.]\n",
            "global_step=2940, episodic_return=[0.]\n",
            "global_step=3302, episodic_return=[6.]\n",
            "global_step=3445, episodic_return=[1.]\n",
            "global_step=3558, episodic_return=[0.]\n",
            "global_step=3696, episodic_return=[1.]\n",
            "global_step=3809, episodic_return=[0.]\n",
            "global_step=3922, episodic_return=[0.]\n",
            "global_step=4108, episodic_return=[2.]\n",
            "global_step=4390, episodic_return=[4.]\n",
            "global_step=4546, episodic_return=[1.]\n",
            "global_step=4659, episodic_return=[0.]\n",
            "Moviepy - Building video /content/videos/BreakoutNoFrameskip-v4__dqn_atari__1__1701712672/rl-video-episode-27.mp4.\n",
            "Moviepy - Writing video /content/videos/BreakoutNoFrameskip-v4__dqn_atari__1__1701712672/rl-video-episode-27.mp4\n",
            "\n",
            "Moviepy - Done !\n",
            "Moviepy - video ready /content/videos/BreakoutNoFrameskip-v4__dqn_atari__1__1701712672/rl-video-episode-27.mp4\n",
            "global_step=4772, episodic_return=[0.]\n",
            "global_step=4885, episodic_return=[0.]\n",
            "global_step=5028, episodic_return=[1.]\n",
            "global_step=5171, episodic_return=[1.]\n",
            "global_step=5286, episodic_return=[0.]\n",
            "global_step=5399, episodic_return=[0.]\n",
            "global_step=5514, episodic_return=[0.]\n",
            "global_step=5625, episodic_return=[0.]\n",
            "global_step=5740, episodic_return=[0.]\n",
            "global_step=5883, episodic_return=[1.]\n",
            "global_step=6045, episodic_return=[1.]\n",
            "global_step=6154, episodic_return=[0.]\n",
            "global_step=6267, episodic_return=[0.]\n",
            "global_step=6380, episodic_return=[0.]\n",
            "global_step=6495, episodic_return=[0.]\n",
            "global_step=6610, episodic_return=[0.]\n",
            "global_step=6723, episodic_return=[0.]\n",
            "global_step=6909, episodic_return=[2.]\n",
            "global_step=7050, episodic_return=[1.]\n",
            "global_step=7207, episodic_return=[1.]\n",
            "global_step=7395, episodic_return=[2.]\n",
            "global_step=7510, episodic_return=[0.]\n",
            "global_step=7748, episodic_return=[3.]\n",
            "global_step=8036, episodic_return=[4.]\n",
            "global_step=8227, episodic_return=[2.]\n",
            "global_step=8384, episodic_return=[1.]\n",
            "global_step=8595, episodic_return=[2.]\n",
            "global_step=8710, episodic_return=[0.]\n",
            "global_step=8823, episodic_return=[0.]\n",
            "global_step=8993, episodic_return=[2.]\n",
            "global_step=9152, episodic_return=[1.]\n",
            "global_step=9435, episodic_return=[4.]\n",
            "global_step=9546, episodic_return=[0.]\n",
            "global_step=9860, episodic_return=[5.]\n",
            "global_step=10023, episodic_return=[1.]\n",
            "global_step=10134, episodic_return=[0.]\n",
            "global_step=10322, episodic_return=[2.]\n",
            "Moviepy - Building video /content/videos/BreakoutNoFrameskip-v4__dqn_atari__1__1701712672/rl-video-episode-64.mp4.\n",
            "Moviepy - Writing video /content/videos/BreakoutNoFrameskip-v4__dqn_atari__1__1701712672/rl-video-episode-64.mp4\n",
            "\n",
            "Moviepy - Done !\n",
            "Moviepy - video ready /content/videos/BreakoutNoFrameskip-v4__dqn_atari__1__1701712672/rl-video-episode-64.mp4\n",
            "global_step=10496, episodic_return=[2.]\n",
            "global_step=10609, episodic_return=[0.]\n",
            "global_step=10866, episodic_return=[3.]\n",
            "global_step=11029, episodic_return=[1.]\n",
            "global_step=11192, episodic_return=[1.]\n",
            "global_step=11331, episodic_return=[1.]\n",
            "global_step=11446, episodic_return=[0.]\n",
            "global_step=11561, episodic_return=[0.]\n",
            "global_step=11674, episodic_return=[0.]\n",
            "global_step=11787, episodic_return=[0.]\n",
            "global_step=12219, episodic_return=[7.]\n",
            "global_step=12334, episodic_return=[0.]\n",
            "global_step=12447, episodic_return=[0.]\n",
            "global_step=12606, episodic_return=[1.]\n",
            "global_step=12891, episodic_return=[5.]\n",
            "global_step=13097, episodic_return=[2.]\n",
            "global_step=13317, episodic_return=[3.]\n",
            "global_step=13476, episodic_return=[1.]\n",
            "global_step=13587, episodic_return=[0.]\n",
            "global_step=13728, episodic_return=[1.]\n",
            "global_step=14093, episodic_return=[6.]\n",
            "global_step=14334, episodic_return=[3.]\n",
            "global_step=14449, episodic_return=[0.]\n",
            "global_step=14560, episodic_return=[0.]\n",
            "global_step=14845, episodic_return=[4.]\n",
            "global_step=15230, episodic_return=[6.]\n",
            "global_step=15422, episodic_return=[2.]\n",
            "global_step=15533, episodic_return=[0.]\n",
            "global_step=15648, episodic_return=[0.]\n",
            "global_step=15759, episodic_return=[0.]\n",
            "global_step=15968, episodic_return=[2.]\n",
            "global_step=16225, episodic_return=[3.]\n",
            "global_step=16340, episodic_return=[0.]\n",
            "global_step=16561, episodic_return=[3.]\n",
            "global_step=16672, episodic_return=[0.]\n",
            "global_step=16783, episodic_return=[0.]\n",
            "global_step=16973, episodic_return=[2.]\n",
            "global_step=17132, episodic_return=[1.]\n",
            "global_step=17432, episodic_return=[5.]\n",
            "global_step=17543, episodic_return=[0.]\n",
            "global_step=17700, episodic_return=[1.]\n",
            "global_step=17858, episodic_return=[1.]\n",
            "global_step=17971, episodic_return=[0.]\n",
            "global_step=18112, episodic_return=[1.]\n",
            "global_step=18227, episodic_return=[0.]\n",
            "global_step=18340, episodic_return=[0.]\n",
            "global_step=18481, episodic_return=[1.]\n",
            "global_step=18653, episodic_return=[2.]\n",
            "global_step=18766, episodic_return=[0.]\n",
            "global_step=18881, episodic_return=[0.]\n",
            "global_step=18992, episodic_return=[0.]\n",
            "global_step=19107, episodic_return=[0.]\n",
            "global_step=19392, episodic_return=[4.]\n",
            "global_step=19538, episodic_return=[1.]\n",
            "global_step=19649, episodic_return=[0.]\n",
            "global_step=19835, episodic_return=[2.]\n",
            "global_step=19950, episodic_return=[0.]\n",
            "global_step=20063, episodic_return=[0.]\n",
            "global_step=20272, episodic_return=[2.]\n",
            "global_step=20433, episodic_return=[1.]\n",
            "global_step=20671, episodic_return=[3.]\n",
            "Moviepy - Building video /content/videos/BreakoutNoFrameskip-v4__dqn_atari__1__1701712672/rl-video-episode-125.mp4.\n",
            "Moviepy - Writing video /content/videos/BreakoutNoFrameskip-v4__dqn_atari__1__1701712672/rl-video-episode-125.mp4\n",
            "\n",
            "Moviepy - Done !\n",
            "Moviepy - video ready /content/videos/BreakoutNoFrameskip-v4__dqn_atari__1__1701712672/rl-video-episode-125.mp4\n",
            "global_step=20933, episodic_return=[4.]\n",
            "global_step=21078, episodic_return=[1.]\n",
            "global_step=21189, episodic_return=[0.]\n",
            "global_step=21348, episodic_return=[1.]\n",
            "global_step=21607, episodic_return=[4.]\n",
            "global_step=21718, episodic_return=[0.]\n",
            "global_step=21904, episodic_return=[2.]\n",
            "global_step=22065, episodic_return=[1.]\n",
            "global_step=22180, episodic_return=[0.]\n",
            "global_step=22635, episodic_return=[10.]\n",
            "global_step=22748, episodic_return=[0.]\n",
            "global_step=23000, episodic_return=[3.]\n",
            "global_step=23266, episodic_return=[4.]\n",
            "global_step=23475, episodic_return=[2.]\n",
            "global_step=23616, episodic_return=[1.]\n",
            "global_step=23822, episodic_return=[2.]\n",
            "global_step=23937, episodic_return=[0.]\n",
            "global_step=24052, episodic_return=[0.]\n",
            "global_step=24393, episodic_return=[6.]\n",
            "global_step=24508, episodic_return=[0.]\n",
            "global_step=24742, episodic_return=[3.]\n",
            "global_step=24855, episodic_return=[0.]\n",
            "global_step=24970, episodic_return=[0.]\n",
            "global_step=25350, episodic_return=[6.]\n",
            "global_step=25488, episodic_return=[1.]\n",
            "global_step=25601, episodic_return=[0.]\n",
            "global_step=25789, episodic_return=[2.]\n",
            "global_step=25904, episodic_return=[0.]\n",
            "global_step=26017, episodic_return=[0.]\n",
            "global_step=26132, episodic_return=[0.]\n",
            "global_step=26247, episodic_return=[0.]\n",
            "global_step=26360, episodic_return=[0.]\n",
            "global_step=26473, episodic_return=[0.]\n",
            "global_step=26588, episodic_return=[0.]\n",
            "global_step=26703, episodic_return=[0.]\n",
            "global_step=26816, episodic_return=[0.]\n",
            "global_step=26929, episodic_return=[0.]\n",
            "global_step=27042, episodic_return=[0.]\n",
            "global_step=27203, episodic_return=[1.]\n",
            "global_step=27316, episodic_return=[0.]\n",
            "global_step=27429, episodic_return=[0.]\n",
            "global_step=27591, episodic_return=[1.]\n",
            "global_step=27706, episodic_return=[0.]\n",
            "global_step=27819, episodic_return=[0.]\n",
            "global_step=28124, episodic_return=[4.]\n",
            "global_step=28314, episodic_return=[2.]\n",
            "global_step=28500, episodic_return=[2.]\n",
            "global_step=28717, episodic_return=[3.]\n",
            "global_step=28876, episodic_return=[1.]\n",
            "global_step=29060, episodic_return=[2.]\n",
            "global_step=29219, episodic_return=[1.]\n",
            "global_step=29411, episodic_return=[2.]\n",
            "global_step=29526, episodic_return=[0.]\n",
            "global_step=29714, episodic_return=[2.]\n",
            "global_step=29853, episodic_return=[1.]\n",
            "global_step=29964, episodic_return=[0.]\n",
            "global_step=30251, episodic_return=[4.]\n",
            "global_step=30364, episodic_return=[0.]\n",
            "global_step=30601, episodic_return=[3.]\n",
            "global_step=30712, episodic_return=[0.]\n",
            "global_step=30869, episodic_return=[1.]\n",
            "global_step=31259, episodic_return=[6.]\n",
            "global_step=31493, episodic_return=[3.]\n",
            "global_step=31606, episodic_return=[0.]\n",
            "global_step=31719, episodic_return=[0.]\n",
            "global_step=31929, episodic_return=[2.]\n",
            "global_step=32117, episodic_return=[2.]\n",
            "global_step=32326, episodic_return=[2.]\n",
            "global_step=32625, episodic_return=[5.]\n",
            "global_step=32738, episodic_return=[0.]\n",
            "global_step=32976, episodic_return=[3.]\n",
            "global_step=33089, episodic_return=[0.]\n",
            "global_step=33228, episodic_return=[1.]\n",
            "global_step=33499, episodic_return=[4.]\n",
            "global_step=33731, episodic_return=[3.]\n",
            "global_step=33892, episodic_return=[1.]\n",
            "global_step=34033, episodic_return=[1.]\n",
            "global_step=34146, episodic_return=[0.]\n",
            "global_step=34382, episodic_return=[3.]\n",
            "global_step=34616, episodic_return=[3.]\n",
            "global_step=34759, episodic_return=[1.]\n",
            "global_step=34947, episodic_return=[2.]\n",
            "global_step=35090, episodic_return=[1.]\n",
            "global_step=35203, episodic_return=[0.]\n",
            "global_step=35316, episodic_return=[0.]\n",
            "global_step=35504, episodic_return=[2.]\n",
            "global_step=35619, episodic_return=[0.]\n",
            "global_step=35855, episodic_return=[3.]\n",
            "global_step=35970, episodic_return=[0.]\n",
            "global_step=36158, episodic_return=[2.]\n",
            "global_step=36348, episodic_return=[2.]\n",
            "Moviepy - Building video /content/videos/BreakoutNoFrameskip-v4__dqn_atari__1__1701712672/rl-video-episode-216.mp4.\n",
            "Moviepy - Writing video /content/videos/BreakoutNoFrameskip-v4__dqn_atari__1__1701712672/rl-video-episode-216.mp4\n",
            "\n",
            "Moviepy - Done !\n",
            "Moviepy - video ready /content/videos/BreakoutNoFrameskip-v4__dqn_atari__1__1701712672/rl-video-episode-216.mp4\n",
            "global_step=36461, episodic_return=[0.]\n",
            "global_step=36764, episodic_return=[4.]\n",
            "global_step=36923, episodic_return=[1.]\n",
            "global_step=37034, episodic_return=[0.]\n",
            "global_step=37245, episodic_return=[2.]\n",
            "global_step=37360, episodic_return=[0.]\n",
            "global_step=37598, episodic_return=[3.]\n",
            "global_step=37713, episodic_return=[0.]\n",
            "global_step=37945, episodic_return=[3.]\n",
            "global_step=38250, episodic_return=[4.]\n",
            "global_step=38361, episodic_return=[0.]\n",
            "global_step=38689, episodic_return=[5.]\n",
            "global_step=38909, episodic_return=[3.]\n",
            "global_step=39049, episodic_return=[1.]\n",
            "global_step=39164, episodic_return=[0.]\n",
            "global_step=39327, episodic_return=[1.]\n",
            "global_step=39484, episodic_return=[1.]\n",
            "global_step=39625, episodic_return=[1.]\n",
            "global_step=39740, episodic_return=[0.]\n",
            "global_step=39855, episodic_return=[0.]\n",
            "global_step=39970, episodic_return=[0.]\n",
            "global_step=40360, episodic_return=[9.]\n",
            "global_step=40475, episodic_return=[0.]\n",
            "global_step=40588, episodic_return=[0.]\n",
            "global_step=40701, episodic_return=[0.]\n",
            "global_step=40816, episodic_return=[0.]\n",
            "global_step=40931, episodic_return=[0.]\n",
            "global_step=41134, episodic_return=[2.]\n",
            "global_step=41452, episodic_return=[5.]\n",
            "global_step=41567, episodic_return=[0.]\n",
            "global_step=41706, episodic_return=[1.]\n",
            "global_step=42096, episodic_return=[9.]\n",
            "global_step=42211, episodic_return=[0.]\n",
            "global_step=42324, episodic_return=[0.]\n",
            "global_step=42633, episodic_return=[7.]\n",
            "global_step=42820, episodic_return=[2.]\n",
            "global_step=43083, episodic_return=[4.]\n",
            "global_step=43291, episodic_return=[2.]\n",
            "global_step=43434, episodic_return=[1.]\n",
            "global_step=43623, episodic_return=[2.]\n",
            "global_step=43784, episodic_return=[1.]\n",
            "global_step=43897, episodic_return=[0.]\n",
            "Error in sys.excepthook:\n",
            "Traceback (most recent call last):\n",
            "  File \"/usr/lib/python3.10/linecache.py\", line 46, in getlines\n",
            "    return updatecache(filename, module_globals)\n",
            "  File \"/usr/lib/python3.10/linecache.py\", line 137, in updatecache\n",
            "    lines = fp.readlines()\n",
            "  File \"/usr/lib/python3.10/codecs.py\", line 322, in decode\n",
            "    (result, consumed) = self._buffer_decode(data, self.errors, final)\n",
            "KeyboardInterrupt\n",
            "\n",
            "Original exception was:\n",
            "Traceback (most recent call last):\n",
            "  File \"/content/cleanrl/cleanrl/dqn_atari.py\", line 204, in <module>\n",
            "    next_obs, rewards, terminations, truncations, infos = envs.step(actions)\n",
            "  File \"/usr/local/lib/python3.10/dist-packages/gymnasium/vector/vector_env.py\", line 203, in step\n",
            "    return self.step_wait()\n",
            "  File \"/usr/local/lib/python3.10/dist-packages/gymnasium/vector/sync_vector_env.py\", line 149, in step_wait\n",
            "    ) = env.step(action)\n",
            "  File \"/usr/local/lib/python3.10/dist-packages/gymnasium/wrappers/frame_stack.py\", line 179, in step\n",
            "    observation, reward, terminated, truncated, info = self.env.step(action)\n",
            "  File \"/usr/local/lib/python3.10/dist-packages/gymnasium/core.py\", line 469, in step\n",
            "    observation, reward, terminated, truncated, info = self.env.step(action)\n",
            "  File \"/usr/local/lib/python3.10/dist-packages/gymnasium/core.py\", line 469, in step\n",
            "    observation, reward, terminated, truncated, info = self.env.step(action)\n",
            "  File \"/usr/local/lib/python3.10/dist-packages/gymnasium/core.py\", line 502, in step\n",
            "    observation, reward, terminated, truncated, info = self.env.step(action)\n",
            "  File \"/usr/local/lib/python3.10/dist-packages/gymnasium/core.py\", line 408, in step\n",
            "    return self.env.step(action)\n",
            "  File \"/usr/local/lib/python3.10/dist-packages/stable_baselines3/common/atari_wrappers.py\", line 112, in step\n",
            "    obs, reward, terminated, truncated, info = self.env.step(action)\n",
            "  File \"/usr/local/lib/python3.10/dist-packages/stable_baselines3/common/atari_wrappers.py\", line 178, in step\n",
            "    obs, reward, terminated, truncated, info = self.env.step(action)\n",
            "  File \"/usr/local/lib/python3.10/dist-packages/gymnasium/core.py\", line 408, in step\n",
            "    return self.env.step(action)\n",
            "  File \"/usr/local/lib/python3.10/dist-packages/gymnasium/wrappers/record_episode_statistics.py\", line 95, in step\n",
            "    dones = np.logical_or(terminations, truncations)\n",
            "KeyboardInterrupt\n",
            "\u001b[34m\u001b[1mwandb\u001b[0m: Waiting for W&B process to finish... \u001b[31m(failed 255).\u001b[0m Press Control-C to abort syncing.\n",
            "\u001b[34m\u001b[1mwandb\u001b[0m: \n",
            "\u001b[34m\u001b[1mwandb\u001b[0m: Run history:\n",
            "\u001b[34m\u001b[1mwandb\u001b[0m: charts/episodic_length ▄▂▁▁▃▁▃▁▅▁▃▃▁▅▆▁▅▁▁▁▁▁▁▂▅▄▁▃█▃▇▅█▅▂▁█▁▂▁\n",
            "\u001b[34m\u001b[1mwandb\u001b[0m: charts/episodic_return ▄▂▁▁▂▁▂▁▅▁▂▂▁▄▅▁▅▁▁▁▁▁▁▂▅▄▁▂▇▂▇▅█▅▂▁▇▁▂▁\n",
            "\u001b[34m\u001b[1mwandb\u001b[0m:            global_step ▁▁▁▂▂▂▂▂▂▃▃▃▃▃▃▄▄▄▄▄▄▅▅▅▅▅▆▆▆▆▆▆▇▇▇▇▇███\n",
            "\u001b[34m\u001b[1mwandb\u001b[0m: \n",
            "\u001b[34m\u001b[1mwandb\u001b[0m: Run summary:\n",
            "\u001b[34m\u001b[1mwandb\u001b[0m: charts/episodic_length 532.0\n",
            "\u001b[34m\u001b[1mwandb\u001b[0m: charts/episodic_return 0.0\n",
            "\u001b[34m\u001b[1mwandb\u001b[0m:            global_step 39970\n",
            "\u001b[34m\u001b[1mwandb\u001b[0m: \n",
            "\u001b[34m\u001b[1mwandb\u001b[0m: 🚀 View run \u001b[33mBreakoutNoFrameskip-v4__dqn_atari__1__1701712672\u001b[0m at: \u001b[34m\u001b[4mhttps://wandb.ai/arkol/cleanRL/runs/acf039dy\u001b[0m\n",
            "\u001b[34m\u001b[1mwandb\u001b[0m: Synced 5 W&B file(s), 7 media file(s), 0 artifact file(s) and 2 other file(s)\n",
            "\u001b[34m\u001b[1mwandb\u001b[0m: Find logs at: \u001b[35m\u001b[1m./wandb/run-20231204_175759-acf039dy/logs\u001b[0m\n",
            "^C\n"
          ]
        }
      ]
    },
    {
      "cell_type": "markdown",
      "metadata": {
        "id": "fYetUO_btmvc"
      },
      "source": [
        "## Rllib\n",
        "\n",
        "[RLlib](https://docs.ray.io/en/master/rllib.html) $-$ это open source RL фреймворк, который предлагает высокую масштабируемость и унифицированный API. RLlib изначально поддерживает TensorFlow, TensorFlow Eager и PyTorch. Для распараллеливания используется [Ray Project](https://github.com/ray-project/ray).\n",
        "\n",
        "**Neural Network Framework:** Tensorflow, PyTorch.\n",
        "\n",
        "**[Список алгоритмов:](https://docs.ray.io/en/master/rllib-algorithms.html)** A2C, A3C, ARS, BC, ES, DDPG, TD3, APEX-DDPG, Dreamer, DQN, Rainbow, APEX-DQN, IMPALA, MAML, MARWIL, MBMPO, PG, PPO, APPO, SAC, LinUCB, LinTS, AlphaZero, QMIX, MADDPG\n"
      ]
    },
    {
      "cell_type": "markdown",
      "metadata": {
        "id": "UOvXaeGotmvc"
      },
      "source": [
        "### PFRL\n",
        "\n",
        "\n",
        "PFRL $-$ это библиотека глубокого обучения с подкреплением, которая реализует различные современные алгоритмы на Python, с использованием PyTorch. Бывший ChainerRL.\n",
        "\n",
        "**Neural Network Framework:** PyTorch.\n",
        "\n",
        "**Список алгоритмов:** DQN, Rainbow, IQN, DDPG, A3C, ACER, PPO, TRPO, TD3, SAC\n",
        "\n",
        "Быстрый старт: [quickstart.ipynb](https://github.com/pfnet/pfrl/blob/master/examples/quickstart/quickstart.ipynb)\n",
        "\n",
        "Примеры: [examples](https://github.com/pfnet/pfrl/tree/master/examples)"
      ]
    },
    {
      "cell_type": "markdown",
      "metadata": {
        "id": "XnLr-Cqctmvc"
      },
      "source": [
        "### Заслуживают упоминания:\n",
        "\n",
        "* [OpenAI Spinning Up RL](https://github.com/openai/spinningup)\n",
        "* [LeelaChessZero](https://github.com/LeelaChessZero)\n",
        "* [Tianshou](https://github.com/thu-ml/tianshou)\n",
        "* [TF agents](https://github.com/tensorflow/agents)\n",
        "* [Catalyst-rl](https://github.com/catalyst-team/catalyst-rl)\n",
        "* [Dopamine](https://github.com/google/dopamine)\n",
        "* [TRFL](https://github.com/deepmind/trfl)\n",
        "* [Keras RL](https://github.com/keras-rl/keras-rl)\n",
        "* [PyTorch-RL](https://github.com/Khrylx/PyTorch-RL)\n",
        "* [PyMarl](https://github.com/oxwhirl/pymarl)\n",
        "* [Denny Britz RL](https://github.com/dennybritz/reinforcement-learning)\n",
        "* [DeepRL-Tutorials](https://github.com/qfettes/DeepRL-Tutorials)\n",
        "* [RL Adventure](https://github.com/higgsfield/RL-Adventure)\n",
        "* [FacebookResearch ELF](https://github.com/facebookresearch/ELF)\n",
        "* [SLM-Lab](https://github.com/kengz/SLM-Lab)\n"
      ]
    }
  ],
  "metadata": {
    "colab": {
      "provenance": []
    },
    "kernelspec": {
      "display_name": "mipt-rl-practice",
      "language": "python",
      "name": "python3"
    },
    "language_info": {
      "codemirror_mode": {
        "name": "ipython",
        "version": 3
      },
      "file_extension": ".py",
      "mimetype": "text/x-python",
      "name": "python",
      "nbconvert_exporter": "python",
      "pygments_lexer": "ipython3",
      "version": "3.9.16"
    },
    "vscode": {
      "interpreter": {
        "hash": "f4f1d2d8cbda689bee08cb8d7fe5a19f770d75378302676f04af068af2c2973a"
      }
    },
    "widgets": {
      "application/vnd.jupyter.widget-state+json": {
        "58847f9ff43c44b5975eba4402b20ff6": {
          "model_module": "@jupyter-widgets/controls",
          "model_name": "VBoxModel",
          "model_module_version": "1.5.0",
          "state": {
            "_dom_classes": [],
            "_model_module": "@jupyter-widgets/controls",
            "_model_module_version": "1.5.0",
            "_model_name": "VBoxModel",
            "_view_count": null,
            "_view_module": "@jupyter-widgets/controls",
            "_view_module_version": "1.5.0",
            "_view_name": "VBoxView",
            "box_style": "",
            "children": [
              "IPY_MODEL_9e157b0fee8b4f9187ad5b0775a9d17d",
              "IPY_MODEL_eeaa109db96041d792231d687a258d50"
            ],
            "layout": "IPY_MODEL_63ef24f141cc40b49d195f841450b019"
          }
        },
        "9e157b0fee8b4f9187ad5b0775a9d17d": {
          "model_module": "@jupyter-widgets/controls",
          "model_name": "LabelModel",
          "model_module_version": "1.5.0",
          "state": {
            "_dom_classes": [],
            "_model_module": "@jupyter-widgets/controls",
            "_model_module_version": "1.5.0",
            "_model_name": "LabelModel",
            "_view_count": null,
            "_view_module": "@jupyter-widgets/controls",
            "_view_module_version": "1.5.0",
            "_view_name": "LabelView",
            "description": "",
            "description_tooltip": null,
            "layout": "IPY_MODEL_b4c69ec8b3bb42d2a3e0487b34f1bed7",
            "placeholder": "​",
            "style": "IPY_MODEL_bdb57a0a83b546a1ae648dcd819c3fef",
            "value": "0.010 MB of 0.010 MB uploaded\r"
          }
        },
        "eeaa109db96041d792231d687a258d50": {
          "model_module": "@jupyter-widgets/controls",
          "model_name": "FloatProgressModel",
          "model_module_version": "1.5.0",
          "state": {
            "_dom_classes": [],
            "_model_module": "@jupyter-widgets/controls",
            "_model_module_version": "1.5.0",
            "_model_name": "FloatProgressModel",
            "_view_count": null,
            "_view_module": "@jupyter-widgets/controls",
            "_view_module_version": "1.5.0",
            "_view_name": "ProgressView",
            "bar_style": "",
            "description": "",
            "description_tooltip": null,
            "layout": "IPY_MODEL_1e605c694d3044ef8431a14cc9dab751",
            "max": 1,
            "min": 0,
            "orientation": "horizontal",
            "style": "IPY_MODEL_07f1338799d442c88305f2c71c0b253c",
            "value": 1
          }
        },
        "63ef24f141cc40b49d195f841450b019": {
          "model_module": "@jupyter-widgets/base",
          "model_name": "LayoutModel",
          "model_module_version": "1.2.0",
          "state": {
            "_model_module": "@jupyter-widgets/base",
            "_model_module_version": "1.2.0",
            "_model_name": "LayoutModel",
            "_view_count": null,
            "_view_module": "@jupyter-widgets/base",
            "_view_module_version": "1.2.0",
            "_view_name": "LayoutView",
            "align_content": null,
            "align_items": null,
            "align_self": null,
            "border": null,
            "bottom": null,
            "display": null,
            "flex": null,
            "flex_flow": null,
            "grid_area": null,
            "grid_auto_columns": null,
            "grid_auto_flow": null,
            "grid_auto_rows": null,
            "grid_column": null,
            "grid_gap": null,
            "grid_row": null,
            "grid_template_areas": null,
            "grid_template_columns": null,
            "grid_template_rows": null,
            "height": null,
            "justify_content": null,
            "justify_items": null,
            "left": null,
            "margin": null,
            "max_height": null,
            "max_width": null,
            "min_height": null,
            "min_width": null,
            "object_fit": null,
            "object_position": null,
            "order": null,
            "overflow": null,
            "overflow_x": null,
            "overflow_y": null,
            "padding": null,
            "right": null,
            "top": null,
            "visibility": null,
            "width": null
          }
        },
        "b4c69ec8b3bb42d2a3e0487b34f1bed7": {
          "model_module": "@jupyter-widgets/base",
          "model_name": "LayoutModel",
          "model_module_version": "1.2.0",
          "state": {
            "_model_module": "@jupyter-widgets/base",
            "_model_module_version": "1.2.0",
            "_model_name": "LayoutModel",
            "_view_count": null,
            "_view_module": "@jupyter-widgets/base",
            "_view_module_version": "1.2.0",
            "_view_name": "LayoutView",
            "align_content": null,
            "align_items": null,
            "align_self": null,
            "border": null,
            "bottom": null,
            "display": null,
            "flex": null,
            "flex_flow": null,
            "grid_area": null,
            "grid_auto_columns": null,
            "grid_auto_flow": null,
            "grid_auto_rows": null,
            "grid_column": null,
            "grid_gap": null,
            "grid_row": null,
            "grid_template_areas": null,
            "grid_template_columns": null,
            "grid_template_rows": null,
            "height": null,
            "justify_content": null,
            "justify_items": null,
            "left": null,
            "margin": null,
            "max_height": null,
            "max_width": null,
            "min_height": null,
            "min_width": null,
            "object_fit": null,
            "object_position": null,
            "order": null,
            "overflow": null,
            "overflow_x": null,
            "overflow_y": null,
            "padding": null,
            "right": null,
            "top": null,
            "visibility": null,
            "width": null
          }
        },
        "bdb57a0a83b546a1ae648dcd819c3fef": {
          "model_module": "@jupyter-widgets/controls",
          "model_name": "DescriptionStyleModel",
          "model_module_version": "1.5.0",
          "state": {
            "_model_module": "@jupyter-widgets/controls",
            "_model_module_version": "1.5.0",
            "_model_name": "DescriptionStyleModel",
            "_view_count": null,
            "_view_module": "@jupyter-widgets/base",
            "_view_module_version": "1.2.0",
            "_view_name": "StyleView",
            "description_width": ""
          }
        },
        "1e605c694d3044ef8431a14cc9dab751": {
          "model_module": "@jupyter-widgets/base",
          "model_name": "LayoutModel",
          "model_module_version": "1.2.0",
          "state": {
            "_model_module": "@jupyter-widgets/base",
            "_model_module_version": "1.2.0",
            "_model_name": "LayoutModel",
            "_view_count": null,
            "_view_module": "@jupyter-widgets/base",
            "_view_module_version": "1.2.0",
            "_view_name": "LayoutView",
            "align_content": null,
            "align_items": null,
            "align_self": null,
            "border": null,
            "bottom": null,
            "display": null,
            "flex": null,
            "flex_flow": null,
            "grid_area": null,
            "grid_auto_columns": null,
            "grid_auto_flow": null,
            "grid_auto_rows": null,
            "grid_column": null,
            "grid_gap": null,
            "grid_row": null,
            "grid_template_areas": null,
            "grid_template_columns": null,
            "grid_template_rows": null,
            "height": null,
            "justify_content": null,
            "justify_items": null,
            "left": null,
            "margin": null,
            "max_height": null,
            "max_width": null,
            "min_height": null,
            "min_width": null,
            "object_fit": null,
            "object_position": null,
            "order": null,
            "overflow": null,
            "overflow_x": null,
            "overflow_y": null,
            "padding": null,
            "right": null,
            "top": null,
            "visibility": null,
            "width": null
          }
        },
        "07f1338799d442c88305f2c71c0b253c": {
          "model_module": "@jupyter-widgets/controls",
          "model_name": "ProgressStyleModel",
          "model_module_version": "1.5.0",
          "state": {
            "_model_module": "@jupyter-widgets/controls",
            "_model_module_version": "1.5.0",
            "_model_name": "ProgressStyleModel",
            "_view_count": null,
            "_view_module": "@jupyter-widgets/base",
            "_view_module_version": "1.2.0",
            "_view_name": "StyleView",
            "bar_color": null,
            "description_width": ""
          }
        },
        "3c00630679d84417bf1b2de6f02cfaa1": {
          "model_module": "@jupyter-widgets/output",
          "model_name": "OutputModel",
          "model_module_version": "1.0.0",
          "state": {
            "_dom_classes": [],
            "_model_module": "@jupyter-widgets/output",
            "_model_module_version": "1.0.0",
            "_model_name": "OutputModel",
            "_view_count": null,
            "_view_module": "@jupyter-widgets/output",
            "_view_module_version": "1.0.0",
            "_view_name": "OutputView",
            "layout": "IPY_MODEL_e1e522068cf748819acb85be71be754e",
            "msg_id": "",
            "outputs": [
              {
                "output_type": "display_data",
                "data": {
                  "text/plain": "\u001b[35m  38%\u001b[0m \u001b[38;2;249;38;114m━━━━━━━━━━━━━━━━━━━━━━\u001b[0m\u001b[38;2;249;38;114m╸\u001b[0m\u001b[38;5;237m━━━━━━━━━━━━━━━━━━━━━━━━━━━━━━━━━━━━━\u001b[0m \u001b[32m76,251/200,000 \u001b[0m [ \u001b[33m0:04:18\u001b[0m < \u001b[36m0:13:42\u001b[0m , \u001b[31m151 it/s\u001b[0m ]\n",
                  "text/html": "<pre style=\"white-space:pre;overflow-x:auto;line-height:normal;font-family:Menlo,'DejaVu Sans Mono',consolas,'Courier New',monospace\"><span style=\"color: #800080; text-decoration-color: #800080\">  38%</span> <span style=\"color: #f92672; text-decoration-color: #f92672\">━━━━━━━━━━━━━━━━━━━━━━╸</span><span style=\"color: #3a3a3a; text-decoration-color: #3a3a3a\">━━━━━━━━━━━━━━━━━━━━━━━━━━━━━━━━━━━━━</span> <span style=\"color: #008000; text-decoration-color: #008000\">76,251/200,000 </span> [ <span style=\"color: #808000; text-decoration-color: #808000\">0:04:18</span> &lt; <span style=\"color: #008080; text-decoration-color: #008080\">0:13:42</span> , <span style=\"color: #800000; text-decoration-color: #800000\">151 it/s</span> ]\n</pre>\n"
                },
                "metadata": {}
              }
            ]
          }
        },
        "e1e522068cf748819acb85be71be754e": {
          "model_module": "@jupyter-widgets/base",
          "model_name": "LayoutModel",
          "model_module_version": "1.2.0",
          "state": {
            "_model_module": "@jupyter-widgets/base",
            "_model_module_version": "1.2.0",
            "_model_name": "LayoutModel",
            "_view_count": null,
            "_view_module": "@jupyter-widgets/base",
            "_view_module_version": "1.2.0",
            "_view_name": "LayoutView",
            "align_content": null,
            "align_items": null,
            "align_self": null,
            "border": null,
            "bottom": null,
            "display": null,
            "flex": null,
            "flex_flow": null,
            "grid_area": null,
            "grid_auto_columns": null,
            "grid_auto_flow": null,
            "grid_auto_rows": null,
            "grid_column": null,
            "grid_gap": null,
            "grid_row": null,
            "grid_template_areas": null,
            "grid_template_columns": null,
            "grid_template_rows": null,
            "height": null,
            "justify_content": null,
            "justify_items": null,
            "left": null,
            "margin": null,
            "max_height": null,
            "max_width": null,
            "min_height": null,
            "min_width": null,
            "object_fit": null,
            "object_position": null,
            "order": null,
            "overflow": null,
            "overflow_x": null,
            "overflow_y": null,
            "padding": null,
            "right": null,
            "top": null,
            "visibility": null,
            "width": null
          }
        }
      }
    }
  },
  "nbformat": 4,
  "nbformat_minor": 0
}